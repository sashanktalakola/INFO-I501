{
 "cells": [
  {
   "cell_type": "code",
   "execution_count": 4,
   "id": "24349a1b-315f-4c8c-b0a2-b71bc3e1a475",
   "metadata": {
    "tags": []
   },
   "outputs": [
    {
     "name": "stdout",
     "output_type": "stream",
     "text": [
      "Python rocks!!!\n"
     ]
    }
   ],
   "source": [
    "print(\"Python rocks!!!\")"
   ]
  },
  {
   "cell_type": "code",
   "execution_count": 5,
   "id": "7d72cd1a-f5df-40b7-bd9c-eccde5ed3a2d",
   "metadata": {
    "tags": []
   },
   "outputs": [
    {
     "name": "stdout",
     "output_type": "stream",
     "text": [
      "# conda environments:\n",
      "#\n",
      "base                     /home/sashank/Applications/miniconda3\n",
      "i501                  *  /home/sashank/Applications/miniconda3/envs/i501\n",
      "\n"
     ]
    }
   ],
   "source": [
    "!conda env list"
   ]
  }
 ],
 "metadata": {
  "kernelspec": {
   "display_name": "i501",
   "language": "python",
   "name": "i501"
  },
  "language_info": {
   "codemirror_mode": {
    "name": "ipython",
    "version": 3
   },
   "file_extension": ".py",
   "mimetype": "text/x-python",
   "name": "python",
   "nbconvert_exporter": "python",
   "pygments_lexer": "ipython3",
   "version": "3.11.5"
  }
 },
 "nbformat": 4,
 "nbformat_minor": 5
}

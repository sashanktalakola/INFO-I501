{
 "cells": [
  {
   "cell_type": "markdown",
   "id": "60afe82d-0b2b-459a-9935-71c37a179d74",
   "metadata": {
    "id": "60afe82d-0b2b-459a-9935-71c37a179d74"
   },
   "source": [
    "# Intro to Natural Language Processing (NLP)\n",
    "\n",
    "The Natural Language Processing (NLP) field is incredibly vast, and it has applications in virtually every aspect of data science. In this notebook, we will walk through a **very brief** survey of NLP, and provide some instruction on a couple handy tools along the way.\n",
    "\n",
    "NLP tools span a wide range of implementations, and it is not uncommon for NLP packages to have conflicts with other Python libraries. So, to keep everything compatible in one place, it is recommended that you create a new pip environment for NLP projects. To set up an NLP pip environment for this lab, follow the steps in the \"Pip Environment\" section of the [Python Environment Setup page in Canvas](https://iu.instructure.com/courses/2181786/pages/week-1-%7C-python-environment-setup?module_item_id=30340853), and **use the *environment.yml* file provided in this folder.** This should install the packages you'll need for this lab.\n",
    "\n",
    "Next, **[download a spaCy NLP model](https://spacy.io/models)** based on your preferences (in the NLP environment) so you can use the spaCy library installed in the environment.\n",
    "\n",
    "*Optionally, if you prefer to use a different environment, install the following packages separately using pip: [Scikit-Learn](https://scikit-learn.org/stable/install.html#installing-the-latest-release), [spaCy](https://spacy.io/usage), [ScatterText](https://github.com/JasonKessler/scattertext#installation), [CorEx](https://ryanjgallagher.github.io/code/corex/example), and [vaderSentiment](https://github.com/cjhutto/vaderSentiment#installation).*"
   ]
  },
  {
   "cell_type": "markdown",
   "id": "cfa49fc4-0227-44c9-a9b5-9bc9385d1049",
   "metadata": {
    "id": "cfa49fc4-0227-44c9-a9b5-9bc9385d1049"
   },
   "source": [
    "## Preprocessing\n",
    "\n",
    "To illustrate preprocessing text data, we'll use the [spaCy](https://spacy.io/) package.\n",
    "\n",
    "*spaCy is capable of **much** more than what we will use it for in this lab. More advanced implementations of spaCy may require knowledge outside the scope of this course.*"
   ]
  },
  {
   "cell_type": "code",
   "execution_count": 1,
   "id": "3bda5432-389e-4586-9ccb-18919c345f27",
   "metadata": {
    "colab": {
     "base_uri": "https://localhost:8080/"
    },
    "executionInfo": {
     "elapsed": 11354,
     "status": "ok",
     "timestamp": 1709098577610,
     "user": {
      "displayName": "Mansi Sudhirbhai Joshi",
      "userId": "15138898817300530714"
     },
     "user_tz": 300
    },
    "id": "3bda5432-389e-4586-9ccb-18919c345f27",
    "outputId": "beb591ef-9fe7-449c-8d47-159300f3b353",
    "tags": []
   },
   "outputs": [
    {
     "name": "stderr",
     "output_type": "stream",
     "text": [
      "/tmp/ipykernel_92257/3039043963.py:1: DeprecationWarning: \n",
      "Pyarrow will become a required dependency of pandas in the next major release of pandas (pandas 3.0),\n",
      "(to allow more performant data types, such as the Arrow string type, and better interoperability with other libraries)\n",
      "but was not found to be installed on your system.\n",
      "If this would cause problems for you,\n",
      "please provide us feedback at https://github.com/pandas-dev/pandas/issues/54466\n",
      "        \n",
      "  import pandas as pd\n"
     ]
    },
    {
     "name": "stdout",
     "output_type": "stream",
     "text": [
      "3.7.4\n"
     ]
    }
   ],
   "source": [
    "import pandas as pd\n",
    "import spacy\n",
    "from spacy import displacy\n",
    "print(spacy.__version__)"
   ]
  },
  {
   "cell_type": "code",
   "execution_count": 2,
   "id": "5b22efbd-36d1-4f79-aa9e-f03436ce5cb1",
   "metadata": {
    "executionInfo": {
     "elapsed": 2164,
     "status": "ok",
     "timestamp": 1709098584673,
     "user": {
      "displayName": "Mansi Sudhirbhai Joshi",
      "userId": "15138898817300530714"
     },
     "user_tz": 300
    },
    "id": "5b22efbd-36d1-4f79-aa9e-f03436ce5cb1",
    "tags": []
   },
   "outputs": [],
   "source": [
    "import matplotlib.pyplot as plt\n",
    "import seaborn as sns\n",
    "\n",
    "sns.set_style('whitegrid')\n",
    "%config InlineBackend.figure_formats = ['svg']"
   ]
  },
  {
   "cell_type": "markdown",
   "id": "caf4e93c-9158-4bf8-86cb-46c93d070f48",
   "metadata": {
    "id": "caf4e93c-9158-4bf8-86cb-46c93d070f48"
   },
   "source": [
    "### Tokenizing\n",
    "\n",
    "The very first part of dealing with text data is to collect each **term** or unitary element of text (e.g., words, punctuation, etc.) in the form of \"tokens\"."
   ]
  },
  {
   "cell_type": "code",
   "execution_count": 3,
   "id": "292d2c1b-6dba-4edc-b053-fee910253e89",
   "metadata": {
    "executionInfo": {
     "elapsed": 1298,
     "status": "ok",
     "timestamp": 1709098594941,
     "user": {
      "displayName": "Mansi Sudhirbhai Joshi",
      "userId": "15138898817300530714"
     },
     "user_tz": 300
    },
    "id": "292d2c1b-6dba-4edc-b053-fee910253e89",
    "tags": []
   },
   "outputs": [],
   "source": [
    "# depends on your choice of spaCy model\n",
    "nlp = spacy.load('en_core_web_sm')"
   ]
  },
  {
   "cell_type": "code",
   "execution_count": 4,
   "id": "e3c8ed81-f65f-4502-99de-6e81b1fd5786",
   "metadata": {
    "id": "e3c8ed81-f65f-4502-99de-6e81b1fd5786",
    "tags": []
   },
   "outputs": [],
   "source": [
    "intro = '''The Natural Language Processing (NLP) field is incredibly vast,\n",
    "and it has applications in virtually every aspect of data science.\n",
    "In this notebook, we will walk through a **very brief** survey of NLP,\n",
    "and provide some instruction on a couple handy tools along the way.\n",
    "'''\n",
    "\n",
    "doc = nlp(intro)"
   ]
  },
  {
   "cell_type": "code",
   "execution_count": 5,
   "id": "a75f6a42-95f9-4633-b9d3-ab1bbd52a1fd",
   "metadata": {
    "id": "a75f6a42-95f9-4633-b9d3-ab1bbd52a1fd",
    "outputId": "cb2b3a1c-f4fa-43c3-d2ff-731e1a23342b",
    "tags": []
   },
   "outputs": [
    {
     "name": "stdout",
     "output_type": "stream",
     "text": [
      "['The', 'Natural', 'Language', 'Processing', '(', 'NLP', ')', 'field', 'is', 'incredibly', 'vast', ',', '\\n', 'and', 'it', 'has', 'applications', 'in', 'virtually', 'every', 'aspect', 'of', 'data', 'science', '.', '\\n', 'In', 'this', 'notebook', ',', 'we', 'will', 'walk', 'through', 'a', '*', '*', 'very', 'brief', '*', '*', 'survey', 'of', 'NLP', ',', '\\n', 'and', 'provide', 'some', 'instruction', 'on', 'a', 'couple', 'handy', 'tools', 'along', 'the', 'way', '.', '\\n']\n"
     ]
    }
   ],
   "source": [
    "print([t.text for t in doc])"
   ]
  },
  {
   "cell_type": "code",
   "execution_count": 6,
   "id": "785b2366-fb58-48f3-8db5-aba48bae4869",
   "metadata": {
    "id": "785b2366-fb58-48f3-8db5-aba48bae4869",
    "outputId": "7515189f-d124-4eb6-e627-4ff9d277402c",
    "tags": []
   },
   "outputs": [
    {
     "name": "stdout",
     "output_type": "stream",
     "text": [
      "sentence 1\n",
      "\n",
      " The Natural Language Processing (NLP) field is incredibly vast,\n",
      "and it has applications in virtually every aspect of data science.\n",
      "\n",
      "sentence 2\n",
      "\n",
      " In this notebook, we will walk through a **very brief** survey of NLP,\n",
      "and provide some instruction on a couple handy tools along the way.\n",
      "\n"
     ]
    }
   ],
   "source": [
    "for i, sentence in enumerate(doc.sents):\n",
    "    print(f\"sentence {i+1}\\n\\n\", sentence)"
   ]
  },
  {
   "cell_type": "code",
   "execution_count": 7,
   "id": "331ea8e3-b99c-4d2c-abc0-0ec4247f6a98",
   "metadata": {
    "id": "331ea8e3-b99c-4d2c-abc0-0ec4247f6a98",
    "tags": []
   },
   "outputs": [],
   "source": [
    "df_intro = []\n",
    "\n",
    "for token in doc:\n",
    "    df_intro.append([\n",
    "        token.text, token.lemma_, token.pos_, token.tag_, token.dep_,\n",
    "        token.shape_, token.is_alpha, token.is_stop\n",
    "    ])"
   ]
  },
  {
   "cell_type": "code",
   "execution_count": 8,
   "id": "ae077a3b-d5bd-4262-98e1-7dce4e79d5a2",
   "metadata": {
    "id": "ae077a3b-d5bd-4262-98e1-7dce4e79d5a2",
    "tags": []
   },
   "outputs": [],
   "source": [
    "df_intro = pd.DataFrame(columns=[\"text\", \"lemma_\", \"pos_\", \"tag_\", \"dep_\", \"shape_\", \"is_alpha\", \"is_stop\"],\n",
    "                        data=df_intro)"
   ]
  },
  {
   "cell_type": "code",
   "execution_count": 9,
   "id": "2fa17ab4-5ea7-4414-b5d1-b499095c7fb4",
   "metadata": {
    "id": "2fa17ab4-5ea7-4414-b5d1-b499095c7fb4",
    "outputId": "da5c4b8b-9609-49e8-f251-fbeb4fad5986",
    "tags": []
   },
   "outputs": [
    {
     "data": {
      "text/html": [
       "<div>\n",
       "<style scoped>\n",
       "    .dataframe tbody tr th:only-of-type {\n",
       "        vertical-align: middle;\n",
       "    }\n",
       "\n",
       "    .dataframe tbody tr th {\n",
       "        vertical-align: top;\n",
       "    }\n",
       "\n",
       "    .dataframe thead th {\n",
       "        text-align: right;\n",
       "    }\n",
       "</style>\n",
       "<table border=\"1\" class=\"dataframe\">\n",
       "  <thead>\n",
       "    <tr style=\"text-align: right;\">\n",
       "      <th></th>\n",
       "      <th>text</th>\n",
       "      <th>lemma_</th>\n",
       "      <th>pos_</th>\n",
       "      <th>tag_</th>\n",
       "      <th>dep_</th>\n",
       "      <th>shape_</th>\n",
       "      <th>is_alpha</th>\n",
       "      <th>is_stop</th>\n",
       "    </tr>\n",
       "  </thead>\n",
       "  <tbody>\n",
       "    <tr>\n",
       "      <th>58</th>\n",
       "      <td>.</td>\n",
       "      <td>.</td>\n",
       "      <td>PUNCT</td>\n",
       "      <td>.</td>\n",
       "      <td>punct</td>\n",
       "      <td>.</td>\n",
       "      <td>False</td>\n",
       "      <td>False</td>\n",
       "    </tr>\n",
       "    <tr>\n",
       "      <th>31</th>\n",
       "      <td>will</td>\n",
       "      <td>will</td>\n",
       "      <td>AUX</td>\n",
       "      <td>MD</td>\n",
       "      <td>aux</td>\n",
       "      <td>xxxx</td>\n",
       "      <td>True</td>\n",
       "      <td>True</td>\n",
       "    </tr>\n",
       "    <tr>\n",
       "      <th>59</th>\n",
       "      <td>\\n</td>\n",
       "      <td>\\n</td>\n",
       "      <td>SPACE</td>\n",
       "      <td>_SP</td>\n",
       "      <td>dep</td>\n",
       "      <td>\\n</td>\n",
       "      <td>False</td>\n",
       "      <td>False</td>\n",
       "    </tr>\n",
       "    <tr>\n",
       "      <th>45</th>\n",
       "      <td>\\n</td>\n",
       "      <td>\\n</td>\n",
       "      <td>SPACE</td>\n",
       "      <td>_SP</td>\n",
       "      <td>dep</td>\n",
       "      <td>\\n</td>\n",
       "      <td>False</td>\n",
       "      <td>False</td>\n",
       "    </tr>\n",
       "    <tr>\n",
       "      <th>51</th>\n",
       "      <td>a</td>\n",
       "      <td>a</td>\n",
       "      <td>DET</td>\n",
       "      <td>DT</td>\n",
       "      <td>quantmod</td>\n",
       "      <td>x</td>\n",
       "      <td>True</td>\n",
       "      <td>True</td>\n",
       "    </tr>\n",
       "  </tbody>\n",
       "</table>\n",
       "</div>"
      ],
      "text/plain": [
       "    text lemma_   pos_ tag_      dep_ shape_  is_alpha  is_stop\n",
       "58     .      .  PUNCT    .     punct      .     False    False\n",
       "31  will   will    AUX   MD       aux   xxxx      True     True\n",
       "59    \\n     \\n  SPACE  _SP       dep     \\n     False    False\n",
       "45    \\n     \\n  SPACE  _SP       dep     \\n     False    False\n",
       "51     a      a    DET   DT  quantmod      x      True     True"
      ]
     },
     "execution_count": 9,
     "metadata": {},
     "output_type": "execute_result"
    }
   ],
   "source": [
    "df_intro.sample(5)"
   ]
  },
  {
   "cell_type": "markdown",
   "id": "42da00dd-df1d-47a2-b6db-847c04f7d75c",
   "metadata": {
    "id": "42da00dd-df1d-47a2-b6db-847c04f7d75c"
   },
   "source": [
    "What is a **stop word**?"
   ]
  },
  {
   "cell_type": "code",
   "execution_count": 10,
   "id": "83330849-4661-42d5-bd40-19bcee25a644",
   "metadata": {
    "id": "83330849-4661-42d5-bd40-19bcee25a644",
    "outputId": "58c675be-d338-4960-d97a-050addbb1469",
    "tags": []
   },
   "outputs": [
    {
     "data": {
      "text/html": [
       "<div>\n",
       "<style scoped>\n",
       "    .dataframe tbody tr th:only-of-type {\n",
       "        vertical-align: middle;\n",
       "    }\n",
       "\n",
       "    .dataframe tbody tr th {\n",
       "        vertical-align: top;\n",
       "    }\n",
       "\n",
       "    .dataframe thead th {\n",
       "        text-align: right;\n",
       "    }\n",
       "</style>\n",
       "<table border=\"1\" class=\"dataframe\">\n",
       "  <thead>\n",
       "    <tr style=\"text-align: right;\">\n",
       "      <th></th>\n",
       "      <th>text</th>\n",
       "      <th>lemma_</th>\n",
       "      <th>pos_</th>\n",
       "      <th>tag_</th>\n",
       "      <th>dep_</th>\n",
       "      <th>shape_</th>\n",
       "      <th>is_alpha</th>\n",
       "      <th>is_stop</th>\n",
       "    </tr>\n",
       "  </thead>\n",
       "  <tbody>\n",
       "    <tr>\n",
       "      <th>55</th>\n",
       "      <td>along</td>\n",
       "      <td>along</td>\n",
       "      <td>ADP</td>\n",
       "      <td>IN</td>\n",
       "      <td>prep</td>\n",
       "      <td>xxxx</td>\n",
       "      <td>True</td>\n",
       "      <td>True</td>\n",
       "    </tr>\n",
       "    <tr>\n",
       "      <th>33</th>\n",
       "      <td>through</td>\n",
       "      <td>through</td>\n",
       "      <td>ADP</td>\n",
       "      <td>IN</td>\n",
       "      <td>prep</td>\n",
       "      <td>xxxx</td>\n",
       "      <td>True</td>\n",
       "      <td>True</td>\n",
       "    </tr>\n",
       "    <tr>\n",
       "      <th>14</th>\n",
       "      <td>it</td>\n",
       "      <td>it</td>\n",
       "      <td>PRON</td>\n",
       "      <td>PRP</td>\n",
       "      <td>nsubj</td>\n",
       "      <td>xx</td>\n",
       "      <td>True</td>\n",
       "      <td>True</td>\n",
       "    </tr>\n",
       "    <tr>\n",
       "      <th>13</th>\n",
       "      <td>and</td>\n",
       "      <td>and</td>\n",
       "      <td>CCONJ</td>\n",
       "      <td>CC</td>\n",
       "      <td>cc</td>\n",
       "      <td>xxx</td>\n",
       "      <td>True</td>\n",
       "      <td>True</td>\n",
       "    </tr>\n",
       "    <tr>\n",
       "      <th>51</th>\n",
       "      <td>a</td>\n",
       "      <td>a</td>\n",
       "      <td>DET</td>\n",
       "      <td>DT</td>\n",
       "      <td>quantmod</td>\n",
       "      <td>x</td>\n",
       "      <td>True</td>\n",
       "      <td>True</td>\n",
       "    </tr>\n",
       "    <tr>\n",
       "      <th>42</th>\n",
       "      <td>of</td>\n",
       "      <td>of</td>\n",
       "      <td>ADP</td>\n",
       "      <td>IN</td>\n",
       "      <td>prep</td>\n",
       "      <td>xx</td>\n",
       "      <td>True</td>\n",
       "      <td>True</td>\n",
       "    </tr>\n",
       "    <tr>\n",
       "      <th>46</th>\n",
       "      <td>and</td>\n",
       "      <td>and</td>\n",
       "      <td>CCONJ</td>\n",
       "      <td>CC</td>\n",
       "      <td>cc</td>\n",
       "      <td>xxx</td>\n",
       "      <td>True</td>\n",
       "      <td>True</td>\n",
       "    </tr>\n",
       "    <tr>\n",
       "      <th>34</th>\n",
       "      <td>a</td>\n",
       "      <td>a</td>\n",
       "      <td>DET</td>\n",
       "      <td>DT</td>\n",
       "      <td>det</td>\n",
       "      <td>x</td>\n",
       "      <td>True</td>\n",
       "      <td>True</td>\n",
       "    </tr>\n",
       "    <tr>\n",
       "      <th>17</th>\n",
       "      <td>in</td>\n",
       "      <td>in</td>\n",
       "      <td>ADP</td>\n",
       "      <td>IN</td>\n",
       "      <td>prep</td>\n",
       "      <td>xx</td>\n",
       "      <td>True</td>\n",
       "      <td>True</td>\n",
       "    </tr>\n",
       "    <tr>\n",
       "      <th>56</th>\n",
       "      <td>the</td>\n",
       "      <td>the</td>\n",
       "      <td>DET</td>\n",
       "      <td>DT</td>\n",
       "      <td>det</td>\n",
       "      <td>xxx</td>\n",
       "      <td>True</td>\n",
       "      <td>True</td>\n",
       "    </tr>\n",
       "  </tbody>\n",
       "</table>\n",
       "</div>"
      ],
      "text/plain": [
       "       text   lemma_   pos_ tag_      dep_ shape_  is_alpha  is_stop\n",
       "55    along    along    ADP   IN      prep   xxxx      True     True\n",
       "33  through  through    ADP   IN      prep   xxxx      True     True\n",
       "14       it       it   PRON  PRP     nsubj     xx      True     True\n",
       "13      and      and  CCONJ   CC        cc    xxx      True     True\n",
       "51        a        a    DET   DT  quantmod      x      True     True\n",
       "42       of       of    ADP   IN      prep     xx      True     True\n",
       "46      and      and  CCONJ   CC        cc    xxx      True     True\n",
       "34        a        a    DET   DT       det      x      True     True\n",
       "17       in       in    ADP   IN      prep     xx      True     True\n",
       "56      the      the    DET   DT       det    xxx      True     True"
      ]
     },
     "execution_count": 10,
     "metadata": {},
     "output_type": "execute_result"
    }
   ],
   "source": [
    "df_intro[df_intro['is_stop']].sample(10)"
   ]
  },
  {
   "cell_type": "markdown",
   "id": "2c07f244-4f34-44ef-8c34-2114a4d2a8f2",
   "metadata": {},
   "source": [
    "spaCy defines **lemmas** to be *\"the base forms of words. For example, the lemma of `was` is `be`, and the lemma of `rats` is `rat`.\"*"
   ]
  },
  {
   "cell_type": "code",
   "execution_count": 11,
   "id": "ef6cd51f-fc73-4866-955a-1ab4877e93e2",
   "metadata": {
    "tags": []
   },
   "outputs": [
    {
     "data": {
      "text/plain": [
       "'run'"
      ]
     },
     "execution_count": 11,
     "metadata": {},
     "output_type": "execute_result"
    }
   ],
   "source": [
    "t = nlp('running')[0]\n",
    "t.lemma_"
   ]
  },
  {
   "cell_type": "markdown",
   "id": "c1cf106c-b886-45a4-8ffd-973f3589ef26",
   "metadata": {
    "id": "c1cf106c-b886-45a4-8ffd-973f3589ef26"
   },
   "source": [
    "**Sentence Dependencies**"
   ]
  },
  {
   "cell_type": "markdown",
   "id": "1f245d00-7a59-4b0e-b432-e644f0a3a9da",
   "metadata": {
    "id": "1f245d00-7a59-4b0e-b432-e644f0a3a9da"
   },
   "source": [
    "We can visualize some of these attributes (like the sentence dependencies) using [displacy](https://spacy.io/usage/visualizers)."
   ]
  },
  {
   "cell_type": "code",
   "execution_count": 12,
   "id": "3db64dd1-2972-4fb3-8e2f-5bca374c5825",
   "metadata": {
    "id": "3db64dd1-2972-4fb3-8e2f-5bca374c5825",
    "tags": []
   },
   "outputs": [],
   "source": [
    "doc = nlp('We can visualize these using displacy.')"
   ]
  },
  {
   "cell_type": "code",
   "execution_count": 13,
   "id": "6b410e4a-4b78-49ee-be2f-8d80ff2a2ba8",
   "metadata": {
    "id": "6b410e4a-4b78-49ee-be2f-8d80ff2a2ba8",
    "outputId": "3ee2b17e-7ec2-4048-c7d6-ddc5ff1eddf3",
    "tags": []
   },
   "outputs": [
    {
     "data": {
      "text/html": [
       "<span class=\"tex2jax_ignore\"><svg xmlns=\"http://www.w3.org/2000/svg\" xmlns:xlink=\"http://www.w3.org/1999/xlink\" xml:lang=\"en\" id=\"7cae726bda344bfd8eefecbd359f6712-0\" class=\"displacy\" width=\"770\" height=\"317.0\" direction=\"ltr\" style=\"max-width: none; height: 317.0px; color: #000000; background: #ffffff; font-family: Arial; direction: ltr\">\n",
       "<text class=\"displacy-token\" fill=\"currentColor\" text-anchor=\"middle\" y=\"227.0\">\n",
       "    <tspan class=\"displacy-word\" fill=\"currentColor\" x=\"50\">We</tspan>\n",
       "    <tspan class=\"displacy-tag\" dy=\"2em\" fill=\"currentColor\" x=\"50\">PRON</tspan>\n",
       "</text>\n",
       "\n",
       "<text class=\"displacy-token\" fill=\"currentColor\" text-anchor=\"middle\" y=\"227.0\">\n",
       "    <tspan class=\"displacy-word\" fill=\"currentColor\" x=\"170\">can</tspan>\n",
       "    <tspan class=\"displacy-tag\" dy=\"2em\" fill=\"currentColor\" x=\"170\">AUX</tspan>\n",
       "</text>\n",
       "\n",
       "<text class=\"displacy-token\" fill=\"currentColor\" text-anchor=\"middle\" y=\"227.0\">\n",
       "    <tspan class=\"displacy-word\" fill=\"currentColor\" x=\"290\">visualize</tspan>\n",
       "    <tspan class=\"displacy-tag\" dy=\"2em\" fill=\"currentColor\" x=\"290\">VERB</tspan>\n",
       "</text>\n",
       "\n",
       "<text class=\"displacy-token\" fill=\"currentColor\" text-anchor=\"middle\" y=\"227.0\">\n",
       "    <tspan class=\"displacy-word\" fill=\"currentColor\" x=\"410\">these</tspan>\n",
       "    <tspan class=\"displacy-tag\" dy=\"2em\" fill=\"currentColor\" x=\"410\">DET</tspan>\n",
       "</text>\n",
       "\n",
       "<text class=\"displacy-token\" fill=\"currentColor\" text-anchor=\"middle\" y=\"227.0\">\n",
       "    <tspan class=\"displacy-word\" fill=\"currentColor\" x=\"530\">using</tspan>\n",
       "    <tspan class=\"displacy-tag\" dy=\"2em\" fill=\"currentColor\" x=\"530\">VERB</tspan>\n",
       "</text>\n",
       "\n",
       "<text class=\"displacy-token\" fill=\"currentColor\" text-anchor=\"middle\" y=\"227.0\">\n",
       "    <tspan class=\"displacy-word\" fill=\"currentColor\" x=\"650\">displacy.</tspan>\n",
       "    <tspan class=\"displacy-tag\" dy=\"2em\" fill=\"currentColor\" x=\"650\">NOUN</tspan>\n",
       "</text>\n",
       "\n",
       "<g class=\"displacy-arrow\">\n",
       "    <path class=\"displacy-arc\" id=\"arrow-7cae726bda344bfd8eefecbd359f6712-0-0\" stroke-width=\"2px\" d=\"M70,182.0 C70,62.0 285.0,62.0 285.0,182.0\" fill=\"none\" stroke=\"currentColor\"/>\n",
       "    <text dy=\"1.25em\" style=\"font-size: 0.8em; letter-spacing: 1px\">\n",
       "        <textPath xlink:href=\"#arrow-7cae726bda344bfd8eefecbd359f6712-0-0\" class=\"displacy-label\" startOffset=\"50%\" side=\"left\" fill=\"currentColor\" text-anchor=\"middle\">nsubj</textPath>\n",
       "    </text>\n",
       "    <path class=\"displacy-arrowhead\" d=\"M70,184.0 L62,172.0 78,172.0\" fill=\"currentColor\"/>\n",
       "</g>\n",
       "\n",
       "<g class=\"displacy-arrow\">\n",
       "    <path class=\"displacy-arc\" id=\"arrow-7cae726bda344bfd8eefecbd359f6712-0-1\" stroke-width=\"2px\" d=\"M190,182.0 C190,122.0 280.0,122.0 280.0,182.0\" fill=\"none\" stroke=\"currentColor\"/>\n",
       "    <text dy=\"1.25em\" style=\"font-size: 0.8em; letter-spacing: 1px\">\n",
       "        <textPath xlink:href=\"#arrow-7cae726bda344bfd8eefecbd359f6712-0-1\" class=\"displacy-label\" startOffset=\"50%\" side=\"left\" fill=\"currentColor\" text-anchor=\"middle\">aux</textPath>\n",
       "    </text>\n",
       "    <path class=\"displacy-arrowhead\" d=\"M190,184.0 L182,172.0 198,172.0\" fill=\"currentColor\"/>\n",
       "</g>\n",
       "\n",
       "<g class=\"displacy-arrow\">\n",
       "    <path class=\"displacy-arc\" id=\"arrow-7cae726bda344bfd8eefecbd359f6712-0-2\" stroke-width=\"2px\" d=\"M430,182.0 C430,62.0 645.0,62.0 645.0,182.0\" fill=\"none\" stroke=\"currentColor\"/>\n",
       "    <text dy=\"1.25em\" style=\"font-size: 0.8em; letter-spacing: 1px\">\n",
       "        <textPath xlink:href=\"#arrow-7cae726bda344bfd8eefecbd359f6712-0-2\" class=\"displacy-label\" startOffset=\"50%\" side=\"left\" fill=\"currentColor\" text-anchor=\"middle\">det</textPath>\n",
       "    </text>\n",
       "    <path class=\"displacy-arrowhead\" d=\"M430,184.0 L422,172.0 438,172.0\" fill=\"currentColor\"/>\n",
       "</g>\n",
       "\n",
       "<g class=\"displacy-arrow\">\n",
       "    <path class=\"displacy-arc\" id=\"arrow-7cae726bda344bfd8eefecbd359f6712-0-3\" stroke-width=\"2px\" d=\"M550,182.0 C550,122.0 640.0,122.0 640.0,182.0\" fill=\"none\" stroke=\"currentColor\"/>\n",
       "    <text dy=\"1.25em\" style=\"font-size: 0.8em; letter-spacing: 1px\">\n",
       "        <textPath xlink:href=\"#arrow-7cae726bda344bfd8eefecbd359f6712-0-3\" class=\"displacy-label\" startOffset=\"50%\" side=\"left\" fill=\"currentColor\" text-anchor=\"middle\">amod</textPath>\n",
       "    </text>\n",
       "    <path class=\"displacy-arrowhead\" d=\"M550,184.0 L542,172.0 558,172.0\" fill=\"currentColor\"/>\n",
       "</g>\n",
       "\n",
       "<g class=\"displacy-arrow\">\n",
       "    <path class=\"displacy-arc\" id=\"arrow-7cae726bda344bfd8eefecbd359f6712-0-4\" stroke-width=\"2px\" d=\"M310,182.0 C310,2.0 650.0,2.0 650.0,182.0\" fill=\"none\" stroke=\"currentColor\"/>\n",
       "    <text dy=\"1.25em\" style=\"font-size: 0.8em; letter-spacing: 1px\">\n",
       "        <textPath xlink:href=\"#arrow-7cae726bda344bfd8eefecbd359f6712-0-4\" class=\"displacy-label\" startOffset=\"50%\" side=\"left\" fill=\"currentColor\" text-anchor=\"middle\">dobj</textPath>\n",
       "    </text>\n",
       "    <path class=\"displacy-arrowhead\" d=\"M650.0,184.0 L658.0,172.0 642.0,172.0\" fill=\"currentColor\"/>\n",
       "</g>\n",
       "</svg></span>"
      ],
      "text/plain": [
       "<IPython.core.display.HTML object>"
      ]
     },
     "metadata": {},
     "output_type": "display_data"
    }
   ],
   "source": [
    "displacy.render(doc, style='dep', options={'distance': 120})"
   ]
  },
  {
   "cell_type": "markdown",
   "id": "c7104ec7-7f82-45ed-b4f8-f6543b234b94",
   "metadata": {},
   "source": [
    "Note: this isn't always going to be *exactly* accurate, but it's very good and still useful."
   ]
  },
  {
   "cell_type": "markdown",
   "id": "60db54e2-c32d-4246-96aa-df15ee0f64ac",
   "metadata": {
    "id": "60db54e2-c32d-4246-96aa-df15ee0f64ac"
   },
   "source": [
    "### Named Entity Recognition\n",
    "\n",
    "Some words are **Named Entities**: locations like \"Alaska\", dates like \"January 1st\", companies like \"Google\", etc. spaCy can tag these using [Named Entity Recognition](https://spacy.io/usage/linguistic-features#named-entities)."
   ]
  },
  {
   "cell_type": "code",
   "execution_count": 14,
   "id": "d7faf0c7-2911-401c-ac36-74a6b97be295",
   "metadata": {
    "id": "d7faf0c7-2911-401c-ac36-74a6b97be295",
    "tags": []
   },
   "outputs": [],
   "source": [
    "doc = nlp('... locations like \"Alaska\", dates like \"January 1st\", companies like \"Google\", etc.')"
   ]
  },
  {
   "cell_type": "code",
   "execution_count": 15,
   "id": "cfaf09d4-5980-414c-8ea8-af2f83816686",
   "metadata": {
    "id": "cfaf09d4-5980-414c-8ea8-af2f83816686",
    "outputId": "f1da89af-e92b-470d-8707-e7aa81e4821c",
    "tags": []
   },
   "outputs": [
    {
     "data": {
      "text/html": [
       "<span class=\"tex2jax_ignore\"><div class=\"entities\" style=\"line-height: 2.5; direction: ltr\">... locations like &quot;\n",
       "<mark class=\"entity\" style=\"background: #feca74; padding: 0.45em 0.6em; margin: 0 0.25em; line-height: 1; border-radius: 0.35em;\">\n",
       "    Alaska\n",
       "    <span style=\"font-size: 0.8em; font-weight: bold; line-height: 1; border-radius: 0.35em; vertical-align: middle; margin-left: 0.5rem\">GPE</span>\n",
       "</mark>\n",
       "&quot;, dates like &quot;\n",
       "<mark class=\"entity\" style=\"background: #bfe1d9; padding: 0.45em 0.6em; margin: 0 0.25em; line-height: 1; border-radius: 0.35em;\">\n",
       "    January 1st\n",
       "    <span style=\"font-size: 0.8em; font-weight: bold; line-height: 1; border-radius: 0.35em; vertical-align: middle; margin-left: 0.5rem\">DATE</span>\n",
       "</mark>\n",
       "&quot;, companies like &quot;\n",
       "<mark class=\"entity\" style=\"background: #7aecec; padding: 0.45em 0.6em; margin: 0 0.25em; line-height: 1; border-radius: 0.35em;\">\n",
       "    Google\n",
       "    <span style=\"font-size: 0.8em; font-weight: bold; line-height: 1; border-radius: 0.35em; vertical-align: middle; margin-left: 0.5rem\">ORG</span>\n",
       "</mark>\n",
       "&quot;, etc.</div></span>"
      ],
      "text/plain": [
       "<IPython.core.display.HTML object>"
      ]
     },
     "metadata": {},
     "output_type": "display_data"
    }
   ],
   "source": [
    "displacy.render(doc, style='ent')"
   ]
  },
  {
   "cell_type": "markdown",
   "id": "1ef96b4f-6338-4a31-a20f-0514970aec4d",
   "metadata": {
    "id": "1ef96b4f-6338-4a31-a20f-0514970aec4d"
   },
   "source": [
    "### Multiple Documents\n",
    "\n",
    "*NLP Terms: A **document** is a collection of **tokens**, and a **corpus** is a collection of documents.*\n",
    "\n",
    "When spaCy processes text, it runs it through a [pipeline](https://spacy.io/usage/processing-pipelines) of different models to store token attributes for each token. This is how we get the functionality above. Though, when we are tokenizing multiple documents, we might not need all of these [built-in components](https://spacy.io/usage/processing-pipelines#built-in). For example, we might just need enough to filter our text based on the analysis done.\n",
    "\n",
    "For example, suppose we've determined that we want to the remove the following tokens from a dataset of [coffee reviews](https://www.kaggle.com/datasets/schmoyote/coffee-reviews-dataset/) (descriptions):\n",
    "\n",
    "- stop words (except the lemma \"not\", to maintain the idea of object negation)\n",
    "- punctuation\n",
    "- numbers\n",
    "\n",
    "In this case, we don't need NER, Dependency Labels, or Document Labels. Removing these processes from the spaCy pipeline will save us some time."
   ]
  },
  {
   "cell_type": "code",
   "execution_count": 16,
   "id": "e1399e21-749d-421a-925a-867a34a249cd",
   "metadata": {
    "id": "e1399e21-749d-421a-925a-867a34a249cd",
    "tags": []
   },
   "outputs": [],
   "source": [
    "df_coffee = pd.read_csv('./data/coffee_analysis.csv')"
   ]
  },
  {
   "cell_type": "code",
   "execution_count": 17,
   "id": "27f89f6a-f0cf-494c-8781-9837385cc84d",
   "metadata": {
    "tags": []
   },
   "outputs": [],
   "source": [
    "df_coffee.drop_duplicates(subset='desc_1', inplace=True)"
   ]
  },
  {
   "cell_type": "code",
   "execution_count": 18,
   "id": "c74d66b6-00ce-4182-862e-6a9eb8577f1a",
   "metadata": {
    "tags": []
   },
   "outputs": [
    {
     "data": {
      "text/plain": [
       "(2092, 12)"
      ]
     },
     "execution_count": 18,
     "metadata": {},
     "output_type": "execute_result"
    }
   ],
   "source": [
    "df_coffee.shape"
   ]
  },
  {
   "cell_type": "code",
   "execution_count": 19,
   "id": "88b13d10-bbf5-4cd4-98af-4bc4b80f8922",
   "metadata": {
    "id": "88b13d10-bbf5-4cd4-98af-4bc4b80f8922",
    "outputId": "c10406cc-82c0-4141-a5ce-d8d5bee4e55e",
    "tags": []
   },
   "outputs": [
    {
     "name": "stdout",
     "output_type": "stream",
     "text": [
      "Gently sweet-tart, fruit-toned. Goji berry, amber, grapefruit zest, agave syrup, cedar in aroma and cup. Crisply sweet structure with tart-leaning acidity; full, satiny mouthfeel. The finish leads with notes of sweet goji berry, backed up by perfumy amber notes.\n"
     ]
    }
   ],
   "source": [
    "print(df_coffee['desc_1'].sample().iloc[0])"
   ]
  },
  {
   "cell_type": "code",
   "execution_count": 20,
   "id": "d94ed7fd-36fb-4f97-84d8-04ce5c001c6a",
   "metadata": {
    "id": "d94ed7fd-36fb-4f97-84d8-04ce5c001c6a",
    "tags": []
   },
   "outputs": [],
   "source": [
    "# nlp.pipe returns a generator\n",
    "docs = nlp.pipe(df_coffee['desc_1'], disable=['ner', 'parser', 'textcat'])\n",
    "\n",
    "# save the spaCy objects into the DataFrame\n",
    "df_coffee['spacy_doc'] = list(docs)"
   ]
  },
  {
   "cell_type": "code",
   "execution_count": 21,
   "id": "96df56e2-4d9e-48a4-aba9-f7c4b04f0209",
   "metadata": {
    "id": "96df56e2-4d9e-48a4-aba9-f7c4b04f0209",
    "tags": []
   },
   "outputs": [],
   "source": [
    "def tokenizer(doc, join_tokens=False):\n",
    "    '''\n",
    "    Tokenize a single spaCy `doc`.\n",
    "\n",
    "    join_tokens : bool\n",
    "        Whether we want to return a list of strings or\n",
    "        a list of lists. If True, join with space (\" \").\n",
    "    '''\n",
    "\n",
    "    # collect lemmas that meet the following criteria:\n",
    "    tokens = [w.lemma_.lower() for w in doc if\n",
    "              (not w.is_stop\n",
    "               and not w.is_punct\n",
    "               and not w.like_num) \\\n",
    "              or (w.lemma_ == 'not')]\n",
    "\n",
    "    if join_tokens:\n",
    "        return ' '.join(tokens)\n",
    "    else:\n",
    "        return tokens"
   ]
  },
  {
   "cell_type": "code",
   "execution_count": 22,
   "id": "faf87a5a-d9fb-40eb-acca-c44d0758e064",
   "metadata": {
    "id": "faf87a5a-d9fb-40eb-acca-c44d0758e064",
    "tags": []
   },
   "outputs": [],
   "source": [
    "df_coffee['docs_clean'] = df_coffee['spacy_doc'].apply(tokenizer)"
   ]
  },
  {
   "cell_type": "code",
   "execution_count": 23,
   "id": "64b62eb6-908a-41d5-9c2d-472dc10bcd7c",
   "metadata": {
    "colab": {
     "base_uri": "https://localhost:8080/",
     "height": 215
    },
    "id": "64b62eb6-908a-41d5-9c2d-472dc10bcd7c",
    "outputId": "9e036aa4-9a8c-4ba3-de68-92453f107b52",
    "tags": []
   },
   "outputs": [
    {
     "data": {
      "text/html": [
       "<div>\n",
       "<style scoped>\n",
       "    .dataframe tbody tr th:only-of-type {\n",
       "        vertical-align: middle;\n",
       "    }\n",
       "\n",
       "    .dataframe tbody tr th {\n",
       "        vertical-align: top;\n",
       "    }\n",
       "\n",
       "    .dataframe thead th {\n",
       "        text-align: right;\n",
       "    }\n",
       "</style>\n",
       "<table border=\"1\" class=\"dataframe\">\n",
       "  <thead>\n",
       "    <tr style=\"text-align: right;\">\n",
       "      <th></th>\n",
       "      <th>desc_1</th>\n",
       "      <th>spacy_doc</th>\n",
       "      <th>docs_clean</th>\n",
       "    </tr>\n",
       "  </thead>\n",
       "  <tbody>\n",
       "    <tr>\n",
       "      <th>0</th>\n",
       "      <td>Evaluated as espresso. Sweet-toned, deeply ric...</td>\n",
       "      <td>(Evaluated, as, espresso, ., Sweet, -, toned, ...</td>\n",
       "      <td>[evaluate, espresso, sweet, tone, deeply, rich...</td>\n",
       "    </tr>\n",
       "    <tr>\n",
       "      <th>1</th>\n",
       "      <td>Evaluated as espresso. Sweetly tart, floral-to...</td>\n",
       "      <td>(Evaluated, as, espresso, ., Sweetly, tart, ,,...</td>\n",
       "      <td>[evaluate, espresso, sweetly, tart, floral, to...</td>\n",
       "    </tr>\n",
       "    <tr>\n",
       "      <th>2</th>\n",
       "      <td>Crisply sweet, cocoa-toned. Lemon blossom, roa...</td>\n",
       "      <td>(Crisply, sweet, ,, cocoa, -, toned, ., Lemon,...</td>\n",
       "      <td>[crisply, sweet, cocoa, tone, lemon, blossom, ...</td>\n",
       "    </tr>\n",
       "    <tr>\n",
       "      <th>3</th>\n",
       "      <td>Delicate, sweetly spice-toned. Pink peppercorn...</td>\n",
       "      <td>(Delicate, ,, sweetly, spice, -, toned, ., Pin...</td>\n",
       "      <td>[delicate, sweetly, spice, tone, pink, pepperc...</td>\n",
       "    </tr>\n",
       "    <tr>\n",
       "      <th>4</th>\n",
       "      <td>Deeply sweet, subtly pungent. Honey, pear, tan...</td>\n",
       "      <td>(Deeply, sweet, ,, subtly, pungent, ., Honey, ...</td>\n",
       "      <td>[deeply, sweet, subtly, pungent, honey, pear, ...</td>\n",
       "    </tr>\n",
       "  </tbody>\n",
       "</table>\n",
       "</div>"
      ],
      "text/plain": [
       "                                              desc_1  \\\n",
       "0  Evaluated as espresso. Sweet-toned, deeply ric...   \n",
       "1  Evaluated as espresso. Sweetly tart, floral-to...   \n",
       "2  Crisply sweet, cocoa-toned. Lemon blossom, roa...   \n",
       "3  Delicate, sweetly spice-toned. Pink peppercorn...   \n",
       "4  Deeply sweet, subtly pungent. Honey, pear, tan...   \n",
       "\n",
       "                                           spacy_doc  \\\n",
       "0  (Evaluated, as, espresso, ., Sweet, -, toned, ...   \n",
       "1  (Evaluated, as, espresso, ., Sweetly, tart, ,,...   \n",
       "2  (Crisply, sweet, ,, cocoa, -, toned, ., Lemon,...   \n",
       "3  (Delicate, ,, sweetly, spice, -, toned, ., Pin...   \n",
       "4  (Deeply, sweet, ,, subtly, pungent, ., Honey, ...   \n",
       "\n",
       "                                          docs_clean  \n",
       "0  [evaluate, espresso, sweet, tone, deeply, rich...  \n",
       "1  [evaluate, espresso, sweetly, tart, floral, to...  \n",
       "2  [crisply, sweet, cocoa, tone, lemon, blossom, ...  \n",
       "3  [delicate, sweetly, spice, tone, pink, pepperc...  \n",
       "4  [deeply, sweet, subtly, pungent, honey, pear, ...  "
      ]
     },
     "execution_count": 23,
     "metadata": {},
     "output_type": "execute_result"
    }
   ],
   "source": [
    "df_coffee[['desc_1', 'spacy_doc', 'docs_clean']].head()"
   ]
  },
  {
   "cell_type": "code",
   "execution_count": 24,
   "id": "8648b5d7-a120-4c72-8823-2c294e65b95a",
   "metadata": {
    "id": "8648b5d7-a120-4c72-8823-2c294e65b95a",
    "outputId": "af5dd33e-5247-4aeb-b28b-efd13ffc1124",
    "tags": []
   },
   "outputs": [
    {
     "name": "stdout",
     "output_type": "stream",
     "text": [
      "Delicate, richly and sweetly tart. Dried hibiscus, fine musk, almond, sandalwood, raspberry in aroma and cup. Fruit-toned, deeply sweet structure with gently-expressed acidity; buoyant, satiny-smooth mouthfeel. The crisp, flavor-saturated finish is characterized by sweet-tart fruit and floral tones (raspberry, hibiscus).\n"
     ]
    }
   ],
   "source": [
    "print(df_coffee['desc_1'].iloc[5])"
   ]
  },
  {
   "cell_type": "code",
   "execution_count": 25,
   "id": "102ed322-7bfc-4678-9648-9074ba89985f",
   "metadata": {
    "id": "102ed322-7bfc-4678-9648-9074ba89985f",
    "outputId": "15872063-bc9d-47e4-a6d5-4aa60131d30d",
    "tags": []
   },
   "outputs": [
    {
     "name": "stdout",
     "output_type": "stream",
     "text": [
      "['delicate', 'richly', 'sweetly', 'tart', 'dry', 'hibiscus', 'fine', 'musk', 'almond', 'sandalwood', 'raspberry', 'aroma', 'cup', 'fruit', 'tone', 'deeply', 'sweet', 'structure', 'gently', 'express', 'acidity', 'buoyant', 'satiny', 'smooth', 'mouthfeel', 'crisp', 'flavor', 'saturate', 'finish', 'characterize', 'sweet', 'tart', 'fruit', 'floral', 'tone', 'raspberry', 'hibiscus']\n"
     ]
    }
   ],
   "source": [
    "print(df_coffee['docs_clean'].iloc[5])"
   ]
  },
  {
   "cell_type": "markdown",
   "id": "a458f49d-99b5-4957-a5ff-6967d4bdbf5d",
   "metadata": {
    "id": "a458f49d-99b5-4957-a5ff-6967d4bdbf5d"
   },
   "source": [
    "## Vectorization\n",
    "\n",
    "Once we have our tokens selected and \"cleaned\", we need to convert the textual data into numerical data. **In other words, we need to convert each token (or document) into a *vector* representation.** There are many ways to represent textual information in the form of numerical data, but in this class we will cover Count Vectorization and Term-Frequency Inverse Document Frequency Vectorization; we'll call these **vectorizers**."
   ]
  },
  {
   "cell_type": "markdown",
   "id": "46ef0590-5a67-4066-b2c3-f7bd41604697",
   "metadata": {
    "id": "46ef0590-5a67-4066-b2c3-f7bd41604697"
   },
   "source": [
    "### Brief Intro to Scikit-Learn\n",
    "\n",
    "**[Scikit-Learn](https://scikit-learn.org/stable/index.html) is the industry standard data science toolkit**, and it's modules are used in almost every aspect of data science. Here, we are going to use its [feature extraction module](https://scikit-learn.org/stable/modules/feature_extraction.html), which is built for extracting numerical features from data such as text or images. We will be using it for vectorization of text data, and in these cases, the scikit-learn process is:\n",
    "\n",
    "1. Preprocess some data (e.g., from text to tokens)\n",
    "2. Define a model (e.g., a vectorizer)\n",
    "3. \"Fit\" that model to the data using `.fit`\n",
    "4. Transform the data based on the model's parameters using `.transform`\n",
    "    - We can also combine these last two steps with `.fit_transform`"
   ]
  },
  {
   "cell_type": "code",
   "execution_count": 26,
   "id": "2f7e4412-5168-469c-abaa-a9cbb502f26d",
   "metadata": {
    "id": "2f7e4412-5168-469c-abaa-a9cbb502f26d",
    "tags": []
   },
   "outputs": [],
   "source": [
    "from sklearn.feature_extraction.text import CountVectorizer, TfidfVectorizer"
   ]
  },
  {
   "cell_type": "markdown",
   "id": "0b1970c3-3109-45c7-aa16-b281d25ab7b1",
   "metadata": {
    "id": "0b1970c3-3109-45c7-aa16-b281d25ab7b1"
   },
   "source": [
    "### CountVectorizer\n",
    "\n",
    "CountVectorizer converts each document into a \"Bag of Words\". In other words, the document is encoded based on the words it contains, **regardless of the order**. And, each term can be represented based on the documents it is contained in."
   ]
  },
  {
   "cell_type": "code",
   "execution_count": 27,
   "id": "1dec80af-f2ff-40a9-990f-a8a5ef39114c",
   "metadata": {
    "id": "1dec80af-f2ff-40a9-990f-a8a5ef39114c",
    "tags": []
   },
   "outputs": [],
   "source": [
    "corpus_raw = ['This coffee is really really tasty.',\n",
    "              'Tea smells and tastes better than coffee.',\n",
    "              \"Best smelling coffee I have ever smelled!\"]"
   ]
  },
  {
   "cell_type": "code",
   "execution_count": 28,
   "id": "f8f0524d-d843-4870-a363-be8b83e55ac3",
   "metadata": {
    "id": "f8f0524d-d843-4870-a363-be8b83e55ac3",
    "tags": []
   },
   "outputs": [],
   "source": [
    "cv = CountVectorizer(ngram_range=(1, 1),  # capture \"pairs\", or \"n-tuples\" of adjacent words\n",
    "                     max_df=1.0,          # exclude terms in ≥ `max_df` (or %) of docs\n",
    "                     min_df=1,            # exclude terms in ≤ `min_df` (or %) of docs\n",
    "                     max_features=None,   # maximum number of terms/ngrams to include\n",
    "                     binary=False)        # only log 1s and 0s for term presence\n",
    "\n",
    "X = cv.fit_transform(corpus_raw)\n",
    "\n",
    "df = pd.DataFrame(X.toarray(),\n",
    "                  index=corpus_raw,\n",
    "                  columns=cv.get_feature_names_out())"
   ]
  },
  {
   "cell_type": "code",
   "execution_count": 29,
   "id": "8f99b0b1-b0ca-4ba2-be58-bf4afc581c2e",
   "metadata": {
    "id": "8f99b0b1-b0ca-4ba2-be58-bf4afc581c2e",
    "outputId": "66ae3608-b1e4-4377-e197-635366def79e",
    "tags": []
   },
   "outputs": [
    {
     "data": {
      "image/svg+xml": [
       "<?xml version=\"1.0\" encoding=\"utf-8\" standalone=\"no\"?>\n",
       "<!DOCTYPE svg PUBLIC \"-//W3C//DTD SVG 1.1//EN\"\n",
       "  \"http://www.w3.org/Graphics/SVG/1.1/DTD/svg11.dtd\">\n",
       "<svg xmlns:xlink=\"http://www.w3.org/1999/xlink\" width=\"675.09375pt\" height=\"118.963437pt\" viewBox=\"0 0 675.09375 118.963437\" xmlns=\"http://www.w3.org/2000/svg\" version=\"1.1\">\n",
       " <metadata>\n",
       "  <rdf:RDF xmlns:dc=\"http://purl.org/dc/elements/1.1/\" xmlns:cc=\"http://creativecommons.org/ns#\" xmlns:rdf=\"http://www.w3.org/1999/02/22-rdf-syntax-ns#\">\n",
       "   <cc:Work>\n",
       "    <dc:type rdf:resource=\"http://purl.org/dc/dcmitype/StillImage\"/>\n",
       "    <dc:date>2024-02-28T23:24:58.842878</dc:date>\n",
       "    <dc:format>image/svg+xml</dc:format>\n",
       "    <dc:creator>\n",
       "     <cc:Agent>\n",
       "      <dc:title>Matplotlib v3.8.2, https://matplotlib.org/</dc:title>\n",
       "     </cc:Agent>\n",
       "    </dc:creator>\n",
       "   </cc:Work>\n",
       "  </rdf:RDF>\n",
       " </metadata>\n",
       " <defs>\n",
       "  <style type=\"text/css\">*{stroke-linejoin: round; stroke-linecap: butt}</style>\n",
       " </defs>\n",
       " <g id=\"figure_1\">\n",
       "  <g id=\"patch_1\">\n",
       "   <path d=\"M 0 118.963437 \n",
       "L 675.09375 118.963437 \n",
       "L 675.09375 0 \n",
       "L 0 0 \n",
       "z\n",
       "\" style=\"fill: #ffffff\"/>\n",
       "  </g>\n",
       "  <g id=\"axes_1\">\n",
       "   <g id=\"patch_2\">\n",
       "    <path d=\"M 221.49375 62.64 \n",
       "L 667.89375 62.64 \n",
       "L 667.89375 7.2 \n",
       "L 221.49375 7.2 \n",
       "z\n",
       "\" style=\"fill: #ffffff\"/>\n",
       "   </g>\n",
       "   <g id=\"matplotlib.axis_1\">\n",
       "    <g id=\"xtick_1\">\n",
       "     <g id=\"line2d_1\">\n",
       "      <path d=\"M 235.44375 62.64 \n",
       "L 235.44375 7.2 \n",
       "\" clip-path=\"url(#pdbab0f9c14)\" style=\"fill: none; stroke: #cccccc; stroke-width: 0.8; stroke-linecap: round\"/>\n",
       "     </g>\n",
       "     <g id=\"text_1\">\n",
       "      <!-- and -->\n",
       "      <g style=\"fill: #262626\" transform=\"translate(238.203125 88.454063) rotate(-90) scale(0.1 -0.1)\">\n",
       "       <defs>\n",
       "        <path id=\"DejaVuSans-61\" d=\"M 2194 1759 \n",
       "Q 1497 1759 1228 1600 \n",
       "Q 959 1441 959 1056 \n",
       "Q 959 750 1161 570 \n",
       "Q 1363 391 1709 391 \n",
       "Q 2188 391 2477 730 \n",
       "Q 2766 1069 2766 1631 \n",
       "L 2766 1759 \n",
       "L 2194 1759 \n",
       "z\n",
       "M 3341 1997 \n",
       "L 3341 0 \n",
       "L 2766 0 \n",
       "L 2766 531 \n",
       "Q 2569 213 2275 61 \n",
       "Q 1981 -91 1556 -91 \n",
       "Q 1019 -91 701 211 \n",
       "Q 384 513 384 1019 \n",
       "Q 384 1609 779 1909 \n",
       "Q 1175 2209 1959 2209 \n",
       "L 2766 2209 \n",
       "L 2766 2266 \n",
       "Q 2766 2663 2505 2880 \n",
       "Q 2244 3097 1772 3097 \n",
       "Q 1472 3097 1187 3025 \n",
       "Q 903 2953 641 2809 \n",
       "L 641 3341 \n",
       "Q 956 3463 1253 3523 \n",
       "Q 1550 3584 1831 3584 \n",
       "Q 2591 3584 2966 3190 \n",
       "Q 3341 2797 3341 1997 \n",
       "z\n",
       "\" transform=\"scale(0.015625)\"/>\n",
       "        <path id=\"DejaVuSans-6e\" d=\"M 3513 2113 \n",
       "L 3513 0 \n",
       "L 2938 0 \n",
       "L 2938 2094 \n",
       "Q 2938 2591 2744 2837 \n",
       "Q 2550 3084 2163 3084 \n",
       "Q 1697 3084 1428 2787 \n",
       "Q 1159 2491 1159 1978 \n",
       "L 1159 0 \n",
       "L 581 0 \n",
       "L 581 3500 \n",
       "L 1159 3500 \n",
       "L 1159 2956 \n",
       "Q 1366 3272 1645 3428 \n",
       "Q 1925 3584 2291 3584 \n",
       "Q 2894 3584 3203 3211 \n",
       "Q 3513 2838 3513 2113 \n",
       "z\n",
       "\" transform=\"scale(0.015625)\"/>\n",
       "        <path id=\"DejaVuSans-64\" d=\"M 2906 2969 \n",
       "L 2906 4863 \n",
       "L 3481 4863 \n",
       "L 3481 0 \n",
       "L 2906 0 \n",
       "L 2906 525 \n",
       "Q 2725 213 2448 61 \n",
       "Q 2172 -91 1784 -91 \n",
       "Q 1150 -91 751 415 \n",
       "Q 353 922 353 1747 \n",
       "Q 353 2572 751 3078 \n",
       "Q 1150 3584 1784 3584 \n",
       "Q 2172 3584 2448 3432 \n",
       "Q 2725 3281 2906 2969 \n",
       "z\n",
       "M 947 1747 \n",
       "Q 947 1113 1208 752 \n",
       "Q 1469 391 1925 391 \n",
       "Q 2381 391 2643 752 \n",
       "Q 2906 1113 2906 1747 \n",
       "Q 2906 2381 2643 2742 \n",
       "Q 2381 3103 1925 3103 \n",
       "Q 1469 3103 1208 2742 \n",
       "Q 947 2381 947 1747 \n",
       "z\n",
       "\" transform=\"scale(0.015625)\"/>\n",
       "       </defs>\n",
       "       <use xlink:href=\"#DejaVuSans-61\"/>\n",
       "       <use xlink:href=\"#DejaVuSans-6e\" x=\"61.279297\"/>\n",
       "       <use xlink:href=\"#DejaVuSans-64\" x=\"124.658203\"/>\n",
       "      </g>\n",
       "     </g>\n",
       "    </g>\n",
       "    <g id=\"xtick_2\">\n",
       "     <g id=\"line2d_2\">\n",
       "      <path d=\"M 263.34375 62.64 \n",
       "L 263.34375 7.2 \n",
       "\" clip-path=\"url(#pdbab0f9c14)\" style=\"fill: none; stroke: #cccccc; stroke-width: 0.8; stroke-linecap: round\"/>\n",
       "     </g>\n",
       "     <g id=\"text_2\">\n",
       "      <!-- best -->\n",
       "      <g style=\"fill: #262626\" transform=\"translate(266.103125 91.27125) rotate(-90) scale(0.1 -0.1)\">\n",
       "       <defs>\n",
       "        <path id=\"DejaVuSans-62\" d=\"M 3116 1747 \n",
       "Q 3116 2381 2855 2742 \n",
       "Q 2594 3103 2138 3103 \n",
       "Q 1681 3103 1420 2742 \n",
       "Q 1159 2381 1159 1747 \n",
       "Q 1159 1113 1420 752 \n",
       "Q 1681 391 2138 391 \n",
       "Q 2594 391 2855 752 \n",
       "Q 3116 1113 3116 1747 \n",
       "z\n",
       "M 1159 2969 \n",
       "Q 1341 3281 1617 3432 \n",
       "Q 1894 3584 2278 3584 \n",
       "Q 2916 3584 3314 3078 \n",
       "Q 3713 2572 3713 1747 \n",
       "Q 3713 922 3314 415 \n",
       "Q 2916 -91 2278 -91 \n",
       "Q 1894 -91 1617 61 \n",
       "Q 1341 213 1159 525 \n",
       "L 1159 0 \n",
       "L 581 0 \n",
       "L 581 4863 \n",
       "L 1159 4863 \n",
       "L 1159 2969 \n",
       "z\n",
       "\" transform=\"scale(0.015625)\"/>\n",
       "        <path id=\"DejaVuSans-65\" d=\"M 3597 1894 \n",
       "L 3597 1613 \n",
       "L 953 1613 \n",
       "Q 991 1019 1311 708 \n",
       "Q 1631 397 2203 397 \n",
       "Q 2534 397 2845 478 \n",
       "Q 3156 559 3463 722 \n",
       "L 3463 178 \n",
       "Q 3153 47 2828 -22 \n",
       "Q 2503 -91 2169 -91 \n",
       "Q 1331 -91 842 396 \n",
       "Q 353 884 353 1716 \n",
       "Q 353 2575 817 3079 \n",
       "Q 1281 3584 2069 3584 \n",
       "Q 2775 3584 3186 3129 \n",
       "Q 3597 2675 3597 1894 \n",
       "z\n",
       "M 3022 2063 \n",
       "Q 3016 2534 2758 2815 \n",
       "Q 2500 3097 2075 3097 \n",
       "Q 1594 3097 1305 2825 \n",
       "Q 1016 2553 972 2059 \n",
       "L 3022 2063 \n",
       "z\n",
       "\" transform=\"scale(0.015625)\"/>\n",
       "        <path id=\"DejaVuSans-73\" d=\"M 2834 3397 \n",
       "L 2834 2853 \n",
       "Q 2591 2978 2328 3040 \n",
       "Q 2066 3103 1784 3103 \n",
       "Q 1356 3103 1142 2972 \n",
       "Q 928 2841 928 2578 \n",
       "Q 928 2378 1081 2264 \n",
       "Q 1234 2150 1697 2047 \n",
       "L 1894 2003 \n",
       "Q 2506 1872 2764 1633 \n",
       "Q 3022 1394 3022 966 \n",
       "Q 3022 478 2636 193 \n",
       "Q 2250 -91 1575 -91 \n",
       "Q 1294 -91 989 -36 \n",
       "Q 684 19 347 128 \n",
       "L 347 722 \n",
       "Q 666 556 975 473 \n",
       "Q 1284 391 1588 391 \n",
       "Q 1994 391 2212 530 \n",
       "Q 2431 669 2431 922 \n",
       "Q 2431 1156 2273 1281 \n",
       "Q 2116 1406 1581 1522 \n",
       "L 1381 1569 \n",
       "Q 847 1681 609 1914 \n",
       "Q 372 2147 372 2553 \n",
       "Q 372 3047 722 3315 \n",
       "Q 1072 3584 1716 3584 \n",
       "Q 2034 3584 2315 3537 \n",
       "Q 2597 3491 2834 3397 \n",
       "z\n",
       "\" transform=\"scale(0.015625)\"/>\n",
       "        <path id=\"DejaVuSans-74\" d=\"M 1172 4494 \n",
       "L 1172 3500 \n",
       "L 2356 3500 \n",
       "L 2356 3053 \n",
       "L 1172 3053 \n",
       "L 1172 1153 \n",
       "Q 1172 725 1289 603 \n",
       "Q 1406 481 1766 481 \n",
       "L 2356 481 \n",
       "L 2356 0 \n",
       "L 1766 0 \n",
       "Q 1100 0 847 248 \n",
       "Q 594 497 594 1153 \n",
       "L 594 3053 \n",
       "L 172 3053 \n",
       "L 172 3500 \n",
       "L 594 3500 \n",
       "L 594 4494 \n",
       "L 1172 4494 \n",
       "z\n",
       "\" transform=\"scale(0.015625)\"/>\n",
       "       </defs>\n",
       "       <use xlink:href=\"#DejaVuSans-62\"/>\n",
       "       <use xlink:href=\"#DejaVuSans-65\" x=\"63.476562\"/>\n",
       "       <use xlink:href=\"#DejaVuSans-73\" x=\"125\"/>\n",
       "       <use xlink:href=\"#DejaVuSans-74\" x=\"177.099609\"/>\n",
       "      </g>\n",
       "     </g>\n",
       "    </g>\n",
       "    <g id=\"xtick_3\">\n",
       "     <g id=\"line2d_3\">\n",
       "      <path d=\"M 291.24375 62.64 \n",
       "L 291.24375 7.2 \n",
       "\" clip-path=\"url(#pdbab0f9c14)\" style=\"fill: none; stroke: #cccccc; stroke-width: 0.8; stroke-linecap: round\"/>\n",
       "     </g>\n",
       "     <g id=\"text_3\">\n",
       "      <!-- better -->\n",
       "      <g style=\"fill: #262626\" transform=\"translate(294.003125 100.24625) rotate(-90) scale(0.1 -0.1)\">\n",
       "       <defs>\n",
       "        <path id=\"DejaVuSans-72\" d=\"M 2631 2963 \n",
       "Q 2534 3019 2420 3045 \n",
       "Q 2306 3072 2169 3072 \n",
       "Q 1681 3072 1420 2755 \n",
       "Q 1159 2438 1159 1844 \n",
       "L 1159 0 \n",
       "L 581 0 \n",
       "L 581 3500 \n",
       "L 1159 3500 \n",
       "L 1159 2956 \n",
       "Q 1341 3275 1631 3429 \n",
       "Q 1922 3584 2338 3584 \n",
       "Q 2397 3584 2469 3576 \n",
       "Q 2541 3569 2628 3553 \n",
       "L 2631 2963 \n",
       "z\n",
       "\" transform=\"scale(0.015625)\"/>\n",
       "       </defs>\n",
       "       <use xlink:href=\"#DejaVuSans-62\"/>\n",
       "       <use xlink:href=\"#DejaVuSans-65\" x=\"63.476562\"/>\n",
       "       <use xlink:href=\"#DejaVuSans-74\" x=\"125\"/>\n",
       "       <use xlink:href=\"#DejaVuSans-74\" x=\"164.208984\"/>\n",
       "       <use xlink:href=\"#DejaVuSans-65\" x=\"203.417969\"/>\n",
       "       <use xlink:href=\"#DejaVuSans-72\" x=\"264.941406\"/>\n",
       "      </g>\n",
       "     </g>\n",
       "    </g>\n",
       "    <g id=\"xtick_4\">\n",
       "     <g id=\"line2d_4\">\n",
       "      <path d=\"M 319.14375 62.64 \n",
       "L 319.14375 7.2 \n",
       "\" clip-path=\"url(#pdbab0f9c14)\" style=\"fill: none; stroke: #cccccc; stroke-width: 0.8; stroke-linecap: round\"/>\n",
       "     </g>\n",
       "     <g id=\"text_4\">\n",
       "      <!-- coffee -->\n",
       "      <g style=\"fill: #262626\" transform=\"translate(321.903125 100.604062) rotate(-90) scale(0.1 -0.1)\">\n",
       "       <defs>\n",
       "        <path id=\"DejaVuSans-63\" d=\"M 3122 3366 \n",
       "L 3122 2828 \n",
       "Q 2878 2963 2633 3030 \n",
       "Q 2388 3097 2138 3097 \n",
       "Q 1578 3097 1268 2742 \n",
       "Q 959 2388 959 1747 \n",
       "Q 959 1106 1268 751 \n",
       "Q 1578 397 2138 397 \n",
       "Q 2388 397 2633 464 \n",
       "Q 2878 531 3122 666 \n",
       "L 3122 134 \n",
       "Q 2881 22 2623 -34 \n",
       "Q 2366 -91 2075 -91 \n",
       "Q 1284 -91 818 406 \n",
       "Q 353 903 353 1747 \n",
       "Q 353 2603 823 3093 \n",
       "Q 1294 3584 2113 3584 \n",
       "Q 2378 3584 2631 3529 \n",
       "Q 2884 3475 3122 3366 \n",
       "z\n",
       "\" transform=\"scale(0.015625)\"/>\n",
       "        <path id=\"DejaVuSans-6f\" d=\"M 1959 3097 \n",
       "Q 1497 3097 1228 2736 \n",
       "Q 959 2375 959 1747 \n",
       "Q 959 1119 1226 758 \n",
       "Q 1494 397 1959 397 \n",
       "Q 2419 397 2687 759 \n",
       "Q 2956 1122 2956 1747 \n",
       "Q 2956 2369 2687 2733 \n",
       "Q 2419 3097 1959 3097 \n",
       "z\n",
       "M 1959 3584 \n",
       "Q 2709 3584 3137 3096 \n",
       "Q 3566 2609 3566 1747 \n",
       "Q 3566 888 3137 398 \n",
       "Q 2709 -91 1959 -91 \n",
       "Q 1206 -91 779 398 \n",
       "Q 353 888 353 1747 \n",
       "Q 353 2609 779 3096 \n",
       "Q 1206 3584 1959 3584 \n",
       "z\n",
       "\" transform=\"scale(0.015625)\"/>\n",
       "        <path id=\"DejaVuSans-66\" d=\"M 2375 4863 \n",
       "L 2375 4384 \n",
       "L 1825 4384 \n",
       "Q 1516 4384 1395 4259 \n",
       "Q 1275 4134 1275 3809 \n",
       "L 1275 3500 \n",
       "L 2222 3500 \n",
       "L 2222 3053 \n",
       "L 1275 3053 \n",
       "L 1275 0 \n",
       "L 697 0 \n",
       "L 697 3053 \n",
       "L 147 3053 \n",
       "L 147 3500 \n",
       "L 697 3500 \n",
       "L 697 3744 \n",
       "Q 697 4328 969 4595 \n",
       "Q 1241 4863 1831 4863 \n",
       "L 2375 4863 \n",
       "z\n",
       "\" transform=\"scale(0.015625)\"/>\n",
       "       </defs>\n",
       "       <use xlink:href=\"#DejaVuSans-63\"/>\n",
       "       <use xlink:href=\"#DejaVuSans-6f\" x=\"54.980469\"/>\n",
       "       <use xlink:href=\"#DejaVuSans-66\" x=\"116.162109\"/>\n",
       "       <use xlink:href=\"#DejaVuSans-66\" x=\"151.367188\"/>\n",
       "       <use xlink:href=\"#DejaVuSans-65\" x=\"186.572266\"/>\n",
       "       <use xlink:href=\"#DejaVuSans-65\" x=\"248.095703\"/>\n",
       "      </g>\n",
       "     </g>\n",
       "    </g>\n",
       "    <g id=\"xtick_5\">\n",
       "     <g id=\"line2d_5\">\n",
       "      <path d=\"M 347.04375 62.64 \n",
       "L 347.04375 7.2 \n",
       "\" clip-path=\"url(#pdbab0f9c14)\" style=\"fill: none; stroke: #cccccc; stroke-width: 0.8; stroke-linecap: round\"/>\n",
       "     </g>\n",
       "     <g id=\"text_5\">\n",
       "      <!-- ever -->\n",
       "      <g style=\"fill: #262626\" transform=\"translate(349.803125 91.975938) rotate(-90) scale(0.1 -0.1)\">\n",
       "       <defs>\n",
       "        <path id=\"DejaVuSans-76\" d=\"M 191 3500 \n",
       "L 800 3500 \n",
       "L 1894 563 \n",
       "L 2988 3500 \n",
       "L 3597 3500 \n",
       "L 2284 0 \n",
       "L 1503 0 \n",
       "L 191 3500 \n",
       "z\n",
       "\" transform=\"scale(0.015625)\"/>\n",
       "       </defs>\n",
       "       <use xlink:href=\"#DejaVuSans-65\"/>\n",
       "       <use xlink:href=\"#DejaVuSans-76\" x=\"61.523438\"/>\n",
       "       <use xlink:href=\"#DejaVuSans-65\" x=\"120.703125\"/>\n",
       "       <use xlink:href=\"#DejaVuSans-72\" x=\"182.226562\"/>\n",
       "      </g>\n",
       "     </g>\n",
       "    </g>\n",
       "    <g id=\"xtick_6\">\n",
       "     <g id=\"line2d_6\">\n",
       "      <path d=\"M 374.94375 62.64 \n",
       "L 374.94375 7.2 \n",
       "\" clip-path=\"url(#pdbab0f9c14)\" style=\"fill: none; stroke: #cccccc; stroke-width: 0.8; stroke-linecap: round\"/>\n",
       "     </g>\n",
       "     <g id=\"text_6\">\n",
       "      <!-- have -->\n",
       "      <g style=\"fill: #262626\" transform=\"translate(377.703125 94.1775) rotate(-90) scale(0.1 -0.1)\">\n",
       "       <defs>\n",
       "        <path id=\"DejaVuSans-68\" d=\"M 3513 2113 \n",
       "L 3513 0 \n",
       "L 2938 0 \n",
       "L 2938 2094 \n",
       "Q 2938 2591 2744 2837 \n",
       "Q 2550 3084 2163 3084 \n",
       "Q 1697 3084 1428 2787 \n",
       "Q 1159 2491 1159 1978 \n",
       "L 1159 0 \n",
       "L 581 0 \n",
       "L 581 4863 \n",
       "L 1159 4863 \n",
       "L 1159 2956 \n",
       "Q 1366 3272 1645 3428 \n",
       "Q 1925 3584 2291 3584 \n",
       "Q 2894 3584 3203 3211 \n",
       "Q 3513 2838 3513 2113 \n",
       "z\n",
       "\" transform=\"scale(0.015625)\"/>\n",
       "       </defs>\n",
       "       <use xlink:href=\"#DejaVuSans-68\"/>\n",
       "       <use xlink:href=\"#DejaVuSans-61\" x=\"63.378906\"/>\n",
       "       <use xlink:href=\"#DejaVuSans-76\" x=\"124.658203\"/>\n",
       "       <use xlink:href=\"#DejaVuSans-65\" x=\"183.837891\"/>\n",
       "      </g>\n",
       "     </g>\n",
       "    </g>\n",
       "    <g id=\"xtick_7\">\n",
       "     <g id=\"line2d_7\">\n",
       "      <path d=\"M 402.84375 62.64 \n",
       "L 402.84375 7.2 \n",
       "\" clip-path=\"url(#pdbab0f9c14)\" style=\"fill: none; stroke: #cccccc; stroke-width: 0.8; stroke-linecap: round\"/>\n",
       "     </g>\n",
       "     <g id=\"text_7\">\n",
       "      <!-- is -->\n",
       "      <g style=\"fill: #262626\" transform=\"translate(405.603125 77.6275) rotate(-90) scale(0.1 -0.1)\">\n",
       "       <defs>\n",
       "        <path id=\"DejaVuSans-69\" d=\"M 603 3500 \n",
       "L 1178 3500 \n",
       "L 1178 0 \n",
       "L 603 0 \n",
       "L 603 3500 \n",
       "z\n",
       "M 603 4863 \n",
       "L 1178 4863 \n",
       "L 1178 4134 \n",
       "L 603 4134 \n",
       "L 603 4863 \n",
       "z\n",
       "\" transform=\"scale(0.015625)\"/>\n",
       "       </defs>\n",
       "       <use xlink:href=\"#DejaVuSans-69\"/>\n",
       "       <use xlink:href=\"#DejaVuSans-73\" x=\"27.783203\"/>\n",
       "      </g>\n",
       "     </g>\n",
       "    </g>\n",
       "    <g id=\"xtick_8\">\n",
       "     <g id=\"line2d_8\">\n",
       "      <path d=\"M 430.74375 62.64 \n",
       "L 430.74375 7.2 \n",
       "\" clip-path=\"url(#pdbab0f9c14)\" style=\"fill: none; stroke: #cccccc; stroke-width: 0.8; stroke-linecap: round\"/>\n",
       "     </g>\n",
       "     <g id=\"text_8\">\n",
       "      <!-- really -->\n",
       "      <g style=\"fill: #262626\" transform=\"translate(433.503125 97.282188) rotate(-90) scale(0.1 -0.1)\">\n",
       "       <defs>\n",
       "        <path id=\"DejaVuSans-6c\" d=\"M 603 4863 \n",
       "L 1178 4863 \n",
       "L 1178 0 \n",
       "L 603 0 \n",
       "L 603 4863 \n",
       "z\n",
       "\" transform=\"scale(0.015625)\"/>\n",
       "        <path id=\"DejaVuSans-79\" d=\"M 2059 -325 \n",
       "Q 1816 -950 1584 -1140 \n",
       "Q 1353 -1331 966 -1331 \n",
       "L 506 -1331 \n",
       "L 506 -850 \n",
       "L 844 -850 \n",
       "Q 1081 -850 1212 -737 \n",
       "Q 1344 -625 1503 -206 \n",
       "L 1606 56 \n",
       "L 191 3500 \n",
       "L 800 3500 \n",
       "L 1894 763 \n",
       "L 2988 3500 \n",
       "L 3597 3500 \n",
       "L 2059 -325 \n",
       "z\n",
       "\" transform=\"scale(0.015625)\"/>\n",
       "       </defs>\n",
       "       <use xlink:href=\"#DejaVuSans-72\"/>\n",
       "       <use xlink:href=\"#DejaVuSans-65\" x=\"38.863281\"/>\n",
       "       <use xlink:href=\"#DejaVuSans-61\" x=\"100.386719\"/>\n",
       "       <use xlink:href=\"#DejaVuSans-6c\" x=\"161.666016\"/>\n",
       "       <use xlink:href=\"#DejaVuSans-6c\" x=\"189.449219\"/>\n",
       "       <use xlink:href=\"#DejaVuSans-79\" x=\"217.232422\"/>\n",
       "      </g>\n",
       "     </g>\n",
       "    </g>\n",
       "    <g id=\"xtick_9\">\n",
       "     <g id=\"line2d_9\">\n",
       "      <path d=\"M 458.64375 62.64 \n",
       "L 458.64375 7.2 \n",
       "\" clip-path=\"url(#pdbab0f9c14)\" style=\"fill: none; stroke: #cccccc; stroke-width: 0.8; stroke-linecap: round\"/>\n",
       "     </g>\n",
       "     <g id=\"text_9\">\n",
       "      <!-- smelled -->\n",
       "      <g style=\"fill: #262626\" transform=\"translate(461.403125 108.800938) rotate(-90) scale(0.1 -0.1)\">\n",
       "       <defs>\n",
       "        <path id=\"DejaVuSans-6d\" d=\"M 3328 2828 \n",
       "Q 3544 3216 3844 3400 \n",
       "Q 4144 3584 4550 3584 \n",
       "Q 5097 3584 5394 3201 \n",
       "Q 5691 2819 5691 2113 \n",
       "L 5691 0 \n",
       "L 5113 0 \n",
       "L 5113 2094 \n",
       "Q 5113 2597 4934 2840 \n",
       "Q 4756 3084 4391 3084 \n",
       "Q 3944 3084 3684 2787 \n",
       "Q 3425 2491 3425 1978 \n",
       "L 3425 0 \n",
       "L 2847 0 \n",
       "L 2847 2094 \n",
       "Q 2847 2600 2669 2842 \n",
       "Q 2491 3084 2119 3084 \n",
       "Q 1678 3084 1418 2786 \n",
       "Q 1159 2488 1159 1978 \n",
       "L 1159 0 \n",
       "L 581 0 \n",
       "L 581 3500 \n",
       "L 1159 3500 \n",
       "L 1159 2956 \n",
       "Q 1356 3278 1631 3431 \n",
       "Q 1906 3584 2284 3584 \n",
       "Q 2666 3584 2933 3390 \n",
       "Q 3200 3197 3328 2828 \n",
       "z\n",
       "\" transform=\"scale(0.015625)\"/>\n",
       "       </defs>\n",
       "       <use xlink:href=\"#DejaVuSans-73\"/>\n",
       "       <use xlink:href=\"#DejaVuSans-6d\" x=\"52.099609\"/>\n",
       "       <use xlink:href=\"#DejaVuSans-65\" x=\"149.511719\"/>\n",
       "       <use xlink:href=\"#DejaVuSans-6c\" x=\"211.035156\"/>\n",
       "       <use xlink:href=\"#DejaVuSans-6c\" x=\"238.818359\"/>\n",
       "       <use xlink:href=\"#DejaVuSans-65\" x=\"266.601562\"/>\n",
       "       <use xlink:href=\"#DejaVuSans-64\" x=\"328.125\"/>\n",
       "      </g>\n",
       "     </g>\n",
       "    </g>\n",
       "    <g id=\"xtick_10\">\n",
       "     <g id=\"line2d_10\">\n",
       "      <path d=\"M 486.54375 62.64 \n",
       "L 486.54375 7.2 \n",
       "\" clip-path=\"url(#pdbab0f9c14)\" style=\"fill: none; stroke: #cccccc; stroke-width: 0.8; stroke-linecap: round\"/>\n",
       "     </g>\n",
       "     <g id=\"text_10\">\n",
       "      <!-- smelling -->\n",
       "      <g style=\"fill: #262626\" transform=\"translate(489.303125 111.763438) rotate(-90) scale(0.1 -0.1)\">\n",
       "       <defs>\n",
       "        <path id=\"DejaVuSans-67\" d=\"M 2906 1791 \n",
       "Q 2906 2416 2648 2759 \n",
       "Q 2391 3103 1925 3103 \n",
       "Q 1463 3103 1205 2759 \n",
       "Q 947 2416 947 1791 \n",
       "Q 947 1169 1205 825 \n",
       "Q 1463 481 1925 481 \n",
       "Q 2391 481 2648 825 \n",
       "Q 2906 1169 2906 1791 \n",
       "z\n",
       "M 3481 434 \n",
       "Q 3481 -459 3084 -895 \n",
       "Q 2688 -1331 1869 -1331 \n",
       "Q 1566 -1331 1297 -1286 \n",
       "Q 1028 -1241 775 -1147 \n",
       "L 775 -588 \n",
       "Q 1028 -725 1275 -790 \n",
       "Q 1522 -856 1778 -856 \n",
       "Q 2344 -856 2625 -561 \n",
       "Q 2906 -266 2906 331 \n",
       "L 2906 616 \n",
       "Q 2728 306 2450 153 \n",
       "Q 2172 0 1784 0 \n",
       "Q 1141 0 747 490 \n",
       "Q 353 981 353 1791 \n",
       "Q 353 2603 747 3093 \n",
       "Q 1141 3584 1784 3584 \n",
       "Q 2172 3584 2450 3431 \n",
       "Q 2728 3278 2906 2969 \n",
       "L 2906 3500 \n",
       "L 3481 3500 \n",
       "L 3481 434 \n",
       "z\n",
       "\" transform=\"scale(0.015625)\"/>\n",
       "       </defs>\n",
       "       <use xlink:href=\"#DejaVuSans-73\"/>\n",
       "       <use xlink:href=\"#DejaVuSans-6d\" x=\"52.099609\"/>\n",
       "       <use xlink:href=\"#DejaVuSans-65\" x=\"149.511719\"/>\n",
       "       <use xlink:href=\"#DejaVuSans-6c\" x=\"211.035156\"/>\n",
       "       <use xlink:href=\"#DejaVuSans-6c\" x=\"238.818359\"/>\n",
       "       <use xlink:href=\"#DejaVuSans-69\" x=\"266.601562\"/>\n",
       "       <use xlink:href=\"#DejaVuSans-6e\" x=\"294.384766\"/>\n",
       "       <use xlink:href=\"#DejaVuSans-67\" x=\"357.763672\"/>\n",
       "      </g>\n",
       "     </g>\n",
       "    </g>\n",
       "    <g id=\"xtick_11\">\n",
       "     <g id=\"line2d_11\">\n",
       "      <path d=\"M 514.44375 62.64 \n",
       "L 514.44375 7.2 \n",
       "\" clip-path=\"url(#pdbab0f9c14)\" style=\"fill: none; stroke: #cccccc; stroke-width: 0.8; stroke-linecap: round\"/>\n",
       "     </g>\n",
       "     <g id=\"text_11\">\n",
       "      <!-- smells -->\n",
       "      <g style=\"fill: #262626\" transform=\"translate(517.203125 101.50875) rotate(-90) scale(0.1 -0.1)\">\n",
       "       <use xlink:href=\"#DejaVuSans-73\"/>\n",
       "       <use xlink:href=\"#DejaVuSans-6d\" x=\"52.099609\"/>\n",
       "       <use xlink:href=\"#DejaVuSans-65\" x=\"149.511719\"/>\n",
       "       <use xlink:href=\"#DejaVuSans-6c\" x=\"211.035156\"/>\n",
       "       <use xlink:href=\"#DejaVuSans-6c\" x=\"238.818359\"/>\n",
       "       <use xlink:href=\"#DejaVuSans-73\" x=\"266.601562\"/>\n",
       "      </g>\n",
       "     </g>\n",
       "    </g>\n",
       "    <g id=\"xtick_12\">\n",
       "     <g id=\"line2d_12\">\n",
       "      <path d=\"M 542.34375 62.64 \n",
       "L 542.34375 7.2 \n",
       "\" clip-path=\"url(#pdbab0f9c14)\" style=\"fill: none; stroke: #cccccc; stroke-width: 0.8; stroke-linecap: round\"/>\n",
       "     </g>\n",
       "     <g id=\"text_12\">\n",
       "      <!-- tastes -->\n",
       "      <g style=\"fill: #262626\" transform=\"translate(545.103125 100.180625) rotate(-90) scale(0.1 -0.1)\">\n",
       "       <use xlink:href=\"#DejaVuSans-74\"/>\n",
       "       <use xlink:href=\"#DejaVuSans-61\" x=\"39.208984\"/>\n",
       "       <use xlink:href=\"#DejaVuSans-73\" x=\"100.488281\"/>\n",
       "       <use xlink:href=\"#DejaVuSans-74\" x=\"152.587891\"/>\n",
       "       <use xlink:href=\"#DejaVuSans-65\" x=\"191.796875\"/>\n",
       "       <use xlink:href=\"#DejaVuSans-73\" x=\"253.320312\"/>\n",
       "      </g>\n",
       "     </g>\n",
       "    </g>\n",
       "    <g id=\"xtick_13\">\n",
       "     <g id=\"line2d_13\">\n",
       "      <path d=\"M 570.24375 62.64 \n",
       "L 570.24375 7.2 \n",
       "\" clip-path=\"url(#pdbab0f9c14)\" style=\"fill: none; stroke: #cccccc; stroke-width: 0.8; stroke-linecap: round\"/>\n",
       "     </g>\n",
       "     <g id=\"text_13\">\n",
       "      <!-- tasty -->\n",
       "      <g style=\"fill: #262626\" transform=\"translate(573.003125 94.736875) rotate(-90) scale(0.1 -0.1)\">\n",
       "       <use xlink:href=\"#DejaVuSans-74\"/>\n",
       "       <use xlink:href=\"#DejaVuSans-61\" x=\"39.208984\"/>\n",
       "       <use xlink:href=\"#DejaVuSans-73\" x=\"100.488281\"/>\n",
       "       <use xlink:href=\"#DejaVuSans-74\" x=\"152.587891\"/>\n",
       "       <use xlink:href=\"#DejaVuSans-79\" x=\"191.796875\"/>\n",
       "      </g>\n",
       "     </g>\n",
       "    </g>\n",
       "    <g id=\"xtick_14\">\n",
       "     <g id=\"line2d_14\">\n",
       "      <path d=\"M 598.14375 62.64 \n",
       "L 598.14375 7.2 \n",
       "\" clip-path=\"url(#pdbab0f9c14)\" style=\"fill: none; stroke: #cccccc; stroke-width: 0.8; stroke-linecap: round\"/>\n",
       "     </g>\n",
       "     <g id=\"text_14\">\n",
       "      <!-- tea -->\n",
       "      <g style=\"fill: #262626\" transform=\"translate(600.903125 85.841563) rotate(-90) scale(0.1 -0.1)\">\n",
       "       <use xlink:href=\"#DejaVuSans-74\"/>\n",
       "       <use xlink:href=\"#DejaVuSans-65\" x=\"39.208984\"/>\n",
       "       <use xlink:href=\"#DejaVuSans-61\" x=\"100.732422\"/>\n",
       "      </g>\n",
       "     </g>\n",
       "    </g>\n",
       "    <g id=\"xtick_15\">\n",
       "     <g id=\"line2d_15\">\n",
       "      <path d=\"M 626.04375 62.64 \n",
       "L 626.04375 7.2 \n",
       "\" clip-path=\"url(#pdbab0f9c14)\" style=\"fill: none; stroke: #cccccc; stroke-width: 0.8; stroke-linecap: round\"/>\n",
       "     </g>\n",
       "     <g id=\"text_15\">\n",
       "      <!-- than -->\n",
       "      <g style=\"fill: #262626\" transform=\"translate(628.803125 92.363438) rotate(-90) scale(0.1 -0.1)\">\n",
       "       <use xlink:href=\"#DejaVuSans-74\"/>\n",
       "       <use xlink:href=\"#DejaVuSans-68\" x=\"39.208984\"/>\n",
       "       <use xlink:href=\"#DejaVuSans-61\" x=\"102.587891\"/>\n",
       "       <use xlink:href=\"#DejaVuSans-6e\" x=\"163.867188\"/>\n",
       "      </g>\n",
       "     </g>\n",
       "    </g>\n",
       "    <g id=\"xtick_16\">\n",
       "     <g id=\"line2d_16\">\n",
       "      <path d=\"M 653.94375 62.64 \n",
       "L 653.94375 7.2 \n",
       "\" clip-path=\"url(#pdbab0f9c14)\" style=\"fill: none; stroke: #cccccc; stroke-width: 0.8; stroke-linecap: round\"/>\n",
       "     </g>\n",
       "     <g id=\"text_16\">\n",
       "      <!-- this -->\n",
       "      <g style=\"fill: #262626\" transform=\"translate(656.703125 87.885312) rotate(-90) scale(0.1 -0.1)\">\n",
       "       <use xlink:href=\"#DejaVuSans-74\"/>\n",
       "       <use xlink:href=\"#DejaVuSans-68\" x=\"39.208984\"/>\n",
       "       <use xlink:href=\"#DejaVuSans-69\" x=\"102.587891\"/>\n",
       "       <use xlink:href=\"#DejaVuSans-73\" x=\"130.371094\"/>\n",
       "      </g>\n",
       "     </g>\n",
       "    </g>\n",
       "   </g>\n",
       "   <g id=\"matplotlib.axis_2\">\n",
       "    <g id=\"ytick_1\">\n",
       "     <g id=\"line2d_17\">\n",
       "      <path d=\"M 221.49375 16.44 \n",
       "L 667.89375 16.44 \n",
       "\" clip-path=\"url(#pdbab0f9c14)\" style=\"fill: none; stroke: #cccccc; stroke-width: 0.8; stroke-linecap: round\"/>\n",
       "     </g>\n",
       "     <g id=\"text_17\">\n",
       "      <!-- This coffee is really really tasty. -->\n",
       "      <g style=\"fill: #262626\" transform=\"translate(57.084375 19.199375) scale(0.1 -0.1)\">\n",
       "       <defs>\n",
       "        <path id=\"DejaVuSans-54\" d=\"M -19 4666 \n",
       "L 3928 4666 \n",
       "L 3928 4134 \n",
       "L 2272 4134 \n",
       "L 2272 0 \n",
       "L 1638 0 \n",
       "L 1638 4134 \n",
       "L -19 4134 \n",
       "L -19 4666 \n",
       "z\n",
       "\" transform=\"scale(0.015625)\"/>\n",
       "        <path id=\"DejaVuSans-20\" transform=\"scale(0.015625)\"/>\n",
       "        <path id=\"DejaVuSans-2e\" d=\"M 684 794 \n",
       "L 1344 794 \n",
       "L 1344 0 \n",
       "L 684 0 \n",
       "L 684 794 \n",
       "z\n",
       "\" transform=\"scale(0.015625)\"/>\n",
       "       </defs>\n",
       "       <use xlink:href=\"#DejaVuSans-54\"/>\n",
       "       <use xlink:href=\"#DejaVuSans-68\" x=\"61.083984\"/>\n",
       "       <use xlink:href=\"#DejaVuSans-69\" x=\"124.462891\"/>\n",
       "       <use xlink:href=\"#DejaVuSans-73\" x=\"152.246094\"/>\n",
       "       <use xlink:href=\"#DejaVuSans-20\" x=\"204.345703\"/>\n",
       "       <use xlink:href=\"#DejaVuSans-63\" x=\"236.132812\"/>\n",
       "       <use xlink:href=\"#DejaVuSans-6f\" x=\"291.113281\"/>\n",
       "       <use xlink:href=\"#DejaVuSans-66\" x=\"352.294922\"/>\n",
       "       <use xlink:href=\"#DejaVuSans-66\" x=\"387.5\"/>\n",
       "       <use xlink:href=\"#DejaVuSans-65\" x=\"422.705078\"/>\n",
       "       <use xlink:href=\"#DejaVuSans-65\" x=\"484.228516\"/>\n",
       "       <use xlink:href=\"#DejaVuSans-20\" x=\"545.751953\"/>\n",
       "       <use xlink:href=\"#DejaVuSans-69\" x=\"577.539062\"/>\n",
       "       <use xlink:href=\"#DejaVuSans-73\" x=\"605.322266\"/>\n",
       "       <use xlink:href=\"#DejaVuSans-20\" x=\"657.421875\"/>\n",
       "       <use xlink:href=\"#DejaVuSans-72\" x=\"689.208984\"/>\n",
       "       <use xlink:href=\"#DejaVuSans-65\" x=\"728.072266\"/>\n",
       "       <use xlink:href=\"#DejaVuSans-61\" x=\"789.595703\"/>\n",
       "       <use xlink:href=\"#DejaVuSans-6c\" x=\"850.875\"/>\n",
       "       <use xlink:href=\"#DejaVuSans-6c\" x=\"878.658203\"/>\n",
       "       <use xlink:href=\"#DejaVuSans-79\" x=\"906.441406\"/>\n",
       "       <use xlink:href=\"#DejaVuSans-20\" x=\"965.621094\"/>\n",
       "       <use xlink:href=\"#DejaVuSans-72\" x=\"997.408203\"/>\n",
       "       <use xlink:href=\"#DejaVuSans-65\" x=\"1036.271484\"/>\n",
       "       <use xlink:href=\"#DejaVuSans-61\" x=\"1097.794922\"/>\n",
       "       <use xlink:href=\"#DejaVuSans-6c\" x=\"1159.074219\"/>\n",
       "       <use xlink:href=\"#DejaVuSans-6c\" x=\"1186.857422\"/>\n",
       "       <use xlink:href=\"#DejaVuSans-79\" x=\"1214.640625\"/>\n",
       "       <use xlink:href=\"#DejaVuSans-20\" x=\"1273.820312\"/>\n",
       "       <use xlink:href=\"#DejaVuSans-74\" x=\"1305.607422\"/>\n",
       "       <use xlink:href=\"#DejaVuSans-61\" x=\"1344.816406\"/>\n",
       "       <use xlink:href=\"#DejaVuSans-73\" x=\"1406.095703\"/>\n",
       "       <use xlink:href=\"#DejaVuSans-74\" x=\"1458.195312\"/>\n",
       "       <use xlink:href=\"#DejaVuSans-79\" x=\"1497.404297\"/>\n",
       "       <use xlink:href=\"#DejaVuSans-2e\" x=\"1542.333984\"/>\n",
       "      </g>\n",
       "     </g>\n",
       "    </g>\n",
       "    <g id=\"ytick_2\">\n",
       "     <g id=\"line2d_18\">\n",
       "      <path d=\"M 221.49375 34.92 \n",
       "L 667.89375 34.92 \n",
       "\" clip-path=\"url(#pdbab0f9c14)\" style=\"fill: none; stroke: #cccccc; stroke-width: 0.8; stroke-linecap: round\"/>\n",
       "     </g>\n",
       "     <g id=\"text_18\">\n",
       "      <!-- Tea smells and tastes better than coffee. -->\n",
       "      <g style=\"fill: #262626\" transform=\"translate(10.040625 37.679375) scale(0.1 -0.1)\">\n",
       "       <use xlink:href=\"#DejaVuSans-54\"/>\n",
       "       <use xlink:href=\"#DejaVuSans-65\" x=\"44.083984\"/>\n",
       "       <use xlink:href=\"#DejaVuSans-61\" x=\"105.607422\"/>\n",
       "       <use xlink:href=\"#DejaVuSans-20\" x=\"166.886719\"/>\n",
       "       <use xlink:href=\"#DejaVuSans-73\" x=\"198.673828\"/>\n",
       "       <use xlink:href=\"#DejaVuSans-6d\" x=\"250.773438\"/>\n",
       "       <use xlink:href=\"#DejaVuSans-65\" x=\"348.185547\"/>\n",
       "       <use xlink:href=\"#DejaVuSans-6c\" x=\"409.708984\"/>\n",
       "       <use xlink:href=\"#DejaVuSans-6c\" x=\"437.492188\"/>\n",
       "       <use xlink:href=\"#DejaVuSans-73\" x=\"465.275391\"/>\n",
       "       <use xlink:href=\"#DejaVuSans-20\" x=\"517.375\"/>\n",
       "       <use xlink:href=\"#DejaVuSans-61\" x=\"549.162109\"/>\n",
       "       <use xlink:href=\"#DejaVuSans-6e\" x=\"610.441406\"/>\n",
       "       <use xlink:href=\"#DejaVuSans-64\" x=\"673.820312\"/>\n",
       "       <use xlink:href=\"#DejaVuSans-20\" x=\"737.296875\"/>\n",
       "       <use xlink:href=\"#DejaVuSans-74\" x=\"769.083984\"/>\n",
       "       <use xlink:href=\"#DejaVuSans-61\" x=\"808.292969\"/>\n",
       "       <use xlink:href=\"#DejaVuSans-73\" x=\"869.572266\"/>\n",
       "       <use xlink:href=\"#DejaVuSans-74\" x=\"921.671875\"/>\n",
       "       <use xlink:href=\"#DejaVuSans-65\" x=\"960.880859\"/>\n",
       "       <use xlink:href=\"#DejaVuSans-73\" x=\"1022.404297\"/>\n",
       "       <use xlink:href=\"#DejaVuSans-20\" x=\"1074.503906\"/>\n",
       "       <use xlink:href=\"#DejaVuSans-62\" x=\"1106.291016\"/>\n",
       "       <use xlink:href=\"#DejaVuSans-65\" x=\"1169.767578\"/>\n",
       "       <use xlink:href=\"#DejaVuSans-74\" x=\"1231.291016\"/>\n",
       "       <use xlink:href=\"#DejaVuSans-74\" x=\"1270.5\"/>\n",
       "       <use xlink:href=\"#DejaVuSans-65\" x=\"1309.708984\"/>\n",
       "       <use xlink:href=\"#DejaVuSans-72\" x=\"1371.232422\"/>\n",
       "       <use xlink:href=\"#DejaVuSans-20\" x=\"1412.345703\"/>\n",
       "       <use xlink:href=\"#DejaVuSans-74\" x=\"1444.132812\"/>\n",
       "       <use xlink:href=\"#DejaVuSans-68\" x=\"1483.341797\"/>\n",
       "       <use xlink:href=\"#DejaVuSans-61\" x=\"1546.720703\"/>\n",
       "       <use xlink:href=\"#DejaVuSans-6e\" x=\"1608\"/>\n",
       "       <use xlink:href=\"#DejaVuSans-20\" x=\"1671.378906\"/>\n",
       "       <use xlink:href=\"#DejaVuSans-63\" x=\"1703.166016\"/>\n",
       "       <use xlink:href=\"#DejaVuSans-6f\" x=\"1758.146484\"/>\n",
       "       <use xlink:href=\"#DejaVuSans-66\" x=\"1819.328125\"/>\n",
       "       <use xlink:href=\"#DejaVuSans-66\" x=\"1854.533203\"/>\n",
       "       <use xlink:href=\"#DejaVuSans-65\" x=\"1889.738281\"/>\n",
       "       <use xlink:href=\"#DejaVuSans-65\" x=\"1951.261719\"/>\n",
       "       <use xlink:href=\"#DejaVuSans-2e\" x=\"2012.785156\"/>\n",
       "      </g>\n",
       "     </g>\n",
       "    </g>\n",
       "    <g id=\"ytick_3\">\n",
       "     <g id=\"line2d_19\">\n",
       "      <path d=\"M 221.49375 53.4 \n",
       "L 667.89375 53.4 \n",
       "\" clip-path=\"url(#pdbab0f9c14)\" style=\"fill: none; stroke: #cccccc; stroke-width: 0.8; stroke-linecap: round\"/>\n",
       "     </g>\n",
       "     <g id=\"text_19\">\n",
       "      <!-- Best smelling coffee I have ever smelled! -->\n",
       "      <g style=\"fill: #262626\" transform=\"translate(7.2 56.159375) scale(0.1 -0.1)\">\n",
       "       <defs>\n",
       "        <path id=\"DejaVuSans-42\" d=\"M 1259 2228 \n",
       "L 1259 519 \n",
       "L 2272 519 \n",
       "Q 2781 519 3026 730 \n",
       "Q 3272 941 3272 1375 \n",
       "Q 3272 1813 3026 2020 \n",
       "Q 2781 2228 2272 2228 \n",
       "L 1259 2228 \n",
       "z\n",
       "M 1259 4147 \n",
       "L 1259 2741 \n",
       "L 2194 2741 \n",
       "Q 2656 2741 2882 2914 \n",
       "Q 3109 3088 3109 3444 \n",
       "Q 3109 3797 2882 3972 \n",
       "Q 2656 4147 2194 4147 \n",
       "L 1259 4147 \n",
       "z\n",
       "M 628 4666 \n",
       "L 2241 4666 \n",
       "Q 2963 4666 3353 4366 \n",
       "Q 3744 4066 3744 3513 \n",
       "Q 3744 3084 3544 2831 \n",
       "Q 3344 2578 2956 2516 \n",
       "Q 3422 2416 3680 2098 \n",
       "Q 3938 1781 3938 1306 \n",
       "Q 3938 681 3513 340 \n",
       "Q 3088 0 2303 0 \n",
       "L 628 0 \n",
       "L 628 4666 \n",
       "z\n",
       "\" transform=\"scale(0.015625)\"/>\n",
       "        <path id=\"DejaVuSans-49\" d=\"M 628 4666 \n",
       "L 1259 4666 \n",
       "L 1259 0 \n",
       "L 628 0 \n",
       "L 628 4666 \n",
       "z\n",
       "\" transform=\"scale(0.015625)\"/>\n",
       "        <path id=\"DejaVuSans-21\" d=\"M 966 794 \n",
       "L 1600 794 \n",
       "L 1600 0 \n",
       "L 966 0 \n",
       "L 966 794 \n",
       "z\n",
       "M 966 4666 \n",
       "L 1600 4666 \n",
       "L 1600 2619 \n",
       "L 1538 1503 \n",
       "L 1031 1503 \n",
       "L 966 2619 \n",
       "L 966 4666 \n",
       "z\n",
       "\" transform=\"scale(0.015625)\"/>\n",
       "       </defs>\n",
       "       <use xlink:href=\"#DejaVuSans-42\"/>\n",
       "       <use xlink:href=\"#DejaVuSans-65\" x=\"68.603516\"/>\n",
       "       <use xlink:href=\"#DejaVuSans-73\" x=\"130.126953\"/>\n",
       "       <use xlink:href=\"#DejaVuSans-74\" x=\"182.226562\"/>\n",
       "       <use xlink:href=\"#DejaVuSans-20\" x=\"221.435547\"/>\n",
       "       <use xlink:href=\"#DejaVuSans-73\" x=\"253.222656\"/>\n",
       "       <use xlink:href=\"#DejaVuSans-6d\" x=\"305.322266\"/>\n",
       "       <use xlink:href=\"#DejaVuSans-65\" x=\"402.734375\"/>\n",
       "       <use xlink:href=\"#DejaVuSans-6c\" x=\"464.257812\"/>\n",
       "       <use xlink:href=\"#DejaVuSans-6c\" x=\"492.041016\"/>\n",
       "       <use xlink:href=\"#DejaVuSans-69\" x=\"519.824219\"/>\n",
       "       <use xlink:href=\"#DejaVuSans-6e\" x=\"547.607422\"/>\n",
       "       <use xlink:href=\"#DejaVuSans-67\" x=\"610.986328\"/>\n",
       "       <use xlink:href=\"#DejaVuSans-20\" x=\"674.462891\"/>\n",
       "       <use xlink:href=\"#DejaVuSans-63\" x=\"706.25\"/>\n",
       "       <use xlink:href=\"#DejaVuSans-6f\" x=\"761.230469\"/>\n",
       "       <use xlink:href=\"#DejaVuSans-66\" x=\"822.412109\"/>\n",
       "       <use xlink:href=\"#DejaVuSans-66\" x=\"857.617188\"/>\n",
       "       <use xlink:href=\"#DejaVuSans-65\" x=\"892.822266\"/>\n",
       "       <use xlink:href=\"#DejaVuSans-65\" x=\"954.345703\"/>\n",
       "       <use xlink:href=\"#DejaVuSans-20\" x=\"1015.869141\"/>\n",
       "       <use xlink:href=\"#DejaVuSans-49\" x=\"1047.65625\"/>\n",
       "       <use xlink:href=\"#DejaVuSans-20\" x=\"1077.148438\"/>\n",
       "       <use xlink:href=\"#DejaVuSans-68\" x=\"1108.935547\"/>\n",
       "       <use xlink:href=\"#DejaVuSans-61\" x=\"1172.314453\"/>\n",
       "       <use xlink:href=\"#DejaVuSans-76\" x=\"1233.59375\"/>\n",
       "       <use xlink:href=\"#DejaVuSans-65\" x=\"1292.773438\"/>\n",
       "       <use xlink:href=\"#DejaVuSans-20\" x=\"1354.296875\"/>\n",
       "       <use xlink:href=\"#DejaVuSans-65\" x=\"1386.083984\"/>\n",
       "       <use xlink:href=\"#DejaVuSans-76\" x=\"1447.607422\"/>\n",
       "       <use xlink:href=\"#DejaVuSans-65\" x=\"1506.787109\"/>\n",
       "       <use xlink:href=\"#DejaVuSans-72\" x=\"1568.310547\"/>\n",
       "       <use xlink:href=\"#DejaVuSans-20\" x=\"1609.423828\"/>\n",
       "       <use xlink:href=\"#DejaVuSans-73\" x=\"1641.210938\"/>\n",
       "       <use xlink:href=\"#DejaVuSans-6d\" x=\"1693.310547\"/>\n",
       "       <use xlink:href=\"#DejaVuSans-65\" x=\"1790.722656\"/>\n",
       "       <use xlink:href=\"#DejaVuSans-6c\" x=\"1852.246094\"/>\n",
       "       <use xlink:href=\"#DejaVuSans-6c\" x=\"1880.029297\"/>\n",
       "       <use xlink:href=\"#DejaVuSans-65\" x=\"1907.8125\"/>\n",
       "       <use xlink:href=\"#DejaVuSans-64\" x=\"1969.335938\"/>\n",
       "       <use xlink:href=\"#DejaVuSans-21\" x=\"2032.8125\"/>\n",
       "      </g>\n",
       "     </g>\n",
       "    </g>\n",
       "   </g>\n",
       "   <g id=\"QuadMesh_1\">\n",
       "    <path d=\"M 221.49375 7.2 \n",
       "L 249.39375 7.2 \n",
       "L 249.39375 25.68 \n",
       "L 221.49375 25.68 \n",
       "L 221.49375 7.2 \n",
       "\" clip-path=\"url(#pdbab0f9c14)\" style=\"fill: #f7fbff; stroke: #ffffff\"/>\n",
       "    <path d=\"M 249.39375 7.2 \n",
       "L 277.29375 7.2 \n",
       "L 277.29375 25.68 \n",
       "L 249.39375 25.68 \n",
       "L 249.39375 7.2 \n",
       "\" clip-path=\"url(#pdbab0f9c14)\" style=\"fill: #f7fbff; stroke: #ffffff\"/>\n",
       "    <path d=\"M 277.29375 7.2 \n",
       "L 305.19375 7.2 \n",
       "L 305.19375 25.68 \n",
       "L 277.29375 25.68 \n",
       "L 277.29375 7.2 \n",
       "\" clip-path=\"url(#pdbab0f9c14)\" style=\"fill: #f7fbff; stroke: #ffffff\"/>\n",
       "    <path d=\"M 305.19375 7.2 \n",
       "L 333.09375 7.2 \n",
       "L 333.09375 25.68 \n",
       "L 305.19375 25.68 \n",
       "L 305.19375 7.2 \n",
       "\" clip-path=\"url(#pdbab0f9c14)\" style=\"fill: #6aaed6; stroke: #ffffff\"/>\n",
       "    <path d=\"M 333.09375 7.2 \n",
       "L 360.99375 7.2 \n",
       "L 360.99375 25.68 \n",
       "L 333.09375 25.68 \n",
       "L 333.09375 7.2 \n",
       "\" clip-path=\"url(#pdbab0f9c14)\" style=\"fill: #f7fbff; stroke: #ffffff\"/>\n",
       "    <path d=\"M 360.99375 7.2 \n",
       "L 388.89375 7.2 \n",
       "L 388.89375 25.68 \n",
       "L 360.99375 25.68 \n",
       "L 360.99375 7.2 \n",
       "\" clip-path=\"url(#pdbab0f9c14)\" style=\"fill: #f7fbff; stroke: #ffffff\"/>\n",
       "    <path d=\"M 388.89375 7.2 \n",
       "L 416.79375 7.2 \n",
       "L 416.79375 25.68 \n",
       "L 388.89375 25.68 \n",
       "L 388.89375 7.2 \n",
       "\" clip-path=\"url(#pdbab0f9c14)\" style=\"fill: #6aaed6; stroke: #ffffff\"/>\n",
       "    <path d=\"M 416.79375 7.2 \n",
       "L 444.69375 7.2 \n",
       "L 444.69375 25.68 \n",
       "L 416.79375 25.68 \n",
       "L 416.79375 7.2 \n",
       "\" clip-path=\"url(#pdbab0f9c14)\" style=\"fill: #08306b; stroke: #ffffff\"/>\n",
       "    <path d=\"M 444.69375 7.2 \n",
       "L 472.59375 7.2 \n",
       "L 472.59375 25.68 \n",
       "L 444.69375 25.68 \n",
       "L 444.69375 7.2 \n",
       "\" clip-path=\"url(#pdbab0f9c14)\" style=\"fill: #f7fbff; stroke: #ffffff\"/>\n",
       "    <path d=\"M 472.59375 7.2 \n",
       "L 500.49375 7.2 \n",
       "L 500.49375 25.68 \n",
       "L 472.59375 25.68 \n",
       "L 472.59375 7.2 \n",
       "\" clip-path=\"url(#pdbab0f9c14)\" style=\"fill: #f7fbff; stroke: #ffffff\"/>\n",
       "    <path d=\"M 500.49375 7.2 \n",
       "L 528.39375 7.2 \n",
       "L 528.39375 25.68 \n",
       "L 500.49375 25.68 \n",
       "L 500.49375 7.2 \n",
       "\" clip-path=\"url(#pdbab0f9c14)\" style=\"fill: #f7fbff; stroke: #ffffff\"/>\n",
       "    <path d=\"M 528.39375 7.2 \n",
       "L 556.29375 7.2 \n",
       "L 556.29375 25.68 \n",
       "L 528.39375 25.68 \n",
       "L 528.39375 7.2 \n",
       "\" clip-path=\"url(#pdbab0f9c14)\" style=\"fill: #f7fbff; stroke: #ffffff\"/>\n",
       "    <path d=\"M 556.29375 7.2 \n",
       "L 584.19375 7.2 \n",
       "L 584.19375 25.68 \n",
       "L 556.29375 25.68 \n",
       "L 556.29375 7.2 \n",
       "\" clip-path=\"url(#pdbab0f9c14)\" style=\"fill: #6aaed6; stroke: #ffffff\"/>\n",
       "    <path d=\"M 584.19375 7.2 \n",
       "L 612.09375 7.2 \n",
       "L 612.09375 25.68 \n",
       "L 584.19375 25.68 \n",
       "L 584.19375 7.2 \n",
       "\" clip-path=\"url(#pdbab0f9c14)\" style=\"fill: #f7fbff; stroke: #ffffff\"/>\n",
       "    <path d=\"M 612.09375 7.2 \n",
       "L 639.99375 7.2 \n",
       "L 639.99375 25.68 \n",
       "L 612.09375 25.68 \n",
       "L 612.09375 7.2 \n",
       "\" clip-path=\"url(#pdbab0f9c14)\" style=\"fill: #f7fbff; stroke: #ffffff\"/>\n",
       "    <path d=\"M 639.99375 7.2 \n",
       "L 667.89375 7.2 \n",
       "L 667.89375 25.68 \n",
       "L 639.99375 25.68 \n",
       "L 639.99375 7.2 \n",
       "\" clip-path=\"url(#pdbab0f9c14)\" style=\"fill: #6aaed6; stroke: #ffffff\"/>\n",
       "    <path d=\"M 221.49375 25.68 \n",
       "L 249.39375 25.68 \n",
       "L 249.39375 44.16 \n",
       "L 221.49375 44.16 \n",
       "L 221.49375 25.68 \n",
       "\" clip-path=\"url(#pdbab0f9c14)\" style=\"fill: #6aaed6; stroke: #ffffff\"/>\n",
       "    <path d=\"M 249.39375 25.68 \n",
       "L 277.29375 25.68 \n",
       "L 277.29375 44.16 \n",
       "L 249.39375 44.16 \n",
       "L 249.39375 25.68 \n",
       "\" clip-path=\"url(#pdbab0f9c14)\" style=\"fill: #f7fbff; stroke: #ffffff\"/>\n",
       "    <path d=\"M 277.29375 25.68 \n",
       "L 305.19375 25.68 \n",
       "L 305.19375 44.16 \n",
       "L 277.29375 44.16 \n",
       "L 277.29375 25.68 \n",
       "\" clip-path=\"url(#pdbab0f9c14)\" style=\"fill: #6aaed6; stroke: #ffffff\"/>\n",
       "    <path d=\"M 305.19375 25.68 \n",
       "L 333.09375 25.68 \n",
       "L 333.09375 44.16 \n",
       "L 305.19375 44.16 \n",
       "L 305.19375 25.68 \n",
       "\" clip-path=\"url(#pdbab0f9c14)\" style=\"fill: #6aaed6; stroke: #ffffff\"/>\n",
       "    <path d=\"M 333.09375 25.68 \n",
       "L 360.99375 25.68 \n",
       "L 360.99375 44.16 \n",
       "L 333.09375 44.16 \n",
       "L 333.09375 25.68 \n",
       "\" clip-path=\"url(#pdbab0f9c14)\" style=\"fill: #f7fbff; stroke: #ffffff\"/>\n",
       "    <path d=\"M 360.99375 25.68 \n",
       "L 388.89375 25.68 \n",
       "L 388.89375 44.16 \n",
       "L 360.99375 44.16 \n",
       "L 360.99375 25.68 \n",
       "\" clip-path=\"url(#pdbab0f9c14)\" style=\"fill: #f7fbff; stroke: #ffffff\"/>\n",
       "    <path d=\"M 388.89375 25.68 \n",
       "L 416.79375 25.68 \n",
       "L 416.79375 44.16 \n",
       "L 388.89375 44.16 \n",
       "L 388.89375 25.68 \n",
       "\" clip-path=\"url(#pdbab0f9c14)\" style=\"fill: #f7fbff; stroke: #ffffff\"/>\n",
       "    <path d=\"M 416.79375 25.68 \n",
       "L 444.69375 25.68 \n",
       "L 444.69375 44.16 \n",
       "L 416.79375 44.16 \n",
       "L 416.79375 25.68 \n",
       "\" clip-path=\"url(#pdbab0f9c14)\" style=\"fill: #f7fbff; stroke: #ffffff\"/>\n",
       "    <path d=\"M 444.69375 25.68 \n",
       "L 472.59375 25.68 \n",
       "L 472.59375 44.16 \n",
       "L 444.69375 44.16 \n",
       "L 444.69375 25.68 \n",
       "\" clip-path=\"url(#pdbab0f9c14)\" style=\"fill: #f7fbff; stroke: #ffffff\"/>\n",
       "    <path d=\"M 472.59375 25.68 \n",
       "L 500.49375 25.68 \n",
       "L 500.49375 44.16 \n",
       "L 472.59375 44.16 \n",
       "L 472.59375 25.68 \n",
       "\" clip-path=\"url(#pdbab0f9c14)\" style=\"fill: #f7fbff; stroke: #ffffff\"/>\n",
       "    <path d=\"M 500.49375 25.68 \n",
       "L 528.39375 25.68 \n",
       "L 528.39375 44.16 \n",
       "L 500.49375 44.16 \n",
       "L 500.49375 25.68 \n",
       "\" clip-path=\"url(#pdbab0f9c14)\" style=\"fill: #6aaed6; stroke: #ffffff\"/>\n",
       "    <path d=\"M 528.39375 25.68 \n",
       "L 556.29375 25.68 \n",
       "L 556.29375 44.16 \n",
       "L 528.39375 44.16 \n",
       "L 528.39375 25.68 \n",
       "\" clip-path=\"url(#pdbab0f9c14)\" style=\"fill: #6aaed6; stroke: #ffffff\"/>\n",
       "    <path d=\"M 556.29375 25.68 \n",
       "L 584.19375 25.68 \n",
       "L 584.19375 44.16 \n",
       "L 556.29375 44.16 \n",
       "L 556.29375 25.68 \n",
       "\" clip-path=\"url(#pdbab0f9c14)\" style=\"fill: #f7fbff; stroke: #ffffff\"/>\n",
       "    <path d=\"M 584.19375 25.68 \n",
       "L 612.09375 25.68 \n",
       "L 612.09375 44.16 \n",
       "L 584.19375 44.16 \n",
       "L 584.19375 25.68 \n",
       "\" clip-path=\"url(#pdbab0f9c14)\" style=\"fill: #6aaed6; stroke: #ffffff\"/>\n",
       "    <path d=\"M 612.09375 25.68 \n",
       "L 639.99375 25.68 \n",
       "L 639.99375 44.16 \n",
       "L 612.09375 44.16 \n",
       "L 612.09375 25.68 \n",
       "\" clip-path=\"url(#pdbab0f9c14)\" style=\"fill: #6aaed6; stroke: #ffffff\"/>\n",
       "    <path d=\"M 639.99375 25.68 \n",
       "L 667.89375 25.68 \n",
       "L 667.89375 44.16 \n",
       "L 639.99375 44.16 \n",
       "L 639.99375 25.68 \n",
       "\" clip-path=\"url(#pdbab0f9c14)\" style=\"fill: #f7fbff; stroke: #ffffff\"/>\n",
       "    <path d=\"M 221.49375 44.16 \n",
       "L 249.39375 44.16 \n",
       "L 249.39375 62.64 \n",
       "L 221.49375 62.64 \n",
       "L 221.49375 44.16 \n",
       "\" clip-path=\"url(#pdbab0f9c14)\" style=\"fill: #f7fbff; stroke: #ffffff\"/>\n",
       "    <path d=\"M 249.39375 44.16 \n",
       "L 277.29375 44.16 \n",
       "L 277.29375 62.64 \n",
       "L 249.39375 62.64 \n",
       "L 249.39375 44.16 \n",
       "\" clip-path=\"url(#pdbab0f9c14)\" style=\"fill: #6aaed6; stroke: #ffffff\"/>\n",
       "    <path d=\"M 277.29375 44.16 \n",
       "L 305.19375 44.16 \n",
       "L 305.19375 62.64 \n",
       "L 277.29375 62.64 \n",
       "L 277.29375 44.16 \n",
       "\" clip-path=\"url(#pdbab0f9c14)\" style=\"fill: #f7fbff; stroke: #ffffff\"/>\n",
       "    <path d=\"M 305.19375 44.16 \n",
       "L 333.09375 44.16 \n",
       "L 333.09375 62.64 \n",
       "L 305.19375 62.64 \n",
       "L 305.19375 44.16 \n",
       "\" clip-path=\"url(#pdbab0f9c14)\" style=\"fill: #6aaed6; stroke: #ffffff\"/>\n",
       "    <path d=\"M 333.09375 44.16 \n",
       "L 360.99375 44.16 \n",
       "L 360.99375 62.64 \n",
       "L 333.09375 62.64 \n",
       "L 333.09375 44.16 \n",
       "\" clip-path=\"url(#pdbab0f9c14)\" style=\"fill: #6aaed6; stroke: #ffffff\"/>\n",
       "    <path d=\"M 360.99375 44.16 \n",
       "L 388.89375 44.16 \n",
       "L 388.89375 62.64 \n",
       "L 360.99375 62.64 \n",
       "L 360.99375 44.16 \n",
       "\" clip-path=\"url(#pdbab0f9c14)\" style=\"fill: #6aaed6; stroke: #ffffff\"/>\n",
       "    <path d=\"M 388.89375 44.16 \n",
       "L 416.79375 44.16 \n",
       "L 416.79375 62.64 \n",
       "L 388.89375 62.64 \n",
       "L 388.89375 44.16 \n",
       "\" clip-path=\"url(#pdbab0f9c14)\" style=\"fill: #f7fbff; stroke: #ffffff\"/>\n",
       "    <path d=\"M 416.79375 44.16 \n",
       "L 444.69375 44.16 \n",
       "L 444.69375 62.64 \n",
       "L 416.79375 62.64 \n",
       "L 416.79375 44.16 \n",
       "\" clip-path=\"url(#pdbab0f9c14)\" style=\"fill: #f7fbff; stroke: #ffffff\"/>\n",
       "    <path d=\"M 444.69375 44.16 \n",
       "L 472.59375 44.16 \n",
       "L 472.59375 62.64 \n",
       "L 444.69375 62.64 \n",
       "L 444.69375 44.16 \n",
       "\" clip-path=\"url(#pdbab0f9c14)\" style=\"fill: #6aaed6; stroke: #ffffff\"/>\n",
       "    <path d=\"M 472.59375 44.16 \n",
       "L 500.49375 44.16 \n",
       "L 500.49375 62.64 \n",
       "L 472.59375 62.64 \n",
       "L 472.59375 44.16 \n",
       "\" clip-path=\"url(#pdbab0f9c14)\" style=\"fill: #6aaed6; stroke: #ffffff\"/>\n",
       "    <path d=\"M 500.49375 44.16 \n",
       "L 528.39375 44.16 \n",
       "L 528.39375 62.64 \n",
       "L 500.49375 62.64 \n",
       "L 500.49375 44.16 \n",
       "\" clip-path=\"url(#pdbab0f9c14)\" style=\"fill: #f7fbff; stroke: #ffffff\"/>\n",
       "    <path d=\"M 528.39375 44.16 \n",
       "L 556.29375 44.16 \n",
       "L 556.29375 62.64 \n",
       "L 528.39375 62.64 \n",
       "L 528.39375 44.16 \n",
       "\" clip-path=\"url(#pdbab0f9c14)\" style=\"fill: #f7fbff; stroke: #ffffff\"/>\n",
       "    <path d=\"M 556.29375 44.16 \n",
       "L 584.19375 44.16 \n",
       "L 584.19375 62.64 \n",
       "L 556.29375 62.64 \n",
       "L 556.29375 44.16 \n",
       "\" clip-path=\"url(#pdbab0f9c14)\" style=\"fill: #f7fbff; stroke: #ffffff\"/>\n",
       "    <path d=\"M 584.19375 44.16 \n",
       "L 612.09375 44.16 \n",
       "L 612.09375 62.64 \n",
       "L 584.19375 62.64 \n",
       "L 584.19375 44.16 \n",
       "\" clip-path=\"url(#pdbab0f9c14)\" style=\"fill: #f7fbff; stroke: #ffffff\"/>\n",
       "    <path d=\"M 612.09375 44.16 \n",
       "L 639.99375 44.16 \n",
       "L 639.99375 62.64 \n",
       "L 612.09375 62.64 \n",
       "L 612.09375 44.16 \n",
       "\" clip-path=\"url(#pdbab0f9c14)\" style=\"fill: #f7fbff; stroke: #ffffff\"/>\n",
       "    <path d=\"M 639.99375 44.16 \n",
       "L 667.89375 44.16 \n",
       "L 667.89375 62.64 \n",
       "L 639.99375 62.64 \n",
       "L 639.99375 44.16 \n",
       "\" clip-path=\"url(#pdbab0f9c14)\" style=\"fill: #f7fbff; stroke: #ffffff\"/>\n",
       "   </g>\n",
       "   <g id=\"text_20\">\n",
       "    <!-- 0 -->\n",
       "    <g style=\"fill: #262626\" transform=\"translate(232.2625 19.199375) scale(0.1 -0.1)\">\n",
       "     <defs>\n",
       "      <path id=\"DejaVuSans-30\" d=\"M 2034 4250 \n",
       "Q 1547 4250 1301 3770 \n",
       "Q 1056 3291 1056 2328 \n",
       "Q 1056 1369 1301 889 \n",
       "Q 1547 409 2034 409 \n",
       "Q 2525 409 2770 889 \n",
       "Q 3016 1369 3016 2328 \n",
       "Q 3016 3291 2770 3770 \n",
       "Q 2525 4250 2034 4250 \n",
       "z\n",
       "M 2034 4750 \n",
       "Q 2819 4750 3233 4129 \n",
       "Q 3647 3509 3647 2328 \n",
       "Q 3647 1150 3233 529 \n",
       "Q 2819 -91 2034 -91 \n",
       "Q 1250 -91 836 529 \n",
       "Q 422 1150 422 2328 \n",
       "Q 422 3509 836 4129 \n",
       "Q 1250 4750 2034 4750 \n",
       "z\n",
       "\" transform=\"scale(0.015625)\"/>\n",
       "     </defs>\n",
       "     <use xlink:href=\"#DejaVuSans-30\"/>\n",
       "    </g>\n",
       "   </g>\n",
       "   <g id=\"text_21\">\n",
       "    <!-- 0 -->\n",
       "    <g style=\"fill: #262626\" transform=\"translate(260.1625 19.199375) scale(0.1 -0.1)\">\n",
       "     <use xlink:href=\"#DejaVuSans-30\"/>\n",
       "    </g>\n",
       "   </g>\n",
       "   <g id=\"text_22\">\n",
       "    <!-- 0 -->\n",
       "    <g style=\"fill: #262626\" transform=\"translate(288.0625 19.199375) scale(0.1 -0.1)\">\n",
       "     <use xlink:href=\"#DejaVuSans-30\"/>\n",
       "    </g>\n",
       "   </g>\n",
       "   <g id=\"text_23\">\n",
       "    <!-- 1 -->\n",
       "    <g style=\"fill: #ffffff\" transform=\"translate(315.9625 19.199375) scale(0.1 -0.1)\">\n",
       "     <defs>\n",
       "      <path id=\"DejaVuSans-31\" d=\"M 794 531 \n",
       "L 1825 531 \n",
       "L 1825 4091 \n",
       "L 703 3866 \n",
       "L 703 4441 \n",
       "L 1819 4666 \n",
       "L 2450 4666 \n",
       "L 2450 531 \n",
       "L 3481 531 \n",
       "L 3481 0 \n",
       "L 794 0 \n",
       "L 794 531 \n",
       "z\n",
       "\" transform=\"scale(0.015625)\"/>\n",
       "     </defs>\n",
       "     <use xlink:href=\"#DejaVuSans-31\"/>\n",
       "    </g>\n",
       "   </g>\n",
       "   <g id=\"text_24\">\n",
       "    <!-- 0 -->\n",
       "    <g style=\"fill: #262626\" transform=\"translate(343.8625 19.199375) scale(0.1 -0.1)\">\n",
       "     <use xlink:href=\"#DejaVuSans-30\"/>\n",
       "    </g>\n",
       "   </g>\n",
       "   <g id=\"text_25\">\n",
       "    <!-- 0 -->\n",
       "    <g style=\"fill: #262626\" transform=\"translate(371.7625 19.199375) scale(0.1 -0.1)\">\n",
       "     <use xlink:href=\"#DejaVuSans-30\"/>\n",
       "    </g>\n",
       "   </g>\n",
       "   <g id=\"text_26\">\n",
       "    <!-- 1 -->\n",
       "    <g style=\"fill: #ffffff\" transform=\"translate(399.6625 19.199375) scale(0.1 -0.1)\">\n",
       "     <use xlink:href=\"#DejaVuSans-31\"/>\n",
       "    </g>\n",
       "   </g>\n",
       "   <g id=\"text_27\">\n",
       "    <!-- 2 -->\n",
       "    <g style=\"fill: #ffffff\" transform=\"translate(427.5625 19.199375) scale(0.1 -0.1)\">\n",
       "     <defs>\n",
       "      <path id=\"DejaVuSans-32\" d=\"M 1228 531 \n",
       "L 3431 531 \n",
       "L 3431 0 \n",
       "L 469 0 \n",
       "L 469 531 \n",
       "Q 828 903 1448 1529 \n",
       "Q 2069 2156 2228 2338 \n",
       "Q 2531 2678 2651 2914 \n",
       "Q 2772 3150 2772 3378 \n",
       "Q 2772 3750 2511 3984 \n",
       "Q 2250 4219 1831 4219 \n",
       "Q 1534 4219 1204 4116 \n",
       "Q 875 4013 500 3803 \n",
       "L 500 4441 \n",
       "Q 881 4594 1212 4672 \n",
       "Q 1544 4750 1819 4750 \n",
       "Q 2544 4750 2975 4387 \n",
       "Q 3406 4025 3406 3419 \n",
       "Q 3406 3131 3298 2873 \n",
       "Q 3191 2616 2906 2266 \n",
       "Q 2828 2175 2409 1742 \n",
       "Q 1991 1309 1228 531 \n",
       "z\n",
       "\" transform=\"scale(0.015625)\"/>\n",
       "     </defs>\n",
       "     <use xlink:href=\"#DejaVuSans-32\"/>\n",
       "    </g>\n",
       "   </g>\n",
       "   <g id=\"text_28\">\n",
       "    <!-- 0 -->\n",
       "    <g style=\"fill: #262626\" transform=\"translate(455.4625 19.199375) scale(0.1 -0.1)\">\n",
       "     <use xlink:href=\"#DejaVuSans-30\"/>\n",
       "    </g>\n",
       "   </g>\n",
       "   <g id=\"text_29\">\n",
       "    <!-- 0 -->\n",
       "    <g style=\"fill: #262626\" transform=\"translate(483.3625 19.199375) scale(0.1 -0.1)\">\n",
       "     <use xlink:href=\"#DejaVuSans-30\"/>\n",
       "    </g>\n",
       "   </g>\n",
       "   <g id=\"text_30\">\n",
       "    <!-- 0 -->\n",
       "    <g style=\"fill: #262626\" transform=\"translate(511.2625 19.199375) scale(0.1 -0.1)\">\n",
       "     <use xlink:href=\"#DejaVuSans-30\"/>\n",
       "    </g>\n",
       "   </g>\n",
       "   <g id=\"text_31\">\n",
       "    <!-- 0 -->\n",
       "    <g style=\"fill: #262626\" transform=\"translate(539.1625 19.199375) scale(0.1 -0.1)\">\n",
       "     <use xlink:href=\"#DejaVuSans-30\"/>\n",
       "    </g>\n",
       "   </g>\n",
       "   <g id=\"text_32\">\n",
       "    <!-- 1 -->\n",
       "    <g style=\"fill: #ffffff\" transform=\"translate(567.0625 19.199375) scale(0.1 -0.1)\">\n",
       "     <use xlink:href=\"#DejaVuSans-31\"/>\n",
       "    </g>\n",
       "   </g>\n",
       "   <g id=\"text_33\">\n",
       "    <!-- 0 -->\n",
       "    <g style=\"fill: #262626\" transform=\"translate(594.9625 19.199375) scale(0.1 -0.1)\">\n",
       "     <use xlink:href=\"#DejaVuSans-30\"/>\n",
       "    </g>\n",
       "   </g>\n",
       "   <g id=\"text_34\">\n",
       "    <!-- 0 -->\n",
       "    <g style=\"fill: #262626\" transform=\"translate(622.8625 19.199375) scale(0.1 -0.1)\">\n",
       "     <use xlink:href=\"#DejaVuSans-30\"/>\n",
       "    </g>\n",
       "   </g>\n",
       "   <g id=\"text_35\">\n",
       "    <!-- 1 -->\n",
       "    <g style=\"fill: #ffffff\" transform=\"translate(650.7625 19.199375) scale(0.1 -0.1)\">\n",
       "     <use xlink:href=\"#DejaVuSans-31\"/>\n",
       "    </g>\n",
       "   </g>\n",
       "   <g id=\"text_36\">\n",
       "    <!-- 1 -->\n",
       "    <g style=\"fill: #ffffff\" transform=\"translate(232.2625 37.679375) scale(0.1 -0.1)\">\n",
       "     <use xlink:href=\"#DejaVuSans-31\"/>\n",
       "    </g>\n",
       "   </g>\n",
       "   <g id=\"text_37\">\n",
       "    <!-- 0 -->\n",
       "    <g style=\"fill: #262626\" transform=\"translate(260.1625 37.679375) scale(0.1 -0.1)\">\n",
       "     <use xlink:href=\"#DejaVuSans-30\"/>\n",
       "    </g>\n",
       "   </g>\n",
       "   <g id=\"text_38\">\n",
       "    <!-- 1 -->\n",
       "    <g style=\"fill: #ffffff\" transform=\"translate(288.0625 37.679375) scale(0.1 -0.1)\">\n",
       "     <use xlink:href=\"#DejaVuSans-31\"/>\n",
       "    </g>\n",
       "   </g>\n",
       "   <g id=\"text_39\">\n",
       "    <!-- 1 -->\n",
       "    <g style=\"fill: #ffffff\" transform=\"translate(315.9625 37.679375) scale(0.1 -0.1)\">\n",
       "     <use xlink:href=\"#DejaVuSans-31\"/>\n",
       "    </g>\n",
       "   </g>\n",
       "   <g id=\"text_40\">\n",
       "    <!-- 0 -->\n",
       "    <g style=\"fill: #262626\" transform=\"translate(343.8625 37.679375) scale(0.1 -0.1)\">\n",
       "     <use xlink:href=\"#DejaVuSans-30\"/>\n",
       "    </g>\n",
       "   </g>\n",
       "   <g id=\"text_41\">\n",
       "    <!-- 0 -->\n",
       "    <g style=\"fill: #262626\" transform=\"translate(371.7625 37.679375) scale(0.1 -0.1)\">\n",
       "     <use xlink:href=\"#DejaVuSans-30\"/>\n",
       "    </g>\n",
       "   </g>\n",
       "   <g id=\"text_42\">\n",
       "    <!-- 0 -->\n",
       "    <g style=\"fill: #262626\" transform=\"translate(399.6625 37.679375) scale(0.1 -0.1)\">\n",
       "     <use xlink:href=\"#DejaVuSans-30\"/>\n",
       "    </g>\n",
       "   </g>\n",
       "   <g id=\"text_43\">\n",
       "    <!-- 0 -->\n",
       "    <g style=\"fill: #262626\" transform=\"translate(427.5625 37.679375) scale(0.1 -0.1)\">\n",
       "     <use xlink:href=\"#DejaVuSans-30\"/>\n",
       "    </g>\n",
       "   </g>\n",
       "   <g id=\"text_44\">\n",
       "    <!-- 0 -->\n",
       "    <g style=\"fill: #262626\" transform=\"translate(455.4625 37.679375) scale(0.1 -0.1)\">\n",
       "     <use xlink:href=\"#DejaVuSans-30\"/>\n",
       "    </g>\n",
       "   </g>\n",
       "   <g id=\"text_45\">\n",
       "    <!-- 0 -->\n",
       "    <g style=\"fill: #262626\" transform=\"translate(483.3625 37.679375) scale(0.1 -0.1)\">\n",
       "     <use xlink:href=\"#DejaVuSans-30\"/>\n",
       "    </g>\n",
       "   </g>\n",
       "   <g id=\"text_46\">\n",
       "    <!-- 1 -->\n",
       "    <g style=\"fill: #ffffff\" transform=\"translate(511.2625 37.679375) scale(0.1 -0.1)\">\n",
       "     <use xlink:href=\"#DejaVuSans-31\"/>\n",
       "    </g>\n",
       "   </g>\n",
       "   <g id=\"text_47\">\n",
       "    <!-- 1 -->\n",
       "    <g style=\"fill: #ffffff\" transform=\"translate(539.1625 37.679375) scale(0.1 -0.1)\">\n",
       "     <use xlink:href=\"#DejaVuSans-31\"/>\n",
       "    </g>\n",
       "   </g>\n",
       "   <g id=\"text_48\">\n",
       "    <!-- 0 -->\n",
       "    <g style=\"fill: #262626\" transform=\"translate(567.0625 37.679375) scale(0.1 -0.1)\">\n",
       "     <use xlink:href=\"#DejaVuSans-30\"/>\n",
       "    </g>\n",
       "   </g>\n",
       "   <g id=\"text_49\">\n",
       "    <!-- 1 -->\n",
       "    <g style=\"fill: #ffffff\" transform=\"translate(594.9625 37.679375) scale(0.1 -0.1)\">\n",
       "     <use xlink:href=\"#DejaVuSans-31\"/>\n",
       "    </g>\n",
       "   </g>\n",
       "   <g id=\"text_50\">\n",
       "    <!-- 1 -->\n",
       "    <g style=\"fill: #ffffff\" transform=\"translate(622.8625 37.679375) scale(0.1 -0.1)\">\n",
       "     <use xlink:href=\"#DejaVuSans-31\"/>\n",
       "    </g>\n",
       "   </g>\n",
       "   <g id=\"text_51\">\n",
       "    <!-- 0 -->\n",
       "    <g style=\"fill: #262626\" transform=\"translate(650.7625 37.679375) scale(0.1 -0.1)\">\n",
       "     <use xlink:href=\"#DejaVuSans-30\"/>\n",
       "    </g>\n",
       "   </g>\n",
       "   <g id=\"text_52\">\n",
       "    <!-- 0 -->\n",
       "    <g style=\"fill: #262626\" transform=\"translate(232.2625 56.159375) scale(0.1 -0.1)\">\n",
       "     <use xlink:href=\"#DejaVuSans-30\"/>\n",
       "    </g>\n",
       "   </g>\n",
       "   <g id=\"text_53\">\n",
       "    <!-- 1 -->\n",
       "    <g style=\"fill: #ffffff\" transform=\"translate(260.1625 56.159375) scale(0.1 -0.1)\">\n",
       "     <use xlink:href=\"#DejaVuSans-31\"/>\n",
       "    </g>\n",
       "   </g>\n",
       "   <g id=\"text_54\">\n",
       "    <!-- 0 -->\n",
       "    <g style=\"fill: #262626\" transform=\"translate(288.0625 56.159375) scale(0.1 -0.1)\">\n",
       "     <use xlink:href=\"#DejaVuSans-30\"/>\n",
       "    </g>\n",
       "   </g>\n",
       "   <g id=\"text_55\">\n",
       "    <!-- 1 -->\n",
       "    <g style=\"fill: #ffffff\" transform=\"translate(315.9625 56.159375) scale(0.1 -0.1)\">\n",
       "     <use xlink:href=\"#DejaVuSans-31\"/>\n",
       "    </g>\n",
       "   </g>\n",
       "   <g id=\"text_56\">\n",
       "    <!-- 1 -->\n",
       "    <g style=\"fill: #ffffff\" transform=\"translate(343.8625 56.159375) scale(0.1 -0.1)\">\n",
       "     <use xlink:href=\"#DejaVuSans-31\"/>\n",
       "    </g>\n",
       "   </g>\n",
       "   <g id=\"text_57\">\n",
       "    <!-- 1 -->\n",
       "    <g style=\"fill: #ffffff\" transform=\"translate(371.7625 56.159375) scale(0.1 -0.1)\">\n",
       "     <use xlink:href=\"#DejaVuSans-31\"/>\n",
       "    </g>\n",
       "   </g>\n",
       "   <g id=\"text_58\">\n",
       "    <!-- 0 -->\n",
       "    <g style=\"fill: #262626\" transform=\"translate(399.6625 56.159375) scale(0.1 -0.1)\">\n",
       "     <use xlink:href=\"#DejaVuSans-30\"/>\n",
       "    </g>\n",
       "   </g>\n",
       "   <g id=\"text_59\">\n",
       "    <!-- 0 -->\n",
       "    <g style=\"fill: #262626\" transform=\"translate(427.5625 56.159375) scale(0.1 -0.1)\">\n",
       "     <use xlink:href=\"#DejaVuSans-30\"/>\n",
       "    </g>\n",
       "   </g>\n",
       "   <g id=\"text_60\">\n",
       "    <!-- 1 -->\n",
       "    <g style=\"fill: #ffffff\" transform=\"translate(455.4625 56.159375) scale(0.1 -0.1)\">\n",
       "     <use xlink:href=\"#DejaVuSans-31\"/>\n",
       "    </g>\n",
       "   </g>\n",
       "   <g id=\"text_61\">\n",
       "    <!-- 1 -->\n",
       "    <g style=\"fill: #ffffff\" transform=\"translate(483.3625 56.159375) scale(0.1 -0.1)\">\n",
       "     <use xlink:href=\"#DejaVuSans-31\"/>\n",
       "    </g>\n",
       "   </g>\n",
       "   <g id=\"text_62\">\n",
       "    <!-- 0 -->\n",
       "    <g style=\"fill: #262626\" transform=\"translate(511.2625 56.159375) scale(0.1 -0.1)\">\n",
       "     <use xlink:href=\"#DejaVuSans-30\"/>\n",
       "    </g>\n",
       "   </g>\n",
       "   <g id=\"text_63\">\n",
       "    <!-- 0 -->\n",
       "    <g style=\"fill: #262626\" transform=\"translate(539.1625 56.159375) scale(0.1 -0.1)\">\n",
       "     <use xlink:href=\"#DejaVuSans-30\"/>\n",
       "    </g>\n",
       "   </g>\n",
       "   <g id=\"text_64\">\n",
       "    <!-- 0 -->\n",
       "    <g style=\"fill: #262626\" transform=\"translate(567.0625 56.159375) scale(0.1 -0.1)\">\n",
       "     <use xlink:href=\"#DejaVuSans-30\"/>\n",
       "    </g>\n",
       "   </g>\n",
       "   <g id=\"text_65\">\n",
       "    <!-- 0 -->\n",
       "    <g style=\"fill: #262626\" transform=\"translate(594.9625 56.159375) scale(0.1 -0.1)\">\n",
       "     <use xlink:href=\"#DejaVuSans-30\"/>\n",
       "    </g>\n",
       "   </g>\n",
       "   <g id=\"text_66\">\n",
       "    <!-- 0 -->\n",
       "    <g style=\"fill: #262626\" transform=\"translate(622.8625 56.159375) scale(0.1 -0.1)\">\n",
       "     <use xlink:href=\"#DejaVuSans-30\"/>\n",
       "    </g>\n",
       "   </g>\n",
       "   <g id=\"text_67\">\n",
       "    <!-- 0 -->\n",
       "    <g style=\"fill: #262626\" transform=\"translate(650.7625 56.159375) scale(0.1 -0.1)\">\n",
       "     <use xlink:href=\"#DejaVuSans-30\"/>\n",
       "    </g>\n",
       "   </g>\n",
       "  </g>\n",
       " </g>\n",
       " <defs>\n",
       "  <clipPath id=\"pdbab0f9c14\">\n",
       "   <rect x=\"221.49375\" y=\"7.2\" width=\"446.4\" height=\"55.44\"/>\n",
       "  </clipPath>\n",
       " </defs>\n",
       "</svg>\n"
      ],
      "text/plain": [
       "<Figure size 800x100 with 1 Axes>"
      ]
     },
     "metadata": {},
     "output_type": "display_data"
    }
   ],
   "source": [
    "plt.figure(figsize=(8, 1))\n",
    "g = sns.heatmap(df, cmap='Blues', annot=True, cbar=False, linewidths=1)"
   ]
  },
  {
   "cell_type": "markdown",
   "id": "c3066a49-4e28-493a-a34a-3ccc01746fcf",
   "metadata": {
    "id": "c3066a49-4e28-493a-a34a-3ccc01746fcf"
   },
   "source": [
    "This is called a **document-term matrix**.\n",
    "\n",
    "- We could use `max_df` to remove the term \"coffee\" since it occurs in every document. This is one example of extracting *informative* features from text; i.e., the term \"coffee\" doesn't provide new information for each document.\n",
    "- Also, we can already see that some of these words give us more information than others. For example, \"smelling\" and \"smells\" mean roughly the same thing, and \"had\"/\"have\" aren't really necessary for understanding reviews.\n",
    "\n",
    "This is why we use the filtering in spaCy."
   ]
  },
  {
   "cell_type": "code",
   "execution_count": 30,
   "id": "61d59ec5-9f14-46a1-a8d4-d09b502c7ade",
   "metadata": {
    "id": "61d59ec5-9f14-46a1-a8d4-d09b502c7ade",
    "outputId": "565116b4-8c25-4fb3-9606-552bfc46f754",
    "tags": []
   },
   "outputs": [
    {
     "data": {
      "text/plain": [
       "['coffee tasty', 'tea smell taste well coffee', 'good smell coffee smell']"
      ]
     },
     "execution_count": 30,
     "metadata": {},
     "output_type": "execute_result"
    }
   ],
   "source": [
    "docs = nlp.pipe(corpus_raw)\n",
    "corpus_clean = [tokenizer(d, True) for d in docs]\n",
    "corpus_clean"
   ]
  },
  {
   "cell_type": "code",
   "execution_count": 31,
   "id": "9e3de084-f57a-4f52-92c2-52eb7507aaaf",
   "metadata": {
    "id": "9e3de084-f57a-4f52-92c2-52eb7507aaaf",
    "outputId": "9fd7ae33-707b-4164-e0ff-16dae1107ba4",
    "tags": []
   },
   "outputs": [],
   "source": [
    "cv = CountVectorizer(ngram_range=(1, 1),\n",
    "                     max_df=0.9,\n",
    "                     min_df=1,\n",
    "                     max_features=None,\n",
    "                     binary=False)\n",
    "\n",
    "X = cv.fit_transform(corpus_clean)\n",
    "\n",
    "df = pd.DataFrame(X.toarray(),\n",
    "                  index=corpus_raw,\n",
    "                  columns=cv.get_feature_names_out())"
   ]
  },
  {
   "cell_type": "code",
   "execution_count": 32,
   "id": "5ffd8260-2aa1-45ab-87f8-7988e5d8c12b",
   "metadata": {
    "tags": []
   },
   "outputs": [
    {
     "data": {
      "image/svg+xml": [
       "<?xml version=\"1.0\" encoding=\"utf-8\" standalone=\"no\"?>\n",
       "<!DOCTYPE svg PUBLIC \"-//W3C//DTD SVG 1.1//EN\"\n",
       "  \"http://www.w3.org/Graphics/SVG/1.1/DTD/svg11.dtd\">\n",
       "<svg xmlns:xlink=\"http://www.w3.org/1999/xlink\" width=\"563.49375pt\" height=\"86.518125pt\" viewBox=\"0 0 563.49375 86.518125\" xmlns=\"http://www.w3.org/2000/svg\" version=\"1.1\">\n",
       " <metadata>\n",
       "  <rdf:RDF xmlns:dc=\"http://purl.org/dc/elements/1.1/\" xmlns:cc=\"http://creativecommons.org/ns#\" xmlns:rdf=\"http://www.w3.org/1999/02/22-rdf-syntax-ns#\">\n",
       "   <cc:Work>\n",
       "    <dc:type rdf:resource=\"http://purl.org/dc/dcmitype/StillImage\"/>\n",
       "    <dc:date>2024-02-28T23:24:58.974868</dc:date>\n",
       "    <dc:format>image/svg+xml</dc:format>\n",
       "    <dc:creator>\n",
       "     <cc:Agent>\n",
       "      <dc:title>Matplotlib v3.8.2, https://matplotlib.org/</dc:title>\n",
       "     </cc:Agent>\n",
       "    </dc:creator>\n",
       "   </cc:Work>\n",
       "  </rdf:RDF>\n",
       " </metadata>\n",
       " <defs>\n",
       "  <style type=\"text/css\">*{stroke-linejoin: round; stroke-linecap: butt}</style>\n",
       " </defs>\n",
       " <g id=\"figure_1\">\n",
       "  <g id=\"patch_1\">\n",
       "   <path d=\"M -0 86.518125 \n",
       "L 563.49375 86.518125 \n",
       "L 563.49375 0 \n",
       "L -0 0 \n",
       "z\n",
       "\" style=\"fill: #ffffff\"/>\n",
       "  </g>\n",
       "  <g id=\"axes_1\">\n",
       "   <g id=\"patch_2\">\n",
       "    <path d=\"M 221.49375 62.64 \n",
       "L 556.29375 62.64 \n",
       "L 556.29375 7.2 \n",
       "L 221.49375 7.2 \n",
       "z\n",
       "\" style=\"fill: #ffffff\"/>\n",
       "   </g>\n",
       "   <g id=\"matplotlib.axis_1\">\n",
       "    <g id=\"xtick_1\">\n",
       "     <g id=\"line2d_1\">\n",
       "      <path d=\"M 249.39375 62.64 \n",
       "L 249.39375 7.2 \n",
       "\" clip-path=\"url(#pd893822c73)\" style=\"fill: none; stroke: #cccccc; stroke-width: 0.8; stroke-linecap: round\"/>\n",
       "     </g>\n",
       "     <g id=\"text_1\">\n",
       "      <!-- good -->\n",
       "      <g style=\"fill: #262626\" transform=\"translate(236.926563 77.238438) scale(0.1 -0.1)\">\n",
       "       <defs>\n",
       "        <path id=\"DejaVuSans-67\" d=\"M 2906 1791 \n",
       "Q 2906 2416 2648 2759 \n",
       "Q 2391 3103 1925 3103 \n",
       "Q 1463 3103 1205 2759 \n",
       "Q 947 2416 947 1791 \n",
       "Q 947 1169 1205 825 \n",
       "Q 1463 481 1925 481 \n",
       "Q 2391 481 2648 825 \n",
       "Q 2906 1169 2906 1791 \n",
       "z\n",
       "M 3481 434 \n",
       "Q 3481 -459 3084 -895 \n",
       "Q 2688 -1331 1869 -1331 \n",
       "Q 1566 -1331 1297 -1286 \n",
       "Q 1028 -1241 775 -1147 \n",
       "L 775 -588 \n",
       "Q 1028 -725 1275 -790 \n",
       "Q 1522 -856 1778 -856 \n",
       "Q 2344 -856 2625 -561 \n",
       "Q 2906 -266 2906 331 \n",
       "L 2906 616 \n",
       "Q 2728 306 2450 153 \n",
       "Q 2172 0 1784 0 \n",
       "Q 1141 0 747 490 \n",
       "Q 353 981 353 1791 \n",
       "Q 353 2603 747 3093 \n",
       "Q 1141 3584 1784 3584 \n",
       "Q 2172 3584 2450 3431 \n",
       "Q 2728 3278 2906 2969 \n",
       "L 2906 3500 \n",
       "L 3481 3500 \n",
       "L 3481 434 \n",
       "z\n",
       "\" transform=\"scale(0.015625)\"/>\n",
       "        <path id=\"DejaVuSans-6f\" d=\"M 1959 3097 \n",
       "Q 1497 3097 1228 2736 \n",
       "Q 959 2375 959 1747 \n",
       "Q 959 1119 1226 758 \n",
       "Q 1494 397 1959 397 \n",
       "Q 2419 397 2687 759 \n",
       "Q 2956 1122 2956 1747 \n",
       "Q 2956 2369 2687 2733 \n",
       "Q 2419 3097 1959 3097 \n",
       "z\n",
       "M 1959 3584 \n",
       "Q 2709 3584 3137 3096 \n",
       "Q 3566 2609 3566 1747 \n",
       "Q 3566 888 3137 398 \n",
       "Q 2709 -91 1959 -91 \n",
       "Q 1206 -91 779 398 \n",
       "Q 353 888 353 1747 \n",
       "Q 353 2609 779 3096 \n",
       "Q 1206 3584 1959 3584 \n",
       "z\n",
       "\" transform=\"scale(0.015625)\"/>\n",
       "        <path id=\"DejaVuSans-64\" d=\"M 2906 2969 \n",
       "L 2906 4863 \n",
       "L 3481 4863 \n",
       "L 3481 0 \n",
       "L 2906 0 \n",
       "L 2906 525 \n",
       "Q 2725 213 2448 61 \n",
       "Q 2172 -91 1784 -91 \n",
       "Q 1150 -91 751 415 \n",
       "Q 353 922 353 1747 \n",
       "Q 353 2572 751 3078 \n",
       "Q 1150 3584 1784 3584 \n",
       "Q 2172 3584 2448 3432 \n",
       "Q 2725 3281 2906 2969 \n",
       "z\n",
       "M 947 1747 \n",
       "Q 947 1113 1208 752 \n",
       "Q 1469 391 1925 391 \n",
       "Q 2381 391 2643 752 \n",
       "Q 2906 1113 2906 1747 \n",
       "Q 2906 2381 2643 2742 \n",
       "Q 2381 3103 1925 3103 \n",
       "Q 1469 3103 1208 2742 \n",
       "Q 947 2381 947 1747 \n",
       "z\n",
       "\" transform=\"scale(0.015625)\"/>\n",
       "       </defs>\n",
       "       <use xlink:href=\"#DejaVuSans-67\"/>\n",
       "       <use xlink:href=\"#DejaVuSans-6f\" x=\"63.476562\"/>\n",
       "       <use xlink:href=\"#DejaVuSans-6f\" x=\"124.658203\"/>\n",
       "       <use xlink:href=\"#DejaVuSans-64\" x=\"185.839844\"/>\n",
       "      </g>\n",
       "     </g>\n",
       "    </g>\n",
       "    <g id=\"xtick_2\">\n",
       "     <g id=\"line2d_2\">\n",
       "      <path d=\"M 305.19375 62.64 \n",
       "L 305.19375 7.2 \n",
       "\" clip-path=\"url(#pd893822c73)\" style=\"fill: none; stroke: #cccccc; stroke-width: 0.8; stroke-linecap: round\"/>\n",
       "     </g>\n",
       "     <g id=\"text_2\">\n",
       "      <!-- smell -->\n",
       "      <g style=\"fill: #262626\" transform=\"translate(291.864063 77.238438) scale(0.1 -0.1)\">\n",
       "       <defs>\n",
       "        <path id=\"DejaVuSans-73\" d=\"M 2834 3397 \n",
       "L 2834 2853 \n",
       "Q 2591 2978 2328 3040 \n",
       "Q 2066 3103 1784 3103 \n",
       "Q 1356 3103 1142 2972 \n",
       "Q 928 2841 928 2578 \n",
       "Q 928 2378 1081 2264 \n",
       "Q 1234 2150 1697 2047 \n",
       "L 1894 2003 \n",
       "Q 2506 1872 2764 1633 \n",
       "Q 3022 1394 3022 966 \n",
       "Q 3022 478 2636 193 \n",
       "Q 2250 -91 1575 -91 \n",
       "Q 1294 -91 989 -36 \n",
       "Q 684 19 347 128 \n",
       "L 347 722 \n",
       "Q 666 556 975 473 \n",
       "Q 1284 391 1588 391 \n",
       "Q 1994 391 2212 530 \n",
       "Q 2431 669 2431 922 \n",
       "Q 2431 1156 2273 1281 \n",
       "Q 2116 1406 1581 1522 \n",
       "L 1381 1569 \n",
       "Q 847 1681 609 1914 \n",
       "Q 372 2147 372 2553 \n",
       "Q 372 3047 722 3315 \n",
       "Q 1072 3584 1716 3584 \n",
       "Q 2034 3584 2315 3537 \n",
       "Q 2597 3491 2834 3397 \n",
       "z\n",
       "\" transform=\"scale(0.015625)\"/>\n",
       "        <path id=\"DejaVuSans-6d\" d=\"M 3328 2828 \n",
       "Q 3544 3216 3844 3400 \n",
       "Q 4144 3584 4550 3584 \n",
       "Q 5097 3584 5394 3201 \n",
       "Q 5691 2819 5691 2113 \n",
       "L 5691 0 \n",
       "L 5113 0 \n",
       "L 5113 2094 \n",
       "Q 5113 2597 4934 2840 \n",
       "Q 4756 3084 4391 3084 \n",
       "Q 3944 3084 3684 2787 \n",
       "Q 3425 2491 3425 1978 \n",
       "L 3425 0 \n",
       "L 2847 0 \n",
       "L 2847 2094 \n",
       "Q 2847 2600 2669 2842 \n",
       "Q 2491 3084 2119 3084 \n",
       "Q 1678 3084 1418 2786 \n",
       "Q 1159 2488 1159 1978 \n",
       "L 1159 0 \n",
       "L 581 0 \n",
       "L 581 3500 \n",
       "L 1159 3500 \n",
       "L 1159 2956 \n",
       "Q 1356 3278 1631 3431 \n",
       "Q 1906 3584 2284 3584 \n",
       "Q 2666 3584 2933 3390 \n",
       "Q 3200 3197 3328 2828 \n",
       "z\n",
       "\" transform=\"scale(0.015625)\"/>\n",
       "        <path id=\"DejaVuSans-65\" d=\"M 3597 1894 \n",
       "L 3597 1613 \n",
       "L 953 1613 \n",
       "Q 991 1019 1311 708 \n",
       "Q 1631 397 2203 397 \n",
       "Q 2534 397 2845 478 \n",
       "Q 3156 559 3463 722 \n",
       "L 3463 178 \n",
       "Q 3153 47 2828 -22 \n",
       "Q 2503 -91 2169 -91 \n",
       "Q 1331 -91 842 396 \n",
       "Q 353 884 353 1716 \n",
       "Q 353 2575 817 3079 \n",
       "Q 1281 3584 2069 3584 \n",
       "Q 2775 3584 3186 3129 \n",
       "Q 3597 2675 3597 1894 \n",
       "z\n",
       "M 3022 2063 \n",
       "Q 3016 2534 2758 2815 \n",
       "Q 2500 3097 2075 3097 \n",
       "Q 1594 3097 1305 2825 \n",
       "Q 1016 2553 972 2059 \n",
       "L 3022 2063 \n",
       "z\n",
       "\" transform=\"scale(0.015625)\"/>\n",
       "        <path id=\"DejaVuSans-6c\" d=\"M 603 4863 \n",
       "L 1178 4863 \n",
       "L 1178 0 \n",
       "L 603 0 \n",
       "L 603 4863 \n",
       "z\n",
       "\" transform=\"scale(0.015625)\"/>\n",
       "       </defs>\n",
       "       <use xlink:href=\"#DejaVuSans-73\"/>\n",
       "       <use xlink:href=\"#DejaVuSans-6d\" x=\"52.099609\"/>\n",
       "       <use xlink:href=\"#DejaVuSans-65\" x=\"149.511719\"/>\n",
       "       <use xlink:href=\"#DejaVuSans-6c\" x=\"211.035156\"/>\n",
       "       <use xlink:href=\"#DejaVuSans-6c\" x=\"238.818359\"/>\n",
       "      </g>\n",
       "     </g>\n",
       "    </g>\n",
       "    <g id=\"xtick_3\">\n",
       "     <g id=\"line2d_3\">\n",
       "      <path d=\"M 360.99375 62.64 \n",
       "L 360.99375 7.2 \n",
       "\" clip-path=\"url(#pd893822c73)\" style=\"fill: none; stroke: #cccccc; stroke-width: 0.8; stroke-linecap: round\"/>\n",
       "     </g>\n",
       "     <g id=\"text_3\">\n",
       "      <!-- taste -->\n",
       "      <g style=\"fill: #262626\" transform=\"translate(348.328125 77.238438) scale(0.1 -0.1)\">\n",
       "       <defs>\n",
       "        <path id=\"DejaVuSans-74\" d=\"M 1172 4494 \n",
       "L 1172 3500 \n",
       "L 2356 3500 \n",
       "L 2356 3053 \n",
       "L 1172 3053 \n",
       "L 1172 1153 \n",
       "Q 1172 725 1289 603 \n",
       "Q 1406 481 1766 481 \n",
       "L 2356 481 \n",
       "L 2356 0 \n",
       "L 1766 0 \n",
       "Q 1100 0 847 248 \n",
       "Q 594 497 594 1153 \n",
       "L 594 3053 \n",
       "L 172 3053 \n",
       "L 172 3500 \n",
       "L 594 3500 \n",
       "L 594 4494 \n",
       "L 1172 4494 \n",
       "z\n",
       "\" transform=\"scale(0.015625)\"/>\n",
       "        <path id=\"DejaVuSans-61\" d=\"M 2194 1759 \n",
       "Q 1497 1759 1228 1600 \n",
       "Q 959 1441 959 1056 \n",
       "Q 959 750 1161 570 \n",
       "Q 1363 391 1709 391 \n",
       "Q 2188 391 2477 730 \n",
       "Q 2766 1069 2766 1631 \n",
       "L 2766 1759 \n",
       "L 2194 1759 \n",
       "z\n",
       "M 3341 1997 \n",
       "L 3341 0 \n",
       "L 2766 0 \n",
       "L 2766 531 \n",
       "Q 2569 213 2275 61 \n",
       "Q 1981 -91 1556 -91 \n",
       "Q 1019 -91 701 211 \n",
       "Q 384 513 384 1019 \n",
       "Q 384 1609 779 1909 \n",
       "Q 1175 2209 1959 2209 \n",
       "L 2766 2209 \n",
       "L 2766 2266 \n",
       "Q 2766 2663 2505 2880 \n",
       "Q 2244 3097 1772 3097 \n",
       "Q 1472 3097 1187 3025 \n",
       "Q 903 2953 641 2809 \n",
       "L 641 3341 \n",
       "Q 956 3463 1253 3523 \n",
       "Q 1550 3584 1831 3584 \n",
       "Q 2591 3584 2966 3190 \n",
       "Q 3341 2797 3341 1997 \n",
       "z\n",
       "\" transform=\"scale(0.015625)\"/>\n",
       "       </defs>\n",
       "       <use xlink:href=\"#DejaVuSans-74\"/>\n",
       "       <use xlink:href=\"#DejaVuSans-61\" x=\"39.208984\"/>\n",
       "       <use xlink:href=\"#DejaVuSans-73\" x=\"100.488281\"/>\n",
       "       <use xlink:href=\"#DejaVuSans-74\" x=\"152.587891\"/>\n",
       "       <use xlink:href=\"#DejaVuSans-65\" x=\"191.796875\"/>\n",
       "      </g>\n",
       "     </g>\n",
       "    </g>\n",
       "    <g id=\"xtick_4\">\n",
       "     <g id=\"line2d_4\">\n",
       "      <path d=\"M 416.79375 62.64 \n",
       "L 416.79375 7.2 \n",
       "\" clip-path=\"url(#pd893822c73)\" style=\"fill: none; stroke: #cccccc; stroke-width: 0.8; stroke-linecap: round\"/>\n",
       "     </g>\n",
       "     <g id=\"text_4\">\n",
       "      <!-- tasty -->\n",
       "      <g style=\"fill: #262626\" transform=\"translate(404.245313 77.238438) scale(0.1 -0.1)\">\n",
       "       <defs>\n",
       "        <path id=\"DejaVuSans-79\" d=\"M 2059 -325 \n",
       "Q 1816 -950 1584 -1140 \n",
       "Q 1353 -1331 966 -1331 \n",
       "L 506 -1331 \n",
       "L 506 -850 \n",
       "L 844 -850 \n",
       "Q 1081 -850 1212 -737 \n",
       "Q 1344 -625 1503 -206 \n",
       "L 1606 56 \n",
       "L 191 3500 \n",
       "L 800 3500 \n",
       "L 1894 763 \n",
       "L 2988 3500 \n",
       "L 3597 3500 \n",
       "L 2059 -325 \n",
       "z\n",
       "\" transform=\"scale(0.015625)\"/>\n",
       "       </defs>\n",
       "       <use xlink:href=\"#DejaVuSans-74\"/>\n",
       "       <use xlink:href=\"#DejaVuSans-61\" x=\"39.208984\"/>\n",
       "       <use xlink:href=\"#DejaVuSans-73\" x=\"100.488281\"/>\n",
       "       <use xlink:href=\"#DejaVuSans-74\" x=\"152.587891\"/>\n",
       "       <use xlink:href=\"#DejaVuSans-79\" x=\"191.796875\"/>\n",
       "      </g>\n",
       "     </g>\n",
       "    </g>\n",
       "    <g id=\"xtick_5\">\n",
       "     <g id=\"line2d_5\">\n",
       "      <path d=\"M 472.59375 62.64 \n",
       "L 472.59375 7.2 \n",
       "\" clip-path=\"url(#pd893822c73)\" style=\"fill: none; stroke: #cccccc; stroke-width: 0.8; stroke-linecap: round\"/>\n",
       "     </g>\n",
       "     <g id=\"text_5\">\n",
       "      <!-- tea -->\n",
       "      <g style=\"fill: #262626\" transform=\"translate(464.492969 77.238438) scale(0.1 -0.1)\">\n",
       "       <use xlink:href=\"#DejaVuSans-74\"/>\n",
       "       <use xlink:href=\"#DejaVuSans-65\" x=\"39.208984\"/>\n",
       "       <use xlink:href=\"#DejaVuSans-61\" x=\"100.732422\"/>\n",
       "      </g>\n",
       "     </g>\n",
       "    </g>\n",
       "    <g id=\"xtick_6\">\n",
       "     <g id=\"line2d_6\">\n",
       "      <path d=\"M 528.39375 62.64 \n",
       "L 528.39375 7.2 \n",
       "\" clip-path=\"url(#pd893822c73)\" style=\"fill: none; stroke: #cccccc; stroke-width: 0.8; stroke-linecap: round\"/>\n",
       "     </g>\n",
       "     <g id=\"text_6\">\n",
       "      <!-- well -->\n",
       "      <g style=\"fill: #262626\" transform=\"translate(518.45 77.238438) scale(0.1 -0.1)\">\n",
       "       <defs>\n",
       "        <path id=\"DejaVuSans-77\" d=\"M 269 3500 \n",
       "L 844 3500 \n",
       "L 1563 769 \n",
       "L 2278 3500 \n",
       "L 2956 3500 \n",
       "L 3675 769 \n",
       "L 4391 3500 \n",
       "L 4966 3500 \n",
       "L 4050 0 \n",
       "L 3372 0 \n",
       "L 2619 2869 \n",
       "L 1863 0 \n",
       "L 1184 0 \n",
       "L 269 3500 \n",
       "z\n",
       "\" transform=\"scale(0.015625)\"/>\n",
       "       </defs>\n",
       "       <use xlink:href=\"#DejaVuSans-77\"/>\n",
       "       <use xlink:href=\"#DejaVuSans-65\" x=\"81.787109\"/>\n",
       "       <use xlink:href=\"#DejaVuSans-6c\" x=\"143.310547\"/>\n",
       "       <use xlink:href=\"#DejaVuSans-6c\" x=\"171.09375\"/>\n",
       "      </g>\n",
       "     </g>\n",
       "    </g>\n",
       "   </g>\n",
       "   <g id=\"matplotlib.axis_2\">\n",
       "    <g id=\"ytick_1\">\n",
       "     <g id=\"line2d_7\">\n",
       "      <path d=\"M 221.49375 16.44 \n",
       "L 556.29375 16.44 \n",
       "\" clip-path=\"url(#pd893822c73)\" style=\"fill: none; stroke: #cccccc; stroke-width: 0.8; stroke-linecap: round\"/>\n",
       "     </g>\n",
       "     <g id=\"text_7\">\n",
       "      <!-- This coffee is really really tasty. -->\n",
       "      <g style=\"fill: #262626\" transform=\"translate(57.084375 19.199375) scale(0.1 -0.1)\">\n",
       "       <defs>\n",
       "        <path id=\"DejaVuSans-54\" d=\"M -19 4666 \n",
       "L 3928 4666 \n",
       "L 3928 4134 \n",
       "L 2272 4134 \n",
       "L 2272 0 \n",
       "L 1638 0 \n",
       "L 1638 4134 \n",
       "L -19 4134 \n",
       "L -19 4666 \n",
       "z\n",
       "\" transform=\"scale(0.015625)\"/>\n",
       "        <path id=\"DejaVuSans-68\" d=\"M 3513 2113 \n",
       "L 3513 0 \n",
       "L 2938 0 \n",
       "L 2938 2094 \n",
       "Q 2938 2591 2744 2837 \n",
       "Q 2550 3084 2163 3084 \n",
       "Q 1697 3084 1428 2787 \n",
       "Q 1159 2491 1159 1978 \n",
       "L 1159 0 \n",
       "L 581 0 \n",
       "L 581 4863 \n",
       "L 1159 4863 \n",
       "L 1159 2956 \n",
       "Q 1366 3272 1645 3428 \n",
       "Q 1925 3584 2291 3584 \n",
       "Q 2894 3584 3203 3211 \n",
       "Q 3513 2838 3513 2113 \n",
       "z\n",
       "\" transform=\"scale(0.015625)\"/>\n",
       "        <path id=\"DejaVuSans-69\" d=\"M 603 3500 \n",
       "L 1178 3500 \n",
       "L 1178 0 \n",
       "L 603 0 \n",
       "L 603 3500 \n",
       "z\n",
       "M 603 4863 \n",
       "L 1178 4863 \n",
       "L 1178 4134 \n",
       "L 603 4134 \n",
       "L 603 4863 \n",
       "z\n",
       "\" transform=\"scale(0.015625)\"/>\n",
       "        <path id=\"DejaVuSans-20\" transform=\"scale(0.015625)\"/>\n",
       "        <path id=\"DejaVuSans-63\" d=\"M 3122 3366 \n",
       "L 3122 2828 \n",
       "Q 2878 2963 2633 3030 \n",
       "Q 2388 3097 2138 3097 \n",
       "Q 1578 3097 1268 2742 \n",
       "Q 959 2388 959 1747 \n",
       "Q 959 1106 1268 751 \n",
       "Q 1578 397 2138 397 \n",
       "Q 2388 397 2633 464 \n",
       "Q 2878 531 3122 666 \n",
       "L 3122 134 \n",
       "Q 2881 22 2623 -34 \n",
       "Q 2366 -91 2075 -91 \n",
       "Q 1284 -91 818 406 \n",
       "Q 353 903 353 1747 \n",
       "Q 353 2603 823 3093 \n",
       "Q 1294 3584 2113 3584 \n",
       "Q 2378 3584 2631 3529 \n",
       "Q 2884 3475 3122 3366 \n",
       "z\n",
       "\" transform=\"scale(0.015625)\"/>\n",
       "        <path id=\"DejaVuSans-66\" d=\"M 2375 4863 \n",
       "L 2375 4384 \n",
       "L 1825 4384 \n",
       "Q 1516 4384 1395 4259 \n",
       "Q 1275 4134 1275 3809 \n",
       "L 1275 3500 \n",
       "L 2222 3500 \n",
       "L 2222 3053 \n",
       "L 1275 3053 \n",
       "L 1275 0 \n",
       "L 697 0 \n",
       "L 697 3053 \n",
       "L 147 3053 \n",
       "L 147 3500 \n",
       "L 697 3500 \n",
       "L 697 3744 \n",
       "Q 697 4328 969 4595 \n",
       "Q 1241 4863 1831 4863 \n",
       "L 2375 4863 \n",
       "z\n",
       "\" transform=\"scale(0.015625)\"/>\n",
       "        <path id=\"DejaVuSans-72\" d=\"M 2631 2963 \n",
       "Q 2534 3019 2420 3045 \n",
       "Q 2306 3072 2169 3072 \n",
       "Q 1681 3072 1420 2755 \n",
       "Q 1159 2438 1159 1844 \n",
       "L 1159 0 \n",
       "L 581 0 \n",
       "L 581 3500 \n",
       "L 1159 3500 \n",
       "L 1159 2956 \n",
       "Q 1341 3275 1631 3429 \n",
       "Q 1922 3584 2338 3584 \n",
       "Q 2397 3584 2469 3576 \n",
       "Q 2541 3569 2628 3553 \n",
       "L 2631 2963 \n",
       "z\n",
       "\" transform=\"scale(0.015625)\"/>\n",
       "        <path id=\"DejaVuSans-2e\" d=\"M 684 794 \n",
       "L 1344 794 \n",
       "L 1344 0 \n",
       "L 684 0 \n",
       "L 684 794 \n",
       "z\n",
       "\" transform=\"scale(0.015625)\"/>\n",
       "       </defs>\n",
       "       <use xlink:href=\"#DejaVuSans-54\"/>\n",
       "       <use xlink:href=\"#DejaVuSans-68\" x=\"61.083984\"/>\n",
       "       <use xlink:href=\"#DejaVuSans-69\" x=\"124.462891\"/>\n",
       "       <use xlink:href=\"#DejaVuSans-73\" x=\"152.246094\"/>\n",
       "       <use xlink:href=\"#DejaVuSans-20\" x=\"204.345703\"/>\n",
       "       <use xlink:href=\"#DejaVuSans-63\" x=\"236.132812\"/>\n",
       "       <use xlink:href=\"#DejaVuSans-6f\" x=\"291.113281\"/>\n",
       "       <use xlink:href=\"#DejaVuSans-66\" x=\"352.294922\"/>\n",
       "       <use xlink:href=\"#DejaVuSans-66\" x=\"387.5\"/>\n",
       "       <use xlink:href=\"#DejaVuSans-65\" x=\"422.705078\"/>\n",
       "       <use xlink:href=\"#DejaVuSans-65\" x=\"484.228516\"/>\n",
       "       <use xlink:href=\"#DejaVuSans-20\" x=\"545.751953\"/>\n",
       "       <use xlink:href=\"#DejaVuSans-69\" x=\"577.539062\"/>\n",
       "       <use xlink:href=\"#DejaVuSans-73\" x=\"605.322266\"/>\n",
       "       <use xlink:href=\"#DejaVuSans-20\" x=\"657.421875\"/>\n",
       "       <use xlink:href=\"#DejaVuSans-72\" x=\"689.208984\"/>\n",
       "       <use xlink:href=\"#DejaVuSans-65\" x=\"728.072266\"/>\n",
       "       <use xlink:href=\"#DejaVuSans-61\" x=\"789.595703\"/>\n",
       "       <use xlink:href=\"#DejaVuSans-6c\" x=\"850.875\"/>\n",
       "       <use xlink:href=\"#DejaVuSans-6c\" x=\"878.658203\"/>\n",
       "       <use xlink:href=\"#DejaVuSans-79\" x=\"906.441406\"/>\n",
       "       <use xlink:href=\"#DejaVuSans-20\" x=\"965.621094\"/>\n",
       "       <use xlink:href=\"#DejaVuSans-72\" x=\"997.408203\"/>\n",
       "       <use xlink:href=\"#DejaVuSans-65\" x=\"1036.271484\"/>\n",
       "       <use xlink:href=\"#DejaVuSans-61\" x=\"1097.794922\"/>\n",
       "       <use xlink:href=\"#DejaVuSans-6c\" x=\"1159.074219\"/>\n",
       "       <use xlink:href=\"#DejaVuSans-6c\" x=\"1186.857422\"/>\n",
       "       <use xlink:href=\"#DejaVuSans-79\" x=\"1214.640625\"/>\n",
       "       <use xlink:href=\"#DejaVuSans-20\" x=\"1273.820312\"/>\n",
       "       <use xlink:href=\"#DejaVuSans-74\" x=\"1305.607422\"/>\n",
       "       <use xlink:href=\"#DejaVuSans-61\" x=\"1344.816406\"/>\n",
       "       <use xlink:href=\"#DejaVuSans-73\" x=\"1406.095703\"/>\n",
       "       <use xlink:href=\"#DejaVuSans-74\" x=\"1458.195312\"/>\n",
       "       <use xlink:href=\"#DejaVuSans-79\" x=\"1497.404297\"/>\n",
       "       <use xlink:href=\"#DejaVuSans-2e\" x=\"1542.333984\"/>\n",
       "      </g>\n",
       "     </g>\n",
       "    </g>\n",
       "    <g id=\"ytick_2\">\n",
       "     <g id=\"line2d_8\">\n",
       "      <path d=\"M 221.49375 34.92 \n",
       "L 556.29375 34.92 \n",
       "\" clip-path=\"url(#pd893822c73)\" style=\"fill: none; stroke: #cccccc; stroke-width: 0.8; stroke-linecap: round\"/>\n",
       "     </g>\n",
       "     <g id=\"text_8\">\n",
       "      <!-- Tea smells and tastes better than coffee. -->\n",
       "      <g style=\"fill: #262626\" transform=\"translate(10.040625 37.679375) scale(0.1 -0.1)\">\n",
       "       <defs>\n",
       "        <path id=\"DejaVuSans-6e\" d=\"M 3513 2113 \n",
       "L 3513 0 \n",
       "L 2938 0 \n",
       "L 2938 2094 \n",
       "Q 2938 2591 2744 2837 \n",
       "Q 2550 3084 2163 3084 \n",
       "Q 1697 3084 1428 2787 \n",
       "Q 1159 2491 1159 1978 \n",
       "L 1159 0 \n",
       "L 581 0 \n",
       "L 581 3500 \n",
       "L 1159 3500 \n",
       "L 1159 2956 \n",
       "Q 1366 3272 1645 3428 \n",
       "Q 1925 3584 2291 3584 \n",
       "Q 2894 3584 3203 3211 \n",
       "Q 3513 2838 3513 2113 \n",
       "z\n",
       "\" transform=\"scale(0.015625)\"/>\n",
       "        <path id=\"DejaVuSans-62\" d=\"M 3116 1747 \n",
       "Q 3116 2381 2855 2742 \n",
       "Q 2594 3103 2138 3103 \n",
       "Q 1681 3103 1420 2742 \n",
       "Q 1159 2381 1159 1747 \n",
       "Q 1159 1113 1420 752 \n",
       "Q 1681 391 2138 391 \n",
       "Q 2594 391 2855 752 \n",
       "Q 3116 1113 3116 1747 \n",
       "z\n",
       "M 1159 2969 \n",
       "Q 1341 3281 1617 3432 \n",
       "Q 1894 3584 2278 3584 \n",
       "Q 2916 3584 3314 3078 \n",
       "Q 3713 2572 3713 1747 \n",
       "Q 3713 922 3314 415 \n",
       "Q 2916 -91 2278 -91 \n",
       "Q 1894 -91 1617 61 \n",
       "Q 1341 213 1159 525 \n",
       "L 1159 0 \n",
       "L 581 0 \n",
       "L 581 4863 \n",
       "L 1159 4863 \n",
       "L 1159 2969 \n",
       "z\n",
       "\" transform=\"scale(0.015625)\"/>\n",
       "       </defs>\n",
       "       <use xlink:href=\"#DejaVuSans-54\"/>\n",
       "       <use xlink:href=\"#DejaVuSans-65\" x=\"44.083984\"/>\n",
       "       <use xlink:href=\"#DejaVuSans-61\" x=\"105.607422\"/>\n",
       "       <use xlink:href=\"#DejaVuSans-20\" x=\"166.886719\"/>\n",
       "       <use xlink:href=\"#DejaVuSans-73\" x=\"198.673828\"/>\n",
       "       <use xlink:href=\"#DejaVuSans-6d\" x=\"250.773438\"/>\n",
       "       <use xlink:href=\"#DejaVuSans-65\" x=\"348.185547\"/>\n",
       "       <use xlink:href=\"#DejaVuSans-6c\" x=\"409.708984\"/>\n",
       "       <use xlink:href=\"#DejaVuSans-6c\" x=\"437.492188\"/>\n",
       "       <use xlink:href=\"#DejaVuSans-73\" x=\"465.275391\"/>\n",
       "       <use xlink:href=\"#DejaVuSans-20\" x=\"517.375\"/>\n",
       "       <use xlink:href=\"#DejaVuSans-61\" x=\"549.162109\"/>\n",
       "       <use xlink:href=\"#DejaVuSans-6e\" x=\"610.441406\"/>\n",
       "       <use xlink:href=\"#DejaVuSans-64\" x=\"673.820312\"/>\n",
       "       <use xlink:href=\"#DejaVuSans-20\" x=\"737.296875\"/>\n",
       "       <use xlink:href=\"#DejaVuSans-74\" x=\"769.083984\"/>\n",
       "       <use xlink:href=\"#DejaVuSans-61\" x=\"808.292969\"/>\n",
       "       <use xlink:href=\"#DejaVuSans-73\" x=\"869.572266\"/>\n",
       "       <use xlink:href=\"#DejaVuSans-74\" x=\"921.671875\"/>\n",
       "       <use xlink:href=\"#DejaVuSans-65\" x=\"960.880859\"/>\n",
       "       <use xlink:href=\"#DejaVuSans-73\" x=\"1022.404297\"/>\n",
       "       <use xlink:href=\"#DejaVuSans-20\" x=\"1074.503906\"/>\n",
       "       <use xlink:href=\"#DejaVuSans-62\" x=\"1106.291016\"/>\n",
       "       <use xlink:href=\"#DejaVuSans-65\" x=\"1169.767578\"/>\n",
       "       <use xlink:href=\"#DejaVuSans-74\" x=\"1231.291016\"/>\n",
       "       <use xlink:href=\"#DejaVuSans-74\" x=\"1270.5\"/>\n",
       "       <use xlink:href=\"#DejaVuSans-65\" x=\"1309.708984\"/>\n",
       "       <use xlink:href=\"#DejaVuSans-72\" x=\"1371.232422\"/>\n",
       "       <use xlink:href=\"#DejaVuSans-20\" x=\"1412.345703\"/>\n",
       "       <use xlink:href=\"#DejaVuSans-74\" x=\"1444.132812\"/>\n",
       "       <use xlink:href=\"#DejaVuSans-68\" x=\"1483.341797\"/>\n",
       "       <use xlink:href=\"#DejaVuSans-61\" x=\"1546.720703\"/>\n",
       "       <use xlink:href=\"#DejaVuSans-6e\" x=\"1608\"/>\n",
       "       <use xlink:href=\"#DejaVuSans-20\" x=\"1671.378906\"/>\n",
       "       <use xlink:href=\"#DejaVuSans-63\" x=\"1703.166016\"/>\n",
       "       <use xlink:href=\"#DejaVuSans-6f\" x=\"1758.146484\"/>\n",
       "       <use xlink:href=\"#DejaVuSans-66\" x=\"1819.328125\"/>\n",
       "       <use xlink:href=\"#DejaVuSans-66\" x=\"1854.533203\"/>\n",
       "       <use xlink:href=\"#DejaVuSans-65\" x=\"1889.738281\"/>\n",
       "       <use xlink:href=\"#DejaVuSans-65\" x=\"1951.261719\"/>\n",
       "       <use xlink:href=\"#DejaVuSans-2e\" x=\"2012.785156\"/>\n",
       "      </g>\n",
       "     </g>\n",
       "    </g>\n",
       "    <g id=\"ytick_3\">\n",
       "     <g id=\"line2d_9\">\n",
       "      <path d=\"M 221.49375 53.4 \n",
       "L 556.29375 53.4 \n",
       "\" clip-path=\"url(#pd893822c73)\" style=\"fill: none; stroke: #cccccc; stroke-width: 0.8; stroke-linecap: round\"/>\n",
       "     </g>\n",
       "     <g id=\"text_9\">\n",
       "      <!-- Best smelling coffee I have ever smelled! -->\n",
       "      <g style=\"fill: #262626\" transform=\"translate(7.2 56.159375) scale(0.1 -0.1)\">\n",
       "       <defs>\n",
       "        <path id=\"DejaVuSans-42\" d=\"M 1259 2228 \n",
       "L 1259 519 \n",
       "L 2272 519 \n",
       "Q 2781 519 3026 730 \n",
       "Q 3272 941 3272 1375 \n",
       "Q 3272 1813 3026 2020 \n",
       "Q 2781 2228 2272 2228 \n",
       "L 1259 2228 \n",
       "z\n",
       "M 1259 4147 \n",
       "L 1259 2741 \n",
       "L 2194 2741 \n",
       "Q 2656 2741 2882 2914 \n",
       "Q 3109 3088 3109 3444 \n",
       "Q 3109 3797 2882 3972 \n",
       "Q 2656 4147 2194 4147 \n",
       "L 1259 4147 \n",
       "z\n",
       "M 628 4666 \n",
       "L 2241 4666 \n",
       "Q 2963 4666 3353 4366 \n",
       "Q 3744 4066 3744 3513 \n",
       "Q 3744 3084 3544 2831 \n",
       "Q 3344 2578 2956 2516 \n",
       "Q 3422 2416 3680 2098 \n",
       "Q 3938 1781 3938 1306 \n",
       "Q 3938 681 3513 340 \n",
       "Q 3088 0 2303 0 \n",
       "L 628 0 \n",
       "L 628 4666 \n",
       "z\n",
       "\" transform=\"scale(0.015625)\"/>\n",
       "        <path id=\"DejaVuSans-49\" d=\"M 628 4666 \n",
       "L 1259 4666 \n",
       "L 1259 0 \n",
       "L 628 0 \n",
       "L 628 4666 \n",
       "z\n",
       "\" transform=\"scale(0.015625)\"/>\n",
       "        <path id=\"DejaVuSans-76\" d=\"M 191 3500 \n",
       "L 800 3500 \n",
       "L 1894 563 \n",
       "L 2988 3500 \n",
       "L 3597 3500 \n",
       "L 2284 0 \n",
       "L 1503 0 \n",
       "L 191 3500 \n",
       "z\n",
       "\" transform=\"scale(0.015625)\"/>\n",
       "        <path id=\"DejaVuSans-21\" d=\"M 966 794 \n",
       "L 1600 794 \n",
       "L 1600 0 \n",
       "L 966 0 \n",
       "L 966 794 \n",
       "z\n",
       "M 966 4666 \n",
       "L 1600 4666 \n",
       "L 1600 2619 \n",
       "L 1538 1503 \n",
       "L 1031 1503 \n",
       "L 966 2619 \n",
       "L 966 4666 \n",
       "z\n",
       "\" transform=\"scale(0.015625)\"/>\n",
       "       </defs>\n",
       "       <use xlink:href=\"#DejaVuSans-42\"/>\n",
       "       <use xlink:href=\"#DejaVuSans-65\" x=\"68.603516\"/>\n",
       "       <use xlink:href=\"#DejaVuSans-73\" x=\"130.126953\"/>\n",
       "       <use xlink:href=\"#DejaVuSans-74\" x=\"182.226562\"/>\n",
       "       <use xlink:href=\"#DejaVuSans-20\" x=\"221.435547\"/>\n",
       "       <use xlink:href=\"#DejaVuSans-73\" x=\"253.222656\"/>\n",
       "       <use xlink:href=\"#DejaVuSans-6d\" x=\"305.322266\"/>\n",
       "       <use xlink:href=\"#DejaVuSans-65\" x=\"402.734375\"/>\n",
       "       <use xlink:href=\"#DejaVuSans-6c\" x=\"464.257812\"/>\n",
       "       <use xlink:href=\"#DejaVuSans-6c\" x=\"492.041016\"/>\n",
       "       <use xlink:href=\"#DejaVuSans-69\" x=\"519.824219\"/>\n",
       "       <use xlink:href=\"#DejaVuSans-6e\" x=\"547.607422\"/>\n",
       "       <use xlink:href=\"#DejaVuSans-67\" x=\"610.986328\"/>\n",
       "       <use xlink:href=\"#DejaVuSans-20\" x=\"674.462891\"/>\n",
       "       <use xlink:href=\"#DejaVuSans-63\" x=\"706.25\"/>\n",
       "       <use xlink:href=\"#DejaVuSans-6f\" x=\"761.230469\"/>\n",
       "       <use xlink:href=\"#DejaVuSans-66\" x=\"822.412109\"/>\n",
       "       <use xlink:href=\"#DejaVuSans-66\" x=\"857.617188\"/>\n",
       "       <use xlink:href=\"#DejaVuSans-65\" x=\"892.822266\"/>\n",
       "       <use xlink:href=\"#DejaVuSans-65\" x=\"954.345703\"/>\n",
       "       <use xlink:href=\"#DejaVuSans-20\" x=\"1015.869141\"/>\n",
       "       <use xlink:href=\"#DejaVuSans-49\" x=\"1047.65625\"/>\n",
       "       <use xlink:href=\"#DejaVuSans-20\" x=\"1077.148438\"/>\n",
       "       <use xlink:href=\"#DejaVuSans-68\" x=\"1108.935547\"/>\n",
       "       <use xlink:href=\"#DejaVuSans-61\" x=\"1172.314453\"/>\n",
       "       <use xlink:href=\"#DejaVuSans-76\" x=\"1233.59375\"/>\n",
       "       <use xlink:href=\"#DejaVuSans-65\" x=\"1292.773438\"/>\n",
       "       <use xlink:href=\"#DejaVuSans-20\" x=\"1354.296875\"/>\n",
       "       <use xlink:href=\"#DejaVuSans-65\" x=\"1386.083984\"/>\n",
       "       <use xlink:href=\"#DejaVuSans-76\" x=\"1447.607422\"/>\n",
       "       <use xlink:href=\"#DejaVuSans-65\" x=\"1506.787109\"/>\n",
       "       <use xlink:href=\"#DejaVuSans-72\" x=\"1568.310547\"/>\n",
       "       <use xlink:href=\"#DejaVuSans-20\" x=\"1609.423828\"/>\n",
       "       <use xlink:href=\"#DejaVuSans-73\" x=\"1641.210938\"/>\n",
       "       <use xlink:href=\"#DejaVuSans-6d\" x=\"1693.310547\"/>\n",
       "       <use xlink:href=\"#DejaVuSans-65\" x=\"1790.722656\"/>\n",
       "       <use xlink:href=\"#DejaVuSans-6c\" x=\"1852.246094\"/>\n",
       "       <use xlink:href=\"#DejaVuSans-6c\" x=\"1880.029297\"/>\n",
       "       <use xlink:href=\"#DejaVuSans-65\" x=\"1907.8125\"/>\n",
       "       <use xlink:href=\"#DejaVuSans-64\" x=\"1969.335938\"/>\n",
       "       <use xlink:href=\"#DejaVuSans-21\" x=\"2032.8125\"/>\n",
       "      </g>\n",
       "     </g>\n",
       "    </g>\n",
       "   </g>\n",
       "   <g id=\"QuadMesh_1\">\n",
       "    <path d=\"M 221.49375 7.2 \n",
       "L 277.29375 7.2 \n",
       "L 277.29375 25.68 \n",
       "L 221.49375 25.68 \n",
       "L 221.49375 7.2 \n",
       "\" clip-path=\"url(#pd893822c73)\" style=\"fill: #f7fbff; stroke: #ffffff\"/>\n",
       "    <path d=\"M 277.29375 7.2 \n",
       "L 333.09375 7.2 \n",
       "L 333.09375 25.68 \n",
       "L 277.29375 25.68 \n",
       "L 277.29375 7.2 \n",
       "\" clip-path=\"url(#pd893822c73)\" style=\"fill: #f7fbff; stroke: #ffffff\"/>\n",
       "    <path d=\"M 333.09375 7.2 \n",
       "L 388.89375 7.2 \n",
       "L 388.89375 25.68 \n",
       "L 333.09375 25.68 \n",
       "L 333.09375 7.2 \n",
       "\" clip-path=\"url(#pd893822c73)\" style=\"fill: #f7fbff; stroke: #ffffff\"/>\n",
       "    <path d=\"M 388.89375 7.2 \n",
       "L 444.69375 7.2 \n",
       "L 444.69375 25.68 \n",
       "L 388.89375 25.68 \n",
       "L 388.89375 7.2 \n",
       "\" clip-path=\"url(#pd893822c73)\" style=\"fill: #6aaed6; stroke: #ffffff\"/>\n",
       "    <path d=\"M 444.69375 7.2 \n",
       "L 500.49375 7.2 \n",
       "L 500.49375 25.68 \n",
       "L 444.69375 25.68 \n",
       "L 444.69375 7.2 \n",
       "\" clip-path=\"url(#pd893822c73)\" style=\"fill: #f7fbff; stroke: #ffffff\"/>\n",
       "    <path d=\"M 500.49375 7.2 \n",
       "L 556.29375 7.2 \n",
       "L 556.29375 25.68 \n",
       "L 500.49375 25.68 \n",
       "L 500.49375 7.2 \n",
       "\" clip-path=\"url(#pd893822c73)\" style=\"fill: #f7fbff; stroke: #ffffff\"/>\n",
       "    <path d=\"M 221.49375 25.68 \n",
       "L 277.29375 25.68 \n",
       "L 277.29375 44.16 \n",
       "L 221.49375 44.16 \n",
       "L 221.49375 25.68 \n",
       "\" clip-path=\"url(#pd893822c73)\" style=\"fill: #f7fbff; stroke: #ffffff\"/>\n",
       "    <path d=\"M 277.29375 25.68 \n",
       "L 333.09375 25.68 \n",
       "L 333.09375 44.16 \n",
       "L 277.29375 44.16 \n",
       "L 277.29375 25.68 \n",
       "\" clip-path=\"url(#pd893822c73)\" style=\"fill: #6aaed6; stroke: #ffffff\"/>\n",
       "    <path d=\"M 333.09375 25.68 \n",
       "L 388.89375 25.68 \n",
       "L 388.89375 44.16 \n",
       "L 333.09375 44.16 \n",
       "L 333.09375 25.68 \n",
       "\" clip-path=\"url(#pd893822c73)\" style=\"fill: #6aaed6; stroke: #ffffff\"/>\n",
       "    <path d=\"M 388.89375 25.68 \n",
       "L 444.69375 25.68 \n",
       "L 444.69375 44.16 \n",
       "L 388.89375 44.16 \n",
       "L 388.89375 25.68 \n",
       "\" clip-path=\"url(#pd893822c73)\" style=\"fill: #f7fbff; stroke: #ffffff\"/>\n",
       "    <path d=\"M 444.69375 25.68 \n",
       "L 500.49375 25.68 \n",
       "L 500.49375 44.16 \n",
       "L 444.69375 44.16 \n",
       "L 444.69375 25.68 \n",
       "\" clip-path=\"url(#pd893822c73)\" style=\"fill: #6aaed6; stroke: #ffffff\"/>\n",
       "    <path d=\"M 500.49375 25.68 \n",
       "L 556.29375 25.68 \n",
       "L 556.29375 44.16 \n",
       "L 500.49375 44.16 \n",
       "L 500.49375 25.68 \n",
       "\" clip-path=\"url(#pd893822c73)\" style=\"fill: #6aaed6; stroke: #ffffff\"/>\n",
       "    <path d=\"M 221.49375 44.16 \n",
       "L 277.29375 44.16 \n",
       "L 277.29375 62.64 \n",
       "L 221.49375 62.64 \n",
       "L 221.49375 44.16 \n",
       "\" clip-path=\"url(#pd893822c73)\" style=\"fill: #6aaed6; stroke: #ffffff\"/>\n",
       "    <path d=\"M 277.29375 44.16 \n",
       "L 333.09375 44.16 \n",
       "L 333.09375 62.64 \n",
       "L 277.29375 62.64 \n",
       "L 277.29375 44.16 \n",
       "\" clip-path=\"url(#pd893822c73)\" style=\"fill: #08306b; stroke: #ffffff\"/>\n",
       "    <path d=\"M 333.09375 44.16 \n",
       "L 388.89375 44.16 \n",
       "L 388.89375 62.64 \n",
       "L 333.09375 62.64 \n",
       "L 333.09375 44.16 \n",
       "\" clip-path=\"url(#pd893822c73)\" style=\"fill: #f7fbff; stroke: #ffffff\"/>\n",
       "    <path d=\"M 388.89375 44.16 \n",
       "L 444.69375 44.16 \n",
       "L 444.69375 62.64 \n",
       "L 388.89375 62.64 \n",
       "L 388.89375 44.16 \n",
       "\" clip-path=\"url(#pd893822c73)\" style=\"fill: #f7fbff; stroke: #ffffff\"/>\n",
       "    <path d=\"M 444.69375 44.16 \n",
       "L 500.49375 44.16 \n",
       "L 500.49375 62.64 \n",
       "L 444.69375 62.64 \n",
       "L 444.69375 44.16 \n",
       "\" clip-path=\"url(#pd893822c73)\" style=\"fill: #f7fbff; stroke: #ffffff\"/>\n",
       "    <path d=\"M 500.49375 44.16 \n",
       "L 556.29375 44.16 \n",
       "L 556.29375 62.64 \n",
       "L 500.49375 62.64 \n",
       "L 500.49375 44.16 \n",
       "\" clip-path=\"url(#pd893822c73)\" style=\"fill: #f7fbff; stroke: #ffffff\"/>\n",
       "   </g>\n",
       "   <g id=\"text_10\">\n",
       "    <!-- 0 -->\n",
       "    <g style=\"fill: #262626\" transform=\"translate(246.2125 19.199375) scale(0.1 -0.1)\">\n",
       "     <defs>\n",
       "      <path id=\"DejaVuSans-30\" d=\"M 2034 4250 \n",
       "Q 1547 4250 1301 3770 \n",
       "Q 1056 3291 1056 2328 \n",
       "Q 1056 1369 1301 889 \n",
       "Q 1547 409 2034 409 \n",
       "Q 2525 409 2770 889 \n",
       "Q 3016 1369 3016 2328 \n",
       "Q 3016 3291 2770 3770 \n",
       "Q 2525 4250 2034 4250 \n",
       "z\n",
       "M 2034 4750 \n",
       "Q 2819 4750 3233 4129 \n",
       "Q 3647 3509 3647 2328 \n",
       "Q 3647 1150 3233 529 \n",
       "Q 2819 -91 2034 -91 \n",
       "Q 1250 -91 836 529 \n",
       "Q 422 1150 422 2328 \n",
       "Q 422 3509 836 4129 \n",
       "Q 1250 4750 2034 4750 \n",
       "z\n",
       "\" transform=\"scale(0.015625)\"/>\n",
       "     </defs>\n",
       "     <use xlink:href=\"#DejaVuSans-30\"/>\n",
       "    </g>\n",
       "   </g>\n",
       "   <g id=\"text_11\">\n",
       "    <!-- 0 -->\n",
       "    <g style=\"fill: #262626\" transform=\"translate(302.0125 19.199375) scale(0.1 -0.1)\">\n",
       "     <use xlink:href=\"#DejaVuSans-30\"/>\n",
       "    </g>\n",
       "   </g>\n",
       "   <g id=\"text_12\">\n",
       "    <!-- 0 -->\n",
       "    <g style=\"fill: #262626\" transform=\"translate(357.8125 19.199375) scale(0.1 -0.1)\">\n",
       "     <use xlink:href=\"#DejaVuSans-30\"/>\n",
       "    </g>\n",
       "   </g>\n",
       "   <g id=\"text_13\">\n",
       "    <!-- 1 -->\n",
       "    <g style=\"fill: #ffffff\" transform=\"translate(413.6125 19.199375) scale(0.1 -0.1)\">\n",
       "     <defs>\n",
       "      <path id=\"DejaVuSans-31\" d=\"M 794 531 \n",
       "L 1825 531 \n",
       "L 1825 4091 \n",
       "L 703 3866 \n",
       "L 703 4441 \n",
       "L 1819 4666 \n",
       "L 2450 4666 \n",
       "L 2450 531 \n",
       "L 3481 531 \n",
       "L 3481 0 \n",
       "L 794 0 \n",
       "L 794 531 \n",
       "z\n",
       "\" transform=\"scale(0.015625)\"/>\n",
       "     </defs>\n",
       "     <use xlink:href=\"#DejaVuSans-31\"/>\n",
       "    </g>\n",
       "   </g>\n",
       "   <g id=\"text_14\">\n",
       "    <!-- 0 -->\n",
       "    <g style=\"fill: #262626\" transform=\"translate(469.4125 19.199375) scale(0.1 -0.1)\">\n",
       "     <use xlink:href=\"#DejaVuSans-30\"/>\n",
       "    </g>\n",
       "   </g>\n",
       "   <g id=\"text_15\">\n",
       "    <!-- 0 -->\n",
       "    <g style=\"fill: #262626\" transform=\"translate(525.2125 19.199375) scale(0.1 -0.1)\">\n",
       "     <use xlink:href=\"#DejaVuSans-30\"/>\n",
       "    </g>\n",
       "   </g>\n",
       "   <g id=\"text_16\">\n",
       "    <!-- 0 -->\n",
       "    <g style=\"fill: #262626\" transform=\"translate(246.2125 37.679375) scale(0.1 -0.1)\">\n",
       "     <use xlink:href=\"#DejaVuSans-30\"/>\n",
       "    </g>\n",
       "   </g>\n",
       "   <g id=\"text_17\">\n",
       "    <!-- 1 -->\n",
       "    <g style=\"fill: #ffffff\" transform=\"translate(302.0125 37.679375) scale(0.1 -0.1)\">\n",
       "     <use xlink:href=\"#DejaVuSans-31\"/>\n",
       "    </g>\n",
       "   </g>\n",
       "   <g id=\"text_18\">\n",
       "    <!-- 1 -->\n",
       "    <g style=\"fill: #ffffff\" transform=\"translate(357.8125 37.679375) scale(0.1 -0.1)\">\n",
       "     <use xlink:href=\"#DejaVuSans-31\"/>\n",
       "    </g>\n",
       "   </g>\n",
       "   <g id=\"text_19\">\n",
       "    <!-- 0 -->\n",
       "    <g style=\"fill: #262626\" transform=\"translate(413.6125 37.679375) scale(0.1 -0.1)\">\n",
       "     <use xlink:href=\"#DejaVuSans-30\"/>\n",
       "    </g>\n",
       "   </g>\n",
       "   <g id=\"text_20\">\n",
       "    <!-- 1 -->\n",
       "    <g style=\"fill: #ffffff\" transform=\"translate(469.4125 37.679375) scale(0.1 -0.1)\">\n",
       "     <use xlink:href=\"#DejaVuSans-31\"/>\n",
       "    </g>\n",
       "   </g>\n",
       "   <g id=\"text_21\">\n",
       "    <!-- 1 -->\n",
       "    <g style=\"fill: #ffffff\" transform=\"translate(525.2125 37.679375) scale(0.1 -0.1)\">\n",
       "     <use xlink:href=\"#DejaVuSans-31\"/>\n",
       "    </g>\n",
       "   </g>\n",
       "   <g id=\"text_22\">\n",
       "    <!-- 1 -->\n",
       "    <g style=\"fill: #ffffff\" transform=\"translate(246.2125 56.159375) scale(0.1 -0.1)\">\n",
       "     <use xlink:href=\"#DejaVuSans-31\"/>\n",
       "    </g>\n",
       "   </g>\n",
       "   <g id=\"text_23\">\n",
       "    <!-- 2 -->\n",
       "    <g style=\"fill: #ffffff\" transform=\"translate(302.0125 56.159375) scale(0.1 -0.1)\">\n",
       "     <defs>\n",
       "      <path id=\"DejaVuSans-32\" d=\"M 1228 531 \n",
       "L 3431 531 \n",
       "L 3431 0 \n",
       "L 469 0 \n",
       "L 469 531 \n",
       "Q 828 903 1448 1529 \n",
       "Q 2069 2156 2228 2338 \n",
       "Q 2531 2678 2651 2914 \n",
       "Q 2772 3150 2772 3378 \n",
       "Q 2772 3750 2511 3984 \n",
       "Q 2250 4219 1831 4219 \n",
       "Q 1534 4219 1204 4116 \n",
       "Q 875 4013 500 3803 \n",
       "L 500 4441 \n",
       "Q 881 4594 1212 4672 \n",
       "Q 1544 4750 1819 4750 \n",
       "Q 2544 4750 2975 4387 \n",
       "Q 3406 4025 3406 3419 \n",
       "Q 3406 3131 3298 2873 \n",
       "Q 3191 2616 2906 2266 \n",
       "Q 2828 2175 2409 1742 \n",
       "Q 1991 1309 1228 531 \n",
       "z\n",
       "\" transform=\"scale(0.015625)\"/>\n",
       "     </defs>\n",
       "     <use xlink:href=\"#DejaVuSans-32\"/>\n",
       "    </g>\n",
       "   </g>\n",
       "   <g id=\"text_24\">\n",
       "    <!-- 0 -->\n",
       "    <g style=\"fill: #262626\" transform=\"translate(357.8125 56.159375) scale(0.1 -0.1)\">\n",
       "     <use xlink:href=\"#DejaVuSans-30\"/>\n",
       "    </g>\n",
       "   </g>\n",
       "   <g id=\"text_25\">\n",
       "    <!-- 0 -->\n",
       "    <g style=\"fill: #262626\" transform=\"translate(413.6125 56.159375) scale(0.1 -0.1)\">\n",
       "     <use xlink:href=\"#DejaVuSans-30\"/>\n",
       "    </g>\n",
       "   </g>\n",
       "   <g id=\"text_26\">\n",
       "    <!-- 0 -->\n",
       "    <g style=\"fill: #262626\" transform=\"translate(469.4125 56.159375) scale(0.1 -0.1)\">\n",
       "     <use xlink:href=\"#DejaVuSans-30\"/>\n",
       "    </g>\n",
       "   </g>\n",
       "   <g id=\"text_27\">\n",
       "    <!-- 0 -->\n",
       "    <g style=\"fill: #262626\" transform=\"translate(525.2125 56.159375) scale(0.1 -0.1)\">\n",
       "     <use xlink:href=\"#DejaVuSans-30\"/>\n",
       "    </g>\n",
       "   </g>\n",
       "  </g>\n",
       " </g>\n",
       " <defs>\n",
       "  <clipPath id=\"pd893822c73\">\n",
       "   <rect x=\"221.49375\" y=\"7.2\" width=\"334.8\" height=\"55.44\"/>\n",
       "  </clipPath>\n",
       " </defs>\n",
       "</svg>\n"
      ],
      "text/plain": [
       "<Figure size 600x100 with 1 Axes>"
      ]
     },
     "metadata": {},
     "output_type": "display_data"
    }
   ],
   "source": [
    "plt.figure(figsize=(6, 1))\n",
    "g = sns.heatmap(df, cmap='Blues', annot=True, cbar=False, linewidths=1)"
   ]
  },
  {
   "cell_type": "code",
   "execution_count": 33,
   "id": "2049d7b2-29f4-478f-b973-120bb58cf61d",
   "metadata": {
    "id": "2049d7b2-29f4-478f-b973-120bb58cf61d",
    "outputId": "60292b48-a16d-49e8-f75f-4ea15ab57209",
    "tags": []
   },
   "outputs": [],
   "source": [
    "cv = CountVectorizer(ngram_range=(2, 2),  # use (1, 2) for unigrams *and* bigrams\n",
    "                     max_df=0.9,\n",
    "                     min_df=1,\n",
    "                     max_features=None,\n",
    "                     binary=False)\n",
    "\n",
    "X = cv.fit_transform(corpus_clean)\n",
    "\n",
    "df = pd.DataFrame(X.toarray(),\n",
    "                  index=corpus_clean,\n",
    "                  columns=cv.get_feature_names_out())"
   ]
  },
  {
   "cell_type": "code",
   "execution_count": 34,
   "id": "978e2799-b6ff-46c5-9b3e-a3e379533575",
   "metadata": {
    "tags": []
   },
   "outputs": [
    {
     "data": {
      "image/svg+xml": [
       "<?xml version=\"1.0\" encoding=\"utf-8\" standalone=\"no\"?>\n",
       "<!DOCTYPE svg PUBLIC \"-//W3C//DTD SVG 1.1//EN\"\n",
       "  \"http://www.w3.org/Graphics/SVG/1.1/DTD/svg11.dtd\">\n",
       "<svg xmlns:xlink=\"http://www.w3.org/1999/xlink\" width=\"711.15625pt\" height=\"86.518125pt\" viewBox=\"0 0 711.15625 86.518125\" xmlns=\"http://www.w3.org/2000/svg\" version=\"1.1\">\n",
       " <metadata>\n",
       "  <rdf:RDF xmlns:dc=\"http://purl.org/dc/elements/1.1/\" xmlns:cc=\"http://creativecommons.org/ns#\" xmlns:rdf=\"http://www.w3.org/1999/02/22-rdf-syntax-ns#\">\n",
       "   <cc:Work>\n",
       "    <dc:type rdf:resource=\"http://purl.org/dc/dcmitype/StillImage\"/>\n",
       "    <dc:date>2024-02-28T23:24:59.089317</dc:date>\n",
       "    <dc:format>image/svg+xml</dc:format>\n",
       "    <dc:creator>\n",
       "     <cc:Agent>\n",
       "      <dc:title>Matplotlib v3.8.2, https://matplotlib.org/</dc:title>\n",
       "     </cc:Agent>\n",
       "    </dc:creator>\n",
       "   </cc:Work>\n",
       "  </rdf:RDF>\n",
       " </metadata>\n",
       " <defs>\n",
       "  <style type=\"text/css\">*{stroke-linejoin: round; stroke-linecap: butt}</style>\n",
       " </defs>\n",
       " <g id=\"figure_1\">\n",
       "  <g id=\"patch_1\">\n",
       "   <path d=\"M -0 86.518125 \n",
       "L 711.15625 86.518125 \n",
       "L 711.15625 0 \n",
       "L -0 0 \n",
       "z\n",
       "\" style=\"fill: #ffffff\"/>\n",
       "  </g>\n",
       "  <g id=\"axes_1\">\n",
       "   <g id=\"patch_2\">\n",
       "    <path d=\"M 145.95625 62.64 \n",
       "L 703.95625 62.64 \n",
       "L 703.95625 7.2 \n",
       "L 145.95625 7.2 \n",
       "z\n",
       "\" style=\"fill: #ffffff\"/>\n",
       "   </g>\n",
       "   <g id=\"matplotlib.axis_1\">\n",
       "    <g id=\"xtick_1\">\n",
       "     <g id=\"line2d_1\">\n",
       "      <path d=\"M 180.83125 62.64 \n",
       "L 180.83125 7.2 \n",
       "\" clip-path=\"url(#pcf00717ed1)\" style=\"fill: none; stroke: #cccccc; stroke-width: 0.8; stroke-linecap: round\"/>\n",
       "     </g>\n",
       "     <g id=\"text_1\">\n",
       "      <!-- coffee smell -->\n",
       "      <g style=\"fill: #262626\" transform=\"translate(150.430469 77.238438) scale(0.1 -0.1)\">\n",
       "       <defs>\n",
       "        <path id=\"DejaVuSans-63\" d=\"M 3122 3366 \n",
       "L 3122 2828 \n",
       "Q 2878 2963 2633 3030 \n",
       "Q 2388 3097 2138 3097 \n",
       "Q 1578 3097 1268 2742 \n",
       "Q 959 2388 959 1747 \n",
       "Q 959 1106 1268 751 \n",
       "Q 1578 397 2138 397 \n",
       "Q 2388 397 2633 464 \n",
       "Q 2878 531 3122 666 \n",
       "L 3122 134 \n",
       "Q 2881 22 2623 -34 \n",
       "Q 2366 -91 2075 -91 \n",
       "Q 1284 -91 818 406 \n",
       "Q 353 903 353 1747 \n",
       "Q 353 2603 823 3093 \n",
       "Q 1294 3584 2113 3584 \n",
       "Q 2378 3584 2631 3529 \n",
       "Q 2884 3475 3122 3366 \n",
       "z\n",
       "\" transform=\"scale(0.015625)\"/>\n",
       "        <path id=\"DejaVuSans-6f\" d=\"M 1959 3097 \n",
       "Q 1497 3097 1228 2736 \n",
       "Q 959 2375 959 1747 \n",
       "Q 959 1119 1226 758 \n",
       "Q 1494 397 1959 397 \n",
       "Q 2419 397 2687 759 \n",
       "Q 2956 1122 2956 1747 \n",
       "Q 2956 2369 2687 2733 \n",
       "Q 2419 3097 1959 3097 \n",
       "z\n",
       "M 1959 3584 \n",
       "Q 2709 3584 3137 3096 \n",
       "Q 3566 2609 3566 1747 \n",
       "Q 3566 888 3137 398 \n",
       "Q 2709 -91 1959 -91 \n",
       "Q 1206 -91 779 398 \n",
       "Q 353 888 353 1747 \n",
       "Q 353 2609 779 3096 \n",
       "Q 1206 3584 1959 3584 \n",
       "z\n",
       "\" transform=\"scale(0.015625)\"/>\n",
       "        <path id=\"DejaVuSans-66\" d=\"M 2375 4863 \n",
       "L 2375 4384 \n",
       "L 1825 4384 \n",
       "Q 1516 4384 1395 4259 \n",
       "Q 1275 4134 1275 3809 \n",
       "L 1275 3500 \n",
       "L 2222 3500 \n",
       "L 2222 3053 \n",
       "L 1275 3053 \n",
       "L 1275 0 \n",
       "L 697 0 \n",
       "L 697 3053 \n",
       "L 147 3053 \n",
       "L 147 3500 \n",
       "L 697 3500 \n",
       "L 697 3744 \n",
       "Q 697 4328 969 4595 \n",
       "Q 1241 4863 1831 4863 \n",
       "L 2375 4863 \n",
       "z\n",
       "\" transform=\"scale(0.015625)\"/>\n",
       "        <path id=\"DejaVuSans-65\" d=\"M 3597 1894 \n",
       "L 3597 1613 \n",
       "L 953 1613 \n",
       "Q 991 1019 1311 708 \n",
       "Q 1631 397 2203 397 \n",
       "Q 2534 397 2845 478 \n",
       "Q 3156 559 3463 722 \n",
       "L 3463 178 \n",
       "Q 3153 47 2828 -22 \n",
       "Q 2503 -91 2169 -91 \n",
       "Q 1331 -91 842 396 \n",
       "Q 353 884 353 1716 \n",
       "Q 353 2575 817 3079 \n",
       "Q 1281 3584 2069 3584 \n",
       "Q 2775 3584 3186 3129 \n",
       "Q 3597 2675 3597 1894 \n",
       "z\n",
       "M 3022 2063 \n",
       "Q 3016 2534 2758 2815 \n",
       "Q 2500 3097 2075 3097 \n",
       "Q 1594 3097 1305 2825 \n",
       "Q 1016 2553 972 2059 \n",
       "L 3022 2063 \n",
       "z\n",
       "\" transform=\"scale(0.015625)\"/>\n",
       "        <path id=\"DejaVuSans-20\" transform=\"scale(0.015625)\"/>\n",
       "        <path id=\"DejaVuSans-73\" d=\"M 2834 3397 \n",
       "L 2834 2853 \n",
       "Q 2591 2978 2328 3040 \n",
       "Q 2066 3103 1784 3103 \n",
       "Q 1356 3103 1142 2972 \n",
       "Q 928 2841 928 2578 \n",
       "Q 928 2378 1081 2264 \n",
       "Q 1234 2150 1697 2047 \n",
       "L 1894 2003 \n",
       "Q 2506 1872 2764 1633 \n",
       "Q 3022 1394 3022 966 \n",
       "Q 3022 478 2636 193 \n",
       "Q 2250 -91 1575 -91 \n",
       "Q 1294 -91 989 -36 \n",
       "Q 684 19 347 128 \n",
       "L 347 722 \n",
       "Q 666 556 975 473 \n",
       "Q 1284 391 1588 391 \n",
       "Q 1994 391 2212 530 \n",
       "Q 2431 669 2431 922 \n",
       "Q 2431 1156 2273 1281 \n",
       "Q 2116 1406 1581 1522 \n",
       "L 1381 1569 \n",
       "Q 847 1681 609 1914 \n",
       "Q 372 2147 372 2553 \n",
       "Q 372 3047 722 3315 \n",
       "Q 1072 3584 1716 3584 \n",
       "Q 2034 3584 2315 3537 \n",
       "Q 2597 3491 2834 3397 \n",
       "z\n",
       "\" transform=\"scale(0.015625)\"/>\n",
       "        <path id=\"DejaVuSans-6d\" d=\"M 3328 2828 \n",
       "Q 3544 3216 3844 3400 \n",
       "Q 4144 3584 4550 3584 \n",
       "Q 5097 3584 5394 3201 \n",
       "Q 5691 2819 5691 2113 \n",
       "L 5691 0 \n",
       "L 5113 0 \n",
       "L 5113 2094 \n",
       "Q 5113 2597 4934 2840 \n",
       "Q 4756 3084 4391 3084 \n",
       "Q 3944 3084 3684 2787 \n",
       "Q 3425 2491 3425 1978 \n",
       "L 3425 0 \n",
       "L 2847 0 \n",
       "L 2847 2094 \n",
       "Q 2847 2600 2669 2842 \n",
       "Q 2491 3084 2119 3084 \n",
       "Q 1678 3084 1418 2786 \n",
       "Q 1159 2488 1159 1978 \n",
       "L 1159 0 \n",
       "L 581 0 \n",
       "L 581 3500 \n",
       "L 1159 3500 \n",
       "L 1159 2956 \n",
       "Q 1356 3278 1631 3431 \n",
       "Q 1906 3584 2284 3584 \n",
       "Q 2666 3584 2933 3390 \n",
       "Q 3200 3197 3328 2828 \n",
       "z\n",
       "\" transform=\"scale(0.015625)\"/>\n",
       "        <path id=\"DejaVuSans-6c\" d=\"M 603 4863 \n",
       "L 1178 4863 \n",
       "L 1178 0 \n",
       "L 603 0 \n",
       "L 603 4863 \n",
       "z\n",
       "\" transform=\"scale(0.015625)\"/>\n",
       "       </defs>\n",
       "       <use xlink:href=\"#DejaVuSans-63\"/>\n",
       "       <use xlink:href=\"#DejaVuSans-6f\" x=\"54.980469\"/>\n",
       "       <use xlink:href=\"#DejaVuSans-66\" x=\"116.162109\"/>\n",
       "       <use xlink:href=\"#DejaVuSans-66\" x=\"151.367188\"/>\n",
       "       <use xlink:href=\"#DejaVuSans-65\" x=\"186.572266\"/>\n",
       "       <use xlink:href=\"#DejaVuSans-65\" x=\"248.095703\"/>\n",
       "       <use xlink:href=\"#DejaVuSans-20\" x=\"309.619141\"/>\n",
       "       <use xlink:href=\"#DejaVuSans-73\" x=\"341.40625\"/>\n",
       "       <use xlink:href=\"#DejaVuSans-6d\" x=\"393.505859\"/>\n",
       "       <use xlink:href=\"#DejaVuSans-65\" x=\"490.917969\"/>\n",
       "       <use xlink:href=\"#DejaVuSans-6c\" x=\"552.441406\"/>\n",
       "       <use xlink:href=\"#DejaVuSans-6c\" x=\"580.224609\"/>\n",
       "      </g>\n",
       "     </g>\n",
       "    </g>\n",
       "    <g id=\"xtick_2\">\n",
       "     <g id=\"line2d_2\">\n",
       "      <path d=\"M 250.58125 62.64 \n",
       "L 250.58125 7.2 \n",
       "\" clip-path=\"url(#pcf00717ed1)\" style=\"fill: none; stroke: #cccccc; stroke-width: 0.8; stroke-linecap: round\"/>\n",
       "     </g>\n",
       "     <g id=\"text_2\">\n",
       "      <!-- coffee tasty -->\n",
       "      <g style=\"fill: #262626\" transform=\"translate(220.961719 77.238438) scale(0.1 -0.1)\">\n",
       "       <defs>\n",
       "        <path id=\"DejaVuSans-74\" d=\"M 1172 4494 \n",
       "L 1172 3500 \n",
       "L 2356 3500 \n",
       "L 2356 3053 \n",
       "L 1172 3053 \n",
       "L 1172 1153 \n",
       "Q 1172 725 1289 603 \n",
       "Q 1406 481 1766 481 \n",
       "L 2356 481 \n",
       "L 2356 0 \n",
       "L 1766 0 \n",
       "Q 1100 0 847 248 \n",
       "Q 594 497 594 1153 \n",
       "L 594 3053 \n",
       "L 172 3053 \n",
       "L 172 3500 \n",
       "L 594 3500 \n",
       "L 594 4494 \n",
       "L 1172 4494 \n",
       "z\n",
       "\" transform=\"scale(0.015625)\"/>\n",
       "        <path id=\"DejaVuSans-61\" d=\"M 2194 1759 \n",
       "Q 1497 1759 1228 1600 \n",
       "Q 959 1441 959 1056 \n",
       "Q 959 750 1161 570 \n",
       "Q 1363 391 1709 391 \n",
       "Q 2188 391 2477 730 \n",
       "Q 2766 1069 2766 1631 \n",
       "L 2766 1759 \n",
       "L 2194 1759 \n",
       "z\n",
       "M 3341 1997 \n",
       "L 3341 0 \n",
       "L 2766 0 \n",
       "L 2766 531 \n",
       "Q 2569 213 2275 61 \n",
       "Q 1981 -91 1556 -91 \n",
       "Q 1019 -91 701 211 \n",
       "Q 384 513 384 1019 \n",
       "Q 384 1609 779 1909 \n",
       "Q 1175 2209 1959 2209 \n",
       "L 2766 2209 \n",
       "L 2766 2266 \n",
       "Q 2766 2663 2505 2880 \n",
       "Q 2244 3097 1772 3097 \n",
       "Q 1472 3097 1187 3025 \n",
       "Q 903 2953 641 2809 \n",
       "L 641 3341 \n",
       "Q 956 3463 1253 3523 \n",
       "Q 1550 3584 1831 3584 \n",
       "Q 2591 3584 2966 3190 \n",
       "Q 3341 2797 3341 1997 \n",
       "z\n",
       "\" transform=\"scale(0.015625)\"/>\n",
       "        <path id=\"DejaVuSans-79\" d=\"M 2059 -325 \n",
       "Q 1816 -950 1584 -1140 \n",
       "Q 1353 -1331 966 -1331 \n",
       "L 506 -1331 \n",
       "L 506 -850 \n",
       "L 844 -850 \n",
       "Q 1081 -850 1212 -737 \n",
       "Q 1344 -625 1503 -206 \n",
       "L 1606 56 \n",
       "L 191 3500 \n",
       "L 800 3500 \n",
       "L 1894 763 \n",
       "L 2988 3500 \n",
       "L 3597 3500 \n",
       "L 2059 -325 \n",
       "z\n",
       "\" transform=\"scale(0.015625)\"/>\n",
       "       </defs>\n",
       "       <use xlink:href=\"#DejaVuSans-63\"/>\n",
       "       <use xlink:href=\"#DejaVuSans-6f\" x=\"54.980469\"/>\n",
       "       <use xlink:href=\"#DejaVuSans-66\" x=\"116.162109\"/>\n",
       "       <use xlink:href=\"#DejaVuSans-66\" x=\"151.367188\"/>\n",
       "       <use xlink:href=\"#DejaVuSans-65\" x=\"186.572266\"/>\n",
       "       <use xlink:href=\"#DejaVuSans-65\" x=\"248.095703\"/>\n",
       "       <use xlink:href=\"#DejaVuSans-20\" x=\"309.619141\"/>\n",
       "       <use xlink:href=\"#DejaVuSans-74\" x=\"341.40625\"/>\n",
       "       <use xlink:href=\"#DejaVuSans-61\" x=\"380.615234\"/>\n",
       "       <use xlink:href=\"#DejaVuSans-73\" x=\"441.894531\"/>\n",
       "       <use xlink:href=\"#DejaVuSans-74\" x=\"493.994141\"/>\n",
       "       <use xlink:href=\"#DejaVuSans-79\" x=\"533.203125\"/>\n",
       "      </g>\n",
       "     </g>\n",
       "    </g>\n",
       "    <g id=\"xtick_3\">\n",
       "     <g id=\"line2d_3\">\n",
       "      <path d=\"M 320.33125 62.64 \n",
       "L 320.33125 7.2 \n",
       "\" clip-path=\"url(#pcf00717ed1)\" style=\"fill: none; stroke: #cccccc; stroke-width: 0.8; stroke-linecap: round\"/>\n",
       "     </g>\n",
       "     <g id=\"text_3\">\n",
       "      <!-- good smell -->\n",
       "      <g style=\"fill: #262626\" transform=\"translate(292.945312 77.238438) scale(0.1 -0.1)\">\n",
       "       <defs>\n",
       "        <path id=\"DejaVuSans-67\" d=\"M 2906 1791 \n",
       "Q 2906 2416 2648 2759 \n",
       "Q 2391 3103 1925 3103 \n",
       "Q 1463 3103 1205 2759 \n",
       "Q 947 2416 947 1791 \n",
       "Q 947 1169 1205 825 \n",
       "Q 1463 481 1925 481 \n",
       "Q 2391 481 2648 825 \n",
       "Q 2906 1169 2906 1791 \n",
       "z\n",
       "M 3481 434 \n",
       "Q 3481 -459 3084 -895 \n",
       "Q 2688 -1331 1869 -1331 \n",
       "Q 1566 -1331 1297 -1286 \n",
       "Q 1028 -1241 775 -1147 \n",
       "L 775 -588 \n",
       "Q 1028 -725 1275 -790 \n",
       "Q 1522 -856 1778 -856 \n",
       "Q 2344 -856 2625 -561 \n",
       "Q 2906 -266 2906 331 \n",
       "L 2906 616 \n",
       "Q 2728 306 2450 153 \n",
       "Q 2172 0 1784 0 \n",
       "Q 1141 0 747 490 \n",
       "Q 353 981 353 1791 \n",
       "Q 353 2603 747 3093 \n",
       "Q 1141 3584 1784 3584 \n",
       "Q 2172 3584 2450 3431 \n",
       "Q 2728 3278 2906 2969 \n",
       "L 2906 3500 \n",
       "L 3481 3500 \n",
       "L 3481 434 \n",
       "z\n",
       "\" transform=\"scale(0.015625)\"/>\n",
       "        <path id=\"DejaVuSans-64\" d=\"M 2906 2969 \n",
       "L 2906 4863 \n",
       "L 3481 4863 \n",
       "L 3481 0 \n",
       "L 2906 0 \n",
       "L 2906 525 \n",
       "Q 2725 213 2448 61 \n",
       "Q 2172 -91 1784 -91 \n",
       "Q 1150 -91 751 415 \n",
       "Q 353 922 353 1747 \n",
       "Q 353 2572 751 3078 \n",
       "Q 1150 3584 1784 3584 \n",
       "Q 2172 3584 2448 3432 \n",
       "Q 2725 3281 2906 2969 \n",
       "z\n",
       "M 947 1747 \n",
       "Q 947 1113 1208 752 \n",
       "Q 1469 391 1925 391 \n",
       "Q 2381 391 2643 752 \n",
       "Q 2906 1113 2906 1747 \n",
       "Q 2906 2381 2643 2742 \n",
       "Q 2381 3103 1925 3103 \n",
       "Q 1469 3103 1208 2742 \n",
       "Q 947 2381 947 1747 \n",
       "z\n",
       "\" transform=\"scale(0.015625)\"/>\n",
       "       </defs>\n",
       "       <use xlink:href=\"#DejaVuSans-67\"/>\n",
       "       <use xlink:href=\"#DejaVuSans-6f\" x=\"63.476562\"/>\n",
       "       <use xlink:href=\"#DejaVuSans-6f\" x=\"124.658203\"/>\n",
       "       <use xlink:href=\"#DejaVuSans-64\" x=\"185.839844\"/>\n",
       "       <use xlink:href=\"#DejaVuSans-20\" x=\"249.316406\"/>\n",
       "       <use xlink:href=\"#DejaVuSans-73\" x=\"281.103516\"/>\n",
       "       <use xlink:href=\"#DejaVuSans-6d\" x=\"333.203125\"/>\n",
       "       <use xlink:href=\"#DejaVuSans-65\" x=\"430.615234\"/>\n",
       "       <use xlink:href=\"#DejaVuSans-6c\" x=\"492.138672\"/>\n",
       "       <use xlink:href=\"#DejaVuSans-6c\" x=\"519.921875\"/>\n",
       "      </g>\n",
       "     </g>\n",
       "    </g>\n",
       "    <g id=\"xtick_4\">\n",
       "     <g id=\"line2d_4\">\n",
       "      <path d=\"M 390.08125 62.64 \n",
       "L 390.08125 7.2 \n",
       "\" clip-path=\"url(#pcf00717ed1)\" style=\"fill: none; stroke: #cccccc; stroke-width: 0.8; stroke-linecap: round\"/>\n",
       "     </g>\n",
       "     <g id=\"text_4\">\n",
       "      <!-- smell coffee -->\n",
       "      <g style=\"fill: #262626\" transform=\"translate(359.680469 77.238438) scale(0.1 -0.1)\">\n",
       "       <use xlink:href=\"#DejaVuSans-73\"/>\n",
       "       <use xlink:href=\"#DejaVuSans-6d\" x=\"52.099609\"/>\n",
       "       <use xlink:href=\"#DejaVuSans-65\" x=\"149.511719\"/>\n",
       "       <use xlink:href=\"#DejaVuSans-6c\" x=\"211.035156\"/>\n",
       "       <use xlink:href=\"#DejaVuSans-6c\" x=\"238.818359\"/>\n",
       "       <use xlink:href=\"#DejaVuSans-20\" x=\"266.601562\"/>\n",
       "       <use xlink:href=\"#DejaVuSans-63\" x=\"298.388672\"/>\n",
       "       <use xlink:href=\"#DejaVuSans-6f\" x=\"353.369141\"/>\n",
       "       <use xlink:href=\"#DejaVuSans-66\" x=\"414.550781\"/>\n",
       "       <use xlink:href=\"#DejaVuSans-66\" x=\"449.755859\"/>\n",
       "       <use xlink:href=\"#DejaVuSans-65\" x=\"484.960938\"/>\n",
       "       <use xlink:href=\"#DejaVuSans-65\" x=\"546.484375\"/>\n",
       "      </g>\n",
       "     </g>\n",
       "    </g>\n",
       "    <g id=\"xtick_5\">\n",
       "     <g id=\"line2d_5\">\n",
       "      <path d=\"M 459.83125 62.64 \n",
       "L 459.83125 7.2 \n",
       "\" clip-path=\"url(#pcf00717ed1)\" style=\"fill: none; stroke: #cccccc; stroke-width: 0.8; stroke-linecap: round\"/>\n",
       "     </g>\n",
       "     <g id=\"text_5\">\n",
       "      <!-- smell taste -->\n",
       "      <g style=\"fill: #262626\" transform=\"translate(432.246875 77.238438) scale(0.1 -0.1)\">\n",
       "       <use xlink:href=\"#DejaVuSans-73\"/>\n",
       "       <use xlink:href=\"#DejaVuSans-6d\" x=\"52.099609\"/>\n",
       "       <use xlink:href=\"#DejaVuSans-65\" x=\"149.511719\"/>\n",
       "       <use xlink:href=\"#DejaVuSans-6c\" x=\"211.035156\"/>\n",
       "       <use xlink:href=\"#DejaVuSans-6c\" x=\"238.818359\"/>\n",
       "       <use xlink:href=\"#DejaVuSans-20\" x=\"266.601562\"/>\n",
       "       <use xlink:href=\"#DejaVuSans-74\" x=\"298.388672\"/>\n",
       "       <use xlink:href=\"#DejaVuSans-61\" x=\"337.597656\"/>\n",
       "       <use xlink:href=\"#DejaVuSans-73\" x=\"398.876953\"/>\n",
       "       <use xlink:href=\"#DejaVuSans-74\" x=\"450.976562\"/>\n",
       "       <use xlink:href=\"#DejaVuSans-65\" x=\"490.185547\"/>\n",
       "      </g>\n",
       "     </g>\n",
       "    </g>\n",
       "    <g id=\"xtick_6\">\n",
       "     <g id=\"line2d_6\">\n",
       "      <path d=\"M 529.58125 62.64 \n",
       "L 529.58125 7.2 \n",
       "\" clip-path=\"url(#pcf00717ed1)\" style=\"fill: none; stroke: #cccccc; stroke-width: 0.8; stroke-linecap: round\"/>\n",
       "     </g>\n",
       "     <g id=\"text_6\">\n",
       "      <!-- taste well -->\n",
       "      <g style=\"fill: #262626\" transform=\"translate(505.382812 77.238438) scale(0.1 -0.1)\">\n",
       "       <defs>\n",
       "        <path id=\"DejaVuSans-77\" d=\"M 269 3500 \n",
       "L 844 3500 \n",
       "L 1563 769 \n",
       "L 2278 3500 \n",
       "L 2956 3500 \n",
       "L 3675 769 \n",
       "L 4391 3500 \n",
       "L 4966 3500 \n",
       "L 4050 0 \n",
       "L 3372 0 \n",
       "L 2619 2869 \n",
       "L 1863 0 \n",
       "L 1184 0 \n",
       "L 269 3500 \n",
       "z\n",
       "\" transform=\"scale(0.015625)\"/>\n",
       "       </defs>\n",
       "       <use xlink:href=\"#DejaVuSans-74\"/>\n",
       "       <use xlink:href=\"#DejaVuSans-61\" x=\"39.208984\"/>\n",
       "       <use xlink:href=\"#DejaVuSans-73\" x=\"100.488281\"/>\n",
       "       <use xlink:href=\"#DejaVuSans-74\" x=\"152.587891\"/>\n",
       "       <use xlink:href=\"#DejaVuSans-65\" x=\"191.796875\"/>\n",
       "       <use xlink:href=\"#DejaVuSans-20\" x=\"253.320312\"/>\n",
       "       <use xlink:href=\"#DejaVuSans-77\" x=\"285.107422\"/>\n",
       "       <use xlink:href=\"#DejaVuSans-65\" x=\"366.894531\"/>\n",
       "       <use xlink:href=\"#DejaVuSans-6c\" x=\"428.417969\"/>\n",
       "       <use xlink:href=\"#DejaVuSans-6c\" x=\"456.201172\"/>\n",
       "      </g>\n",
       "     </g>\n",
       "    </g>\n",
       "    <g id=\"xtick_7\">\n",
       "     <g id=\"line2d_7\">\n",
       "      <path d=\"M 599.33125 62.64 \n",
       "L 599.33125 7.2 \n",
       "\" clip-path=\"url(#pcf00717ed1)\" style=\"fill: none; stroke: #cccccc; stroke-width: 0.8; stroke-linecap: round\"/>\n",
       "     </g>\n",
       "     <g id=\"text_7\">\n",
       "      <!-- tea smell -->\n",
       "      <g style=\"fill: #262626\" transform=\"translate(576.311719 77.238438) scale(0.1 -0.1)\">\n",
       "       <use xlink:href=\"#DejaVuSans-74\"/>\n",
       "       <use xlink:href=\"#DejaVuSans-65\" x=\"39.208984\"/>\n",
       "       <use xlink:href=\"#DejaVuSans-61\" x=\"100.732422\"/>\n",
       "       <use xlink:href=\"#DejaVuSans-20\" x=\"162.011719\"/>\n",
       "       <use xlink:href=\"#DejaVuSans-73\" x=\"193.798828\"/>\n",
       "       <use xlink:href=\"#DejaVuSans-6d\" x=\"245.898438\"/>\n",
       "       <use xlink:href=\"#DejaVuSans-65\" x=\"343.310547\"/>\n",
       "       <use xlink:href=\"#DejaVuSans-6c\" x=\"404.833984\"/>\n",
       "       <use xlink:href=\"#DejaVuSans-6c\" x=\"432.617188\"/>\n",
       "      </g>\n",
       "     </g>\n",
       "    </g>\n",
       "    <g id=\"xtick_8\">\n",
       "     <g id=\"line2d_8\">\n",
       "      <path d=\"M 669.08125 62.64 \n",
       "L 669.08125 7.2 \n",
       "\" clip-path=\"url(#pcf00717ed1)\" style=\"fill: none; stroke: #cccccc; stroke-width: 0.8; stroke-linecap: round\"/>\n",
       "     </g>\n",
       "     <g id=\"text_8\">\n",
       "      <!-- well coffee -->\n",
       "      <g style=\"fill: #262626\" transform=\"translate(642.066406 77.238438) scale(0.1 -0.1)\">\n",
       "       <use xlink:href=\"#DejaVuSans-77\"/>\n",
       "       <use xlink:href=\"#DejaVuSans-65\" x=\"81.787109\"/>\n",
       "       <use xlink:href=\"#DejaVuSans-6c\" x=\"143.310547\"/>\n",
       "       <use xlink:href=\"#DejaVuSans-6c\" x=\"171.09375\"/>\n",
       "       <use xlink:href=\"#DejaVuSans-20\" x=\"198.876953\"/>\n",
       "       <use xlink:href=\"#DejaVuSans-63\" x=\"230.664062\"/>\n",
       "       <use xlink:href=\"#DejaVuSans-6f\" x=\"285.644531\"/>\n",
       "       <use xlink:href=\"#DejaVuSans-66\" x=\"346.826172\"/>\n",
       "       <use xlink:href=\"#DejaVuSans-66\" x=\"382.03125\"/>\n",
       "       <use xlink:href=\"#DejaVuSans-65\" x=\"417.236328\"/>\n",
       "       <use xlink:href=\"#DejaVuSans-65\" x=\"478.759766\"/>\n",
       "      </g>\n",
       "     </g>\n",
       "    </g>\n",
       "   </g>\n",
       "   <g id=\"matplotlib.axis_2\">\n",
       "    <g id=\"ytick_1\">\n",
       "     <g id=\"line2d_9\">\n",
       "      <path d=\"M 145.95625 16.44 \n",
       "L 703.95625 16.44 \n",
       "\" clip-path=\"url(#pcf00717ed1)\" style=\"fill: none; stroke: #cccccc; stroke-width: 0.8; stroke-linecap: round\"/>\n",
       "     </g>\n",
       "     <g id=\"text_9\">\n",
       "      <!-- coffee tasty -->\n",
       "      <g style=\"fill: #262626\" transform=\"translate(79.717187 19.199375) scale(0.1 -0.1)\">\n",
       "       <use xlink:href=\"#DejaVuSans-63\"/>\n",
       "       <use xlink:href=\"#DejaVuSans-6f\" x=\"54.980469\"/>\n",
       "       <use xlink:href=\"#DejaVuSans-66\" x=\"116.162109\"/>\n",
       "       <use xlink:href=\"#DejaVuSans-66\" x=\"151.367188\"/>\n",
       "       <use xlink:href=\"#DejaVuSans-65\" x=\"186.572266\"/>\n",
       "       <use xlink:href=\"#DejaVuSans-65\" x=\"248.095703\"/>\n",
       "       <use xlink:href=\"#DejaVuSans-20\" x=\"309.619141\"/>\n",
       "       <use xlink:href=\"#DejaVuSans-74\" x=\"341.40625\"/>\n",
       "       <use xlink:href=\"#DejaVuSans-61\" x=\"380.615234\"/>\n",
       "       <use xlink:href=\"#DejaVuSans-73\" x=\"441.894531\"/>\n",
       "       <use xlink:href=\"#DejaVuSans-74\" x=\"493.994141\"/>\n",
       "       <use xlink:href=\"#DejaVuSans-79\" x=\"533.203125\"/>\n",
       "      </g>\n",
       "     </g>\n",
       "    </g>\n",
       "    <g id=\"ytick_2\">\n",
       "     <g id=\"line2d_10\">\n",
       "      <path d=\"M 145.95625 34.92 \n",
       "L 703.95625 34.92 \n",
       "\" clip-path=\"url(#pcf00717ed1)\" style=\"fill: none; stroke: #cccccc; stroke-width: 0.8; stroke-linecap: round\"/>\n",
       "     </g>\n",
       "     <g id=\"text_10\">\n",
       "      <!-- tea smell taste well coffee -->\n",
       "      <g style=\"fill: #262626\" transform=\"translate(7.2 37.679375) scale(0.1 -0.1)\">\n",
       "       <use xlink:href=\"#DejaVuSans-74\"/>\n",
       "       <use xlink:href=\"#DejaVuSans-65\" x=\"39.208984\"/>\n",
       "       <use xlink:href=\"#DejaVuSans-61\" x=\"100.732422\"/>\n",
       "       <use xlink:href=\"#DejaVuSans-20\" x=\"162.011719\"/>\n",
       "       <use xlink:href=\"#DejaVuSans-73\" x=\"193.798828\"/>\n",
       "       <use xlink:href=\"#DejaVuSans-6d\" x=\"245.898438\"/>\n",
       "       <use xlink:href=\"#DejaVuSans-65\" x=\"343.310547\"/>\n",
       "       <use xlink:href=\"#DejaVuSans-6c\" x=\"404.833984\"/>\n",
       "       <use xlink:href=\"#DejaVuSans-6c\" x=\"432.617188\"/>\n",
       "       <use xlink:href=\"#DejaVuSans-20\" x=\"460.400391\"/>\n",
       "       <use xlink:href=\"#DejaVuSans-74\" x=\"492.1875\"/>\n",
       "       <use xlink:href=\"#DejaVuSans-61\" x=\"531.396484\"/>\n",
       "       <use xlink:href=\"#DejaVuSans-73\" x=\"592.675781\"/>\n",
       "       <use xlink:href=\"#DejaVuSans-74\" x=\"644.775391\"/>\n",
       "       <use xlink:href=\"#DejaVuSans-65\" x=\"683.984375\"/>\n",
       "       <use xlink:href=\"#DejaVuSans-20\" x=\"745.507812\"/>\n",
       "       <use xlink:href=\"#DejaVuSans-77\" x=\"777.294922\"/>\n",
       "       <use xlink:href=\"#DejaVuSans-65\" x=\"859.082031\"/>\n",
       "       <use xlink:href=\"#DejaVuSans-6c\" x=\"920.605469\"/>\n",
       "       <use xlink:href=\"#DejaVuSans-6c\" x=\"948.388672\"/>\n",
       "       <use xlink:href=\"#DejaVuSans-20\" x=\"976.171875\"/>\n",
       "       <use xlink:href=\"#DejaVuSans-63\" x=\"1007.958984\"/>\n",
       "       <use xlink:href=\"#DejaVuSans-6f\" x=\"1062.939453\"/>\n",
       "       <use xlink:href=\"#DejaVuSans-66\" x=\"1124.121094\"/>\n",
       "       <use xlink:href=\"#DejaVuSans-66\" x=\"1159.326172\"/>\n",
       "       <use xlink:href=\"#DejaVuSans-65\" x=\"1194.53125\"/>\n",
       "       <use xlink:href=\"#DejaVuSans-65\" x=\"1256.054688\"/>\n",
       "      </g>\n",
       "     </g>\n",
       "    </g>\n",
       "    <g id=\"ytick_3\">\n",
       "     <g id=\"line2d_11\">\n",
       "      <path d=\"M 145.95625 53.4 \n",
       "L 703.95625 53.4 \n",
       "\" clip-path=\"url(#pcf00717ed1)\" style=\"fill: none; stroke: #cccccc; stroke-width: 0.8; stroke-linecap: round\"/>\n",
       "     </g>\n",
       "     <g id=\"text_11\">\n",
       "      <!-- good smell coffee smell -->\n",
       "      <g style=\"fill: #262626\" transform=\"translate(20.204687 56.159375) scale(0.1 -0.1)\">\n",
       "       <use xlink:href=\"#DejaVuSans-67\"/>\n",
       "       <use xlink:href=\"#DejaVuSans-6f\" x=\"63.476562\"/>\n",
       "       <use xlink:href=\"#DejaVuSans-6f\" x=\"124.658203\"/>\n",
       "       <use xlink:href=\"#DejaVuSans-64\" x=\"185.839844\"/>\n",
       "       <use xlink:href=\"#DejaVuSans-20\" x=\"249.316406\"/>\n",
       "       <use xlink:href=\"#DejaVuSans-73\" x=\"281.103516\"/>\n",
       "       <use xlink:href=\"#DejaVuSans-6d\" x=\"333.203125\"/>\n",
       "       <use xlink:href=\"#DejaVuSans-65\" x=\"430.615234\"/>\n",
       "       <use xlink:href=\"#DejaVuSans-6c\" x=\"492.138672\"/>\n",
       "       <use xlink:href=\"#DejaVuSans-6c\" x=\"519.921875\"/>\n",
       "       <use xlink:href=\"#DejaVuSans-20\" x=\"547.705078\"/>\n",
       "       <use xlink:href=\"#DejaVuSans-63\" x=\"579.492188\"/>\n",
       "       <use xlink:href=\"#DejaVuSans-6f\" x=\"634.472656\"/>\n",
       "       <use xlink:href=\"#DejaVuSans-66\" x=\"695.654297\"/>\n",
       "       <use xlink:href=\"#DejaVuSans-66\" x=\"730.859375\"/>\n",
       "       <use xlink:href=\"#DejaVuSans-65\" x=\"766.064453\"/>\n",
       "       <use xlink:href=\"#DejaVuSans-65\" x=\"827.587891\"/>\n",
       "       <use xlink:href=\"#DejaVuSans-20\" x=\"889.111328\"/>\n",
       "       <use xlink:href=\"#DejaVuSans-73\" x=\"920.898438\"/>\n",
       "       <use xlink:href=\"#DejaVuSans-6d\" x=\"972.998047\"/>\n",
       "       <use xlink:href=\"#DejaVuSans-65\" x=\"1070.410156\"/>\n",
       "       <use xlink:href=\"#DejaVuSans-6c\" x=\"1131.933594\"/>\n",
       "       <use xlink:href=\"#DejaVuSans-6c\" x=\"1159.716797\"/>\n",
       "      </g>\n",
       "     </g>\n",
       "    </g>\n",
       "   </g>\n",
       "   <g id=\"QuadMesh_1\">\n",
       "    <path d=\"M 145.95625 7.2 \n",
       "L 215.70625 7.2 \n",
       "L 215.70625 25.68 \n",
       "L 145.95625 25.68 \n",
       "L 145.95625 7.2 \n",
       "\" clip-path=\"url(#pcf00717ed1)\" style=\"fill: #f7fbff; stroke: #ffffff\"/>\n",
       "    <path d=\"M 215.70625 7.2 \n",
       "L 285.45625 7.2 \n",
       "L 285.45625 25.68 \n",
       "L 215.70625 25.68 \n",
       "L 215.70625 7.2 \n",
       "\" clip-path=\"url(#pcf00717ed1)\" style=\"fill: #08306b; stroke: #ffffff\"/>\n",
       "    <path d=\"M 285.45625 7.2 \n",
       "L 355.20625 7.2 \n",
       "L 355.20625 25.68 \n",
       "L 285.45625 25.68 \n",
       "L 285.45625 7.2 \n",
       "\" clip-path=\"url(#pcf00717ed1)\" style=\"fill: #f7fbff; stroke: #ffffff\"/>\n",
       "    <path d=\"M 355.20625 7.2 \n",
       "L 424.95625 7.2 \n",
       "L 424.95625 25.68 \n",
       "L 355.20625 25.68 \n",
       "L 355.20625 7.2 \n",
       "\" clip-path=\"url(#pcf00717ed1)\" style=\"fill: #f7fbff; stroke: #ffffff\"/>\n",
       "    <path d=\"M 424.95625 7.2 \n",
       "L 494.70625 7.2 \n",
       "L 494.70625 25.68 \n",
       "L 424.95625 25.68 \n",
       "L 424.95625 7.2 \n",
       "\" clip-path=\"url(#pcf00717ed1)\" style=\"fill: #f7fbff; stroke: #ffffff\"/>\n",
       "    <path d=\"M 494.70625 7.2 \n",
       "L 564.45625 7.2 \n",
       "L 564.45625 25.68 \n",
       "L 494.70625 25.68 \n",
       "L 494.70625 7.2 \n",
       "\" clip-path=\"url(#pcf00717ed1)\" style=\"fill: #f7fbff; stroke: #ffffff\"/>\n",
       "    <path d=\"M 564.45625 7.2 \n",
       "L 634.20625 7.2 \n",
       "L 634.20625 25.68 \n",
       "L 564.45625 25.68 \n",
       "L 564.45625 7.2 \n",
       "\" clip-path=\"url(#pcf00717ed1)\" style=\"fill: #f7fbff; stroke: #ffffff\"/>\n",
       "    <path d=\"M 634.20625 7.2 \n",
       "L 703.95625 7.2 \n",
       "L 703.95625 25.68 \n",
       "L 634.20625 25.68 \n",
       "L 634.20625 7.2 \n",
       "\" clip-path=\"url(#pcf00717ed1)\" style=\"fill: #f7fbff; stroke: #ffffff\"/>\n",
       "    <path d=\"M 145.95625 25.68 \n",
       "L 215.70625 25.68 \n",
       "L 215.70625 44.16 \n",
       "L 145.95625 44.16 \n",
       "L 145.95625 25.68 \n",
       "\" clip-path=\"url(#pcf00717ed1)\" style=\"fill: #f7fbff; stroke: #ffffff\"/>\n",
       "    <path d=\"M 215.70625 25.68 \n",
       "L 285.45625 25.68 \n",
       "L 285.45625 44.16 \n",
       "L 215.70625 44.16 \n",
       "L 215.70625 25.68 \n",
       "\" clip-path=\"url(#pcf00717ed1)\" style=\"fill: #f7fbff; stroke: #ffffff\"/>\n",
       "    <path d=\"M 285.45625 25.68 \n",
       "L 355.20625 25.68 \n",
       "L 355.20625 44.16 \n",
       "L 285.45625 44.16 \n",
       "L 285.45625 25.68 \n",
       "\" clip-path=\"url(#pcf00717ed1)\" style=\"fill: #f7fbff; stroke: #ffffff\"/>\n",
       "    <path d=\"M 355.20625 25.68 \n",
       "L 424.95625 25.68 \n",
       "L 424.95625 44.16 \n",
       "L 355.20625 44.16 \n",
       "L 355.20625 25.68 \n",
       "\" clip-path=\"url(#pcf00717ed1)\" style=\"fill: #f7fbff; stroke: #ffffff\"/>\n",
       "    <path d=\"M 424.95625 25.68 \n",
       "L 494.70625 25.68 \n",
       "L 494.70625 44.16 \n",
       "L 424.95625 44.16 \n",
       "L 424.95625 25.68 \n",
       "\" clip-path=\"url(#pcf00717ed1)\" style=\"fill: #08306b; stroke: #ffffff\"/>\n",
       "    <path d=\"M 494.70625 25.68 \n",
       "L 564.45625 25.68 \n",
       "L 564.45625 44.16 \n",
       "L 494.70625 44.16 \n",
       "L 494.70625 25.68 \n",
       "\" clip-path=\"url(#pcf00717ed1)\" style=\"fill: #08306b; stroke: #ffffff\"/>\n",
       "    <path d=\"M 564.45625 25.68 \n",
       "L 634.20625 25.68 \n",
       "L 634.20625 44.16 \n",
       "L 564.45625 44.16 \n",
       "L 564.45625 25.68 \n",
       "\" clip-path=\"url(#pcf00717ed1)\" style=\"fill: #08306b; stroke: #ffffff\"/>\n",
       "    <path d=\"M 634.20625 25.68 \n",
       "L 703.95625 25.68 \n",
       "L 703.95625 44.16 \n",
       "L 634.20625 44.16 \n",
       "L 634.20625 25.68 \n",
       "\" clip-path=\"url(#pcf00717ed1)\" style=\"fill: #08306b; stroke: #ffffff\"/>\n",
       "    <path d=\"M 145.95625 44.16 \n",
       "L 215.70625 44.16 \n",
       "L 215.70625 62.64 \n",
       "L 145.95625 62.64 \n",
       "L 145.95625 44.16 \n",
       "\" clip-path=\"url(#pcf00717ed1)\" style=\"fill: #08306b; stroke: #ffffff\"/>\n",
       "    <path d=\"M 215.70625 44.16 \n",
       "L 285.45625 44.16 \n",
       "L 285.45625 62.64 \n",
       "L 215.70625 62.64 \n",
       "L 215.70625 44.16 \n",
       "\" clip-path=\"url(#pcf00717ed1)\" style=\"fill: #f7fbff; stroke: #ffffff\"/>\n",
       "    <path d=\"M 285.45625 44.16 \n",
       "L 355.20625 44.16 \n",
       "L 355.20625 62.64 \n",
       "L 285.45625 62.64 \n",
       "L 285.45625 44.16 \n",
       "\" clip-path=\"url(#pcf00717ed1)\" style=\"fill: #08306b; stroke: #ffffff\"/>\n",
       "    <path d=\"M 355.20625 44.16 \n",
       "L 424.95625 44.16 \n",
       "L 424.95625 62.64 \n",
       "L 355.20625 62.64 \n",
       "L 355.20625 44.16 \n",
       "\" clip-path=\"url(#pcf00717ed1)\" style=\"fill: #08306b; stroke: #ffffff\"/>\n",
       "    <path d=\"M 424.95625 44.16 \n",
       "L 494.70625 44.16 \n",
       "L 494.70625 62.64 \n",
       "L 424.95625 62.64 \n",
       "L 424.95625 44.16 \n",
       "\" clip-path=\"url(#pcf00717ed1)\" style=\"fill: #f7fbff; stroke: #ffffff\"/>\n",
       "    <path d=\"M 494.70625 44.16 \n",
       "L 564.45625 44.16 \n",
       "L 564.45625 62.64 \n",
       "L 494.70625 62.64 \n",
       "L 494.70625 44.16 \n",
       "\" clip-path=\"url(#pcf00717ed1)\" style=\"fill: #f7fbff; stroke: #ffffff\"/>\n",
       "    <path d=\"M 564.45625 44.16 \n",
       "L 634.20625 44.16 \n",
       "L 634.20625 62.64 \n",
       "L 564.45625 62.64 \n",
       "L 564.45625 44.16 \n",
       "\" clip-path=\"url(#pcf00717ed1)\" style=\"fill: #f7fbff; stroke: #ffffff\"/>\n",
       "    <path d=\"M 634.20625 44.16 \n",
       "L 703.95625 44.16 \n",
       "L 703.95625 62.64 \n",
       "L 634.20625 62.64 \n",
       "L 634.20625 44.16 \n",
       "\" clip-path=\"url(#pcf00717ed1)\" style=\"fill: #f7fbff; stroke: #ffffff\"/>\n",
       "   </g>\n",
       "   <g id=\"text_12\">\n",
       "    <!-- 0 -->\n",
       "    <g style=\"fill: #262626\" transform=\"translate(177.65 19.199375) scale(0.1 -0.1)\">\n",
       "     <defs>\n",
       "      <path id=\"DejaVuSans-30\" d=\"M 2034 4250 \n",
       "Q 1547 4250 1301 3770 \n",
       "Q 1056 3291 1056 2328 \n",
       "Q 1056 1369 1301 889 \n",
       "Q 1547 409 2034 409 \n",
       "Q 2525 409 2770 889 \n",
       "Q 3016 1369 3016 2328 \n",
       "Q 3016 3291 2770 3770 \n",
       "Q 2525 4250 2034 4250 \n",
       "z\n",
       "M 2034 4750 \n",
       "Q 2819 4750 3233 4129 \n",
       "Q 3647 3509 3647 2328 \n",
       "Q 3647 1150 3233 529 \n",
       "Q 2819 -91 2034 -91 \n",
       "Q 1250 -91 836 529 \n",
       "Q 422 1150 422 2328 \n",
       "Q 422 3509 836 4129 \n",
       "Q 1250 4750 2034 4750 \n",
       "z\n",
       "\" transform=\"scale(0.015625)\"/>\n",
       "     </defs>\n",
       "     <use xlink:href=\"#DejaVuSans-30\"/>\n",
       "    </g>\n",
       "   </g>\n",
       "   <g id=\"text_13\">\n",
       "    <!-- 1 -->\n",
       "    <g style=\"fill: #ffffff\" transform=\"translate(247.4 19.199375) scale(0.1 -0.1)\">\n",
       "     <defs>\n",
       "      <path id=\"DejaVuSans-31\" d=\"M 794 531 \n",
       "L 1825 531 \n",
       "L 1825 4091 \n",
       "L 703 3866 \n",
       "L 703 4441 \n",
       "L 1819 4666 \n",
       "L 2450 4666 \n",
       "L 2450 531 \n",
       "L 3481 531 \n",
       "L 3481 0 \n",
       "L 794 0 \n",
       "L 794 531 \n",
       "z\n",
       "\" transform=\"scale(0.015625)\"/>\n",
       "     </defs>\n",
       "     <use xlink:href=\"#DejaVuSans-31\"/>\n",
       "    </g>\n",
       "   </g>\n",
       "   <g id=\"text_14\">\n",
       "    <!-- 0 -->\n",
       "    <g style=\"fill: #262626\" transform=\"translate(317.15 19.199375) scale(0.1 -0.1)\">\n",
       "     <use xlink:href=\"#DejaVuSans-30\"/>\n",
       "    </g>\n",
       "   </g>\n",
       "   <g id=\"text_15\">\n",
       "    <!-- 0 -->\n",
       "    <g style=\"fill: #262626\" transform=\"translate(386.9 19.199375) scale(0.1 -0.1)\">\n",
       "     <use xlink:href=\"#DejaVuSans-30\"/>\n",
       "    </g>\n",
       "   </g>\n",
       "   <g id=\"text_16\">\n",
       "    <!-- 0 -->\n",
       "    <g style=\"fill: #262626\" transform=\"translate(456.65 19.199375) scale(0.1 -0.1)\">\n",
       "     <use xlink:href=\"#DejaVuSans-30\"/>\n",
       "    </g>\n",
       "   </g>\n",
       "   <g id=\"text_17\">\n",
       "    <!-- 0 -->\n",
       "    <g style=\"fill: #262626\" transform=\"translate(526.4 19.199375) scale(0.1 -0.1)\">\n",
       "     <use xlink:href=\"#DejaVuSans-30\"/>\n",
       "    </g>\n",
       "   </g>\n",
       "   <g id=\"text_18\">\n",
       "    <!-- 0 -->\n",
       "    <g style=\"fill: #262626\" transform=\"translate(596.15 19.199375) scale(0.1 -0.1)\">\n",
       "     <use xlink:href=\"#DejaVuSans-30\"/>\n",
       "    </g>\n",
       "   </g>\n",
       "   <g id=\"text_19\">\n",
       "    <!-- 0 -->\n",
       "    <g style=\"fill: #262626\" transform=\"translate(665.9 19.199375) scale(0.1 -0.1)\">\n",
       "     <use xlink:href=\"#DejaVuSans-30\"/>\n",
       "    </g>\n",
       "   </g>\n",
       "   <g id=\"text_20\">\n",
       "    <!-- 0 -->\n",
       "    <g style=\"fill: #262626\" transform=\"translate(177.65 37.679375) scale(0.1 -0.1)\">\n",
       "     <use xlink:href=\"#DejaVuSans-30\"/>\n",
       "    </g>\n",
       "   </g>\n",
       "   <g id=\"text_21\">\n",
       "    <!-- 0 -->\n",
       "    <g style=\"fill: #262626\" transform=\"translate(247.4 37.679375) scale(0.1 -0.1)\">\n",
       "     <use xlink:href=\"#DejaVuSans-30\"/>\n",
       "    </g>\n",
       "   </g>\n",
       "   <g id=\"text_22\">\n",
       "    <!-- 0 -->\n",
       "    <g style=\"fill: #262626\" transform=\"translate(317.15 37.679375) scale(0.1 -0.1)\">\n",
       "     <use xlink:href=\"#DejaVuSans-30\"/>\n",
       "    </g>\n",
       "   </g>\n",
       "   <g id=\"text_23\">\n",
       "    <!-- 0 -->\n",
       "    <g style=\"fill: #262626\" transform=\"translate(386.9 37.679375) scale(0.1 -0.1)\">\n",
       "     <use xlink:href=\"#DejaVuSans-30\"/>\n",
       "    </g>\n",
       "   </g>\n",
       "   <g id=\"text_24\">\n",
       "    <!-- 1 -->\n",
       "    <g style=\"fill: #ffffff\" transform=\"translate(456.65 37.679375) scale(0.1 -0.1)\">\n",
       "     <use xlink:href=\"#DejaVuSans-31\"/>\n",
       "    </g>\n",
       "   </g>\n",
       "   <g id=\"text_25\">\n",
       "    <!-- 1 -->\n",
       "    <g style=\"fill: #ffffff\" transform=\"translate(526.4 37.679375) scale(0.1 -0.1)\">\n",
       "     <use xlink:href=\"#DejaVuSans-31\"/>\n",
       "    </g>\n",
       "   </g>\n",
       "   <g id=\"text_26\">\n",
       "    <!-- 1 -->\n",
       "    <g style=\"fill: #ffffff\" transform=\"translate(596.15 37.679375) scale(0.1 -0.1)\">\n",
       "     <use xlink:href=\"#DejaVuSans-31\"/>\n",
       "    </g>\n",
       "   </g>\n",
       "   <g id=\"text_27\">\n",
       "    <!-- 1 -->\n",
       "    <g style=\"fill: #ffffff\" transform=\"translate(665.9 37.679375) scale(0.1 -0.1)\">\n",
       "     <use xlink:href=\"#DejaVuSans-31\"/>\n",
       "    </g>\n",
       "   </g>\n",
       "   <g id=\"text_28\">\n",
       "    <!-- 1 -->\n",
       "    <g style=\"fill: #ffffff\" transform=\"translate(177.65 56.159375) scale(0.1 -0.1)\">\n",
       "     <use xlink:href=\"#DejaVuSans-31\"/>\n",
       "    </g>\n",
       "   </g>\n",
       "   <g id=\"text_29\">\n",
       "    <!-- 0 -->\n",
       "    <g style=\"fill: #262626\" transform=\"translate(247.4 56.159375) scale(0.1 -0.1)\">\n",
       "     <use xlink:href=\"#DejaVuSans-30\"/>\n",
       "    </g>\n",
       "   </g>\n",
       "   <g id=\"text_30\">\n",
       "    <!-- 1 -->\n",
       "    <g style=\"fill: #ffffff\" transform=\"translate(317.15 56.159375) scale(0.1 -0.1)\">\n",
       "     <use xlink:href=\"#DejaVuSans-31\"/>\n",
       "    </g>\n",
       "   </g>\n",
       "   <g id=\"text_31\">\n",
       "    <!-- 1 -->\n",
       "    <g style=\"fill: #ffffff\" transform=\"translate(386.9 56.159375) scale(0.1 -0.1)\">\n",
       "     <use xlink:href=\"#DejaVuSans-31\"/>\n",
       "    </g>\n",
       "   </g>\n",
       "   <g id=\"text_32\">\n",
       "    <!-- 0 -->\n",
       "    <g style=\"fill: #262626\" transform=\"translate(456.65 56.159375) scale(0.1 -0.1)\">\n",
       "     <use xlink:href=\"#DejaVuSans-30\"/>\n",
       "    </g>\n",
       "   </g>\n",
       "   <g id=\"text_33\">\n",
       "    <!-- 0 -->\n",
       "    <g style=\"fill: #262626\" transform=\"translate(526.4 56.159375) scale(0.1 -0.1)\">\n",
       "     <use xlink:href=\"#DejaVuSans-30\"/>\n",
       "    </g>\n",
       "   </g>\n",
       "   <g id=\"text_34\">\n",
       "    <!-- 0 -->\n",
       "    <g style=\"fill: #262626\" transform=\"translate(596.15 56.159375) scale(0.1 -0.1)\">\n",
       "     <use xlink:href=\"#DejaVuSans-30\"/>\n",
       "    </g>\n",
       "   </g>\n",
       "   <g id=\"text_35\">\n",
       "    <!-- 0 -->\n",
       "    <g style=\"fill: #262626\" transform=\"translate(665.9 56.159375) scale(0.1 -0.1)\">\n",
       "     <use xlink:href=\"#DejaVuSans-30\"/>\n",
       "    </g>\n",
       "   </g>\n",
       "  </g>\n",
       " </g>\n",
       " <defs>\n",
       "  <clipPath id=\"pcf00717ed1\">\n",
       "   <rect x=\"145.95625\" y=\"7.2\" width=\"558\" height=\"55.44\"/>\n",
       "  </clipPath>\n",
       " </defs>\n",
       "</svg>\n"
      ],
      "text/plain": [
       "<Figure size 1000x100 with 1 Axes>"
      ]
     },
     "metadata": {},
     "output_type": "display_data"
    }
   ],
   "source": [
    "plt.figure(figsize=(10, 1))\n",
    "g = sns.heatmap(df, cmap='Blues', annot=True, cbar=False, linewidths=1)"
   ]
  },
  {
   "cell_type": "markdown",
   "id": "caf59bae-cc3d-4db2-a296-b9f4f7a7af42",
   "metadata": {
    "id": "caf59bae-cc3d-4db2-a296-b9f4f7a7af42"
   },
   "source": [
    "Now these vectors are a bit more meaningful. Notice, in a way, bigrams are a contrived way to capture context in textual data."
   ]
  },
  {
   "cell_type": "markdown",
   "id": "3183a38a-45c4-4a74-adad-c75b6d88160a",
   "metadata": {
    "id": "3183a38a-45c4-4a74-adad-c75b6d88160a"
   },
   "source": [
    "### TFIDF Vectorizer\n",
    "\n",
    "Downsides of Count Vectorizer:\n",
    "\n",
    "- Counts can be too simplistic\n",
    "- High counts can dominate, especially for high frequency words or long documents\n",
    "- Each word is treated equally, when some terms might be more \"important\" than others\n",
    "\n",
    "We define TFIDF as:\n",
    "\n",
    "$$\n",
    "\\text{TF-IDF} = \\text{term frequency} * \\text{inverse document frequency}\n",
    "$$\n",
    "\n",
    "where:\n",
    "\n",
    "$$\n",
    "\\begin{align*}\n",
    "\\text{term frequency} &= \\frac{\\text{term count in document}}{\\text{total terms in document}} \\\\[8pt]\n",
    "\\text{inverse document frequency} &= \\log\\bigg(\\frac{\\text{total number of documents} + 1}{\\text{number of documents with term} + 1}\\bigg)\n",
    "\\end{align*}\n",
    "$$"
   ]
  },
  {
   "cell_type": "markdown",
   "id": "2d891846-787d-44a0-89b1-7dab09760aad",
   "metadata": {
    "id": "2d891846-787d-44a0-89b1-7dab09760aad"
   },
   "source": [
    "This measure is calculated for every term-document combination:\n",
    "\n",
    "- The **term frequency** measures the \"density\" of a word in a document\n",
    "- The **inverse document frequency** (without the $\\log$) measures the size of the corpus *in terms of* the number of documents containing the term. E.g., if IDF=5 then the corpus is 5 times the size of the \"sub-corpus\" of documents containing the term. The $\\log$ dampens the effect of the inverse document frequency as the denominator gets very small or the numerator gets very large.\n",
    "\n",
    "So, we can think of TF as the \"main\" measure, and IDF as the \"scaling\" factor:\n",
    "\n",
    "- Very common words across all documents will get a lower score.\n",
    "- Rare words considering all documents get a higher score."
   ]
  },
  {
   "cell_type": "code",
   "execution_count": 35,
   "id": "ddd99a33-c097-439d-932b-e5daaf0f3732",
   "metadata": {
    "id": "ddd99a33-c097-439d-932b-e5daaf0f3732",
    "tags": []
   },
   "outputs": [],
   "source": [
    "cv = TfidfVectorizer(max_df=1.0,\n",
    "                     min_df=1,\n",
    "                     max_features=None)\n",
    "\n",
    "X = cv.fit_transform(corpus_clean)\n",
    "\n",
    "df = pd.DataFrame(X.toarray(),\n",
    "                  index=corpus_clean,\n",
    "                  columns=cv.get_feature_names_out())"
   ]
  },
  {
   "cell_type": "code",
   "execution_count": 36,
   "id": "9cb374d9-a1e8-4943-968b-014ab077d5f5",
   "metadata": {
    "id": "9cb374d9-a1e8-4943-968b-014ab077d5f5",
    "outputId": "8cd7a37f-cf3c-484d-c0fa-786466720cc4",
    "tags": []
   },
   "outputs": [
    {
     "data": {
      "image/svg+xml": [
       "<?xml version=\"1.0\" encoding=\"utf-8\" standalone=\"no\"?>\n",
       "<!DOCTYPE svg PUBLIC \"-//W3C//DTD SVG 1.1//EN\"\n",
       "  \"http://www.w3.org/Graphics/SVG/1.1/DTD/svg11.dtd\">\n",
       "<svg xmlns:xlink=\"http://www.w3.org/1999/xlink\" width=\"510.27625pt\" height=\"184.129554pt\" viewBox=\"0 0 510.27625 184.129554\" xmlns=\"http://www.w3.org/2000/svg\" version=\"1.1\">\n",
       " <metadata>\n",
       "  <rdf:RDF xmlns:dc=\"http://purl.org/dc/elements/1.1/\" xmlns:cc=\"http://creativecommons.org/ns#\" xmlns:rdf=\"http://www.w3.org/1999/02/22-rdf-syntax-ns#\">\n",
       "   <cc:Work>\n",
       "    <dc:type rdf:resource=\"http://purl.org/dc/dcmitype/StillImage\"/>\n",
       "    <dc:date>2024-02-28T23:24:59.201961</dc:date>\n",
       "    <dc:format>image/svg+xml</dc:format>\n",
       "    <dc:creator>\n",
       "     <cc:Agent>\n",
       "      <dc:title>Matplotlib v3.8.2, https://matplotlib.org/</dc:title>\n",
       "     </cc:Agent>\n",
       "    </dc:creator>\n",
       "   </cc:Work>\n",
       "  </rdf:RDF>\n",
       " </metadata>\n",
       " <defs>\n",
       "  <style type=\"text/css\">*{stroke-linejoin: round; stroke-linecap: butt}</style>\n",
       " </defs>\n",
       " <g id=\"figure_1\">\n",
       "  <g id=\"patch_1\">\n",
       "   <path d=\"M 0 184.129554 \n",
       "L 510.27625 184.129554 \n",
       "L 510.27625 -0 \n",
       "L 0 -0 \n",
       "z\n",
       "\" style=\"fill: #ffffff\"/>\n",
       "  </g>\n",
       "  <g id=\"axes_1\">\n",
       "   <g id=\"patch_2\">\n",
       "    <path d=\"M 145.95625 160.251429 \n",
       "L 503.07625 160.251429 \n",
       "L 503.07625 7.2 \n",
       "L 145.95625 7.2 \n",
       "z\n",
       "\" style=\"fill: #ffffff\"/>\n",
       "   </g>\n",
       "   <g id=\"matplotlib.axis_1\">\n",
       "    <g id=\"xtick_1\">\n",
       "     <g id=\"line2d_1\">\n",
       "      <path d=\"M 171.464821 160.251429 \n",
       "L 171.464821 7.2 \n",
       "\" clip-path=\"url(#p84d7b5c6bc)\" style=\"fill: none; stroke: #cccccc; stroke-width: 0.8; stroke-linecap: round\"/>\n",
       "     </g>\n",
       "     <g id=\"text_1\">\n",
       "      <!-- coffee -->\n",
       "      <g style=\"fill: #262626\" transform=\"translate(155.98279 174.849866) scale(0.1 -0.1)\">\n",
       "       <defs>\n",
       "        <path id=\"DejaVuSans-63\" d=\"M 3122 3366 \n",
       "L 3122 2828 \n",
       "Q 2878 2963 2633 3030 \n",
       "Q 2388 3097 2138 3097 \n",
       "Q 1578 3097 1268 2742 \n",
       "Q 959 2388 959 1747 \n",
       "Q 959 1106 1268 751 \n",
       "Q 1578 397 2138 397 \n",
       "Q 2388 397 2633 464 \n",
       "Q 2878 531 3122 666 \n",
       "L 3122 134 \n",
       "Q 2881 22 2623 -34 \n",
       "Q 2366 -91 2075 -91 \n",
       "Q 1284 -91 818 406 \n",
       "Q 353 903 353 1747 \n",
       "Q 353 2603 823 3093 \n",
       "Q 1294 3584 2113 3584 \n",
       "Q 2378 3584 2631 3529 \n",
       "Q 2884 3475 3122 3366 \n",
       "z\n",
       "\" transform=\"scale(0.015625)\"/>\n",
       "        <path id=\"DejaVuSans-6f\" d=\"M 1959 3097 \n",
       "Q 1497 3097 1228 2736 \n",
       "Q 959 2375 959 1747 \n",
       "Q 959 1119 1226 758 \n",
       "Q 1494 397 1959 397 \n",
       "Q 2419 397 2687 759 \n",
       "Q 2956 1122 2956 1747 \n",
       "Q 2956 2369 2687 2733 \n",
       "Q 2419 3097 1959 3097 \n",
       "z\n",
       "M 1959 3584 \n",
       "Q 2709 3584 3137 3096 \n",
       "Q 3566 2609 3566 1747 \n",
       "Q 3566 888 3137 398 \n",
       "Q 2709 -91 1959 -91 \n",
       "Q 1206 -91 779 398 \n",
       "Q 353 888 353 1747 \n",
       "Q 353 2609 779 3096 \n",
       "Q 1206 3584 1959 3584 \n",
       "z\n",
       "\" transform=\"scale(0.015625)\"/>\n",
       "        <path id=\"DejaVuSans-66\" d=\"M 2375 4863 \n",
       "L 2375 4384 \n",
       "L 1825 4384 \n",
       "Q 1516 4384 1395 4259 \n",
       "Q 1275 4134 1275 3809 \n",
       "L 1275 3500 \n",
       "L 2222 3500 \n",
       "L 2222 3053 \n",
       "L 1275 3053 \n",
       "L 1275 0 \n",
       "L 697 0 \n",
       "L 697 3053 \n",
       "L 147 3053 \n",
       "L 147 3500 \n",
       "L 697 3500 \n",
       "L 697 3744 \n",
       "Q 697 4328 969 4595 \n",
       "Q 1241 4863 1831 4863 \n",
       "L 2375 4863 \n",
       "z\n",
       "\" transform=\"scale(0.015625)\"/>\n",
       "        <path id=\"DejaVuSans-65\" d=\"M 3597 1894 \n",
       "L 3597 1613 \n",
       "L 953 1613 \n",
       "Q 991 1019 1311 708 \n",
       "Q 1631 397 2203 397 \n",
       "Q 2534 397 2845 478 \n",
       "Q 3156 559 3463 722 \n",
       "L 3463 178 \n",
       "Q 3153 47 2828 -22 \n",
       "Q 2503 -91 2169 -91 \n",
       "Q 1331 -91 842 396 \n",
       "Q 353 884 353 1716 \n",
       "Q 353 2575 817 3079 \n",
       "Q 1281 3584 2069 3584 \n",
       "Q 2775 3584 3186 3129 \n",
       "Q 3597 2675 3597 1894 \n",
       "z\n",
       "M 3022 2063 \n",
       "Q 3016 2534 2758 2815 \n",
       "Q 2500 3097 2075 3097 \n",
       "Q 1594 3097 1305 2825 \n",
       "Q 1016 2553 972 2059 \n",
       "L 3022 2063 \n",
       "z\n",
       "\" transform=\"scale(0.015625)\"/>\n",
       "       </defs>\n",
       "       <use xlink:href=\"#DejaVuSans-63\"/>\n",
       "       <use xlink:href=\"#DejaVuSans-6f\" x=\"54.980469\"/>\n",
       "       <use xlink:href=\"#DejaVuSans-66\" x=\"116.162109\"/>\n",
       "       <use xlink:href=\"#DejaVuSans-66\" x=\"151.367188\"/>\n",
       "       <use xlink:href=\"#DejaVuSans-65\" x=\"186.572266\"/>\n",
       "       <use xlink:href=\"#DejaVuSans-65\" x=\"248.095703\"/>\n",
       "      </g>\n",
       "     </g>\n",
       "    </g>\n",
       "    <g id=\"xtick_2\">\n",
       "     <g id=\"line2d_2\">\n",
       "      <path d=\"M 222.481964 160.251429 \n",
       "L 222.481964 7.2 \n",
       "\" clip-path=\"url(#p84d7b5c6bc)\" style=\"fill: none; stroke: #cccccc; stroke-width: 0.8; stroke-linecap: round\"/>\n",
       "     </g>\n",
       "     <g id=\"text_2\">\n",
       "      <!-- good -->\n",
       "      <g style=\"fill: #262626\" transform=\"translate(210.014777 174.849866) scale(0.1 -0.1)\">\n",
       "       <defs>\n",
       "        <path id=\"DejaVuSans-67\" d=\"M 2906 1791 \n",
       "Q 2906 2416 2648 2759 \n",
       "Q 2391 3103 1925 3103 \n",
       "Q 1463 3103 1205 2759 \n",
       "Q 947 2416 947 1791 \n",
       "Q 947 1169 1205 825 \n",
       "Q 1463 481 1925 481 \n",
       "Q 2391 481 2648 825 \n",
       "Q 2906 1169 2906 1791 \n",
       "z\n",
       "M 3481 434 \n",
       "Q 3481 -459 3084 -895 \n",
       "Q 2688 -1331 1869 -1331 \n",
       "Q 1566 -1331 1297 -1286 \n",
       "Q 1028 -1241 775 -1147 \n",
       "L 775 -588 \n",
       "Q 1028 -725 1275 -790 \n",
       "Q 1522 -856 1778 -856 \n",
       "Q 2344 -856 2625 -561 \n",
       "Q 2906 -266 2906 331 \n",
       "L 2906 616 \n",
       "Q 2728 306 2450 153 \n",
       "Q 2172 0 1784 0 \n",
       "Q 1141 0 747 490 \n",
       "Q 353 981 353 1791 \n",
       "Q 353 2603 747 3093 \n",
       "Q 1141 3584 1784 3584 \n",
       "Q 2172 3584 2450 3431 \n",
       "Q 2728 3278 2906 2969 \n",
       "L 2906 3500 \n",
       "L 3481 3500 \n",
       "L 3481 434 \n",
       "z\n",
       "\" transform=\"scale(0.015625)\"/>\n",
       "        <path id=\"DejaVuSans-64\" d=\"M 2906 2969 \n",
       "L 2906 4863 \n",
       "L 3481 4863 \n",
       "L 3481 0 \n",
       "L 2906 0 \n",
       "L 2906 525 \n",
       "Q 2725 213 2448 61 \n",
       "Q 2172 -91 1784 -91 \n",
       "Q 1150 -91 751 415 \n",
       "Q 353 922 353 1747 \n",
       "Q 353 2572 751 3078 \n",
       "Q 1150 3584 1784 3584 \n",
       "Q 2172 3584 2448 3432 \n",
       "Q 2725 3281 2906 2969 \n",
       "z\n",
       "M 947 1747 \n",
       "Q 947 1113 1208 752 \n",
       "Q 1469 391 1925 391 \n",
       "Q 2381 391 2643 752 \n",
       "Q 2906 1113 2906 1747 \n",
       "Q 2906 2381 2643 2742 \n",
       "Q 2381 3103 1925 3103 \n",
       "Q 1469 3103 1208 2742 \n",
       "Q 947 2381 947 1747 \n",
       "z\n",
       "\" transform=\"scale(0.015625)\"/>\n",
       "       </defs>\n",
       "       <use xlink:href=\"#DejaVuSans-67\"/>\n",
       "       <use xlink:href=\"#DejaVuSans-6f\" x=\"63.476562\"/>\n",
       "       <use xlink:href=\"#DejaVuSans-6f\" x=\"124.658203\"/>\n",
       "       <use xlink:href=\"#DejaVuSans-64\" x=\"185.839844\"/>\n",
       "      </g>\n",
       "     </g>\n",
       "    </g>\n",
       "    <g id=\"xtick_3\">\n",
       "     <g id=\"line2d_3\">\n",
       "      <path d=\"M 273.499107 160.251429 \n",
       "L 273.499107 7.2 \n",
       "\" clip-path=\"url(#p84d7b5c6bc)\" style=\"fill: none; stroke: #cccccc; stroke-width: 0.8; stroke-linecap: round\"/>\n",
       "     </g>\n",
       "     <g id=\"text_3\">\n",
       "      <!-- smell -->\n",
       "      <g style=\"fill: #262626\" transform=\"translate(260.16942 174.849866) scale(0.1 -0.1)\">\n",
       "       <defs>\n",
       "        <path id=\"DejaVuSans-73\" d=\"M 2834 3397 \n",
       "L 2834 2853 \n",
       "Q 2591 2978 2328 3040 \n",
       "Q 2066 3103 1784 3103 \n",
       "Q 1356 3103 1142 2972 \n",
       "Q 928 2841 928 2578 \n",
       "Q 928 2378 1081 2264 \n",
       "Q 1234 2150 1697 2047 \n",
       "L 1894 2003 \n",
       "Q 2506 1872 2764 1633 \n",
       "Q 3022 1394 3022 966 \n",
       "Q 3022 478 2636 193 \n",
       "Q 2250 -91 1575 -91 \n",
       "Q 1294 -91 989 -36 \n",
       "Q 684 19 347 128 \n",
       "L 347 722 \n",
       "Q 666 556 975 473 \n",
       "Q 1284 391 1588 391 \n",
       "Q 1994 391 2212 530 \n",
       "Q 2431 669 2431 922 \n",
       "Q 2431 1156 2273 1281 \n",
       "Q 2116 1406 1581 1522 \n",
       "L 1381 1569 \n",
       "Q 847 1681 609 1914 \n",
       "Q 372 2147 372 2553 \n",
       "Q 372 3047 722 3315 \n",
       "Q 1072 3584 1716 3584 \n",
       "Q 2034 3584 2315 3537 \n",
       "Q 2597 3491 2834 3397 \n",
       "z\n",
       "\" transform=\"scale(0.015625)\"/>\n",
       "        <path id=\"DejaVuSans-6d\" d=\"M 3328 2828 \n",
       "Q 3544 3216 3844 3400 \n",
       "Q 4144 3584 4550 3584 \n",
       "Q 5097 3584 5394 3201 \n",
       "Q 5691 2819 5691 2113 \n",
       "L 5691 0 \n",
       "L 5113 0 \n",
       "L 5113 2094 \n",
       "Q 5113 2597 4934 2840 \n",
       "Q 4756 3084 4391 3084 \n",
       "Q 3944 3084 3684 2787 \n",
       "Q 3425 2491 3425 1978 \n",
       "L 3425 0 \n",
       "L 2847 0 \n",
       "L 2847 2094 \n",
       "Q 2847 2600 2669 2842 \n",
       "Q 2491 3084 2119 3084 \n",
       "Q 1678 3084 1418 2786 \n",
       "Q 1159 2488 1159 1978 \n",
       "L 1159 0 \n",
       "L 581 0 \n",
       "L 581 3500 \n",
       "L 1159 3500 \n",
       "L 1159 2956 \n",
       "Q 1356 3278 1631 3431 \n",
       "Q 1906 3584 2284 3584 \n",
       "Q 2666 3584 2933 3390 \n",
       "Q 3200 3197 3328 2828 \n",
       "z\n",
       "\" transform=\"scale(0.015625)\"/>\n",
       "        <path id=\"DejaVuSans-6c\" d=\"M 603 4863 \n",
       "L 1178 4863 \n",
       "L 1178 0 \n",
       "L 603 0 \n",
       "L 603 4863 \n",
       "z\n",
       "\" transform=\"scale(0.015625)\"/>\n",
       "       </defs>\n",
       "       <use xlink:href=\"#DejaVuSans-73\"/>\n",
       "       <use xlink:href=\"#DejaVuSans-6d\" x=\"52.099609\"/>\n",
       "       <use xlink:href=\"#DejaVuSans-65\" x=\"149.511719\"/>\n",
       "       <use xlink:href=\"#DejaVuSans-6c\" x=\"211.035156\"/>\n",
       "       <use xlink:href=\"#DejaVuSans-6c\" x=\"238.818359\"/>\n",
       "      </g>\n",
       "     </g>\n",
       "    </g>\n",
       "    <g id=\"xtick_4\">\n",
       "     <g id=\"line2d_4\">\n",
       "      <path d=\"M 324.51625 160.251429 \n",
       "L 324.51625 7.2 \n",
       "\" clip-path=\"url(#p84d7b5c6bc)\" style=\"fill: none; stroke: #cccccc; stroke-width: 0.8; stroke-linecap: round\"/>\n",
       "     </g>\n",
       "     <g id=\"text_4\">\n",
       "      <!-- taste -->\n",
       "      <g style=\"fill: #262626\" transform=\"translate(311.850625 174.849866) scale(0.1 -0.1)\">\n",
       "       <defs>\n",
       "        <path id=\"DejaVuSans-74\" d=\"M 1172 4494 \n",
       "L 1172 3500 \n",
       "L 2356 3500 \n",
       "L 2356 3053 \n",
       "L 1172 3053 \n",
       "L 1172 1153 \n",
       "Q 1172 725 1289 603 \n",
       "Q 1406 481 1766 481 \n",
       "L 2356 481 \n",
       "L 2356 0 \n",
       "L 1766 0 \n",
       "Q 1100 0 847 248 \n",
       "Q 594 497 594 1153 \n",
       "L 594 3053 \n",
       "L 172 3053 \n",
       "L 172 3500 \n",
       "L 594 3500 \n",
       "L 594 4494 \n",
       "L 1172 4494 \n",
       "z\n",
       "\" transform=\"scale(0.015625)\"/>\n",
       "        <path id=\"DejaVuSans-61\" d=\"M 2194 1759 \n",
       "Q 1497 1759 1228 1600 \n",
       "Q 959 1441 959 1056 \n",
       "Q 959 750 1161 570 \n",
       "Q 1363 391 1709 391 \n",
       "Q 2188 391 2477 730 \n",
       "Q 2766 1069 2766 1631 \n",
       "L 2766 1759 \n",
       "L 2194 1759 \n",
       "z\n",
       "M 3341 1997 \n",
       "L 3341 0 \n",
       "L 2766 0 \n",
       "L 2766 531 \n",
       "Q 2569 213 2275 61 \n",
       "Q 1981 -91 1556 -91 \n",
       "Q 1019 -91 701 211 \n",
       "Q 384 513 384 1019 \n",
       "Q 384 1609 779 1909 \n",
       "Q 1175 2209 1959 2209 \n",
       "L 2766 2209 \n",
       "L 2766 2266 \n",
       "Q 2766 2663 2505 2880 \n",
       "Q 2244 3097 1772 3097 \n",
       "Q 1472 3097 1187 3025 \n",
       "Q 903 2953 641 2809 \n",
       "L 641 3341 \n",
       "Q 956 3463 1253 3523 \n",
       "Q 1550 3584 1831 3584 \n",
       "Q 2591 3584 2966 3190 \n",
       "Q 3341 2797 3341 1997 \n",
       "z\n",
       "\" transform=\"scale(0.015625)\"/>\n",
       "       </defs>\n",
       "       <use xlink:href=\"#DejaVuSans-74\"/>\n",
       "       <use xlink:href=\"#DejaVuSans-61\" x=\"39.208984\"/>\n",
       "       <use xlink:href=\"#DejaVuSans-73\" x=\"100.488281\"/>\n",
       "       <use xlink:href=\"#DejaVuSans-74\" x=\"152.587891\"/>\n",
       "       <use xlink:href=\"#DejaVuSans-65\" x=\"191.796875\"/>\n",
       "      </g>\n",
       "     </g>\n",
       "    </g>\n",
       "    <g id=\"xtick_5\">\n",
       "     <g id=\"line2d_5\">\n",
       "      <path d=\"M 375.533393 160.251429 \n",
       "L 375.533393 7.2 \n",
       "\" clip-path=\"url(#p84d7b5c6bc)\" style=\"fill: none; stroke: #cccccc; stroke-width: 0.8; stroke-linecap: round\"/>\n",
       "     </g>\n",
       "     <g id=\"text_5\">\n",
       "      <!-- tasty -->\n",
       "      <g style=\"fill: #262626\" transform=\"translate(362.984955 174.849866) scale(0.1 -0.1)\">\n",
       "       <defs>\n",
       "        <path id=\"DejaVuSans-79\" d=\"M 2059 -325 \n",
       "Q 1816 -950 1584 -1140 \n",
       "Q 1353 -1331 966 -1331 \n",
       "L 506 -1331 \n",
       "L 506 -850 \n",
       "L 844 -850 \n",
       "Q 1081 -850 1212 -737 \n",
       "Q 1344 -625 1503 -206 \n",
       "L 1606 56 \n",
       "L 191 3500 \n",
       "L 800 3500 \n",
       "L 1894 763 \n",
       "L 2988 3500 \n",
       "L 3597 3500 \n",
       "L 2059 -325 \n",
       "z\n",
       "\" transform=\"scale(0.015625)\"/>\n",
       "       </defs>\n",
       "       <use xlink:href=\"#DejaVuSans-74\"/>\n",
       "       <use xlink:href=\"#DejaVuSans-61\" x=\"39.208984\"/>\n",
       "       <use xlink:href=\"#DejaVuSans-73\" x=\"100.488281\"/>\n",
       "       <use xlink:href=\"#DejaVuSans-74\" x=\"152.587891\"/>\n",
       "       <use xlink:href=\"#DejaVuSans-79\" x=\"191.796875\"/>\n",
       "      </g>\n",
       "     </g>\n",
       "    </g>\n",
       "    <g id=\"xtick_6\">\n",
       "     <g id=\"line2d_6\">\n",
       "      <path d=\"M 426.550536 160.251429 \n",
       "L 426.550536 7.2 \n",
       "\" clip-path=\"url(#p84d7b5c6bc)\" style=\"fill: none; stroke: #cccccc; stroke-width: 0.8; stroke-linecap: round\"/>\n",
       "     </g>\n",
       "     <g id=\"text_6\">\n",
       "      <!-- tea -->\n",
       "      <g style=\"fill: #262626\" transform=\"translate(418.449754 174.849866) scale(0.1 -0.1)\">\n",
       "       <use xlink:href=\"#DejaVuSans-74\"/>\n",
       "       <use xlink:href=\"#DejaVuSans-65\" x=\"39.208984\"/>\n",
       "       <use xlink:href=\"#DejaVuSans-61\" x=\"100.732422\"/>\n",
       "      </g>\n",
       "     </g>\n",
       "    </g>\n",
       "    <g id=\"xtick_7\">\n",
       "     <g id=\"line2d_7\">\n",
       "      <path d=\"M 477.567679 160.251429 \n",
       "L 477.567679 7.2 \n",
       "\" clip-path=\"url(#p84d7b5c6bc)\" style=\"fill: none; stroke: #cccccc; stroke-width: 0.8; stroke-linecap: round\"/>\n",
       "     </g>\n",
       "     <g id=\"text_7\">\n",
       "      <!-- well -->\n",
       "      <g style=\"fill: #262626\" transform=\"translate(467.623929 174.849866) scale(0.1 -0.1)\">\n",
       "       <defs>\n",
       "        <path id=\"DejaVuSans-77\" d=\"M 269 3500 \n",
       "L 844 3500 \n",
       "L 1563 769 \n",
       "L 2278 3500 \n",
       "L 2956 3500 \n",
       "L 3675 769 \n",
       "L 4391 3500 \n",
       "L 4966 3500 \n",
       "L 4050 0 \n",
       "L 3372 0 \n",
       "L 2619 2869 \n",
       "L 1863 0 \n",
       "L 1184 0 \n",
       "L 269 3500 \n",
       "z\n",
       "\" transform=\"scale(0.015625)\"/>\n",
       "       </defs>\n",
       "       <use xlink:href=\"#DejaVuSans-77\"/>\n",
       "       <use xlink:href=\"#DejaVuSans-65\" x=\"81.787109\"/>\n",
       "       <use xlink:href=\"#DejaVuSans-6c\" x=\"143.310547\"/>\n",
       "       <use xlink:href=\"#DejaVuSans-6c\" x=\"171.09375\"/>\n",
       "      </g>\n",
       "     </g>\n",
       "    </g>\n",
       "   </g>\n",
       "   <g id=\"matplotlib.axis_2\">\n",
       "    <g id=\"ytick_1\">\n",
       "     <g id=\"line2d_8\">\n",
       "      <path d=\"M 145.95625 32.708571 \n",
       "L 503.07625 32.708571 \n",
       "\" clip-path=\"url(#p84d7b5c6bc)\" style=\"fill: none; stroke: #cccccc; stroke-width: 0.8; stroke-linecap: round\"/>\n",
       "     </g>\n",
       "     <g id=\"text_8\">\n",
       "      <!-- coffee tasty -->\n",
       "      <g style=\"fill: #262626\" transform=\"translate(79.717188 35.467946) scale(0.1 -0.1)\">\n",
       "       <defs>\n",
       "        <path id=\"DejaVuSans-20\" transform=\"scale(0.015625)\"/>\n",
       "       </defs>\n",
       "       <use xlink:href=\"#DejaVuSans-63\"/>\n",
       "       <use xlink:href=\"#DejaVuSans-6f\" x=\"54.980469\"/>\n",
       "       <use xlink:href=\"#DejaVuSans-66\" x=\"116.162109\"/>\n",
       "       <use xlink:href=\"#DejaVuSans-66\" x=\"151.367188\"/>\n",
       "       <use xlink:href=\"#DejaVuSans-65\" x=\"186.572266\"/>\n",
       "       <use xlink:href=\"#DejaVuSans-65\" x=\"248.095703\"/>\n",
       "       <use xlink:href=\"#DejaVuSans-20\" x=\"309.619141\"/>\n",
       "       <use xlink:href=\"#DejaVuSans-74\" x=\"341.40625\"/>\n",
       "       <use xlink:href=\"#DejaVuSans-61\" x=\"380.615234\"/>\n",
       "       <use xlink:href=\"#DejaVuSans-73\" x=\"441.894531\"/>\n",
       "       <use xlink:href=\"#DejaVuSans-74\" x=\"493.994141\"/>\n",
       "       <use xlink:href=\"#DejaVuSans-79\" x=\"533.203125\"/>\n",
       "      </g>\n",
       "     </g>\n",
       "    </g>\n",
       "    <g id=\"ytick_2\">\n",
       "     <g id=\"line2d_9\">\n",
       "      <path d=\"M 145.95625 83.725714 \n",
       "L 503.07625 83.725714 \n",
       "\" clip-path=\"url(#p84d7b5c6bc)\" style=\"fill: none; stroke: #cccccc; stroke-width: 0.8; stroke-linecap: round\"/>\n",
       "     </g>\n",
       "     <g id=\"text_9\">\n",
       "      <!-- tea smell taste well coffee -->\n",
       "      <g style=\"fill: #262626\" transform=\"translate(7.2 86.485089) scale(0.1 -0.1)\">\n",
       "       <use xlink:href=\"#DejaVuSans-74\"/>\n",
       "       <use xlink:href=\"#DejaVuSans-65\" x=\"39.208984\"/>\n",
       "       <use xlink:href=\"#DejaVuSans-61\" x=\"100.732422\"/>\n",
       "       <use xlink:href=\"#DejaVuSans-20\" x=\"162.011719\"/>\n",
       "       <use xlink:href=\"#DejaVuSans-73\" x=\"193.798828\"/>\n",
       "       <use xlink:href=\"#DejaVuSans-6d\" x=\"245.898438\"/>\n",
       "       <use xlink:href=\"#DejaVuSans-65\" x=\"343.310547\"/>\n",
       "       <use xlink:href=\"#DejaVuSans-6c\" x=\"404.833984\"/>\n",
       "       <use xlink:href=\"#DejaVuSans-6c\" x=\"432.617188\"/>\n",
       "       <use xlink:href=\"#DejaVuSans-20\" x=\"460.400391\"/>\n",
       "       <use xlink:href=\"#DejaVuSans-74\" x=\"492.1875\"/>\n",
       "       <use xlink:href=\"#DejaVuSans-61\" x=\"531.396484\"/>\n",
       "       <use xlink:href=\"#DejaVuSans-73\" x=\"592.675781\"/>\n",
       "       <use xlink:href=\"#DejaVuSans-74\" x=\"644.775391\"/>\n",
       "       <use xlink:href=\"#DejaVuSans-65\" x=\"683.984375\"/>\n",
       "       <use xlink:href=\"#DejaVuSans-20\" x=\"745.507812\"/>\n",
       "       <use xlink:href=\"#DejaVuSans-77\" x=\"777.294922\"/>\n",
       "       <use xlink:href=\"#DejaVuSans-65\" x=\"859.082031\"/>\n",
       "       <use xlink:href=\"#DejaVuSans-6c\" x=\"920.605469\"/>\n",
       "       <use xlink:href=\"#DejaVuSans-6c\" x=\"948.388672\"/>\n",
       "       <use xlink:href=\"#DejaVuSans-20\" x=\"976.171875\"/>\n",
       "       <use xlink:href=\"#DejaVuSans-63\" x=\"1007.958984\"/>\n",
       "       <use xlink:href=\"#DejaVuSans-6f\" x=\"1062.939453\"/>\n",
       "       <use xlink:href=\"#DejaVuSans-66\" x=\"1124.121094\"/>\n",
       "       <use xlink:href=\"#DejaVuSans-66\" x=\"1159.326172\"/>\n",
       "       <use xlink:href=\"#DejaVuSans-65\" x=\"1194.53125\"/>\n",
       "       <use xlink:href=\"#DejaVuSans-65\" x=\"1256.054688\"/>\n",
       "      </g>\n",
       "     </g>\n",
       "    </g>\n",
       "    <g id=\"ytick_3\">\n",
       "     <g id=\"line2d_10\">\n",
       "      <path d=\"M 145.95625 134.742857 \n",
       "L 503.07625 134.742857 \n",
       "\" clip-path=\"url(#p84d7b5c6bc)\" style=\"fill: none; stroke: #cccccc; stroke-width: 0.8; stroke-linecap: round\"/>\n",
       "     </g>\n",
       "     <g id=\"text_10\">\n",
       "      <!-- good smell coffee smell -->\n",
       "      <g style=\"fill: #262626\" transform=\"translate(20.204688 137.502232) scale(0.1 -0.1)\">\n",
       "       <use xlink:href=\"#DejaVuSans-67\"/>\n",
       "       <use xlink:href=\"#DejaVuSans-6f\" x=\"63.476562\"/>\n",
       "       <use xlink:href=\"#DejaVuSans-6f\" x=\"124.658203\"/>\n",
       "       <use xlink:href=\"#DejaVuSans-64\" x=\"185.839844\"/>\n",
       "       <use xlink:href=\"#DejaVuSans-20\" x=\"249.316406\"/>\n",
       "       <use xlink:href=\"#DejaVuSans-73\" x=\"281.103516\"/>\n",
       "       <use xlink:href=\"#DejaVuSans-6d\" x=\"333.203125\"/>\n",
       "       <use xlink:href=\"#DejaVuSans-65\" x=\"430.615234\"/>\n",
       "       <use xlink:href=\"#DejaVuSans-6c\" x=\"492.138672\"/>\n",
       "       <use xlink:href=\"#DejaVuSans-6c\" x=\"519.921875\"/>\n",
       "       <use xlink:href=\"#DejaVuSans-20\" x=\"547.705078\"/>\n",
       "       <use xlink:href=\"#DejaVuSans-63\" x=\"579.492188\"/>\n",
       "       <use xlink:href=\"#DejaVuSans-6f\" x=\"634.472656\"/>\n",
       "       <use xlink:href=\"#DejaVuSans-66\" x=\"695.654297\"/>\n",
       "       <use xlink:href=\"#DejaVuSans-66\" x=\"730.859375\"/>\n",
       "       <use xlink:href=\"#DejaVuSans-65\" x=\"766.064453\"/>\n",
       "       <use xlink:href=\"#DejaVuSans-65\" x=\"827.587891\"/>\n",
       "       <use xlink:href=\"#DejaVuSans-20\" x=\"889.111328\"/>\n",
       "       <use xlink:href=\"#DejaVuSans-73\" x=\"920.898438\"/>\n",
       "       <use xlink:href=\"#DejaVuSans-6d\" x=\"972.998047\"/>\n",
       "       <use xlink:href=\"#DejaVuSans-65\" x=\"1070.410156\"/>\n",
       "       <use xlink:href=\"#DejaVuSans-6c\" x=\"1131.933594\"/>\n",
       "       <use xlink:href=\"#DejaVuSans-6c\" x=\"1159.716797\"/>\n",
       "      </g>\n",
       "     </g>\n",
       "    </g>\n",
       "   </g>\n",
       "   <g id=\"QuadMesh_1\">\n",
       "    <path d=\"M 145.95625 7.2 \n",
       "L 196.973393 7.2 \n",
       "L 196.973393 58.217143 \n",
       "L 145.95625 58.217143 \n",
       "L 145.95625 7.2 \n",
       "\" clip-path=\"url(#p84d7b5c6bc)\" style=\"fill: #4d99ca\"/>\n",
       "    <path d=\"M 196.973393 7.2 \n",
       "L 247.990536 7.2 \n",
       "L 247.990536 58.217143 \n",
       "L 196.973393 58.217143 \n",
       "L 196.973393 7.2 \n",
       "\" clip-path=\"url(#p84d7b5c6bc)\" style=\"fill: #f7fbff\"/>\n",
       "    <path d=\"M 247.990536 7.2 \n",
       "L 299.007679 7.2 \n",
       "L 299.007679 58.217143 \n",
       "L 247.990536 58.217143 \n",
       "L 247.990536 7.2 \n",
       "\" clip-path=\"url(#p84d7b5c6bc)\" style=\"fill: #f7fbff\"/>\n",
       "    <path d=\"M 299.007679 7.2 \n",
       "L 350.024821 7.2 \n",
       "L 350.024821 58.217143 \n",
       "L 299.007679 58.217143 \n",
       "L 299.007679 7.2 \n",
       "\" clip-path=\"url(#p84d7b5c6bc)\" style=\"fill: #f7fbff\"/>\n",
       "    <path d=\"M 350.024821 7.2 \n",
       "L 401.041964 7.2 \n",
       "L 401.041964 58.217143 \n",
       "L 350.024821 58.217143 \n",
       "L 350.024821 7.2 \n",
       "\" clip-path=\"url(#p84d7b5c6bc)\" style=\"fill: #08306b\"/>\n",
       "    <path d=\"M 401.041964 7.2 \n",
       "L 452.059107 7.2 \n",
       "L 452.059107 58.217143 \n",
       "L 401.041964 58.217143 \n",
       "L 401.041964 7.2 \n",
       "\" clip-path=\"url(#p84d7b5c6bc)\" style=\"fill: #f7fbff\"/>\n",
       "    <path d=\"M 452.059107 7.2 \n",
       "L 503.07625 7.2 \n",
       "L 503.07625 58.217143 \n",
       "L 452.059107 58.217143 \n",
       "L 452.059107 7.2 \n",
       "\" clip-path=\"url(#p84d7b5c6bc)\" style=\"fill: #f7fbff\"/>\n",
       "    <path d=\"M 145.95625 58.217143 \n",
       "L 196.973393 58.217143 \n",
       "L 196.973393 109.234286 \n",
       "L 145.95625 109.234286 \n",
       "L 145.95625 58.217143 \n",
       "\" clip-path=\"url(#p84d7b5c6bc)\" style=\"fill: #a8cee4\"/>\n",
       "    <path d=\"M 196.973393 58.217143 \n",
       "L 247.990536 58.217143 \n",
       "L 247.990536 109.234286 \n",
       "L 196.973393 109.234286 \n",
       "L 196.973393 58.217143 \n",
       "\" clip-path=\"url(#p84d7b5c6bc)\" style=\"fill: #f7fbff\"/>\n",
       "    <path d=\"M 247.990536 58.217143 \n",
       "L 299.007679 58.217143 \n",
       "L 299.007679 109.234286 \n",
       "L 247.990536 109.234286 \n",
       "L 247.990536 58.217143 \n",
       "\" clip-path=\"url(#p84d7b5c6bc)\" style=\"fill: #81badb\"/>\n",
       "    <path d=\"M 299.007679 58.217143 \n",
       "L 350.024821 58.217143 \n",
       "L 350.024821 109.234286 \n",
       "L 299.007679 109.234286 \n",
       "L 299.007679 58.217143 \n",
       "\" clip-path=\"url(#p84d7b5c6bc)\" style=\"fill: #4e9acb\"/>\n",
       "    <path d=\"M 350.024821 58.217143 \n",
       "L 401.041964 58.217143 \n",
       "L 401.041964 109.234286 \n",
       "L 350.024821 109.234286 \n",
       "L 350.024821 58.217143 \n",
       "\" clip-path=\"url(#p84d7b5c6bc)\" style=\"fill: #f7fbff\"/>\n",
       "    <path d=\"M 401.041964 58.217143 \n",
       "L 452.059107 58.217143 \n",
       "L 452.059107 109.234286 \n",
       "L 401.041964 109.234286 \n",
       "L 401.041964 58.217143 \n",
       "\" clip-path=\"url(#p84d7b5c6bc)\" style=\"fill: #4e9acb\"/>\n",
       "    <path d=\"M 452.059107 58.217143 \n",
       "L 503.07625 58.217143 \n",
       "L 503.07625 109.234286 \n",
       "L 452.059107 109.234286 \n",
       "L 452.059107 58.217143 \n",
       "\" clip-path=\"url(#p84d7b5c6bc)\" style=\"fill: #4e9acb\"/>\n",
       "    <path d=\"M 145.95625 109.234286 \n",
       "L 196.973393 109.234286 \n",
       "L 196.973393 160.251429 \n",
       "L 145.95625 160.251429 \n",
       "L 145.95625 109.234286 \n",
       "\" clip-path=\"url(#p84d7b5c6bc)\" style=\"fill: #a4cce3\"/>\n",
       "    <path d=\"M 196.973393 109.234286 \n",
       "L 247.990536 109.234286 \n",
       "L 247.990536 160.251429 \n",
       "L 196.973393 160.251429 \n",
       "L 196.973393 109.234286 \n",
       "\" clip-path=\"url(#p84d7b5c6bc)\" style=\"fill: #4896c8\"/>\n",
       "    <path d=\"M 247.990536 109.234286 \n",
       "L 299.007679 109.234286 \n",
       "L 299.007679 160.251429 \n",
       "L 247.990536 160.251429 \n",
       "L 247.990536 109.234286 \n",
       "\" clip-path=\"url(#p84d7b5c6bc)\" style=\"fill: #084488\"/>\n",
       "    <path d=\"M 299.007679 109.234286 \n",
       "L 350.024821 109.234286 \n",
       "L 350.024821 160.251429 \n",
       "L 299.007679 160.251429 \n",
       "L 299.007679 109.234286 \n",
       "\" clip-path=\"url(#p84d7b5c6bc)\" style=\"fill: #f7fbff\"/>\n",
       "    <path d=\"M 350.024821 109.234286 \n",
       "L 401.041964 109.234286 \n",
       "L 401.041964 160.251429 \n",
       "L 350.024821 160.251429 \n",
       "L 350.024821 109.234286 \n",
       "\" clip-path=\"url(#p84d7b5c6bc)\" style=\"fill: #f7fbff\"/>\n",
       "    <path d=\"M 401.041964 109.234286 \n",
       "L 452.059107 109.234286 \n",
       "L 452.059107 160.251429 \n",
       "L 401.041964 160.251429 \n",
       "L 401.041964 109.234286 \n",
       "\" clip-path=\"url(#p84d7b5c6bc)\" style=\"fill: #f7fbff\"/>\n",
       "    <path d=\"M 452.059107 109.234286 \n",
       "L 503.07625 109.234286 \n",
       "L 503.07625 160.251429 \n",
       "L 452.059107 160.251429 \n",
       "L 452.059107 109.234286 \n",
       "\" clip-path=\"url(#p84d7b5c6bc)\" style=\"fill: #f7fbff\"/>\n",
       "   </g>\n",
       "   <g id=\"text_11\">\n",
       "    <!-- 0.51 -->\n",
       "    <g style=\"fill: #ffffff\" transform=\"translate(160.332009 35.467946) scale(0.1 -0.1)\">\n",
       "     <defs>\n",
       "      <path id=\"DejaVuSans-30\" d=\"M 2034 4250 \n",
       "Q 1547 4250 1301 3770 \n",
       "Q 1056 3291 1056 2328 \n",
       "Q 1056 1369 1301 889 \n",
       "Q 1547 409 2034 409 \n",
       "Q 2525 409 2770 889 \n",
       "Q 3016 1369 3016 2328 \n",
       "Q 3016 3291 2770 3770 \n",
       "Q 2525 4250 2034 4250 \n",
       "z\n",
       "M 2034 4750 \n",
       "Q 2819 4750 3233 4129 \n",
       "Q 3647 3509 3647 2328 \n",
       "Q 3647 1150 3233 529 \n",
       "Q 2819 -91 2034 -91 \n",
       "Q 1250 -91 836 529 \n",
       "Q 422 1150 422 2328 \n",
       "Q 422 3509 836 4129 \n",
       "Q 1250 4750 2034 4750 \n",
       "z\n",
       "\" transform=\"scale(0.015625)\"/>\n",
       "      <path id=\"DejaVuSans-2e\" d=\"M 684 794 \n",
       "L 1344 794 \n",
       "L 1344 0 \n",
       "L 684 0 \n",
       "L 684 794 \n",
       "z\n",
       "\" transform=\"scale(0.015625)\"/>\n",
       "      <path id=\"DejaVuSans-35\" d=\"M 691 4666 \n",
       "L 3169 4666 \n",
       "L 3169 4134 \n",
       "L 1269 4134 \n",
       "L 1269 2991 \n",
       "Q 1406 3038 1543 3061 \n",
       "Q 1681 3084 1819 3084 \n",
       "Q 2600 3084 3056 2656 \n",
       "Q 3513 2228 3513 1497 \n",
       "Q 3513 744 3044 326 \n",
       "Q 2575 -91 1722 -91 \n",
       "Q 1428 -91 1123 -41 \n",
       "Q 819 9 494 109 \n",
       "L 494 744 \n",
       "Q 775 591 1075 516 \n",
       "Q 1375 441 1709 441 \n",
       "Q 2250 441 2565 725 \n",
       "Q 2881 1009 2881 1497 \n",
       "Q 2881 1984 2565 2268 \n",
       "Q 2250 2553 1709 2553 \n",
       "Q 1456 2553 1204 2497 \n",
       "Q 953 2441 691 2322 \n",
       "L 691 4666 \n",
       "z\n",
       "\" transform=\"scale(0.015625)\"/>\n",
       "      <path id=\"DejaVuSans-31\" d=\"M 794 531 \n",
       "L 1825 531 \n",
       "L 1825 4091 \n",
       "L 703 3866 \n",
       "L 703 4441 \n",
       "L 1819 4666 \n",
       "L 2450 4666 \n",
       "L 2450 531 \n",
       "L 3481 531 \n",
       "L 3481 0 \n",
       "L 794 0 \n",
       "L 794 531 \n",
       "z\n",
       "\" transform=\"scale(0.015625)\"/>\n",
       "     </defs>\n",
       "     <use xlink:href=\"#DejaVuSans-30\"/>\n",
       "     <use xlink:href=\"#DejaVuSans-2e\" x=\"63.623047\"/>\n",
       "     <use xlink:href=\"#DejaVuSans-35\" x=\"95.410156\"/>\n",
       "     <use xlink:href=\"#DejaVuSans-31\" x=\"159.033203\"/>\n",
       "    </g>\n",
       "   </g>\n",
       "   <g id=\"text_12\">\n",
       "    <!-- 0 -->\n",
       "    <g style=\"fill: #262626\" transform=\"translate(219.300714 35.467946) scale(0.1 -0.1)\">\n",
       "     <use xlink:href=\"#DejaVuSans-30\"/>\n",
       "    </g>\n",
       "   </g>\n",
       "   <g id=\"text_13\">\n",
       "    <!-- 0 -->\n",
       "    <g style=\"fill: #262626\" transform=\"translate(270.317857 35.467946) scale(0.1 -0.1)\">\n",
       "     <use xlink:href=\"#DejaVuSans-30\"/>\n",
       "    </g>\n",
       "   </g>\n",
       "   <g id=\"text_14\">\n",
       "    <!-- 0 -->\n",
       "    <g style=\"fill: #262626\" transform=\"translate(321.335 35.467946) scale(0.1 -0.1)\">\n",
       "     <use xlink:href=\"#DejaVuSans-30\"/>\n",
       "    </g>\n",
       "   </g>\n",
       "   <g id=\"text_15\">\n",
       "    <!-- 0.86 -->\n",
       "    <g style=\"fill: #ffffff\" transform=\"translate(364.40058 35.467946) scale(0.1 -0.1)\">\n",
       "     <defs>\n",
       "      <path id=\"DejaVuSans-38\" d=\"M 2034 2216 \n",
       "Q 1584 2216 1326 1975 \n",
       "Q 1069 1734 1069 1313 \n",
       "Q 1069 891 1326 650 \n",
       "Q 1584 409 2034 409 \n",
       "Q 2484 409 2743 651 \n",
       "Q 3003 894 3003 1313 \n",
       "Q 3003 1734 2745 1975 \n",
       "Q 2488 2216 2034 2216 \n",
       "z\n",
       "M 1403 2484 \n",
       "Q 997 2584 770 2862 \n",
       "Q 544 3141 544 3541 \n",
       "Q 544 4100 942 4425 \n",
       "Q 1341 4750 2034 4750 \n",
       "Q 2731 4750 3128 4425 \n",
       "Q 3525 4100 3525 3541 \n",
       "Q 3525 3141 3298 2862 \n",
       "Q 3072 2584 2669 2484 \n",
       "Q 3125 2378 3379 2068 \n",
       "Q 3634 1759 3634 1313 \n",
       "Q 3634 634 3220 271 \n",
       "Q 2806 -91 2034 -91 \n",
       "Q 1263 -91 848 271 \n",
       "Q 434 634 434 1313 \n",
       "Q 434 1759 690 2068 \n",
       "Q 947 2378 1403 2484 \n",
       "z\n",
       "M 1172 3481 \n",
       "Q 1172 3119 1398 2916 \n",
       "Q 1625 2713 2034 2713 \n",
       "Q 2441 2713 2670 2916 \n",
       "Q 2900 3119 2900 3481 \n",
       "Q 2900 3844 2670 4047 \n",
       "Q 2441 4250 2034 4250 \n",
       "Q 1625 4250 1398 4047 \n",
       "Q 1172 3844 1172 3481 \n",
       "z\n",
       "\" transform=\"scale(0.015625)\"/>\n",
       "      <path id=\"DejaVuSans-36\" d=\"M 2113 2584 \n",
       "Q 1688 2584 1439 2293 \n",
       "Q 1191 2003 1191 1497 \n",
       "Q 1191 994 1439 701 \n",
       "Q 1688 409 2113 409 \n",
       "Q 2538 409 2786 701 \n",
       "Q 3034 994 3034 1497 \n",
       "Q 3034 2003 2786 2293 \n",
       "Q 2538 2584 2113 2584 \n",
       "z\n",
       "M 3366 4563 \n",
       "L 3366 3988 \n",
       "Q 3128 4100 2886 4159 \n",
       "Q 2644 4219 2406 4219 \n",
       "Q 1781 4219 1451 3797 \n",
       "Q 1122 3375 1075 2522 \n",
       "Q 1259 2794 1537 2939 \n",
       "Q 1816 3084 2150 3084 \n",
       "Q 2853 3084 3261 2657 \n",
       "Q 3669 2231 3669 1497 \n",
       "Q 3669 778 3244 343 \n",
       "Q 2819 -91 2113 -91 \n",
       "Q 1303 -91 875 529 \n",
       "Q 447 1150 447 2328 \n",
       "Q 447 3434 972 4092 \n",
       "Q 1497 4750 2381 4750 \n",
       "Q 2619 4750 2861 4703 \n",
       "Q 3103 4656 3366 4563 \n",
       "z\n",
       "\" transform=\"scale(0.015625)\"/>\n",
       "     </defs>\n",
       "     <use xlink:href=\"#DejaVuSans-30\"/>\n",
       "     <use xlink:href=\"#DejaVuSans-2e\" x=\"63.623047\"/>\n",
       "     <use xlink:href=\"#DejaVuSans-38\" x=\"95.410156\"/>\n",
       "     <use xlink:href=\"#DejaVuSans-36\" x=\"159.033203\"/>\n",
       "    </g>\n",
       "   </g>\n",
       "   <g id=\"text_16\">\n",
       "    <!-- 0 -->\n",
       "    <g style=\"fill: #262626\" transform=\"translate(423.369286 35.467946) scale(0.1 -0.1)\">\n",
       "     <use xlink:href=\"#DejaVuSans-30\"/>\n",
       "    </g>\n",
       "   </g>\n",
       "   <g id=\"text_17\">\n",
       "    <!-- 0 -->\n",
       "    <g style=\"fill: #262626\" transform=\"translate(474.386429 35.467946) scale(0.1 -0.1)\">\n",
       "     <use xlink:href=\"#DejaVuSans-30\"/>\n",
       "    </g>\n",
       "   </g>\n",
       "   <g id=\"text_18\">\n",
       "    <!-- 0.3 -->\n",
       "    <g style=\"fill: #262626\" transform=\"translate(163.513259 86.485089) scale(0.1 -0.1)\">\n",
       "     <defs>\n",
       "      <path id=\"DejaVuSans-33\" d=\"M 2597 2516 \n",
       "Q 3050 2419 3304 2112 \n",
       "Q 3559 1806 3559 1356 \n",
       "Q 3559 666 3084 287 \n",
       "Q 2609 -91 1734 -91 \n",
       "Q 1441 -91 1130 -33 \n",
       "Q 819 25 488 141 \n",
       "L 488 750 \n",
       "Q 750 597 1062 519 \n",
       "Q 1375 441 1716 441 \n",
       "Q 2309 441 2620 675 \n",
       "Q 2931 909 2931 1356 \n",
       "Q 2931 1769 2642 2001 \n",
       "Q 2353 2234 1838 2234 \n",
       "L 1294 2234 \n",
       "L 1294 2753 \n",
       "L 1863 2753 \n",
       "Q 2328 2753 2575 2939 \n",
       "Q 2822 3125 2822 3475 \n",
       "Q 2822 3834 2567 4026 \n",
       "Q 2313 4219 1838 4219 \n",
       "Q 1578 4219 1281 4162 \n",
       "Q 984 4106 628 3988 \n",
       "L 628 4550 \n",
       "Q 988 4650 1302 4700 \n",
       "Q 1616 4750 1894 4750 \n",
       "Q 2613 4750 3031 4423 \n",
       "Q 3450 4097 3450 3541 \n",
       "Q 3450 3153 3228 2886 \n",
       "Q 3006 2619 2597 2516 \n",
       "z\n",
       "\" transform=\"scale(0.015625)\"/>\n",
       "     </defs>\n",
       "     <use xlink:href=\"#DejaVuSans-30\"/>\n",
       "     <use xlink:href=\"#DejaVuSans-2e\" x=\"63.623047\"/>\n",
       "     <use xlink:href=\"#DejaVuSans-33\" x=\"95.410156\"/>\n",
       "    </g>\n",
       "   </g>\n",
       "   <g id=\"text_19\">\n",
       "    <!-- 0 -->\n",
       "    <g style=\"fill: #262626\" transform=\"translate(219.300714 86.485089) scale(0.1 -0.1)\">\n",
       "     <use xlink:href=\"#DejaVuSans-30\"/>\n",
       "    </g>\n",
       "   </g>\n",
       "   <g id=\"text_20\">\n",
       "    <!-- 0.38 -->\n",
       "    <g style=\"fill: #262626\" transform=\"translate(262.366295 86.485089) scale(0.1 -0.1)\">\n",
       "     <use xlink:href=\"#DejaVuSans-30\"/>\n",
       "     <use xlink:href=\"#DejaVuSans-2e\" x=\"63.623047\"/>\n",
       "     <use xlink:href=\"#DejaVuSans-33\" x=\"95.410156\"/>\n",
       "     <use xlink:href=\"#DejaVuSans-38\" x=\"159.033203\"/>\n",
       "    </g>\n",
       "   </g>\n",
       "   <g id=\"text_21\">\n",
       "    <!-- 0.5 -->\n",
       "    <g style=\"fill: #ffffff\" transform=\"translate(316.564687 86.485089) scale(0.1 -0.1)\">\n",
       "     <use xlink:href=\"#DejaVuSans-30\"/>\n",
       "     <use xlink:href=\"#DejaVuSans-2e\" x=\"63.623047\"/>\n",
       "     <use xlink:href=\"#DejaVuSans-35\" x=\"95.410156\"/>\n",
       "    </g>\n",
       "   </g>\n",
       "   <g id=\"text_22\">\n",
       "    <!-- 0 -->\n",
       "    <g style=\"fill: #262626\" transform=\"translate(372.352143 86.485089) scale(0.1 -0.1)\">\n",
       "     <use xlink:href=\"#DejaVuSans-30\"/>\n",
       "    </g>\n",
       "   </g>\n",
       "   <g id=\"text_23\">\n",
       "    <!-- 0.5 -->\n",
       "    <g style=\"fill: #ffffff\" transform=\"translate(418.598973 86.485089) scale(0.1 -0.1)\">\n",
       "     <use xlink:href=\"#DejaVuSans-30\"/>\n",
       "     <use xlink:href=\"#DejaVuSans-2e\" x=\"63.623047\"/>\n",
       "     <use xlink:href=\"#DejaVuSans-35\" x=\"95.410156\"/>\n",
       "    </g>\n",
       "   </g>\n",
       "   <g id=\"text_24\">\n",
       "    <!-- 0.5 -->\n",
       "    <g style=\"fill: #ffffff\" transform=\"translate(469.616116 86.485089) scale(0.1 -0.1)\">\n",
       "     <use xlink:href=\"#DejaVuSans-30\"/>\n",
       "     <use xlink:href=\"#DejaVuSans-2e\" x=\"63.623047\"/>\n",
       "     <use xlink:href=\"#DejaVuSans-35\" x=\"95.410156\"/>\n",
       "    </g>\n",
       "   </g>\n",
       "   <g id=\"text_25\">\n",
       "    <!-- 0.31 -->\n",
       "    <g style=\"fill: #262626\" transform=\"translate(160.332009 137.502232) scale(0.1 -0.1)\">\n",
       "     <use xlink:href=\"#DejaVuSans-30\"/>\n",
       "     <use xlink:href=\"#DejaVuSans-2e\" x=\"63.623047\"/>\n",
       "     <use xlink:href=\"#DejaVuSans-33\" x=\"95.410156\"/>\n",
       "     <use xlink:href=\"#DejaVuSans-31\" x=\"159.033203\"/>\n",
       "    </g>\n",
       "   </g>\n",
       "   <g id=\"text_26\">\n",
       "    <!-- 0.52 -->\n",
       "    <g style=\"fill: #ffffff\" transform=\"translate(211.349152 137.502232) scale(0.1 -0.1)\">\n",
       "     <defs>\n",
       "      <path id=\"DejaVuSans-32\" d=\"M 1228 531 \n",
       "L 3431 531 \n",
       "L 3431 0 \n",
       "L 469 0 \n",
       "L 469 531 \n",
       "Q 828 903 1448 1529 \n",
       "Q 2069 2156 2228 2338 \n",
       "Q 2531 2678 2651 2914 \n",
       "Q 2772 3150 2772 3378 \n",
       "Q 2772 3750 2511 3984 \n",
       "Q 2250 4219 1831 4219 \n",
       "Q 1534 4219 1204 4116 \n",
       "Q 875 4013 500 3803 \n",
       "L 500 4441 \n",
       "Q 881 4594 1212 4672 \n",
       "Q 1544 4750 1819 4750 \n",
       "Q 2544 4750 2975 4387 \n",
       "Q 3406 4025 3406 3419 \n",
       "Q 3406 3131 3298 2873 \n",
       "Q 3191 2616 2906 2266 \n",
       "Q 2828 2175 2409 1742 \n",
       "Q 1991 1309 1228 531 \n",
       "z\n",
       "\" transform=\"scale(0.015625)\"/>\n",
       "     </defs>\n",
       "     <use xlink:href=\"#DejaVuSans-30\"/>\n",
       "     <use xlink:href=\"#DejaVuSans-2e\" x=\"63.623047\"/>\n",
       "     <use xlink:href=\"#DejaVuSans-35\" x=\"95.410156\"/>\n",
       "     <use xlink:href=\"#DejaVuSans-32\" x=\"159.033203\"/>\n",
       "    </g>\n",
       "   </g>\n",
       "   <g id=\"text_27\">\n",
       "    <!-- 0.79 -->\n",
       "    <g style=\"fill: #ffffff\" transform=\"translate(262.366295 137.502232) scale(0.1 -0.1)\">\n",
       "     <defs>\n",
       "      <path id=\"DejaVuSans-37\" d=\"M 525 4666 \n",
       "L 3525 4666 \n",
       "L 3525 4397 \n",
       "L 1831 0 \n",
       "L 1172 0 \n",
       "L 2766 4134 \n",
       "L 525 4134 \n",
       "L 525 4666 \n",
       "z\n",
       "\" transform=\"scale(0.015625)\"/>\n",
       "      <path id=\"DejaVuSans-39\" d=\"M 703 97 \n",
       "L 703 672 \n",
       "Q 941 559 1184 500 \n",
       "Q 1428 441 1663 441 \n",
       "Q 2288 441 2617 861 \n",
       "Q 2947 1281 2994 2138 \n",
       "Q 2813 1869 2534 1725 \n",
       "Q 2256 1581 1919 1581 \n",
       "Q 1219 1581 811 2004 \n",
       "Q 403 2428 403 3163 \n",
       "Q 403 3881 828 4315 \n",
       "Q 1253 4750 1959 4750 \n",
       "Q 2769 4750 3195 4129 \n",
       "Q 3622 3509 3622 2328 \n",
       "Q 3622 1225 3098 567 \n",
       "Q 2575 -91 1691 -91 \n",
       "Q 1453 -91 1209 -44 \n",
       "Q 966 3 703 97 \n",
       "z\n",
       "M 1959 2075 \n",
       "Q 2384 2075 2632 2365 \n",
       "Q 2881 2656 2881 3163 \n",
       "Q 2881 3666 2632 3958 \n",
       "Q 2384 4250 1959 4250 \n",
       "Q 1534 4250 1286 3958 \n",
       "Q 1038 3666 1038 3163 \n",
       "Q 1038 2656 1286 2365 \n",
       "Q 1534 2075 1959 2075 \n",
       "z\n",
       "\" transform=\"scale(0.015625)\"/>\n",
       "     </defs>\n",
       "     <use xlink:href=\"#DejaVuSans-30\"/>\n",
       "     <use xlink:href=\"#DejaVuSans-2e\" x=\"63.623047\"/>\n",
       "     <use xlink:href=\"#DejaVuSans-37\" x=\"95.410156\"/>\n",
       "     <use xlink:href=\"#DejaVuSans-39\" x=\"159.033203\"/>\n",
       "    </g>\n",
       "   </g>\n",
       "   <g id=\"text_28\">\n",
       "    <!-- 0 -->\n",
       "    <g style=\"fill: #262626\" transform=\"translate(321.335 137.502232) scale(0.1 -0.1)\">\n",
       "     <use xlink:href=\"#DejaVuSans-30\"/>\n",
       "    </g>\n",
       "   </g>\n",
       "   <g id=\"text_29\">\n",
       "    <!-- 0 -->\n",
       "    <g style=\"fill: #262626\" transform=\"translate(372.352143 137.502232) scale(0.1 -0.1)\">\n",
       "     <use xlink:href=\"#DejaVuSans-30\"/>\n",
       "    </g>\n",
       "   </g>\n",
       "   <g id=\"text_30\">\n",
       "    <!-- 0 -->\n",
       "    <g style=\"fill: #262626\" transform=\"translate(423.369286 137.502232) scale(0.1 -0.1)\">\n",
       "     <use xlink:href=\"#DejaVuSans-30\"/>\n",
       "    </g>\n",
       "   </g>\n",
       "   <g id=\"text_31\">\n",
       "    <!-- 0 -->\n",
       "    <g style=\"fill: #262626\" transform=\"translate(474.386429 137.502232) scale(0.1 -0.1)\">\n",
       "     <use xlink:href=\"#DejaVuSans-30\"/>\n",
       "    </g>\n",
       "   </g>\n",
       "  </g>\n",
       " </g>\n",
       " <defs>\n",
       "  <clipPath id=\"p84d7b5c6bc\">\n",
       "   <rect x=\"145.95625\" y=\"7.2\" width=\"357.12\" height=\"153.051429\"/>\n",
       "  </clipPath>\n",
       " </defs>\n",
       "</svg>\n"
      ],
      "text/plain": [
       "<Figure size 640x480 with 1 Axes>"
      ]
     },
     "metadata": {},
     "output_type": "display_data"
    }
   ],
   "source": [
    "sns.heatmap(df, square=True, cmap='Blues', annot=True, cbar=False);"
   ]
  },
  {
   "cell_type": "markdown",
   "id": "30fddeb3-8080-4779-8446-e0162ae37f72",
   "metadata": {
    "id": "30fddeb3-8080-4779-8446-e0162ae37f72"
   },
   "source": [
    "## Topic Modeling\n",
    "\n",
    "### Matrix Decomposition\n",
    "\n",
    "The document term matrix $X$ is a matrix just like any other in Linear Algebra. Just so, it defines a row space (the documents represented as linear combinations of terms), and column space (terms represented as a linear combination of documents). With this, there are a few matrix decomposition methods we can use to extract further information about these documents and terms."
   ]
  },
  {
   "cell_type": "code",
   "execution_count": 37,
   "id": "6c890d21-4690-4ed4-8dfb-53ef9b6f42f9",
   "metadata": {
    "id": "6c890d21-4690-4ed4-8dfb-53ef9b6f42f9",
    "tags": []
   },
   "outputs": [],
   "source": [
    "from sklearn.decomposition import TruncatedSVD, NMF, PCA"
   ]
  },
  {
   "cell_type": "markdown",
   "id": "67649fa4-53da-4b86-bf6b-f4a6b91abf71",
   "metadata": {
    "id": "67649fa4-53da-4b86-bf6b-f4a6b91abf71"
   },
   "source": [
    "### Singular Value Decomposition\n",
    "\n",
    "Singular Value Decomposition is a guaranteed decomposition for any rectangular matrix. It creates the following equality:\n",
    "\n",
    "$$\n",
    "X = U\\Sigma V^\\top\n",
    "$$\n",
    "\n",
    "**Breifly**:\n",
    "- Each row of $U$ represents the corresponding document in terms of \"topics directions\" along the columns.\n",
    "- The rows of $V$ (columns of $V^\\top$) represent similarly represented version of the terms.\n",
    "- The $\\Sigma$ matrix contains the \"variance explained\" by each of these topics, sorted in descending order.\n",
    "\n",
    "As far as naming goes:\n",
    "\n",
    "- The analysis of these resulting matrices is called **Principal Components Analysis (PCA)**.\n",
    "- When used with text data, this analysis is called **Latent Semantic Analysis (LSA)**."
   ]
  },
  {
   "cell_type": "code",
   "execution_count": 38,
   "id": "a39a5da6-7aeb-48b1-a08a-675df0520433",
   "metadata": {
    "id": "a39a5da6-7aeb-48b1-a08a-675df0520433",
    "tags": []
   },
   "outputs": [],
   "source": [
    "# we need a list/array of strings to vectorize\n",
    "corpus = df_coffee['spacy_doc'].apply(tokenizer, args={'join_tokens':True})"
   ]
  },
  {
   "cell_type": "code",
   "execution_count": 39,
   "id": "4a524f11-0c93-4f7e-ac55-2068ff250a76",
   "metadata": {
    "tags": []
   },
   "outputs": [
    {
     "data": {
      "text/plain": [
       "(2092,)"
      ]
     },
     "execution_count": 39,
     "metadata": {},
     "output_type": "execute_result"
    }
   ],
   "source": [
    "corpus.shape"
   ]
  },
  {
   "cell_type": "code",
   "execution_count": 40,
   "id": "a818b28d-8343-4786-9fd9-b42197df5000",
   "metadata": {
    "id": "a818b28d-8343-4786-9fd9-b42197df5000",
    "tags": []
   },
   "outputs": [],
   "source": [
    "cv = TfidfVectorizer(max_df=0.9,\n",
    "                     min_df=0.1,\n",
    "                     max_features=None)\n",
    "\n",
    "X = cv.fit_transform(corpus)\n",
    "# df = pd.DataFrame(X, index=corpus, columns=cv.get_feature_names_out())"
   ]
  },
  {
   "cell_type": "code",
   "execution_count": 41,
   "id": "962ea3f2-9cf6-43dc-aeb0-55e64139b2bc",
   "metadata": {
    "tags": []
   },
   "outputs": [
    {
     "data": {
      "text/plain": [
       "(2092, 65)"
      ]
     },
     "execution_count": 41,
     "metadata": {},
     "output_type": "execute_result"
    }
   ],
   "source": [
    "X.shape"
   ]
  },
  {
   "cell_type": "markdown",
   "id": "1a8c9196-318c-490a-8d2d-fbc0ec913084",
   "metadata": {
    "id": "1a8c9196-318c-490a-8d2d-fbc0ec913084"
   },
   "source": [
    "Note, we use `TruncatedSVD` here because it's a more efficient implementation of SVD. PCA centers the data before running the algorithm, which is more \"appropriate\" but takes more time. This does cause a few inconsistencies in the \"sorted\" $\\Sigma$."
   ]
  },
  {
   "cell_type": "code",
   "execution_count": 42,
   "id": "793485d4-3a4b-4960-8fd0-5e7a14609180",
   "metadata": {
    "id": "793485d4-3a4b-4960-8fd0-5e7a14609180",
    "outputId": "8339508a-3f52-47a2-b0d4-69866615edfa",
    "tags": []
   },
   "outputs": [
    {
     "data": {
      "text/plain": [
       "array([0.00488089, 0.08197356, 0.04778141, 0.0467805 , 0.03498818])"
      ]
     },
     "execution_count": 42,
     "metadata": {},
     "output_type": "execute_result"
    }
   ],
   "source": [
    "lsa = TruncatedSVD(n_components=5)  # results only change for larger (unseen) values\n",
    "\n",
    "doc_topic = lsa.fit_transform(X)\n",
    "lsa.explained_variance_ratio_"
   ]
  },
  {
   "cell_type": "code",
   "execution_count": 43,
   "id": "e28ba96c-3322-4677-b1e4-e100c23868ff",
   "metadata": {
    "tags": []
   },
   "outputs": [],
   "source": [
    "doc_topic = pd.DataFrame(doc_topic.round(3),\n",
    "                         index=df_coffee['desc_1'])\n",
    "# doc_topic.head()"
   ]
  },
  {
   "cell_type": "code",
   "execution_count": 44,
   "id": "217d9afa-6b17-417f-a2b3-5d6a116efb12",
   "metadata": {
    "tags": []
   },
   "outputs": [
    {
     "name": "stdout",
     "output_type": "stream",
     "text": [
      "Top Documents for topic 1:\n",
      "\n",
      "Sweetly floral and delicately cocoa-toned. Honeysuckle, cocoa nib, Concord grape, agave, lemon-thyme in aroma and cup. High-toned structure with juicy, confident acidity; buoyant, lively, viscous mouthfeel. Honeysuckle and cocoa nib characterize the sweet finish. \n",
      "\n",
      "Evaluated as espresso. Roast-rounded, chocolaty. Dark chocolate, gardenia, gently scorched cedar, molasses, prune in aroma and small cup. Viscous, creamy mouthfeel; chocolaty, slightly smoky finish. In three parts milk, floral and chocolate notes preside.  \n",
      "\n",
      "Evaluated as espresso. Fruit-forward, chocolaty. Dark chocolate, black cherry, lily, molasses, cedar in aroma and small cup. Very syrupy mouthfeel; crisp, chocolaty finish. In three parts milk, dark chocolate notes take center stage, supported by notes of black cherry and lily. \n",
      "\n",
      "Evaluated as espresso. Bittersweet, richly pungent, chocolaty and floral. Dark chocolate, plum, cedar, magnolia in aroma and small cup. Plump, satiny mouthfeel; bittersweet and chocolaty in the finish. Chocolate and flowers dominate in three parts milk.  \n",
      "\n",
      "Delicately sweet-tart, floral-toned. Narcissus, apricot, cocoa nib, lemon verbena, frankincense in aroma and cup. Sweet-tart structure with delicately juicy acidity; very full, syrupy mouthfeel. Cocoa nib and narcissus focus the long, lingering finish. \n",
      "\n"
     ]
    }
   ],
   "source": [
    "topic = 1\n",
    "n_docs = 5\n",
    "\n",
    "print(f\"Top Documents for topic {topic}:\\n\")\n",
    "\n",
    "for doc in doc_topic[topic].abs().sort_values(ascending=False).iloc[:n_docs].index:\n",
    "    print(doc, '\\n')"
   ]
  },
  {
   "cell_type": "code",
   "execution_count": 45,
   "id": "212167f1-a00c-4e21-a124-f316b759678e",
   "metadata": {
    "id": "212167f1-a00c-4e21-a124-f316b759678e",
    "outputId": "bd96b1a9-e9b0-40f9-dc3a-3ce773eead99",
    "tags": []
   },
   "outputs": [
    {
     "data": {
      "text/html": [
       "<div>\n",
       "<style scoped>\n",
       "    .dataframe tbody tr th:only-of-type {\n",
       "        vertical-align: middle;\n",
       "    }\n",
       "\n",
       "    .dataframe tbody tr th {\n",
       "        vertical-align: top;\n",
       "    }\n",
       "\n",
       "    .dataframe thead th {\n",
       "        text-align: right;\n",
       "    }\n",
       "</style>\n",
       "<table border=\"1\" class=\"dataframe\">\n",
       "  <thead>\n",
       "    <tr style=\"text-align: right;\">\n",
       "      <th></th>\n",
       "      <th>acidity</th>\n",
       "      <th>almond</th>\n",
       "      <th>bake</th>\n",
       "      <th>balanced</th>\n",
       "      <th>bright</th>\n",
       "      <th>brisk</th>\n",
       "      <th>butter</th>\n",
       "      <th>cedar</th>\n",
       "      <th>center</th>\n",
       "      <th>chocolate</th>\n",
       "      <th>...</th>\n",
       "      <th>sweet</th>\n",
       "      <th>sweetly</th>\n",
       "      <th>syrup</th>\n",
       "      <th>syrupy</th>\n",
       "      <th>tart</th>\n",
       "      <th>tone</th>\n",
       "      <th>undertone</th>\n",
       "      <th>velvety</th>\n",
       "      <th>vibrant</th>\n",
       "      <th>zest</th>\n",
       "    </tr>\n",
       "  </thead>\n",
       "  <tbody>\n",
       "    <tr>\n",
       "      <th>0</th>\n",
       "      <td>0.192</td>\n",
       "      <td>0.124</td>\n",
       "      <td>0.090</td>\n",
       "      <td>0.103</td>\n",
       "      <td>0.117</td>\n",
       "      <td>0.072</td>\n",
       "      <td>0.068</td>\n",
       "      <td>0.167</td>\n",
       "      <td>0.082</td>\n",
       "      <td>0.256</td>\n",
       "      <td>...</td>\n",
       "      <td>0.280</td>\n",
       "      <td>0.146</td>\n",
       "      <td>0.079</td>\n",
       "      <td>0.144</td>\n",
       "      <td>0.195</td>\n",
       "      <td>0.249</td>\n",
       "      <td>0.077</td>\n",
       "      <td>0.070</td>\n",
       "      <td>0.066</td>\n",
       "      <td>0.148</td>\n",
       "    </tr>\n",
       "    <tr>\n",
       "      <th>1</th>\n",
       "      <td>0.072</td>\n",
       "      <td>-0.025</td>\n",
       "      <td>-0.142</td>\n",
       "      <td>0.065</td>\n",
       "      <td>0.120</td>\n",
       "      <td>-0.019</td>\n",
       "      <td>-0.019</td>\n",
       "      <td>-0.107</td>\n",
       "      <td>-0.003</td>\n",
       "      <td>-0.461</td>\n",
       "      <td>...</td>\n",
       "      <td>0.034</td>\n",
       "      <td>0.029</td>\n",
       "      <td>0.041</td>\n",
       "      <td>0.038</td>\n",
       "      <td>0.113</td>\n",
       "      <td>0.032</td>\n",
       "      <td>-0.016</td>\n",
       "      <td>-0.046</td>\n",
       "      <td>0.070</td>\n",
       "      <td>0.040</td>\n",
       "    </tr>\n",
       "    <tr>\n",
       "      <th>2</th>\n",
       "      <td>0.039</td>\n",
       "      <td>0.063</td>\n",
       "      <td>0.302</td>\n",
       "      <td>-0.044</td>\n",
       "      <td>-0.123</td>\n",
       "      <td>0.195</td>\n",
       "      <td>0.060</td>\n",
       "      <td>0.146</td>\n",
       "      <td>-0.008</td>\n",
       "      <td>-0.069</td>\n",
       "      <td>...</td>\n",
       "      <td>0.096</td>\n",
       "      <td>-0.056</td>\n",
       "      <td>0.059</td>\n",
       "      <td>-0.147</td>\n",
       "      <td>-0.106</td>\n",
       "      <td>0.107</td>\n",
       "      <td>0.059</td>\n",
       "      <td>0.125</td>\n",
       "      <td>-0.089</td>\n",
       "      <td>0.014</td>\n",
       "    </tr>\n",
       "    <tr>\n",
       "      <th>3</th>\n",
       "      <td>-0.121</td>\n",
       "      <td>0.009</td>\n",
       "      <td>-0.114</td>\n",
       "      <td>-0.007</td>\n",
       "      <td>0.008</td>\n",
       "      <td>-0.087</td>\n",
       "      <td>0.032</td>\n",
       "      <td>0.061</td>\n",
       "      <td>-0.011</td>\n",
       "      <td>-0.029</td>\n",
       "      <td>...</td>\n",
       "      <td>-0.171</td>\n",
       "      <td>-0.043</td>\n",
       "      <td>-0.047</td>\n",
       "      <td>-0.041</td>\n",
       "      <td>0.030</td>\n",
       "      <td>0.100</td>\n",
       "      <td>0.005</td>\n",
       "      <td>-0.016</td>\n",
       "      <td>-0.017</td>\n",
       "      <td>0.014</td>\n",
       "    </tr>\n",
       "    <tr>\n",
       "      <th>4</th>\n",
       "      <td>-0.084</td>\n",
       "      <td>-0.162</td>\n",
       "      <td>-0.121</td>\n",
       "      <td>0.010</td>\n",
       "      <td>-0.174</td>\n",
       "      <td>-0.026</td>\n",
       "      <td>-0.083</td>\n",
       "      <td>-0.102</td>\n",
       "      <td>-0.058</td>\n",
       "      <td>-0.074</td>\n",
       "      <td>...</td>\n",
       "      <td>0.092</td>\n",
       "      <td>-0.157</td>\n",
       "      <td>-0.060</td>\n",
       "      <td>0.041</td>\n",
       "      <td>-0.383</td>\n",
       "      <td>-0.052</td>\n",
       "      <td>0.028</td>\n",
       "      <td>0.023</td>\n",
       "      <td>-0.054</td>\n",
       "      <td>-0.049</td>\n",
       "    </tr>\n",
       "  </tbody>\n",
       "</table>\n",
       "<p>5 rows × 65 columns</p>\n",
       "</div>"
      ],
      "text/plain": [
       "   acidity  almond   bake  balanced  bright  brisk  butter  cedar  center  \\\n",
       "0    0.192   0.124  0.090     0.103   0.117  0.072   0.068  0.167   0.082   \n",
       "1    0.072  -0.025 -0.142     0.065   0.120 -0.019  -0.019 -0.107  -0.003   \n",
       "2    0.039   0.063  0.302    -0.044  -0.123  0.195   0.060  0.146  -0.008   \n",
       "3   -0.121   0.009 -0.114    -0.007   0.008 -0.087   0.032  0.061  -0.011   \n",
       "4   -0.084  -0.162 -0.121     0.010  -0.174 -0.026  -0.083 -0.102  -0.058   \n",
       "\n",
       "   chocolate  ...  sweet  sweetly  syrup  syrupy   tart   tone  undertone  \\\n",
       "0      0.256  ...  0.280    0.146  0.079   0.144  0.195  0.249      0.077   \n",
       "1     -0.461  ...  0.034    0.029  0.041   0.038  0.113  0.032     -0.016   \n",
       "2     -0.069  ...  0.096   -0.056  0.059  -0.147 -0.106  0.107      0.059   \n",
       "3     -0.029  ... -0.171   -0.043 -0.047  -0.041  0.030  0.100      0.005   \n",
       "4     -0.074  ...  0.092   -0.157 -0.060   0.041 -0.383 -0.052      0.028   \n",
       "\n",
       "   velvety  vibrant   zest  \n",
       "0    0.070    0.066  0.148  \n",
       "1   -0.046    0.070  0.040  \n",
       "2    0.125   -0.089  0.014  \n",
       "3   -0.016   -0.017  0.014  \n",
       "4    0.023   -0.054 -0.049  \n",
       "\n",
       "[5 rows x 65 columns]"
      ]
     },
     "execution_count": 45,
     "metadata": {},
     "output_type": "execute_result"
    }
   ],
   "source": [
    "topic_term = pd.DataFrame(lsa.components_.round(3),\n",
    "                          columns = cv.get_feature_names_out())\n",
    "\n",
    "topic_term"
   ]
  },
  {
   "cell_type": "code",
   "execution_count": 46,
   "id": "fca5aec8-56bf-4f51-9f04-a0e75f7e21ac",
   "metadata": {
    "id": "fca5aec8-56bf-4f51-9f04-a0e75f7e21ac",
    "outputId": "37348ac4-6bcb-4a0c-f6c9-0eeb5dc4877a",
    "tags": []
   },
   "outputs": [
    {
     "data": {
      "text/plain": [
       "bake          0.302\n",
       "sandalwood    0.265\n",
       "dark          0.255\n",
       "nut           0.235\n",
       "flavor        0.217\n",
       "savory        0.214\n",
       "juicy         0.204\n",
       "cut           0.202\n",
       "hazelnut      0.197\n",
       "brisk         0.195\n",
       "Name: 2, dtype: float64"
      ]
     },
     "execution_count": 46,
     "metadata": {},
     "output_type": "execute_result"
    }
   ],
   "source": [
    "# the third \"topic\"\n",
    "topic = 2\n",
    "n_terms = 10\n",
    "\n",
    "topic_term.T[topic].abs().sort_values(ascending=False).iloc[:n_terms]"
   ]
  },
  {
   "cell_type": "markdown",
   "id": "3cdb6a15-d5db-4e5e-a5b1-668cb1ff41ec",
   "metadata": {
    "id": "3cdb6a15-d5db-4e5e-a5b1-668cb1ff41ec"
   },
   "source": [
    "### Non-Negative Matrix Factorization\n",
    "\n",
    "[NMF](https://en.wikipedia.org/wiki/Non-negative_matrix_factorization) is very similar to SVD. Here, we have the following decomposition.\n",
    "\n",
    "$$\n",
    "X = WH\n",
    "$$\n",
    "\n",
    "In this case though, all values in $W$ and $H$ are positive, and we can *approximate* this decomposition because all values in $X$ are positive."
   ]
  },
  {
   "cell_type": "code",
   "execution_count": 47,
   "id": "4d912560-c94c-4204-b209-414b00c2e89d",
   "metadata": {
    "id": "4d912560-c94c-4204-b209-414b00c2e89d",
    "tags": []
   },
   "outputs": [],
   "source": [
    "nmf = NMF(4)  # here, the number will change the results\n",
    "doc_topic = nmf.fit_transform(X)"
   ]
  },
  {
   "cell_type": "code",
   "execution_count": 48,
   "id": "8282dc4a-3098-4045-9c4b-32317b2f9b69",
   "metadata": {
    "tags": []
   },
   "outputs": [],
   "source": [
    "doc_topic = pd.DataFrame(doc_topic.round(3),\n",
    "                         index=df_coffee['desc_1'])\n",
    "# doc_topic.head()"
   ]
  },
  {
   "cell_type": "code",
   "execution_count": 49,
   "id": "03277278-35de-4c65-9817-5bd93ae9ca92",
   "metadata": {
    "tags": []
   },
   "outputs": [
    {
     "name": "stdout",
     "output_type": "stream",
     "text": [
      "Top Documents for topic 1:\n",
      "\n",
      "Evaluated as espresso. Fruit-forward, chocolaty. Dark chocolate, black cherry, lily, molasses, cedar in aroma and small cup. Very syrupy mouthfeel; crisp, chocolaty finish. In three parts milk, dark chocolate notes take center stage, supported by notes of black cherry and lily. \n",
      "\n",
      "Evaluated as espresso. Bittersweet, richly pungent, chocolaty and floral. Dark chocolate, plum, cedar, magnolia in aroma and small cup. Plump, satiny mouthfeel; bittersweet and chocolaty in the finish. Chocolate and flowers dominate in three parts milk.  \n",
      "\n",
      "Evaluated as espresso. Deeply chocolaty, balanced, roast-rounded. Dark chocolate, nectarine, molasses, gently scorched cedar, rhododendron in aroma and small cup. Full, satiny mouthfeel; crisp, chocolaty finish. In three parts milk the dark chocolate notes are amplified, as are the florals \n",
      "\n",
      "Evaluated as espresso. Roast-rounded, chocolaty. Dark chocolate, gardenia, gently scorched cedar, molasses, prune in aroma and small cup. Viscous, creamy mouthfeel; chocolaty, slightly smoky finish. In three parts milk, floral and chocolate notes preside.  \n",
      "\n",
      "Evaluated as espresso. Richly chocolaty, fruit-toned. Dark chocolate, raspberry jam, cedar, caramel, lemon verbena in aroma and small cup. Crisp, syrupy-smooth mouthfeel; chocolaty, sweetly herbaceous finish. In three parts milk, raspberry notes recede and caramel and chocolate come forward. \n",
      "\n"
     ]
    }
   ],
   "source": [
    "topic = 1\n",
    "n_docs = 5\n",
    "\n",
    "print(f\"Top Documents for topic {topic}:\\n\")\n",
    "\n",
    "for doc in doc_topic[topic].abs().sort_values(ascending=False).iloc[:n_docs].index:\n",
    "    print(doc, '\\n')"
   ]
  },
  {
   "cell_type": "code",
   "execution_count": 50,
   "id": "674d9f9f-9af1-4556-ba71-2435a9035d26",
   "metadata": {
    "id": "674d9f9f-9af1-4556-ba71-2435a9035d26",
    "outputId": "829928e1-f8cd-4c8d-b8ff-d42ded0e06f6",
    "tags": []
   },
   "outputs": [
    {
     "data": {
      "text/html": [
       "<div>\n",
       "<style scoped>\n",
       "    .dataframe tbody tr th:only-of-type {\n",
       "        vertical-align: middle;\n",
       "    }\n",
       "\n",
       "    .dataframe tbody tr th {\n",
       "        vertical-align: top;\n",
       "    }\n",
       "\n",
       "    .dataframe thead th {\n",
       "        text-align: right;\n",
       "    }\n",
       "</style>\n",
       "<table border=\"1\" class=\"dataframe\">\n",
       "  <thead>\n",
       "    <tr style=\"text-align: right;\">\n",
       "      <th></th>\n",
       "      <th>acidity</th>\n",
       "      <th>almond</th>\n",
       "      <th>bake</th>\n",
       "      <th>balanced</th>\n",
       "      <th>bright</th>\n",
       "      <th>brisk</th>\n",
       "      <th>butter</th>\n",
       "      <th>cedar</th>\n",
       "      <th>center</th>\n",
       "      <th>chocolate</th>\n",
       "      <th>...</th>\n",
       "      <th>sweet</th>\n",
       "      <th>sweetly</th>\n",
       "      <th>syrup</th>\n",
       "      <th>syrupy</th>\n",
       "      <th>tart</th>\n",
       "      <th>tone</th>\n",
       "      <th>undertone</th>\n",
       "      <th>velvety</th>\n",
       "      <th>vibrant</th>\n",
       "      <th>zest</th>\n",
       "    </tr>\n",
       "  </thead>\n",
       "  <tbody>\n",
       "    <tr>\n",
       "      <th>0</th>\n",
       "      <td>0.933</td>\n",
       "      <td>0.391</td>\n",
       "      <td>0.000</td>\n",
       "      <td>0.611</td>\n",
       "      <td>0.863</td>\n",
       "      <td>0.000</td>\n",
       "      <td>0.083</td>\n",
       "      <td>0.022</td>\n",
       "      <td>0.351</td>\n",
       "      <td>0.805</td>\n",
       "      <td>...</td>\n",
       "      <td>1.421</td>\n",
       "      <td>0.898</td>\n",
       "      <td>0.233</td>\n",
       "      <td>1.220</td>\n",
       "      <td>0.997</td>\n",
       "      <td>0.601</td>\n",
       "      <td>0.091</td>\n",
       "      <td>0.000</td>\n",
       "      <td>0.556</td>\n",
       "      <td>0.650</td>\n",
       "    </tr>\n",
       "    <tr>\n",
       "      <th>1</th>\n",
       "      <td>0.000</td>\n",
       "      <td>0.173</td>\n",
       "      <td>0.000</td>\n",
       "      <td>0.047</td>\n",
       "      <td>0.000</td>\n",
       "      <td>0.000</td>\n",
       "      <td>0.133</td>\n",
       "      <td>0.603</td>\n",
       "      <td>0.115</td>\n",
       "      <td>1.580</td>\n",
       "      <td>...</td>\n",
       "      <td>0.029</td>\n",
       "      <td>0.135</td>\n",
       "      <td>0.000</td>\n",
       "      <td>0.174</td>\n",
       "      <td>0.178</td>\n",
       "      <td>0.398</td>\n",
       "      <td>0.179</td>\n",
       "      <td>0.118</td>\n",
       "      <td>0.000</td>\n",
       "      <td>0.137</td>\n",
       "    </tr>\n",
       "    <tr>\n",
       "      <th>2</th>\n",
       "      <td>0.547</td>\n",
       "      <td>0.485</td>\n",
       "      <td>0.962</td>\n",
       "      <td>0.104</td>\n",
       "      <td>0.000</td>\n",
       "      <td>0.611</td>\n",
       "      <td>0.301</td>\n",
       "      <td>0.660</td>\n",
       "      <td>0.210</td>\n",
       "      <td>0.709</td>\n",
       "      <td>...</td>\n",
       "      <td>0.897</td>\n",
       "      <td>0.238</td>\n",
       "      <td>0.294</td>\n",
       "      <td>0.032</td>\n",
       "      <td>0.199</td>\n",
       "      <td>0.703</td>\n",
       "      <td>0.276</td>\n",
       "      <td>0.438</td>\n",
       "      <td>0.000</td>\n",
       "      <td>0.353</td>\n",
       "    </tr>\n",
       "    <tr>\n",
       "      <th>3</th>\n",
       "      <td>0.493</td>\n",
       "      <td>0.163</td>\n",
       "      <td>0.000</td>\n",
       "      <td>0.364</td>\n",
       "      <td>0.488</td>\n",
       "      <td>0.017</td>\n",
       "      <td>0.112</td>\n",
       "      <td>0.284</td>\n",
       "      <td>0.167</td>\n",
       "      <td>0.000</td>\n",
       "      <td>...</td>\n",
       "      <td>0.504</td>\n",
       "      <td>0.334</td>\n",
       "      <td>0.230</td>\n",
       "      <td>0.309</td>\n",
       "      <td>0.706</td>\n",
       "      <td>0.738</td>\n",
       "      <td>0.192</td>\n",
       "      <td>0.048</td>\n",
       "      <td>0.261</td>\n",
       "      <td>0.377</td>\n",
       "    </tr>\n",
       "  </tbody>\n",
       "</table>\n",
       "<p>4 rows × 65 columns</p>\n",
       "</div>"
      ],
      "text/plain": [
       "   acidity  almond   bake  balanced  bright  brisk  butter  cedar  center  \\\n",
       "0    0.933   0.391  0.000     0.611   0.863  0.000   0.083  0.022   0.351   \n",
       "1    0.000   0.173  0.000     0.047   0.000  0.000   0.133  0.603   0.115   \n",
       "2    0.547   0.485  0.962     0.104   0.000  0.611   0.301  0.660   0.210   \n",
       "3    0.493   0.163  0.000     0.364   0.488  0.017   0.112  0.284   0.167   \n",
       "\n",
       "   chocolate  ...  sweet  sweetly  syrup  syrupy   tart   tone  undertone  \\\n",
       "0      0.805  ...  1.421    0.898  0.233   1.220  0.997  0.601      0.091   \n",
       "1      1.580  ...  0.029    0.135  0.000   0.174  0.178  0.398      0.179   \n",
       "2      0.709  ...  0.897    0.238  0.294   0.032  0.199  0.703      0.276   \n",
       "3      0.000  ...  0.504    0.334  0.230   0.309  0.706  0.738      0.192   \n",
       "\n",
       "   velvety  vibrant   zest  \n",
       "0    0.000    0.556  0.650  \n",
       "1    0.118    0.000  0.137  \n",
       "2    0.438    0.000  0.353  \n",
       "3    0.048    0.261  0.377  \n",
       "\n",
       "[4 rows x 65 columns]"
      ]
     },
     "execution_count": 50,
     "metadata": {},
     "output_type": "execute_result"
    }
   ],
   "source": [
    "topic_term = pd.DataFrame(nmf.components_.round(3),\n",
    "                          columns = cv.get_feature_names_out())\n",
    "\n",
    "topic_term"
   ]
  },
  {
   "cell_type": "code",
   "execution_count": 51,
   "id": "d04424e5-aef0-4e28-a894-f87943ac1e3f",
   "metadata": {
    "id": "d04424e5-aef0-4e28-a894-f87943ac1e3f",
    "outputId": "c9a22d5c-f6ae-49f9-811b-b1fae5e1e982",
    "tags": []
   },
   "outputs": [
    {
     "data": {
      "text/plain": [
       "savory        2.345\n",
       "sweet         1.421\n",
       "long          1.284\n",
       "flavor        1.231\n",
       "syrupy        1.220\n",
       "juicy         1.121\n",
       "sandalwood    1.120\n",
       "structure     1.107\n",
       "resonant      1.047\n",
       "richly        1.022\n",
       "Name: 0, dtype: float64"
      ]
     },
     "execution_count": 51,
     "metadata": {},
     "output_type": "execute_result"
    }
   ],
   "source": [
    "topic = 0\n",
    "n_terms = 10\n",
    "\n",
    "topic_term.T[topic].sort_values(ascending=False).iloc[:n_terms]"
   ]
  },
  {
   "cell_type": "code",
   "execution_count": 52,
   "id": "85e036d1-640c-4331-a0c1-2c3056334625",
   "metadata": {
    "id": "85e036d1-640c-4331-a0c1-2c3056334625",
    "outputId": "e13231bb-3fbf-4699-bd14-9cfc37f927f9",
    "tags": []
   },
   "outputs": [
    {
     "data": {
      "text/plain": [
       "chocolate    1.580\n",
       "dark         1.306\n",
       "milk         1.132\n",
       "espresso     1.127\n",
       "evaluate     1.100\n",
       "small        1.097\n",
       "chocolaty    1.015\n",
       "cedar        0.603\n",
       "fruit        0.521\n",
       "floral       0.494\n",
       "Name: 1, dtype: float64"
      ]
     },
     "execution_count": 52,
     "metadata": {},
     "output_type": "execute_result"
    }
   ],
   "source": [
    "topic = 1\n",
    "n_terms = 10\n",
    "\n",
    "topic_term.T[topic].sort_values(ascending=False).iloc[:n_terms]"
   ]
  },
  {
   "cell_type": "markdown",
   "id": "788e695f-8648-4c0e-b88b-b09ee914b1ec",
   "metadata": {
    "id": "788e695f-8648-4c0e-b88b-b09ee914b1ec"
   },
   "source": [
    "As you can tell, this often produces more agreeable results than LSA."
   ]
  },
  {
   "cell_type": "markdown",
   "id": "c2b61fd5-2070-4dc6-8bd6-a1ea6b374880",
   "metadata": {
    "id": "c2b61fd5-2070-4dc6-8bd6-a1ea6b374880"
   },
   "source": [
    "### Latent Dirichlet Allocation (LDA)\n",
    "\n",
    "[LDA](https://scikit-learn.org/stable/modules/generated/sklearn.decomposition.LatentDirichletAllocation.html) is a \"generative\" model that builds topics with the assumption that documents are generated based on a probability distribution of topics, and that topics are just a probability distribution of terms."
   ]
  },
  {
   "cell_type": "code",
   "execution_count": 53,
   "id": "32882821-c053-49ee-934a-9233c7d5d2a7",
   "metadata": {
    "id": "32882821-c053-49ee-934a-9233c7d5d2a7",
    "tags": []
   },
   "outputs": [],
   "source": [
    "from sklearn.decomposition import LatentDirichletAllocation"
   ]
  },
  {
   "cell_type": "code",
   "execution_count": 54,
   "id": "ff0e1b1d-7eba-463c-b86e-e36d9de02ed0",
   "metadata": {
    "id": "ff0e1b1d-7eba-463c-b86e-e36d9de02ed0",
    "tags": []
   },
   "outputs": [],
   "source": [
    "# these parameters usually require a good bit of tuning ...\n",
    "lda = LatentDirichletAllocation(n_components=5,\n",
    "                                max_iter=50)\n",
    "\n",
    "X_topics = lda.fit_transform(X)"
   ]
  },
  {
   "cell_type": "code",
   "execution_count": 55,
   "id": "8ed67c6d-7cb1-4367-b7c8-8d95799acb8b",
   "metadata": {
    "id": "8ed67c6d-7cb1-4367-b7c8-8d95799acb8b",
    "tags": []
   },
   "outputs": [],
   "source": [
    "df_lda = pd.DataFrame(data = X_topics,\n",
    "                      index = corpus)"
   ]
  },
  {
   "cell_type": "code",
   "execution_count": 56,
   "id": "e45c8096-3ab7-44d7-9b3d-078cdf83ed78",
   "metadata": {
    "id": "e45c8096-3ab7-44d7-9b3d-078cdf83ed78",
    "outputId": "b5b961bf-57a6-4df3-8dec-aba2b0e64ab1",
    "tags": []
   },
   "outputs": [
    {
     "name": "stdout",
     "output_type": "stream",
     "text": [
      "rich toned deeply sweetly earthy chocolate fudge white sage blackberry perique pipe tobacco plumeria like flower aroma cup balanced sweet savory structure vibrant juicy acidity delicate satiny mouthfeel resonant flavor saturate finish display note blackberry tobacco short plumeria sage long deep chocolate \n",
      "\n",
      "high tone sweetly tart deeply savory jasmine dark chocolate lemon verbena pink grapefruit zest candycap mushroom aroma cup balanced sweet tart savory structure lyrical syrupy smooth mouthfeel flavor saturate finish lead citrus note lemon verbena grapefruit short round deep chocolate sweet mushroom long \n",
      "\n",
      "richly sweet spice tone dry cherry lemon zest baker chocolate cashew hint cayenne aroma cup delicate sweetly tart structure bright acidity crisp velvety mouthfeel flavor saturate finish center citrus note chocolate short suggestion cayenne long \n",
      "\n"
     ]
    }
   ],
   "source": [
    "topic = 0\n",
    "n_docs = 3\n",
    "\n",
    "for d in df_lda[topic].sort_values(ascending=False).iloc[:n_docs].index:\n",
    "    print(d, '\\n')"
   ]
  },
  {
   "cell_type": "code",
   "execution_count": 57,
   "id": "7300af02-9f25-4181-a37b-c626cef1747b",
   "metadata": {
    "id": "7300af02-9f25-4181-a37b-c626cef1747b",
    "outputId": "0e6fb1f2-3795-45f5-f38c-83d9ea8b2717",
    "tags": []
   },
   "outputs": [
    {
     "name": "stdout",
     "output_type": "stream",
     "text": [
      "evaluate espresso crisply sweet richly floral tone lavender dark chocolate red currant almond butter pink grapefruit zest aroma small cup delicate viscous mouthfeel richly dry finish center note tart fruit dark chocolate bittersweet lavender like flower chocolaty floral part milk ongoing tart fruit note \n",
      "\n",
      "evaluate espresso bright sweetly tart high tone black cherry chocolate fudge almond butter freesia like flower sandalwood aroma small cup crisp satiny mouthfeel resonant fruit tone finish particularly floral saturate part milk dark chocolate cherry undertone \n",
      "\n",
      "evaluate espresso high tone richly sweet tart red plum dark chocolate almond nougat lemon verbena cedar aroma small cup crisp velvety mouthfeel chocolaty finish hint almond nougat plum cappuccino scale milk lily like floral note surface \n",
      "\n"
     ]
    }
   ],
   "source": [
    "topic = 1\n",
    "n_docs = 3\n",
    "\n",
    "for d in df_lda[topic].sort_values(ascending=False).iloc[:n_docs].index:\n",
    "    print(d, '\\n')"
   ]
  },
  {
   "cell_type": "code",
   "execution_count": 58,
   "id": "4edcb429-999f-4b15-858b-ac0ae255d426",
   "metadata": {
    "id": "4edcb429-999f-4b15-858b-ac0ae255d426",
    "tags": []
   },
   "outputs": [],
   "source": [
    "df_lda_terms = pd.DataFrame(data = lda.components_,\n",
    "                            columns = cv.get_feature_names_out())"
   ]
  },
  {
   "cell_type": "code",
   "execution_count": 59,
   "id": "0b46facf-8974-4167-bd4f-40def8330345",
   "metadata": {
    "id": "0b46facf-8974-4167-bd4f-40def8330345",
    "outputId": "233db5d1-98a3-4617-80d8-b05dc97a0c65",
    "tags": []
   },
   "outputs": [
    {
     "data": {
      "text/plain": [
       "chocolate    128.959476\n",
       "dark         121.429203\n",
       "savory       101.645634\n",
       "sweet         82.726743\n",
       "structure     64.606175\n",
       "acidity       55.812888\n",
       "richly        54.505428\n",
       "tart          53.381263\n",
       "tone          52.839558\n",
       "syrupy        52.170643\n",
       "Name: 0, dtype: float64"
      ]
     },
     "execution_count": 59,
     "metadata": {},
     "output_type": "execute_result"
    }
   ],
   "source": [
    "topic = 0\n",
    "n_terms = 10\n",
    "\n",
    "df_lda_terms.T[topic].sort_values(ascending=False).iloc[:n_terms]"
   ]
  },
  {
   "cell_type": "code",
   "execution_count": 60,
   "id": "bfbfcf5d-cad7-4adc-bd92-6bd0f615e150",
   "metadata": {
    "id": "bfbfcf5d-cad7-4adc-bd92-6bd0f615e150",
    "outputId": "721954a5-6e0d-4b1e-a6b2-ac9108183c75",
    "tags": []
   },
   "outputs": [
    {
     "data": {
      "text/plain": [
       "milk         74.434854\n",
       "espresso     69.640823\n",
       "small        69.545422\n",
       "evaluate     67.766286\n",
       "chocolate    57.934427\n",
       "chocolaty    38.628452\n",
       "dark         35.283768\n",
       "cedar        27.718950\n",
       "floral       27.571454\n",
       "tone         27.556425\n",
       "Name: 1, dtype: float64"
      ]
     },
     "execution_count": 60,
     "metadata": {},
     "output_type": "execute_result"
    }
   ],
   "source": [
    "topic = 1\n",
    "n_terms = 10\n",
    "\n",
    "df_lda_terms.T[topic].sort_values(ascending=False).iloc[:n_terms]"
   ]
  },
  {
   "cell_type": "markdown",
   "id": "4e7a7e90-4018-4ce7-9ec3-97ceaca19570",
   "metadata": {
    "id": "4e7a7e90-4018-4ce7-9ec3-97ceaca19570"
   },
   "source": [
    "### Anchored Correlation Explanation (CorEx)\n",
    "\n",
    "[CorEx](https://github.com/gregversteeg/corex_topic) is a discriminative model, which starts from $X$ (documents/words) to determine $Y$ (topics). CorEx looks for groups of words that are in the same topic, a.k.a. have high Total Correlation (TC), or convey the same information.\n",
    "\n",
    "- If words are **tightly related** (always appear together in the same topic/document), TC will be high. This is a good topic.\n",
    "- If the words are all **independent** (never appear together in the same document or topic), TC = 0. This is a bad topic.\n",
    "- CorEx creates a partition across terms. I.e., **terms can only occur in a single topic**.\n",
    "\n",
    "CorEx roughly follows this algorithm:\n",
    "1. Look for a group of words that are both as broad (in many documents) and overlapping as possible (both together will lead to high TC), and call this a topic.\n",
    "2. Repeat the process for another set of words (not overlapping with your previous group) with as high a TC as possible, and call this the next topic.\n",
    "\n",
    "As we create more topics, each subsequent topic will have lower TC."
   ]
  },
  {
   "cell_type": "code",
   "execution_count": 61,
   "id": "703f7531-6bba-409d-8add-0d3646ff50e5",
   "metadata": {
    "id": "703f7531-6bba-409d-8add-0d3646ff50e5",
    "tags": []
   },
   "outputs": [],
   "source": [
    "from corextopic import corextopic as ct"
   ]
  },
  {
   "cell_type": "code",
   "execution_count": 62,
   "id": "db087ffe-db2a-4cab-8e75-1ba4429f7ed4",
   "metadata": {
    "tags": []
   },
   "outputs": [],
   "source": [
    "# CorEx requires count data\n",
    "cv = CountVectorizer(max_df=0.9,\n",
    "                     min_df=0.1,\n",
    "                     max_features=None)\n",
    "\n",
    "X = cv.fit_transform(corpus)"
   ]
  },
  {
   "cell_type": "code",
   "execution_count": 63,
   "id": "9d678ed2-84da-4fbd-ba3a-a6b080f63ee3",
   "metadata": {
    "id": "9d678ed2-84da-4fbd-ba3a-a6b080f63ee3",
    "outputId": "577ae37b-f9ca-4c3f-f277-60b7d8aaa899",
    "tags": []
   },
   "outputs": [],
   "source": [
    "topic_model = ct.Corex(n_hidden=5,                        # number of topics\n",
    "                       words=cv.get_feature_names_out(),  # list of terms in corpus\n",
    "                       seed=1)\n",
    "\n",
    "doc_topic = topic_model.fit_transform(X, words=cv.get_feature_names_out(), docs=corpus)"
   ]
  },
  {
   "cell_type": "code",
   "execution_count": 64,
   "id": "f338a7a3-e635-4032-b928-973da8237cf7",
   "metadata": {
    "id": "f338a7a3-e635-4032-b928-973da8237cf7",
    "outputId": "c1306798-4166-475f-df5e-f7398aa4f5e6",
    "tags": []
   },
   "outputs": [
    {
     "name": "stdout",
     "output_type": "stream",
     "text": [
      "0: evaluate,espresso,small,milk,structure,acidity,consolidate,floral,syrup,crisp\n",
      "1: chocolate,dark,nib,cocoa,chocolaty,bake,delicate,lemon,deep,zest\n",
      "2: juicy,cut,gentle,bright,fresh,sandalwood,brisk,tart,high,nut\n",
      "3: short,long,lead,undertone,rich,center,almond\n",
      "4: sweet,sweetly,savory,deeply,fruit,smooth\n"
     ]
    }
   ],
   "source": [
    "# Print all topics from the CorEx topic model\n",
    "topics = topic_model.get_topics()\n",
    "\n",
    "for n, topic in enumerate(topics):\n",
    "    topic_words,_,_ = zip(*topic)\n",
    "    print(f\"{n}: \" + ','.join(topic_words))"
   ]
  },
  {
   "cell_type": "markdown",
   "id": "5eb29d35-573c-46a9-b7fd-d2df150b1def",
   "metadata": {
    "id": "5eb29d35-573c-46a9-b7fd-d2df150b1def"
   },
   "source": [
    "Take a look at how you can use [anchor words](https://github.com/gregversteeg/corex_topic/tree/master#using-anchor-words) to guide the topic creation."
   ]
  },
  {
   "cell_type": "markdown",
   "id": "78f47aec-986e-4472-a4b1-040c5ead188e",
   "metadata": {
    "id": "78f47aec-986e-4472-a4b1-040c5ead188e"
   },
   "source": [
    "## ScatterText\n",
    "\n",
    "Scattertext is great for\n",
    "- Visually inspecting text\n",
    "- Comparing/Contrasting corpora\n",
    "- And more...\n",
    "\n",
    "Check out Jason Kessler's GitHub project for more information: [here](https://github.com/JasonKessler/scattertext)."
   ]
  },
  {
   "cell_type": "code",
   "execution_count": 65,
   "id": "e861cc33-0adc-4092-8903-38ea9885b9ea",
   "metadata": {
    "id": "e861cc33-0adc-4092-8903-38ea9885b9ea",
    "tags": []
   },
   "outputs": [],
   "source": [
    "import scattertext as st"
   ]
  },
  {
   "cell_type": "code",
   "execution_count": 66,
   "id": "81498d08-4e13-44c1-9d81-130cd33fdd12",
   "metadata": {
    "id": "81498d08-4e13-44c1-9d81-130cd33fdd12",
    "tags": []
   },
   "outputs": [],
   "source": [
    "convention_df = st.SampleCorpora.ConventionData2012.get_data()"
   ]
  },
  {
   "cell_type": "code",
   "execution_count": 67,
   "id": "d956ce5c-d08b-44fe-9ae9-2466656507ff",
   "metadata": {
    "id": "d956ce5c-d08b-44fe-9ae9-2466656507ff",
    "outputId": "1193551e-cc86-4824-bfd0-3b40c0e57e67",
    "tags": []
   },
   "outputs": [
    {
     "data": {
      "text/html": [
       "<div>\n",
       "<style scoped>\n",
       "    .dataframe tbody tr th:only-of-type {\n",
       "        vertical-align: middle;\n",
       "    }\n",
       "\n",
       "    .dataframe tbody tr th {\n",
       "        vertical-align: top;\n",
       "    }\n",
       "\n",
       "    .dataframe thead th {\n",
       "        text-align: right;\n",
       "    }\n",
       "</style>\n",
       "<table border=\"1\" class=\"dataframe\">\n",
       "  <thead>\n",
       "    <tr style=\"text-align: right;\">\n",
       "      <th></th>\n",
       "      <th>party</th>\n",
       "      <th>text</th>\n",
       "      <th>speaker</th>\n",
       "    </tr>\n",
       "  </thead>\n",
       "  <tbody>\n",
       "    <tr>\n",
       "      <th>0</th>\n",
       "      <td>democrat</td>\n",
       "      <td>Thank you. Thank you. Thank you. Thank you so ...</td>\n",
       "      <td>BARACK OBAMA</td>\n",
       "    </tr>\n",
       "    <tr>\n",
       "      <th>1</th>\n",
       "      <td>democrat</td>\n",
       "      <td>Thank you so much. Tonight, I am so thrilled a...</td>\n",
       "      <td>MICHELLE OBAMA</td>\n",
       "    </tr>\n",
       "    <tr>\n",
       "      <th>2</th>\n",
       "      <td>democrat</td>\n",
       "      <td>Thank you. It is a singular honor to be here t...</td>\n",
       "      <td>RICHARD DURBIN</td>\n",
       "    </tr>\n",
       "    <tr>\n",
       "      <th>3</th>\n",
       "      <td>democrat</td>\n",
       "      <td>Hey, Delaware. \\nAnd my favorite Democrat, Jil...</td>\n",
       "      <td>JOSEPH BIDEN</td>\n",
       "    </tr>\n",
       "    <tr>\n",
       "      <th>4</th>\n",
       "      <td>democrat</td>\n",
       "      <td>Hello. \\nThank you, Angie. I'm so proud of how...</td>\n",
       "      <td>JILL BIDEN</td>\n",
       "    </tr>\n",
       "  </tbody>\n",
       "</table>\n",
       "</div>"
      ],
      "text/plain": [
       "      party                                               text         speaker\n",
       "0  democrat  Thank you. Thank you. Thank you. Thank you so ...    BARACK OBAMA\n",
       "1  democrat  Thank you so much. Tonight, I am so thrilled a...  MICHELLE OBAMA\n",
       "2  democrat  Thank you. It is a singular honor to be here t...  RICHARD DURBIN\n",
       "3  democrat  Hey, Delaware. \\nAnd my favorite Democrat, Jil...    JOSEPH BIDEN\n",
       "4  democrat  Hello. \\nThank you, Angie. I'm so proud of how...      JILL BIDEN"
      ]
     },
     "execution_count": 67,
     "metadata": {},
     "output_type": "execute_result"
    }
   ],
   "source": [
    "convention_df.head()"
   ]
  },
  {
   "cell_type": "code",
   "execution_count": 68,
   "id": "20b17c63-699d-46af-8124-ae10d4429584",
   "metadata": {
    "id": "20b17c63-699d-46af-8124-ae10d4429584",
    "tags": []
   },
   "outputs": [],
   "source": [
    "corpus = st.CorpusFromPandas(convention_df,\n",
    "                             category_col='party',\n",
    "                             text_col='text',\n",
    "                             nlp=st.whitespace_nlp_with_sentences\n",
    "                            ).build()"
   ]
  },
  {
   "cell_type": "code",
   "execution_count": 69,
   "id": "c21ac91f-ef16-4d95-9a4c-a04cdcd42e78",
   "metadata": {
    "id": "c21ac91f-ef16-4d95-9a4c-a04cdcd42e78",
    "tags": []
   },
   "outputs": [],
   "source": [
    "html = st.produce_scattertext_explorer(\n",
    "        corpus,\n",
    "        category='democrat',\n",
    "        category_name='Democratic',\n",
    "        not_category_name='Republican',\n",
    "        minimum_term_frequency=10,\n",
    "        pmi_threshold_coefficient=5,\n",
    "        width_in_pixels=1000,\n",
    "        metadata=convention_df['speaker'],\n",
    "        )"
   ]
  },
  {
   "cell_type": "code",
   "execution_count": 70,
   "id": "d7780c0b-0778-4f79-a34e-7a35118f04e4",
   "metadata": {
    "id": "d7780c0b-0778-4f79-a34e-7a35118f04e4",
    "tags": []
   },
   "outputs": [],
   "source": [
    "with open('demo.html', 'wb') as f:\n",
    "    f.write(html.encode('utf-8'))"
   ]
  },
  {
   "cell_type": "markdown",
   "id": "59e0971b-5a4a-409f-ab5d-1ee110a17249",
   "metadata": {
    "id": "59e0971b-5a4a-409f-ab5d-1ee110a17249"
   },
   "source": [
    "## Sentiment Analysis with VADER\n",
    "\n",
    "According to the documentation:\n",
    "\n",
    "    VADER (Valence Aware Dictionary and sEntiment Reasoner) is a lexicon and rule-based sentiment analysis tool that is specifically attuned to sentiments expressed in social media. [...]\n",
    "    \n",
    "    Sentiment ratings from 10 independent human raters (all pre-screened, trained, and quality checked for optimal inter-rater reliability). Over 9,000 token features were rated on a scale from \"[–4] Extremely Negative\" to \"[4] Extremely Positive\", with allowance for \"[0] Neutral (or Neither, N/A)\"."
   ]
  },
  {
   "cell_type": "code",
   "execution_count": 71,
   "id": "1a8b6cd1-aaeb-4d12-8606-ce96a2cb8372",
   "metadata": {
    "id": "1a8b6cd1-aaeb-4d12-8606-ce96a2cb8372",
    "tags": []
   },
   "outputs": [],
   "source": [
    "from vaderSentiment.vaderSentiment import SentimentIntensityAnalyzer"
   ]
  },
  {
   "cell_type": "code",
   "execution_count": 72,
   "id": "f51d1594-f1c7-4927-9295-0e0963959d79",
   "metadata": {
    "id": "f51d1594-f1c7-4927-9295-0e0963959d79",
    "tags": []
   },
   "outputs": [],
   "source": [
    "sentences = [\"VADER is smart, handsome, and funny.\",  # positive sentence example\n",
    "             \"VADER is smart, handsome, and funny!\",  # punctuation emphasis handled correctly (sentiment intensity adjusted)\n",
    "             \"VADER is very smart, handsome, and funny.\", # booster words handled correctly (sentiment intensity adjusted)\n",
    "             \"VADER is VERY SMART, handsome, and FUNNY.\",  # emphasis for ALLCAPS handled\n",
    "             \"VADER is VERY SMART, handsome, and FUNNY!!!\", # combination of signals - VADER appropriately adjusts intensity\n",
    "             \"VADER is VERY SMART, uber handsome, and FRIGGIN FUNNY!!!\", # booster words & punctuation make this close to ceiling for score\n",
    "             \"VADER is not smart, handsome, nor funny.\",  # negation sentence example\n",
    "             \"The book was good.\",  # positive sentence\n",
    "             \"At least it isn't a horrible book.\",  # negated negative sentence with contraction\n",
    "             \"The book was only kind of good.\", # qualified positive sentence is handled correctly (intensity adjusted)\n",
    "             \"The plot was good, but the characters are uncompelling and the dialog is not great.\", # mixed negation sentence\n",
    "             \"Today SUX!\",  # negative slang with capitalization emphasis\n",
    "             \"Today only kinda sux! But I'll get by, lol\", # mixed sentiment example with slang and constrastive conjunction \"but\"\n",
    "             \"Make sure you :) or :D today!\",  # emoticons handled\n",
    "             # \"Catch utf-8 emoji such as such as 💘 and 💋 and 😁\",  # emojis handled, ignored for seaborn plot below\n",
    "             \"Not bad at all\"  # Capitalized negation\n",
    "             ]"
   ]
  },
  {
   "cell_type": "code",
   "execution_count": 73,
   "id": "6be0587e-41ef-47a0-864a-310082e01094",
   "metadata": {
    "id": "6be0587e-41ef-47a0-864a-310082e01094",
    "tags": []
   },
   "outputs": [],
   "source": [
    "df_sentiment = []\n",
    "\n",
    "analyzer = SentimentIntensityAnalyzer()\n",
    "\n",
    "for sentence in sentences:\n",
    "    vs = analyzer.polarity_scores(sentence)\n",
    "    df_sentiment.append(vs)"
   ]
  },
  {
   "cell_type": "code",
   "execution_count": 74,
   "id": "9f5c7330-0fb8-4b8a-b93e-2d4619a52be8",
   "metadata": {
    "id": "9f5c7330-0fb8-4b8a-b93e-2d4619a52be8",
    "tags": []
   },
   "outputs": [],
   "source": [
    "df_sentiment = pd.DataFrame(df_sentiment,\n",
    "                            index = sentences)"
   ]
  },
  {
   "cell_type": "code",
   "execution_count": 75,
   "id": "90829de5-b6f6-43c2-a733-c4168f88548f",
   "metadata": {
    "id": "90829de5-b6f6-43c2-a733-c4168f88548f",
    "outputId": "5618717d-fd9f-4730-ca91-ace2fde62b8b",
    "tags": []
   },
   "outputs": [
    {
     "data": {
      "image/svg+xml": [
       "<?xml version=\"1.0\" encoding=\"utf-8\" standalone=\"no\"?>\n",
       "<!DOCTYPE svg PUBLIC \"-//W3C//DTD SVG 1.1//EN\"\n",
       "  \"http://www.w3.org/Graphics/SVG/1.1/DTD/svg11.dtd\">\n",
       "<svg xmlns:xlink=\"http://www.w3.org/1999/xlink\" width=\"797.943437pt\" height=\"297.190125pt\" viewBox=\"0 0 797.943437 297.190125\" xmlns=\"http://www.w3.org/2000/svg\" version=\"1.1\">\n",
       " <metadata>\n",
       "  <rdf:RDF xmlns:dc=\"http://purl.org/dc/elements/1.1/\" xmlns:cc=\"http://creativecommons.org/ns#\" xmlns:rdf=\"http://www.w3.org/1999/02/22-rdf-syntax-ns#\">\n",
       "   <cc:Work>\n",
       "    <dc:type rdf:resource=\"http://purl.org/dc/dcmitype/StillImage\"/>\n",
       "    <dc:date>2024-02-28T23:25:11.296533</dc:date>\n",
       "    <dc:format>image/svg+xml</dc:format>\n",
       "    <dc:creator>\n",
       "     <cc:Agent>\n",
       "      <dc:title>Matplotlib v3.8.2, https://matplotlib.org/</dc:title>\n",
       "     </cc:Agent>\n",
       "    </dc:creator>\n",
       "   </cc:Work>\n",
       "  </rdf:RDF>\n",
       " </metadata>\n",
       " <defs>\n",
       "  <style type=\"text/css\">*{stroke-linejoin: round; stroke-linecap: butt}</style>\n",
       " </defs>\n",
       " <g id=\"figure_1\">\n",
       "  <g id=\"patch_1\">\n",
       "   <path d=\"M 0 297.190125 \n",
       "L 797.943437 297.190125 \n",
       "L 797.943437 0 \n",
       "L 0 0 \n",
       "z\n",
       "\" style=\"fill: #ffffff\"/>\n",
       "  </g>\n",
       "  <g id=\"axes_1\">\n",
       "   <g id=\"patch_2\">\n",
       "    <path d=\"M 433.623438 273.312 \n",
       "L 790.743438 273.312 \n",
       "L 790.743438 7.2 \n",
       "L 433.623438 7.2 \n",
       "z\n",
       "\" style=\"fill: #ffffff\"/>\n",
       "   </g>\n",
       "   <g id=\"matplotlib.axis_1\">\n",
       "    <g id=\"xtick_1\">\n",
       "     <g id=\"line2d_1\">\n",
       "      <path d=\"M 478.263438 273.312 \n",
       "L 478.263438 7.2 \n",
       "\" clip-path=\"url(#p24e7f01f4b)\" style=\"fill: none; stroke: #cccccc; stroke-width: 0.8; stroke-linecap: round\"/>\n",
       "     </g>\n",
       "     <g id=\"text_1\">\n",
       "      <!-- neg -->\n",
       "      <g style=\"fill: #262626\" transform=\"translate(468.843906 287.910437) scale(0.1 -0.1)\">\n",
       "       <defs>\n",
       "        <path id=\"DejaVuSans-6e\" d=\"M 3513 2113 \n",
       "L 3513 0 \n",
       "L 2938 0 \n",
       "L 2938 2094 \n",
       "Q 2938 2591 2744 2837 \n",
       "Q 2550 3084 2163 3084 \n",
       "Q 1697 3084 1428 2787 \n",
       "Q 1159 2491 1159 1978 \n",
       "L 1159 0 \n",
       "L 581 0 \n",
       "L 581 3500 \n",
       "L 1159 3500 \n",
       "L 1159 2956 \n",
       "Q 1366 3272 1645 3428 \n",
       "Q 1925 3584 2291 3584 \n",
       "Q 2894 3584 3203 3211 \n",
       "Q 3513 2838 3513 2113 \n",
       "z\n",
       "\" transform=\"scale(0.015625)\"/>\n",
       "        <path id=\"DejaVuSans-65\" d=\"M 3597 1894 \n",
       "L 3597 1613 \n",
       "L 953 1613 \n",
       "Q 991 1019 1311 708 \n",
       "Q 1631 397 2203 397 \n",
       "Q 2534 397 2845 478 \n",
       "Q 3156 559 3463 722 \n",
       "L 3463 178 \n",
       "Q 3153 47 2828 -22 \n",
       "Q 2503 -91 2169 -91 \n",
       "Q 1331 -91 842 396 \n",
       "Q 353 884 353 1716 \n",
       "Q 353 2575 817 3079 \n",
       "Q 1281 3584 2069 3584 \n",
       "Q 2775 3584 3186 3129 \n",
       "Q 3597 2675 3597 1894 \n",
       "z\n",
       "M 3022 2063 \n",
       "Q 3016 2534 2758 2815 \n",
       "Q 2500 3097 2075 3097 \n",
       "Q 1594 3097 1305 2825 \n",
       "Q 1016 2553 972 2059 \n",
       "L 3022 2063 \n",
       "z\n",
       "\" transform=\"scale(0.015625)\"/>\n",
       "        <path id=\"DejaVuSans-67\" d=\"M 2906 1791 \n",
       "Q 2906 2416 2648 2759 \n",
       "Q 2391 3103 1925 3103 \n",
       "Q 1463 3103 1205 2759 \n",
       "Q 947 2416 947 1791 \n",
       "Q 947 1169 1205 825 \n",
       "Q 1463 481 1925 481 \n",
       "Q 2391 481 2648 825 \n",
       "Q 2906 1169 2906 1791 \n",
       "z\n",
       "M 3481 434 \n",
       "Q 3481 -459 3084 -895 \n",
       "Q 2688 -1331 1869 -1331 \n",
       "Q 1566 -1331 1297 -1286 \n",
       "Q 1028 -1241 775 -1147 \n",
       "L 775 -588 \n",
       "Q 1028 -725 1275 -790 \n",
       "Q 1522 -856 1778 -856 \n",
       "Q 2344 -856 2625 -561 \n",
       "Q 2906 -266 2906 331 \n",
       "L 2906 616 \n",
       "Q 2728 306 2450 153 \n",
       "Q 2172 0 1784 0 \n",
       "Q 1141 0 747 490 \n",
       "Q 353 981 353 1791 \n",
       "Q 353 2603 747 3093 \n",
       "Q 1141 3584 1784 3584 \n",
       "Q 2172 3584 2450 3431 \n",
       "Q 2728 3278 2906 2969 \n",
       "L 2906 3500 \n",
       "L 3481 3500 \n",
       "L 3481 434 \n",
       "z\n",
       "\" transform=\"scale(0.015625)\"/>\n",
       "       </defs>\n",
       "       <use xlink:href=\"#DejaVuSans-6e\"/>\n",
       "       <use xlink:href=\"#DejaVuSans-65\" x=\"63.378906\"/>\n",
       "       <use xlink:href=\"#DejaVuSans-67\" x=\"124.902344\"/>\n",
       "      </g>\n",
       "     </g>\n",
       "    </g>\n",
       "    <g id=\"xtick_2\">\n",
       "     <g id=\"line2d_2\">\n",
       "      <path d=\"M 567.543437 273.312 \n",
       "L 567.543437 7.2 \n",
       "\" clip-path=\"url(#p24e7f01f4b)\" style=\"fill: none; stroke: #cccccc; stroke-width: 0.8; stroke-linecap: round\"/>\n",
       "     </g>\n",
       "     <g id=\"text_2\">\n",
       "      <!-- neu -->\n",
       "      <g style=\"fill: #262626\" transform=\"translate(558.129375 287.910437) scale(0.1 -0.1)\">\n",
       "       <defs>\n",
       "        <path id=\"DejaVuSans-75\" d=\"M 544 1381 \n",
       "L 544 3500 \n",
       "L 1119 3500 \n",
       "L 1119 1403 \n",
       "Q 1119 906 1312 657 \n",
       "Q 1506 409 1894 409 \n",
       "Q 2359 409 2629 706 \n",
       "Q 2900 1003 2900 1516 \n",
       "L 2900 3500 \n",
       "L 3475 3500 \n",
       "L 3475 0 \n",
       "L 2900 0 \n",
       "L 2900 538 \n",
       "Q 2691 219 2414 64 \n",
       "Q 2138 -91 1772 -91 \n",
       "Q 1169 -91 856 284 \n",
       "Q 544 659 544 1381 \n",
       "z\n",
       "M 1991 3584 \n",
       "L 1991 3584 \n",
       "z\n",
       "\" transform=\"scale(0.015625)\"/>\n",
       "       </defs>\n",
       "       <use xlink:href=\"#DejaVuSans-6e\"/>\n",
       "       <use xlink:href=\"#DejaVuSans-65\" x=\"63.378906\"/>\n",
       "       <use xlink:href=\"#DejaVuSans-75\" x=\"124.902344\"/>\n",
       "      </g>\n",
       "     </g>\n",
       "    </g>\n",
       "    <g id=\"xtick_3\">\n",
       "     <g id=\"line2d_3\">\n",
       "      <path d=\"M 656.823437 273.312 \n",
       "L 656.823437 7.2 \n",
       "\" clip-path=\"url(#p24e7f01f4b)\" style=\"fill: none; stroke: #cccccc; stroke-width: 0.8; stroke-linecap: round\"/>\n",
       "     </g>\n",
       "     <g id=\"text_3\">\n",
       "      <!-- pos -->\n",
       "      <g style=\"fill: #262626\" transform=\"translate(647.985156 287.910437) scale(0.1 -0.1)\">\n",
       "       <defs>\n",
       "        <path id=\"DejaVuSans-70\" d=\"M 1159 525 \n",
       "L 1159 -1331 \n",
       "L 581 -1331 \n",
       "L 581 3500 \n",
       "L 1159 3500 \n",
       "L 1159 2969 \n",
       "Q 1341 3281 1617 3432 \n",
       "Q 1894 3584 2278 3584 \n",
       "Q 2916 3584 3314 3078 \n",
       "Q 3713 2572 3713 1747 \n",
       "Q 3713 922 3314 415 \n",
       "Q 2916 -91 2278 -91 \n",
       "Q 1894 -91 1617 61 \n",
       "Q 1341 213 1159 525 \n",
       "z\n",
       "M 3116 1747 \n",
       "Q 3116 2381 2855 2742 \n",
       "Q 2594 3103 2138 3103 \n",
       "Q 1681 3103 1420 2742 \n",
       "Q 1159 2381 1159 1747 \n",
       "Q 1159 1113 1420 752 \n",
       "Q 1681 391 2138 391 \n",
       "Q 2594 391 2855 752 \n",
       "Q 3116 1113 3116 1747 \n",
       "z\n",
       "\" transform=\"scale(0.015625)\"/>\n",
       "        <path id=\"DejaVuSans-6f\" d=\"M 1959 3097 \n",
       "Q 1497 3097 1228 2736 \n",
       "Q 959 2375 959 1747 \n",
       "Q 959 1119 1226 758 \n",
       "Q 1494 397 1959 397 \n",
       "Q 2419 397 2687 759 \n",
       "Q 2956 1122 2956 1747 \n",
       "Q 2956 2369 2687 2733 \n",
       "Q 2419 3097 1959 3097 \n",
       "z\n",
       "M 1959 3584 \n",
       "Q 2709 3584 3137 3096 \n",
       "Q 3566 2609 3566 1747 \n",
       "Q 3566 888 3137 398 \n",
       "Q 2709 -91 1959 -91 \n",
       "Q 1206 -91 779 398 \n",
       "Q 353 888 353 1747 \n",
       "Q 353 2609 779 3096 \n",
       "Q 1206 3584 1959 3584 \n",
       "z\n",
       "\" transform=\"scale(0.015625)\"/>\n",
       "        <path id=\"DejaVuSans-73\" d=\"M 2834 3397 \n",
       "L 2834 2853 \n",
       "Q 2591 2978 2328 3040 \n",
       "Q 2066 3103 1784 3103 \n",
       "Q 1356 3103 1142 2972 \n",
       "Q 928 2841 928 2578 \n",
       "Q 928 2378 1081 2264 \n",
       "Q 1234 2150 1697 2047 \n",
       "L 1894 2003 \n",
       "Q 2506 1872 2764 1633 \n",
       "Q 3022 1394 3022 966 \n",
       "Q 3022 478 2636 193 \n",
       "Q 2250 -91 1575 -91 \n",
       "Q 1294 -91 989 -36 \n",
       "Q 684 19 347 128 \n",
       "L 347 722 \n",
       "Q 666 556 975 473 \n",
       "Q 1284 391 1588 391 \n",
       "Q 1994 391 2212 530 \n",
       "Q 2431 669 2431 922 \n",
       "Q 2431 1156 2273 1281 \n",
       "Q 2116 1406 1581 1522 \n",
       "L 1381 1569 \n",
       "Q 847 1681 609 1914 \n",
       "Q 372 2147 372 2553 \n",
       "Q 372 3047 722 3315 \n",
       "Q 1072 3584 1716 3584 \n",
       "Q 2034 3584 2315 3537 \n",
       "Q 2597 3491 2834 3397 \n",
       "z\n",
       "\" transform=\"scale(0.015625)\"/>\n",
       "       </defs>\n",
       "       <use xlink:href=\"#DejaVuSans-70\"/>\n",
       "       <use xlink:href=\"#DejaVuSans-6f\" x=\"63.476562\"/>\n",
       "       <use xlink:href=\"#DejaVuSans-73\" x=\"124.658203\"/>\n",
       "      </g>\n",
       "     </g>\n",
       "    </g>\n",
       "    <g id=\"xtick_4\">\n",
       "     <g id=\"line2d_4\">\n",
       "      <path d=\"M 746.103438 273.312 \n",
       "L 746.103438 7.2 \n",
       "\" clip-path=\"url(#p24e7f01f4b)\" style=\"fill: none; stroke: #cccccc; stroke-width: 0.8; stroke-linecap: round\"/>\n",
       "     </g>\n",
       "     <g id=\"text_4\">\n",
       "      <!-- compound -->\n",
       "      <g style=\"fill: #262626\" transform=\"translate(719.679219 287.910437) scale(0.1 -0.1)\">\n",
       "       <defs>\n",
       "        <path id=\"DejaVuSans-63\" d=\"M 3122 3366 \n",
       "L 3122 2828 \n",
       "Q 2878 2963 2633 3030 \n",
       "Q 2388 3097 2138 3097 \n",
       "Q 1578 3097 1268 2742 \n",
       "Q 959 2388 959 1747 \n",
       "Q 959 1106 1268 751 \n",
       "Q 1578 397 2138 397 \n",
       "Q 2388 397 2633 464 \n",
       "Q 2878 531 3122 666 \n",
       "L 3122 134 \n",
       "Q 2881 22 2623 -34 \n",
       "Q 2366 -91 2075 -91 \n",
       "Q 1284 -91 818 406 \n",
       "Q 353 903 353 1747 \n",
       "Q 353 2603 823 3093 \n",
       "Q 1294 3584 2113 3584 \n",
       "Q 2378 3584 2631 3529 \n",
       "Q 2884 3475 3122 3366 \n",
       "z\n",
       "\" transform=\"scale(0.015625)\"/>\n",
       "        <path id=\"DejaVuSans-6d\" d=\"M 3328 2828 \n",
       "Q 3544 3216 3844 3400 \n",
       "Q 4144 3584 4550 3584 \n",
       "Q 5097 3584 5394 3201 \n",
       "Q 5691 2819 5691 2113 \n",
       "L 5691 0 \n",
       "L 5113 0 \n",
       "L 5113 2094 \n",
       "Q 5113 2597 4934 2840 \n",
       "Q 4756 3084 4391 3084 \n",
       "Q 3944 3084 3684 2787 \n",
       "Q 3425 2491 3425 1978 \n",
       "L 3425 0 \n",
       "L 2847 0 \n",
       "L 2847 2094 \n",
       "Q 2847 2600 2669 2842 \n",
       "Q 2491 3084 2119 3084 \n",
       "Q 1678 3084 1418 2786 \n",
       "Q 1159 2488 1159 1978 \n",
       "L 1159 0 \n",
       "L 581 0 \n",
       "L 581 3500 \n",
       "L 1159 3500 \n",
       "L 1159 2956 \n",
       "Q 1356 3278 1631 3431 \n",
       "Q 1906 3584 2284 3584 \n",
       "Q 2666 3584 2933 3390 \n",
       "Q 3200 3197 3328 2828 \n",
       "z\n",
       "\" transform=\"scale(0.015625)\"/>\n",
       "        <path id=\"DejaVuSans-64\" d=\"M 2906 2969 \n",
       "L 2906 4863 \n",
       "L 3481 4863 \n",
       "L 3481 0 \n",
       "L 2906 0 \n",
       "L 2906 525 \n",
       "Q 2725 213 2448 61 \n",
       "Q 2172 -91 1784 -91 \n",
       "Q 1150 -91 751 415 \n",
       "Q 353 922 353 1747 \n",
       "Q 353 2572 751 3078 \n",
       "Q 1150 3584 1784 3584 \n",
       "Q 2172 3584 2448 3432 \n",
       "Q 2725 3281 2906 2969 \n",
       "z\n",
       "M 947 1747 \n",
       "Q 947 1113 1208 752 \n",
       "Q 1469 391 1925 391 \n",
       "Q 2381 391 2643 752 \n",
       "Q 2906 1113 2906 1747 \n",
       "Q 2906 2381 2643 2742 \n",
       "Q 2381 3103 1925 3103 \n",
       "Q 1469 3103 1208 2742 \n",
       "Q 947 2381 947 1747 \n",
       "z\n",
       "\" transform=\"scale(0.015625)\"/>\n",
       "       </defs>\n",
       "       <use xlink:href=\"#DejaVuSans-63\"/>\n",
       "       <use xlink:href=\"#DejaVuSans-6f\" x=\"54.980469\"/>\n",
       "       <use xlink:href=\"#DejaVuSans-6d\" x=\"116.162109\"/>\n",
       "       <use xlink:href=\"#DejaVuSans-70\" x=\"213.574219\"/>\n",
       "       <use xlink:href=\"#DejaVuSans-6f\" x=\"277.050781\"/>\n",
       "       <use xlink:href=\"#DejaVuSans-75\" x=\"338.232422\"/>\n",
       "       <use xlink:href=\"#DejaVuSans-6e\" x=\"401.611328\"/>\n",
       "       <use xlink:href=\"#DejaVuSans-64\" x=\"464.990234\"/>\n",
       "      </g>\n",
       "     </g>\n",
       "    </g>\n",
       "   </g>\n",
       "   <g id=\"matplotlib.axis_2\">\n",
       "    <g id=\"ytick_1\">\n",
       "     <g id=\"line2d_5\">\n",
       "      <path d=\"M 433.623438 16.0704 \n",
       "L 790.743438 16.0704 \n",
       "\" clip-path=\"url(#p24e7f01f4b)\" style=\"fill: none; stroke: #cccccc; stroke-width: 0.8; stroke-linecap: round\"/>\n",
       "     </g>\n",
       "     <g id=\"text_5\">\n",
       "      <!-- VADER is smart, handsome, and funny. -->\n",
       "      <g style=\"fill: #262626\" transform=\"translate(231.876563 18.829775) scale(0.1 -0.1)\">\n",
       "       <defs>\n",
       "        <path id=\"DejaVuSans-56\" d=\"M 1831 0 \n",
       "L 50 4666 \n",
       "L 709 4666 \n",
       "L 2188 738 \n",
       "L 3669 4666 \n",
       "L 4325 4666 \n",
       "L 2547 0 \n",
       "L 1831 0 \n",
       "z\n",
       "\" transform=\"scale(0.015625)\"/>\n",
       "        <path id=\"DejaVuSans-41\" d=\"M 2188 4044 \n",
       "L 1331 1722 \n",
       "L 3047 1722 \n",
       "L 2188 4044 \n",
       "z\n",
       "M 1831 4666 \n",
       "L 2547 4666 \n",
       "L 4325 0 \n",
       "L 3669 0 \n",
       "L 3244 1197 \n",
       "L 1141 1197 \n",
       "L 716 0 \n",
       "L 50 0 \n",
       "L 1831 4666 \n",
       "z\n",
       "\" transform=\"scale(0.015625)\"/>\n",
       "        <path id=\"DejaVuSans-44\" d=\"M 1259 4147 \n",
       "L 1259 519 \n",
       "L 2022 519 \n",
       "Q 2988 519 3436 956 \n",
       "Q 3884 1394 3884 2338 \n",
       "Q 3884 3275 3436 3711 \n",
       "Q 2988 4147 2022 4147 \n",
       "L 1259 4147 \n",
       "z\n",
       "M 628 4666 \n",
       "L 1925 4666 \n",
       "Q 3281 4666 3915 4102 \n",
       "Q 4550 3538 4550 2338 \n",
       "Q 4550 1131 3912 565 \n",
       "Q 3275 0 1925 0 \n",
       "L 628 0 \n",
       "L 628 4666 \n",
       "z\n",
       "\" transform=\"scale(0.015625)\"/>\n",
       "        <path id=\"DejaVuSans-45\" d=\"M 628 4666 \n",
       "L 3578 4666 \n",
       "L 3578 4134 \n",
       "L 1259 4134 \n",
       "L 1259 2753 \n",
       "L 3481 2753 \n",
       "L 3481 2222 \n",
       "L 1259 2222 \n",
       "L 1259 531 \n",
       "L 3634 531 \n",
       "L 3634 0 \n",
       "L 628 0 \n",
       "L 628 4666 \n",
       "z\n",
       "\" transform=\"scale(0.015625)\"/>\n",
       "        <path id=\"DejaVuSans-52\" d=\"M 2841 2188 \n",
       "Q 3044 2119 3236 1894 \n",
       "Q 3428 1669 3622 1275 \n",
       "L 4263 0 \n",
       "L 3584 0 \n",
       "L 2988 1197 \n",
       "Q 2756 1666 2539 1819 \n",
       "Q 2322 1972 1947 1972 \n",
       "L 1259 1972 \n",
       "L 1259 0 \n",
       "L 628 0 \n",
       "L 628 4666 \n",
       "L 2053 4666 \n",
       "Q 2853 4666 3247 4331 \n",
       "Q 3641 3997 3641 3322 \n",
       "Q 3641 2881 3436 2590 \n",
       "Q 3231 2300 2841 2188 \n",
       "z\n",
       "M 1259 4147 \n",
       "L 1259 2491 \n",
       "L 2053 2491 \n",
       "Q 2509 2491 2742 2702 \n",
       "Q 2975 2913 2975 3322 \n",
       "Q 2975 3731 2742 3939 \n",
       "Q 2509 4147 2053 4147 \n",
       "L 1259 4147 \n",
       "z\n",
       "\" transform=\"scale(0.015625)\"/>\n",
       "        <path id=\"DejaVuSans-20\" transform=\"scale(0.015625)\"/>\n",
       "        <path id=\"DejaVuSans-69\" d=\"M 603 3500 \n",
       "L 1178 3500 \n",
       "L 1178 0 \n",
       "L 603 0 \n",
       "L 603 3500 \n",
       "z\n",
       "M 603 4863 \n",
       "L 1178 4863 \n",
       "L 1178 4134 \n",
       "L 603 4134 \n",
       "L 603 4863 \n",
       "z\n",
       "\" transform=\"scale(0.015625)\"/>\n",
       "        <path id=\"DejaVuSans-61\" d=\"M 2194 1759 \n",
       "Q 1497 1759 1228 1600 \n",
       "Q 959 1441 959 1056 \n",
       "Q 959 750 1161 570 \n",
       "Q 1363 391 1709 391 \n",
       "Q 2188 391 2477 730 \n",
       "Q 2766 1069 2766 1631 \n",
       "L 2766 1759 \n",
       "L 2194 1759 \n",
       "z\n",
       "M 3341 1997 \n",
       "L 3341 0 \n",
       "L 2766 0 \n",
       "L 2766 531 \n",
       "Q 2569 213 2275 61 \n",
       "Q 1981 -91 1556 -91 \n",
       "Q 1019 -91 701 211 \n",
       "Q 384 513 384 1019 \n",
       "Q 384 1609 779 1909 \n",
       "Q 1175 2209 1959 2209 \n",
       "L 2766 2209 \n",
       "L 2766 2266 \n",
       "Q 2766 2663 2505 2880 \n",
       "Q 2244 3097 1772 3097 \n",
       "Q 1472 3097 1187 3025 \n",
       "Q 903 2953 641 2809 \n",
       "L 641 3341 \n",
       "Q 956 3463 1253 3523 \n",
       "Q 1550 3584 1831 3584 \n",
       "Q 2591 3584 2966 3190 \n",
       "Q 3341 2797 3341 1997 \n",
       "z\n",
       "\" transform=\"scale(0.015625)\"/>\n",
       "        <path id=\"DejaVuSans-72\" d=\"M 2631 2963 \n",
       "Q 2534 3019 2420 3045 \n",
       "Q 2306 3072 2169 3072 \n",
       "Q 1681 3072 1420 2755 \n",
       "Q 1159 2438 1159 1844 \n",
       "L 1159 0 \n",
       "L 581 0 \n",
       "L 581 3500 \n",
       "L 1159 3500 \n",
       "L 1159 2956 \n",
       "Q 1341 3275 1631 3429 \n",
       "Q 1922 3584 2338 3584 \n",
       "Q 2397 3584 2469 3576 \n",
       "Q 2541 3569 2628 3553 \n",
       "L 2631 2963 \n",
       "z\n",
       "\" transform=\"scale(0.015625)\"/>\n",
       "        <path id=\"DejaVuSans-74\" d=\"M 1172 4494 \n",
       "L 1172 3500 \n",
       "L 2356 3500 \n",
       "L 2356 3053 \n",
       "L 1172 3053 \n",
       "L 1172 1153 \n",
       "Q 1172 725 1289 603 \n",
       "Q 1406 481 1766 481 \n",
       "L 2356 481 \n",
       "L 2356 0 \n",
       "L 1766 0 \n",
       "Q 1100 0 847 248 \n",
       "Q 594 497 594 1153 \n",
       "L 594 3053 \n",
       "L 172 3053 \n",
       "L 172 3500 \n",
       "L 594 3500 \n",
       "L 594 4494 \n",
       "L 1172 4494 \n",
       "z\n",
       "\" transform=\"scale(0.015625)\"/>\n",
       "        <path id=\"DejaVuSans-2c\" d=\"M 750 794 \n",
       "L 1409 794 \n",
       "L 1409 256 \n",
       "L 897 -744 \n",
       "L 494 -744 \n",
       "L 750 256 \n",
       "L 750 794 \n",
       "z\n",
       "\" transform=\"scale(0.015625)\"/>\n",
       "        <path id=\"DejaVuSans-68\" d=\"M 3513 2113 \n",
       "L 3513 0 \n",
       "L 2938 0 \n",
       "L 2938 2094 \n",
       "Q 2938 2591 2744 2837 \n",
       "Q 2550 3084 2163 3084 \n",
       "Q 1697 3084 1428 2787 \n",
       "Q 1159 2491 1159 1978 \n",
       "L 1159 0 \n",
       "L 581 0 \n",
       "L 581 4863 \n",
       "L 1159 4863 \n",
       "L 1159 2956 \n",
       "Q 1366 3272 1645 3428 \n",
       "Q 1925 3584 2291 3584 \n",
       "Q 2894 3584 3203 3211 \n",
       "Q 3513 2838 3513 2113 \n",
       "z\n",
       "\" transform=\"scale(0.015625)\"/>\n",
       "        <path id=\"DejaVuSans-66\" d=\"M 2375 4863 \n",
       "L 2375 4384 \n",
       "L 1825 4384 \n",
       "Q 1516 4384 1395 4259 \n",
       "Q 1275 4134 1275 3809 \n",
       "L 1275 3500 \n",
       "L 2222 3500 \n",
       "L 2222 3053 \n",
       "L 1275 3053 \n",
       "L 1275 0 \n",
       "L 697 0 \n",
       "L 697 3053 \n",
       "L 147 3053 \n",
       "L 147 3500 \n",
       "L 697 3500 \n",
       "L 697 3744 \n",
       "Q 697 4328 969 4595 \n",
       "Q 1241 4863 1831 4863 \n",
       "L 2375 4863 \n",
       "z\n",
       "\" transform=\"scale(0.015625)\"/>\n",
       "        <path id=\"DejaVuSans-79\" d=\"M 2059 -325 \n",
       "Q 1816 -950 1584 -1140 \n",
       "Q 1353 -1331 966 -1331 \n",
       "L 506 -1331 \n",
       "L 506 -850 \n",
       "L 844 -850 \n",
       "Q 1081 -850 1212 -737 \n",
       "Q 1344 -625 1503 -206 \n",
       "L 1606 56 \n",
       "L 191 3500 \n",
       "L 800 3500 \n",
       "L 1894 763 \n",
       "L 2988 3500 \n",
       "L 3597 3500 \n",
       "L 2059 -325 \n",
       "z\n",
       "\" transform=\"scale(0.015625)\"/>\n",
       "        <path id=\"DejaVuSans-2e\" d=\"M 684 794 \n",
       "L 1344 794 \n",
       "L 1344 0 \n",
       "L 684 0 \n",
       "L 684 794 \n",
       "z\n",
       "\" transform=\"scale(0.015625)\"/>\n",
       "       </defs>\n",
       "       <use xlink:href=\"#DejaVuSans-56\"/>\n",
       "       <use xlink:href=\"#DejaVuSans-41\" x=\"62.033203\"/>\n",
       "       <use xlink:href=\"#DejaVuSans-44\" x=\"130.441406\"/>\n",
       "       <use xlink:href=\"#DejaVuSans-45\" x=\"207.443359\"/>\n",
       "       <use xlink:href=\"#DejaVuSans-52\" x=\"270.626953\"/>\n",
       "       <use xlink:href=\"#DejaVuSans-20\" x=\"340.109375\"/>\n",
       "       <use xlink:href=\"#DejaVuSans-69\" x=\"371.896484\"/>\n",
       "       <use xlink:href=\"#DejaVuSans-73\" x=\"399.679688\"/>\n",
       "       <use xlink:href=\"#DejaVuSans-20\" x=\"451.779297\"/>\n",
       "       <use xlink:href=\"#DejaVuSans-73\" x=\"483.566406\"/>\n",
       "       <use xlink:href=\"#DejaVuSans-6d\" x=\"535.666016\"/>\n",
       "       <use xlink:href=\"#DejaVuSans-61\" x=\"633.078125\"/>\n",
       "       <use xlink:href=\"#DejaVuSans-72\" x=\"694.357422\"/>\n",
       "       <use xlink:href=\"#DejaVuSans-74\" x=\"735.470703\"/>\n",
       "       <use xlink:href=\"#DejaVuSans-2c\" x=\"774.679688\"/>\n",
       "       <use xlink:href=\"#DejaVuSans-20\" x=\"806.466797\"/>\n",
       "       <use xlink:href=\"#DejaVuSans-68\" x=\"838.253906\"/>\n",
       "       <use xlink:href=\"#DejaVuSans-61\" x=\"901.632812\"/>\n",
       "       <use xlink:href=\"#DejaVuSans-6e\" x=\"962.912109\"/>\n",
       "       <use xlink:href=\"#DejaVuSans-64\" x=\"1026.291016\"/>\n",
       "       <use xlink:href=\"#DejaVuSans-73\" x=\"1089.767578\"/>\n",
       "       <use xlink:href=\"#DejaVuSans-6f\" x=\"1141.867188\"/>\n",
       "       <use xlink:href=\"#DejaVuSans-6d\" x=\"1203.048828\"/>\n",
       "       <use xlink:href=\"#DejaVuSans-65\" x=\"1300.460938\"/>\n",
       "       <use xlink:href=\"#DejaVuSans-2c\" x=\"1361.984375\"/>\n",
       "       <use xlink:href=\"#DejaVuSans-20\" x=\"1393.771484\"/>\n",
       "       <use xlink:href=\"#DejaVuSans-61\" x=\"1425.558594\"/>\n",
       "       <use xlink:href=\"#DejaVuSans-6e\" x=\"1486.837891\"/>\n",
       "       <use xlink:href=\"#DejaVuSans-64\" x=\"1550.216797\"/>\n",
       "       <use xlink:href=\"#DejaVuSans-20\" x=\"1613.693359\"/>\n",
       "       <use xlink:href=\"#DejaVuSans-66\" x=\"1645.480469\"/>\n",
       "       <use xlink:href=\"#DejaVuSans-75\" x=\"1680.685547\"/>\n",
       "       <use xlink:href=\"#DejaVuSans-6e\" x=\"1744.064453\"/>\n",
       "       <use xlink:href=\"#DejaVuSans-6e\" x=\"1807.443359\"/>\n",
       "       <use xlink:href=\"#DejaVuSans-79\" x=\"1870.822266\"/>\n",
       "       <use xlink:href=\"#DejaVuSans-2e\" x=\"1915.751953\"/>\n",
       "      </g>\n",
       "     </g>\n",
       "    </g>\n",
       "    <g id=\"ytick_2\">\n",
       "     <g id=\"line2d_6\">\n",
       "      <path d=\"M 433.623438 33.8112 \n",
       "L 790.743438 33.8112 \n",
       "\" clip-path=\"url(#p24e7f01f4b)\" style=\"fill: none; stroke: #cccccc; stroke-width: 0.8; stroke-linecap: round\"/>\n",
       "     </g>\n",
       "     <g id=\"text_6\">\n",
       "      <!-- VADER is smart, handsome, and funny! -->\n",
       "      <g style=\"fill: #262626\" transform=\"translate(229.620313 36.570575) scale(0.1 -0.1)\">\n",
       "       <defs>\n",
       "        <path id=\"DejaVuSans-21\" d=\"M 966 794 \n",
       "L 1600 794 \n",
       "L 1600 0 \n",
       "L 966 0 \n",
       "L 966 794 \n",
       "z\n",
       "M 966 4666 \n",
       "L 1600 4666 \n",
       "L 1600 2619 \n",
       "L 1538 1503 \n",
       "L 1031 1503 \n",
       "L 966 2619 \n",
       "L 966 4666 \n",
       "z\n",
       "\" transform=\"scale(0.015625)\"/>\n",
       "       </defs>\n",
       "       <use xlink:href=\"#DejaVuSans-56\"/>\n",
       "       <use xlink:href=\"#DejaVuSans-41\" x=\"62.033203\"/>\n",
       "       <use xlink:href=\"#DejaVuSans-44\" x=\"130.441406\"/>\n",
       "       <use xlink:href=\"#DejaVuSans-45\" x=\"207.443359\"/>\n",
       "       <use xlink:href=\"#DejaVuSans-52\" x=\"270.626953\"/>\n",
       "       <use xlink:href=\"#DejaVuSans-20\" x=\"340.109375\"/>\n",
       "       <use xlink:href=\"#DejaVuSans-69\" x=\"371.896484\"/>\n",
       "       <use xlink:href=\"#DejaVuSans-73\" x=\"399.679688\"/>\n",
       "       <use xlink:href=\"#DejaVuSans-20\" x=\"451.779297\"/>\n",
       "       <use xlink:href=\"#DejaVuSans-73\" x=\"483.566406\"/>\n",
       "       <use xlink:href=\"#DejaVuSans-6d\" x=\"535.666016\"/>\n",
       "       <use xlink:href=\"#DejaVuSans-61\" x=\"633.078125\"/>\n",
       "       <use xlink:href=\"#DejaVuSans-72\" x=\"694.357422\"/>\n",
       "       <use xlink:href=\"#DejaVuSans-74\" x=\"735.470703\"/>\n",
       "       <use xlink:href=\"#DejaVuSans-2c\" x=\"774.679688\"/>\n",
       "       <use xlink:href=\"#DejaVuSans-20\" x=\"806.466797\"/>\n",
       "       <use xlink:href=\"#DejaVuSans-68\" x=\"838.253906\"/>\n",
       "       <use xlink:href=\"#DejaVuSans-61\" x=\"901.632812\"/>\n",
       "       <use xlink:href=\"#DejaVuSans-6e\" x=\"962.912109\"/>\n",
       "       <use xlink:href=\"#DejaVuSans-64\" x=\"1026.291016\"/>\n",
       "       <use xlink:href=\"#DejaVuSans-73\" x=\"1089.767578\"/>\n",
       "       <use xlink:href=\"#DejaVuSans-6f\" x=\"1141.867188\"/>\n",
       "       <use xlink:href=\"#DejaVuSans-6d\" x=\"1203.048828\"/>\n",
       "       <use xlink:href=\"#DejaVuSans-65\" x=\"1300.460938\"/>\n",
       "       <use xlink:href=\"#DejaVuSans-2c\" x=\"1361.984375\"/>\n",
       "       <use xlink:href=\"#DejaVuSans-20\" x=\"1393.771484\"/>\n",
       "       <use xlink:href=\"#DejaVuSans-61\" x=\"1425.558594\"/>\n",
       "       <use xlink:href=\"#DejaVuSans-6e\" x=\"1486.837891\"/>\n",
       "       <use xlink:href=\"#DejaVuSans-64\" x=\"1550.216797\"/>\n",
       "       <use xlink:href=\"#DejaVuSans-20\" x=\"1613.693359\"/>\n",
       "       <use xlink:href=\"#DejaVuSans-66\" x=\"1645.480469\"/>\n",
       "       <use xlink:href=\"#DejaVuSans-75\" x=\"1680.685547\"/>\n",
       "       <use xlink:href=\"#DejaVuSans-6e\" x=\"1744.064453\"/>\n",
       "       <use xlink:href=\"#DejaVuSans-6e\" x=\"1807.443359\"/>\n",
       "       <use xlink:href=\"#DejaVuSans-79\" x=\"1870.822266\"/>\n",
       "       <use xlink:href=\"#DejaVuSans-21\" x=\"1930.001953\"/>\n",
       "      </g>\n",
       "     </g>\n",
       "    </g>\n",
       "    <g id=\"ytick_3\">\n",
       "     <g id=\"line2d_7\">\n",
       "      <path d=\"M 433.623438 51.552 \n",
       "L 790.743438 51.552 \n",
       "\" clip-path=\"url(#p24e7f01f4b)\" style=\"fill: none; stroke: #cccccc; stroke-width: 0.8; stroke-linecap: round\"/>\n",
       "     </g>\n",
       "     <g id=\"text_7\">\n",
       "      <!-- VADER is very smart, handsome, and funny. -->\n",
       "      <g style=\"fill: #262626\" transform=\"translate(206.596875 54.311375) scale(0.1 -0.1)\">\n",
       "       <defs>\n",
       "        <path id=\"DejaVuSans-76\" d=\"M 191 3500 \n",
       "L 800 3500 \n",
       "L 1894 563 \n",
       "L 2988 3500 \n",
       "L 3597 3500 \n",
       "L 2284 0 \n",
       "L 1503 0 \n",
       "L 191 3500 \n",
       "z\n",
       "\" transform=\"scale(0.015625)\"/>\n",
       "       </defs>\n",
       "       <use xlink:href=\"#DejaVuSans-56\"/>\n",
       "       <use xlink:href=\"#DejaVuSans-41\" x=\"62.033203\"/>\n",
       "       <use xlink:href=\"#DejaVuSans-44\" x=\"130.441406\"/>\n",
       "       <use xlink:href=\"#DejaVuSans-45\" x=\"207.443359\"/>\n",
       "       <use xlink:href=\"#DejaVuSans-52\" x=\"270.626953\"/>\n",
       "       <use xlink:href=\"#DejaVuSans-20\" x=\"340.109375\"/>\n",
       "       <use xlink:href=\"#DejaVuSans-69\" x=\"371.896484\"/>\n",
       "       <use xlink:href=\"#DejaVuSans-73\" x=\"399.679688\"/>\n",
       "       <use xlink:href=\"#DejaVuSans-20\" x=\"451.779297\"/>\n",
       "       <use xlink:href=\"#DejaVuSans-76\" x=\"483.566406\"/>\n",
       "       <use xlink:href=\"#DejaVuSans-65\" x=\"542.746094\"/>\n",
       "       <use xlink:href=\"#DejaVuSans-72\" x=\"604.269531\"/>\n",
       "       <use xlink:href=\"#DejaVuSans-79\" x=\"645.382812\"/>\n",
       "       <use xlink:href=\"#DejaVuSans-20\" x=\"704.5625\"/>\n",
       "       <use xlink:href=\"#DejaVuSans-73\" x=\"736.349609\"/>\n",
       "       <use xlink:href=\"#DejaVuSans-6d\" x=\"788.449219\"/>\n",
       "       <use xlink:href=\"#DejaVuSans-61\" x=\"885.861328\"/>\n",
       "       <use xlink:href=\"#DejaVuSans-72\" x=\"947.140625\"/>\n",
       "       <use xlink:href=\"#DejaVuSans-74\" x=\"988.253906\"/>\n",
       "       <use xlink:href=\"#DejaVuSans-2c\" x=\"1027.462891\"/>\n",
       "       <use xlink:href=\"#DejaVuSans-20\" x=\"1059.25\"/>\n",
       "       <use xlink:href=\"#DejaVuSans-68\" x=\"1091.037109\"/>\n",
       "       <use xlink:href=\"#DejaVuSans-61\" x=\"1154.416016\"/>\n",
       "       <use xlink:href=\"#DejaVuSans-6e\" x=\"1215.695312\"/>\n",
       "       <use xlink:href=\"#DejaVuSans-64\" x=\"1279.074219\"/>\n",
       "       <use xlink:href=\"#DejaVuSans-73\" x=\"1342.550781\"/>\n",
       "       <use xlink:href=\"#DejaVuSans-6f\" x=\"1394.650391\"/>\n",
       "       <use xlink:href=\"#DejaVuSans-6d\" x=\"1455.832031\"/>\n",
       "       <use xlink:href=\"#DejaVuSans-65\" x=\"1553.244141\"/>\n",
       "       <use xlink:href=\"#DejaVuSans-2c\" x=\"1614.767578\"/>\n",
       "       <use xlink:href=\"#DejaVuSans-20\" x=\"1646.554688\"/>\n",
       "       <use xlink:href=\"#DejaVuSans-61\" x=\"1678.341797\"/>\n",
       "       <use xlink:href=\"#DejaVuSans-6e\" x=\"1739.621094\"/>\n",
       "       <use xlink:href=\"#DejaVuSans-64\" x=\"1803\"/>\n",
       "       <use xlink:href=\"#DejaVuSans-20\" x=\"1866.476562\"/>\n",
       "       <use xlink:href=\"#DejaVuSans-66\" x=\"1898.263672\"/>\n",
       "       <use xlink:href=\"#DejaVuSans-75\" x=\"1933.46875\"/>\n",
       "       <use xlink:href=\"#DejaVuSans-6e\" x=\"1996.847656\"/>\n",
       "       <use xlink:href=\"#DejaVuSans-6e\" x=\"2060.226562\"/>\n",
       "       <use xlink:href=\"#DejaVuSans-79\" x=\"2123.605469\"/>\n",
       "       <use xlink:href=\"#DejaVuSans-2e\" x=\"2168.535156\"/>\n",
       "      </g>\n",
       "     </g>\n",
       "    </g>\n",
       "    <g id=\"ytick_4\">\n",
       "     <g id=\"line2d_8\">\n",
       "      <path d=\"M 433.623438 69.2928 \n",
       "L 790.743438 69.2928 \n",
       "\" clip-path=\"url(#p24e7f01f4b)\" style=\"fill: none; stroke: #cccccc; stroke-width: 0.8; stroke-linecap: round\"/>\n",
       "     </g>\n",
       "     <g id=\"text_8\">\n",
       "      <!-- VADER is VERY SMART, handsome, and FUNNY. -->\n",
       "      <g style=\"fill: #262626\" transform=\"translate(192.992188 72.052175) scale(0.1 -0.1)\">\n",
       "       <defs>\n",
       "        <path id=\"DejaVuSans-59\" d=\"M -13 4666 \n",
       "L 666 4666 \n",
       "L 1959 2747 \n",
       "L 3244 4666 \n",
       "L 3922 4666 \n",
       "L 2272 2222 \n",
       "L 2272 0 \n",
       "L 1638 0 \n",
       "L 1638 2222 \n",
       "L -13 4666 \n",
       "z\n",
       "\" transform=\"scale(0.015625)\"/>\n",
       "        <path id=\"DejaVuSans-53\" d=\"M 3425 4513 \n",
       "L 3425 3897 \n",
       "Q 3066 4069 2747 4153 \n",
       "Q 2428 4238 2131 4238 \n",
       "Q 1616 4238 1336 4038 \n",
       "Q 1056 3838 1056 3469 \n",
       "Q 1056 3159 1242 3001 \n",
       "Q 1428 2844 1947 2747 \n",
       "L 2328 2669 \n",
       "Q 3034 2534 3370 2195 \n",
       "Q 3706 1856 3706 1288 \n",
       "Q 3706 609 3251 259 \n",
       "Q 2797 -91 1919 -91 \n",
       "Q 1588 -91 1214 -16 \n",
       "Q 841 59 441 206 \n",
       "L 441 856 \n",
       "Q 825 641 1194 531 \n",
       "Q 1563 422 1919 422 \n",
       "Q 2459 422 2753 634 \n",
       "Q 3047 847 3047 1241 \n",
       "Q 3047 1584 2836 1778 \n",
       "Q 2625 1972 2144 2069 \n",
       "L 1759 2144 \n",
       "Q 1053 2284 737 2584 \n",
       "Q 422 2884 422 3419 \n",
       "Q 422 4038 858 4394 \n",
       "Q 1294 4750 2059 4750 \n",
       "Q 2388 4750 2728 4690 \n",
       "Q 3069 4631 3425 4513 \n",
       "z\n",
       "\" transform=\"scale(0.015625)\"/>\n",
       "        <path id=\"DejaVuSans-4d\" d=\"M 628 4666 \n",
       "L 1569 4666 \n",
       "L 2759 1491 \n",
       "L 3956 4666 \n",
       "L 4897 4666 \n",
       "L 4897 0 \n",
       "L 4281 0 \n",
       "L 4281 4097 \n",
       "L 3078 897 \n",
       "L 2444 897 \n",
       "L 1241 4097 \n",
       "L 1241 0 \n",
       "L 628 0 \n",
       "L 628 4666 \n",
       "z\n",
       "\" transform=\"scale(0.015625)\"/>\n",
       "        <path id=\"DejaVuSans-54\" d=\"M -19 4666 \n",
       "L 3928 4666 \n",
       "L 3928 4134 \n",
       "L 2272 4134 \n",
       "L 2272 0 \n",
       "L 1638 0 \n",
       "L 1638 4134 \n",
       "L -19 4134 \n",
       "L -19 4666 \n",
       "z\n",
       "\" transform=\"scale(0.015625)\"/>\n",
       "        <path id=\"DejaVuSans-46\" d=\"M 628 4666 \n",
       "L 3309 4666 \n",
       "L 3309 4134 \n",
       "L 1259 4134 \n",
       "L 1259 2759 \n",
       "L 3109 2759 \n",
       "L 3109 2228 \n",
       "L 1259 2228 \n",
       "L 1259 0 \n",
       "L 628 0 \n",
       "L 628 4666 \n",
       "z\n",
       "\" transform=\"scale(0.015625)\"/>\n",
       "        <path id=\"DejaVuSans-55\" d=\"M 556 4666 \n",
       "L 1191 4666 \n",
       "L 1191 1831 \n",
       "Q 1191 1081 1462 751 \n",
       "Q 1734 422 2344 422 \n",
       "Q 2950 422 3222 751 \n",
       "Q 3494 1081 3494 1831 \n",
       "L 3494 4666 \n",
       "L 4128 4666 \n",
       "L 4128 1753 \n",
       "Q 4128 841 3676 375 \n",
       "Q 3225 -91 2344 -91 \n",
       "Q 1459 -91 1007 375 \n",
       "Q 556 841 556 1753 \n",
       "L 556 4666 \n",
       "z\n",
       "\" transform=\"scale(0.015625)\"/>\n",
       "        <path id=\"DejaVuSans-4e\" d=\"M 628 4666 \n",
       "L 1478 4666 \n",
       "L 3547 763 \n",
       "L 3547 4666 \n",
       "L 4159 4666 \n",
       "L 4159 0 \n",
       "L 3309 0 \n",
       "L 1241 3903 \n",
       "L 1241 0 \n",
       "L 628 0 \n",
       "L 628 4666 \n",
       "z\n",
       "\" transform=\"scale(0.015625)\"/>\n",
       "       </defs>\n",
       "       <use xlink:href=\"#DejaVuSans-56\"/>\n",
       "       <use xlink:href=\"#DejaVuSans-41\" x=\"62.033203\"/>\n",
       "       <use xlink:href=\"#DejaVuSans-44\" x=\"130.441406\"/>\n",
       "       <use xlink:href=\"#DejaVuSans-45\" x=\"207.443359\"/>\n",
       "       <use xlink:href=\"#DejaVuSans-52\" x=\"270.626953\"/>\n",
       "       <use xlink:href=\"#DejaVuSans-20\" x=\"340.109375\"/>\n",
       "       <use xlink:href=\"#DejaVuSans-69\" x=\"371.896484\"/>\n",
       "       <use xlink:href=\"#DejaVuSans-73\" x=\"399.679688\"/>\n",
       "       <use xlink:href=\"#DejaVuSans-20\" x=\"451.779297\"/>\n",
       "       <use xlink:href=\"#DejaVuSans-56\" x=\"483.566406\"/>\n",
       "       <use xlink:href=\"#DejaVuSans-45\" x=\"551.974609\"/>\n",
       "       <use xlink:href=\"#DejaVuSans-52\" x=\"615.158203\"/>\n",
       "       <use xlink:href=\"#DejaVuSans-59\" x=\"678.265625\"/>\n",
       "       <use xlink:href=\"#DejaVuSans-20\" x=\"739.349609\"/>\n",
       "       <use xlink:href=\"#DejaVuSans-53\" x=\"771.136719\"/>\n",
       "       <use xlink:href=\"#DejaVuSans-4d\" x=\"834.613281\"/>\n",
       "       <use xlink:href=\"#DejaVuSans-41\" x=\"920.892578\"/>\n",
       "       <use xlink:href=\"#DejaVuSans-52\" x=\"989.300781\"/>\n",
       "       <use xlink:href=\"#DejaVuSans-54\" x=\"1051.533203\"/>\n",
       "       <use xlink:href=\"#DejaVuSans-2c\" x=\"1112.617188\"/>\n",
       "       <use xlink:href=\"#DejaVuSans-20\" x=\"1144.404297\"/>\n",
       "       <use xlink:href=\"#DejaVuSans-68\" x=\"1176.191406\"/>\n",
       "       <use xlink:href=\"#DejaVuSans-61\" x=\"1239.570312\"/>\n",
       "       <use xlink:href=\"#DejaVuSans-6e\" x=\"1300.849609\"/>\n",
       "       <use xlink:href=\"#DejaVuSans-64\" x=\"1364.228516\"/>\n",
       "       <use xlink:href=\"#DejaVuSans-73\" x=\"1427.705078\"/>\n",
       "       <use xlink:href=\"#DejaVuSans-6f\" x=\"1479.804688\"/>\n",
       "       <use xlink:href=\"#DejaVuSans-6d\" x=\"1540.986328\"/>\n",
       "       <use xlink:href=\"#DejaVuSans-65\" x=\"1638.398438\"/>\n",
       "       <use xlink:href=\"#DejaVuSans-2c\" x=\"1699.921875\"/>\n",
       "       <use xlink:href=\"#DejaVuSans-20\" x=\"1731.708984\"/>\n",
       "       <use xlink:href=\"#DejaVuSans-61\" x=\"1763.496094\"/>\n",
       "       <use xlink:href=\"#DejaVuSans-6e\" x=\"1824.775391\"/>\n",
       "       <use xlink:href=\"#DejaVuSans-64\" x=\"1888.154297\"/>\n",
       "       <use xlink:href=\"#DejaVuSans-20\" x=\"1951.630859\"/>\n",
       "       <use xlink:href=\"#DejaVuSans-46\" x=\"1983.417969\"/>\n",
       "       <use xlink:href=\"#DejaVuSans-55\" x=\"2040.9375\"/>\n",
       "       <use xlink:href=\"#DejaVuSans-4e\" x=\"2114.130859\"/>\n",
       "       <use xlink:href=\"#DejaVuSans-4e\" x=\"2188.935547\"/>\n",
       "       <use xlink:href=\"#DejaVuSans-59\" x=\"2263.740234\"/>\n",
       "       <use xlink:href=\"#DejaVuSans-2e\" x=\"2304.574219\"/>\n",
       "      </g>\n",
       "     </g>\n",
       "    </g>\n",
       "    <g id=\"ytick_5\">\n",
       "     <g id=\"line2d_9\">\n",
       "      <path d=\"M 433.623438 87.0336 \n",
       "L 790.743438 87.0336 \n",
       "\" clip-path=\"url(#p24e7f01f4b)\" style=\"fill: none; stroke: #cccccc; stroke-width: 0.8; stroke-linecap: round\"/>\n",
       "     </g>\n",
       "     <g id=\"text_9\">\n",
       "      <!-- VADER is VERY SMART, handsome, and FUNNY!!! -->\n",
       "      <g style=\"fill: #262626\" transform=\"translate(182.117188 89.792975) scale(0.1 -0.1)\">\n",
       "       <use xlink:href=\"#DejaVuSans-56\"/>\n",
       "       <use xlink:href=\"#DejaVuSans-41\" x=\"62.033203\"/>\n",
       "       <use xlink:href=\"#DejaVuSans-44\" x=\"130.441406\"/>\n",
       "       <use xlink:href=\"#DejaVuSans-45\" x=\"207.443359\"/>\n",
       "       <use xlink:href=\"#DejaVuSans-52\" x=\"270.626953\"/>\n",
       "       <use xlink:href=\"#DejaVuSans-20\" x=\"340.109375\"/>\n",
       "       <use xlink:href=\"#DejaVuSans-69\" x=\"371.896484\"/>\n",
       "       <use xlink:href=\"#DejaVuSans-73\" x=\"399.679688\"/>\n",
       "       <use xlink:href=\"#DejaVuSans-20\" x=\"451.779297\"/>\n",
       "       <use xlink:href=\"#DejaVuSans-56\" x=\"483.566406\"/>\n",
       "       <use xlink:href=\"#DejaVuSans-45\" x=\"551.974609\"/>\n",
       "       <use xlink:href=\"#DejaVuSans-52\" x=\"615.158203\"/>\n",
       "       <use xlink:href=\"#DejaVuSans-59\" x=\"678.265625\"/>\n",
       "       <use xlink:href=\"#DejaVuSans-20\" x=\"739.349609\"/>\n",
       "       <use xlink:href=\"#DejaVuSans-53\" x=\"771.136719\"/>\n",
       "       <use xlink:href=\"#DejaVuSans-4d\" x=\"834.613281\"/>\n",
       "       <use xlink:href=\"#DejaVuSans-41\" x=\"920.892578\"/>\n",
       "       <use xlink:href=\"#DejaVuSans-52\" x=\"989.300781\"/>\n",
       "       <use xlink:href=\"#DejaVuSans-54\" x=\"1051.533203\"/>\n",
       "       <use xlink:href=\"#DejaVuSans-2c\" x=\"1112.617188\"/>\n",
       "       <use xlink:href=\"#DejaVuSans-20\" x=\"1144.404297\"/>\n",
       "       <use xlink:href=\"#DejaVuSans-68\" x=\"1176.191406\"/>\n",
       "       <use xlink:href=\"#DejaVuSans-61\" x=\"1239.570312\"/>\n",
       "       <use xlink:href=\"#DejaVuSans-6e\" x=\"1300.849609\"/>\n",
       "       <use xlink:href=\"#DejaVuSans-64\" x=\"1364.228516\"/>\n",
       "       <use xlink:href=\"#DejaVuSans-73\" x=\"1427.705078\"/>\n",
       "       <use xlink:href=\"#DejaVuSans-6f\" x=\"1479.804688\"/>\n",
       "       <use xlink:href=\"#DejaVuSans-6d\" x=\"1540.986328\"/>\n",
       "       <use xlink:href=\"#DejaVuSans-65\" x=\"1638.398438\"/>\n",
       "       <use xlink:href=\"#DejaVuSans-2c\" x=\"1699.921875\"/>\n",
       "       <use xlink:href=\"#DejaVuSans-20\" x=\"1731.708984\"/>\n",
       "       <use xlink:href=\"#DejaVuSans-61\" x=\"1763.496094\"/>\n",
       "       <use xlink:href=\"#DejaVuSans-6e\" x=\"1824.775391\"/>\n",
       "       <use xlink:href=\"#DejaVuSans-64\" x=\"1888.154297\"/>\n",
       "       <use xlink:href=\"#DejaVuSans-20\" x=\"1951.630859\"/>\n",
       "       <use xlink:href=\"#DejaVuSans-46\" x=\"1983.417969\"/>\n",
       "       <use xlink:href=\"#DejaVuSans-55\" x=\"2040.9375\"/>\n",
       "       <use xlink:href=\"#DejaVuSans-4e\" x=\"2114.130859\"/>\n",
       "       <use xlink:href=\"#DejaVuSans-4e\" x=\"2188.935547\"/>\n",
       "       <use xlink:href=\"#DejaVuSans-59\" x=\"2263.740234\"/>\n",
       "       <use xlink:href=\"#DejaVuSans-21\" x=\"2324.824219\"/>\n",
       "       <use xlink:href=\"#DejaVuSans-21\" x=\"2364.912109\"/>\n",
       "       <use xlink:href=\"#DejaVuSans-21\" x=\"2405\"/>\n",
       "      </g>\n",
       "     </g>\n",
       "    </g>\n",
       "    <g id=\"ytick_6\">\n",
       "     <g id=\"line2d_10\">\n",
       "      <path d=\"M 433.623438 104.7744 \n",
       "L 790.743438 104.7744 \n",
       "\" clip-path=\"url(#p24e7f01f4b)\" style=\"fill: none; stroke: #cccccc; stroke-width: 0.8; stroke-linecap: round\"/>\n",
       "     </g>\n",
       "     <g id=\"text_10\">\n",
       "      <!-- VADER is VERY SMART, uber handsome, and FRIGGIN FUNNY!!! -->\n",
       "      <g style=\"fill: #262626\" transform=\"translate(111.232813 107.533775) scale(0.1 -0.1)\">\n",
       "       <defs>\n",
       "        <path id=\"DejaVuSans-62\" d=\"M 3116 1747 \n",
       "Q 3116 2381 2855 2742 \n",
       "Q 2594 3103 2138 3103 \n",
       "Q 1681 3103 1420 2742 \n",
       "Q 1159 2381 1159 1747 \n",
       "Q 1159 1113 1420 752 \n",
       "Q 1681 391 2138 391 \n",
       "Q 2594 391 2855 752 \n",
       "Q 3116 1113 3116 1747 \n",
       "z\n",
       "M 1159 2969 \n",
       "Q 1341 3281 1617 3432 \n",
       "Q 1894 3584 2278 3584 \n",
       "Q 2916 3584 3314 3078 \n",
       "Q 3713 2572 3713 1747 \n",
       "Q 3713 922 3314 415 \n",
       "Q 2916 -91 2278 -91 \n",
       "Q 1894 -91 1617 61 \n",
       "Q 1341 213 1159 525 \n",
       "L 1159 0 \n",
       "L 581 0 \n",
       "L 581 4863 \n",
       "L 1159 4863 \n",
       "L 1159 2969 \n",
       "z\n",
       "\" transform=\"scale(0.015625)\"/>\n",
       "        <path id=\"DejaVuSans-49\" d=\"M 628 4666 \n",
       "L 1259 4666 \n",
       "L 1259 0 \n",
       "L 628 0 \n",
       "L 628 4666 \n",
       "z\n",
       "\" transform=\"scale(0.015625)\"/>\n",
       "        <path id=\"DejaVuSans-47\" d=\"M 3809 666 \n",
       "L 3809 1919 \n",
       "L 2778 1919 \n",
       "L 2778 2438 \n",
       "L 4434 2438 \n",
       "L 4434 434 \n",
       "Q 4069 175 3628 42 \n",
       "Q 3188 -91 2688 -91 \n",
       "Q 1594 -91 976 548 \n",
       "Q 359 1188 359 2328 \n",
       "Q 359 3472 976 4111 \n",
       "Q 1594 4750 2688 4750 \n",
       "Q 3144 4750 3555 4637 \n",
       "Q 3966 4525 4313 4306 \n",
       "L 4313 3634 \n",
       "Q 3963 3931 3569 4081 \n",
       "Q 3175 4231 2741 4231 \n",
       "Q 1884 4231 1454 3753 \n",
       "Q 1025 3275 1025 2328 \n",
       "Q 1025 1384 1454 906 \n",
       "Q 1884 428 2741 428 \n",
       "Q 3075 428 3337 486 \n",
       "Q 3600 544 3809 666 \n",
       "z\n",
       "\" transform=\"scale(0.015625)\"/>\n",
       "       </defs>\n",
       "       <use xlink:href=\"#DejaVuSans-56\"/>\n",
       "       <use xlink:href=\"#DejaVuSans-41\" x=\"62.033203\"/>\n",
       "       <use xlink:href=\"#DejaVuSans-44\" x=\"130.441406\"/>\n",
       "       <use xlink:href=\"#DejaVuSans-45\" x=\"207.443359\"/>\n",
       "       <use xlink:href=\"#DejaVuSans-52\" x=\"270.626953\"/>\n",
       "       <use xlink:href=\"#DejaVuSans-20\" x=\"340.109375\"/>\n",
       "       <use xlink:href=\"#DejaVuSans-69\" x=\"371.896484\"/>\n",
       "       <use xlink:href=\"#DejaVuSans-73\" x=\"399.679688\"/>\n",
       "       <use xlink:href=\"#DejaVuSans-20\" x=\"451.779297\"/>\n",
       "       <use xlink:href=\"#DejaVuSans-56\" x=\"483.566406\"/>\n",
       "       <use xlink:href=\"#DejaVuSans-45\" x=\"551.974609\"/>\n",
       "       <use xlink:href=\"#DejaVuSans-52\" x=\"615.158203\"/>\n",
       "       <use xlink:href=\"#DejaVuSans-59\" x=\"678.265625\"/>\n",
       "       <use xlink:href=\"#DejaVuSans-20\" x=\"739.349609\"/>\n",
       "       <use xlink:href=\"#DejaVuSans-53\" x=\"771.136719\"/>\n",
       "       <use xlink:href=\"#DejaVuSans-4d\" x=\"834.613281\"/>\n",
       "       <use xlink:href=\"#DejaVuSans-41\" x=\"920.892578\"/>\n",
       "       <use xlink:href=\"#DejaVuSans-52\" x=\"989.300781\"/>\n",
       "       <use xlink:href=\"#DejaVuSans-54\" x=\"1051.533203\"/>\n",
       "       <use xlink:href=\"#DejaVuSans-2c\" x=\"1112.617188\"/>\n",
       "       <use xlink:href=\"#DejaVuSans-20\" x=\"1144.404297\"/>\n",
       "       <use xlink:href=\"#DejaVuSans-75\" x=\"1176.191406\"/>\n",
       "       <use xlink:href=\"#DejaVuSans-62\" x=\"1239.570312\"/>\n",
       "       <use xlink:href=\"#DejaVuSans-65\" x=\"1303.046875\"/>\n",
       "       <use xlink:href=\"#DejaVuSans-72\" x=\"1364.570312\"/>\n",
       "       <use xlink:href=\"#DejaVuSans-20\" x=\"1405.683594\"/>\n",
       "       <use xlink:href=\"#DejaVuSans-68\" x=\"1437.470703\"/>\n",
       "       <use xlink:href=\"#DejaVuSans-61\" x=\"1500.849609\"/>\n",
       "       <use xlink:href=\"#DejaVuSans-6e\" x=\"1562.128906\"/>\n",
       "       <use xlink:href=\"#DejaVuSans-64\" x=\"1625.507812\"/>\n",
       "       <use xlink:href=\"#DejaVuSans-73\" x=\"1688.984375\"/>\n",
       "       <use xlink:href=\"#DejaVuSans-6f\" x=\"1741.083984\"/>\n",
       "       <use xlink:href=\"#DejaVuSans-6d\" x=\"1802.265625\"/>\n",
       "       <use xlink:href=\"#DejaVuSans-65\" x=\"1899.677734\"/>\n",
       "       <use xlink:href=\"#DejaVuSans-2c\" x=\"1961.201172\"/>\n",
       "       <use xlink:href=\"#DejaVuSans-20\" x=\"1992.988281\"/>\n",
       "       <use xlink:href=\"#DejaVuSans-61\" x=\"2024.775391\"/>\n",
       "       <use xlink:href=\"#DejaVuSans-6e\" x=\"2086.054688\"/>\n",
       "       <use xlink:href=\"#DejaVuSans-64\" x=\"2149.433594\"/>\n",
       "       <use xlink:href=\"#DejaVuSans-20\" x=\"2212.910156\"/>\n",
       "       <use xlink:href=\"#DejaVuSans-46\" x=\"2244.697266\"/>\n",
       "       <use xlink:href=\"#DejaVuSans-52\" x=\"2302.216797\"/>\n",
       "       <use xlink:href=\"#DejaVuSans-49\" x=\"2371.699219\"/>\n",
       "       <use xlink:href=\"#DejaVuSans-47\" x=\"2401.191406\"/>\n",
       "       <use xlink:href=\"#DejaVuSans-47\" x=\"2478.681641\"/>\n",
       "       <use xlink:href=\"#DejaVuSans-49\" x=\"2556.171875\"/>\n",
       "       <use xlink:href=\"#DejaVuSans-4e\" x=\"2585.664062\"/>\n",
       "       <use xlink:href=\"#DejaVuSans-20\" x=\"2660.46875\"/>\n",
       "       <use xlink:href=\"#DejaVuSans-46\" x=\"2692.255859\"/>\n",
       "       <use xlink:href=\"#DejaVuSans-55\" x=\"2749.775391\"/>\n",
       "       <use xlink:href=\"#DejaVuSans-4e\" x=\"2822.96875\"/>\n",
       "       <use xlink:href=\"#DejaVuSans-4e\" x=\"2897.773438\"/>\n",
       "       <use xlink:href=\"#DejaVuSans-59\" x=\"2972.578125\"/>\n",
       "       <use xlink:href=\"#DejaVuSans-21\" x=\"3033.662109\"/>\n",
       "       <use xlink:href=\"#DejaVuSans-21\" x=\"3073.75\"/>\n",
       "       <use xlink:href=\"#DejaVuSans-21\" x=\"3113.837891\"/>\n",
       "      </g>\n",
       "     </g>\n",
       "    </g>\n",
       "    <g id=\"ytick_7\">\n",
       "     <g id=\"line2d_11\">\n",
       "      <path d=\"M 433.623438 122.5152 \n",
       "L 790.743438 122.5152 \n",
       "\" clip-path=\"url(#p24e7f01f4b)\" style=\"fill: none; stroke: #cccccc; stroke-width: 0.8; stroke-linecap: round\"/>\n",
       "     </g>\n",
       "     <g id=\"text_11\">\n",
       "      <!-- VADER is not smart, handsome, nor funny. -->\n",
       "      <g style=\"fill: #262626\" transform=\"translate(214.56875 125.274575) scale(0.1 -0.1)\">\n",
       "       <use xlink:href=\"#DejaVuSans-56\"/>\n",
       "       <use xlink:href=\"#DejaVuSans-41\" x=\"62.033203\"/>\n",
       "       <use xlink:href=\"#DejaVuSans-44\" x=\"130.441406\"/>\n",
       "       <use xlink:href=\"#DejaVuSans-45\" x=\"207.443359\"/>\n",
       "       <use xlink:href=\"#DejaVuSans-52\" x=\"270.626953\"/>\n",
       "       <use xlink:href=\"#DejaVuSans-20\" x=\"340.109375\"/>\n",
       "       <use xlink:href=\"#DejaVuSans-69\" x=\"371.896484\"/>\n",
       "       <use xlink:href=\"#DejaVuSans-73\" x=\"399.679688\"/>\n",
       "       <use xlink:href=\"#DejaVuSans-20\" x=\"451.779297\"/>\n",
       "       <use xlink:href=\"#DejaVuSans-6e\" x=\"483.566406\"/>\n",
       "       <use xlink:href=\"#DejaVuSans-6f\" x=\"546.945312\"/>\n",
       "       <use xlink:href=\"#DejaVuSans-74\" x=\"608.126953\"/>\n",
       "       <use xlink:href=\"#DejaVuSans-20\" x=\"647.335938\"/>\n",
       "       <use xlink:href=\"#DejaVuSans-73\" x=\"679.123047\"/>\n",
       "       <use xlink:href=\"#DejaVuSans-6d\" x=\"731.222656\"/>\n",
       "       <use xlink:href=\"#DejaVuSans-61\" x=\"828.634766\"/>\n",
       "       <use xlink:href=\"#DejaVuSans-72\" x=\"889.914062\"/>\n",
       "       <use xlink:href=\"#DejaVuSans-74\" x=\"931.027344\"/>\n",
       "       <use xlink:href=\"#DejaVuSans-2c\" x=\"970.236328\"/>\n",
       "       <use xlink:href=\"#DejaVuSans-20\" x=\"1002.023438\"/>\n",
       "       <use xlink:href=\"#DejaVuSans-68\" x=\"1033.810547\"/>\n",
       "       <use xlink:href=\"#DejaVuSans-61\" x=\"1097.189453\"/>\n",
       "       <use xlink:href=\"#DejaVuSans-6e\" x=\"1158.46875\"/>\n",
       "       <use xlink:href=\"#DejaVuSans-64\" x=\"1221.847656\"/>\n",
       "       <use xlink:href=\"#DejaVuSans-73\" x=\"1285.324219\"/>\n",
       "       <use xlink:href=\"#DejaVuSans-6f\" x=\"1337.423828\"/>\n",
       "       <use xlink:href=\"#DejaVuSans-6d\" x=\"1398.605469\"/>\n",
       "       <use xlink:href=\"#DejaVuSans-65\" x=\"1496.017578\"/>\n",
       "       <use xlink:href=\"#DejaVuSans-2c\" x=\"1557.541016\"/>\n",
       "       <use xlink:href=\"#DejaVuSans-20\" x=\"1589.328125\"/>\n",
       "       <use xlink:href=\"#DejaVuSans-6e\" x=\"1621.115234\"/>\n",
       "       <use xlink:href=\"#DejaVuSans-6f\" x=\"1684.494141\"/>\n",
       "       <use xlink:href=\"#DejaVuSans-72\" x=\"1745.675781\"/>\n",
       "       <use xlink:href=\"#DejaVuSans-20\" x=\"1786.789062\"/>\n",
       "       <use xlink:href=\"#DejaVuSans-66\" x=\"1818.576172\"/>\n",
       "       <use xlink:href=\"#DejaVuSans-75\" x=\"1853.78125\"/>\n",
       "       <use xlink:href=\"#DejaVuSans-6e\" x=\"1917.160156\"/>\n",
       "       <use xlink:href=\"#DejaVuSans-6e\" x=\"1980.539062\"/>\n",
       "       <use xlink:href=\"#DejaVuSans-79\" x=\"2043.917969\"/>\n",
       "       <use xlink:href=\"#DejaVuSans-2e\" x=\"2088.847656\"/>\n",
       "      </g>\n",
       "     </g>\n",
       "    </g>\n",
       "    <g id=\"ytick_8\">\n",
       "     <g id=\"line2d_12\">\n",
       "      <path d=\"M 433.623438 140.256 \n",
       "L 790.743438 140.256 \n",
       "\" clip-path=\"url(#p24e7f01f4b)\" style=\"fill: none; stroke: #cccccc; stroke-width: 0.8; stroke-linecap: round\"/>\n",
       "     </g>\n",
       "     <g id=\"text_12\">\n",
       "      <!-- The book was good. -->\n",
       "      <g style=\"fill: #262626\" transform=\"translate(326.485938 143.015375) scale(0.1 -0.1)\">\n",
       "       <defs>\n",
       "        <path id=\"DejaVuSans-6b\" d=\"M 581 4863 \n",
       "L 1159 4863 \n",
       "L 1159 1991 \n",
       "L 2875 3500 \n",
       "L 3609 3500 \n",
       "L 1753 1863 \n",
       "L 3688 0 \n",
       "L 2938 0 \n",
       "L 1159 1709 \n",
       "L 1159 0 \n",
       "L 581 0 \n",
       "L 581 4863 \n",
       "z\n",
       "\" transform=\"scale(0.015625)\"/>\n",
       "        <path id=\"DejaVuSans-77\" d=\"M 269 3500 \n",
       "L 844 3500 \n",
       "L 1563 769 \n",
       "L 2278 3500 \n",
       "L 2956 3500 \n",
       "L 3675 769 \n",
       "L 4391 3500 \n",
       "L 4966 3500 \n",
       "L 4050 0 \n",
       "L 3372 0 \n",
       "L 2619 2869 \n",
       "L 1863 0 \n",
       "L 1184 0 \n",
       "L 269 3500 \n",
       "z\n",
       "\" transform=\"scale(0.015625)\"/>\n",
       "       </defs>\n",
       "       <use xlink:href=\"#DejaVuSans-54\"/>\n",
       "       <use xlink:href=\"#DejaVuSans-68\" x=\"61.083984\"/>\n",
       "       <use xlink:href=\"#DejaVuSans-65\" x=\"124.462891\"/>\n",
       "       <use xlink:href=\"#DejaVuSans-20\" x=\"185.986328\"/>\n",
       "       <use xlink:href=\"#DejaVuSans-62\" x=\"217.773438\"/>\n",
       "       <use xlink:href=\"#DejaVuSans-6f\" x=\"281.25\"/>\n",
       "       <use xlink:href=\"#DejaVuSans-6f\" x=\"342.431641\"/>\n",
       "       <use xlink:href=\"#DejaVuSans-6b\" x=\"403.613281\"/>\n",
       "       <use xlink:href=\"#DejaVuSans-20\" x=\"461.523438\"/>\n",
       "       <use xlink:href=\"#DejaVuSans-77\" x=\"493.310547\"/>\n",
       "       <use xlink:href=\"#DejaVuSans-61\" x=\"575.097656\"/>\n",
       "       <use xlink:href=\"#DejaVuSans-73\" x=\"636.376953\"/>\n",
       "       <use xlink:href=\"#DejaVuSans-20\" x=\"688.476562\"/>\n",
       "       <use xlink:href=\"#DejaVuSans-67\" x=\"720.263672\"/>\n",
       "       <use xlink:href=\"#DejaVuSans-6f\" x=\"783.740234\"/>\n",
       "       <use xlink:href=\"#DejaVuSans-6f\" x=\"844.921875\"/>\n",
       "       <use xlink:href=\"#DejaVuSans-64\" x=\"906.103516\"/>\n",
       "       <use xlink:href=\"#DejaVuSans-2e\" x=\"969.580078\"/>\n",
       "      </g>\n",
       "     </g>\n",
       "    </g>\n",
       "    <g id=\"ytick_9\">\n",
       "     <g id=\"line2d_13\">\n",
       "      <path d=\"M 433.623438 157.9968 \n",
       "L 790.743438 157.9968 \n",
       "\" clip-path=\"url(#p24e7f01f4b)\" style=\"fill: none; stroke: #cccccc; stroke-width: 0.8; stroke-linecap: round\"/>\n",
       "     </g>\n",
       "     <g id=\"text_13\">\n",
       "      <!-- At least it isn't a horrible book. -->\n",
       "      <g style=\"fill: #262626\" transform=\"translate(272.84375 160.756175) scale(0.1 -0.1)\">\n",
       "       <defs>\n",
       "        <path id=\"DejaVuSans-6c\" d=\"M 603 4863 \n",
       "L 1178 4863 \n",
       "L 1178 0 \n",
       "L 603 0 \n",
       "L 603 4863 \n",
       "z\n",
       "\" transform=\"scale(0.015625)\"/>\n",
       "        <path id=\"DejaVuSans-27\" d=\"M 1147 4666 \n",
       "L 1147 2931 \n",
       "L 616 2931 \n",
       "L 616 4666 \n",
       "L 1147 4666 \n",
       "z\n",
       "\" transform=\"scale(0.015625)\"/>\n",
       "       </defs>\n",
       "       <use xlink:href=\"#DejaVuSans-41\"/>\n",
       "       <use xlink:href=\"#DejaVuSans-74\" x=\"66.658203\"/>\n",
       "       <use xlink:href=\"#DejaVuSans-20\" x=\"105.867188\"/>\n",
       "       <use xlink:href=\"#DejaVuSans-6c\" x=\"137.654297\"/>\n",
       "       <use xlink:href=\"#DejaVuSans-65\" x=\"165.4375\"/>\n",
       "       <use xlink:href=\"#DejaVuSans-61\" x=\"226.960938\"/>\n",
       "       <use xlink:href=\"#DejaVuSans-73\" x=\"288.240234\"/>\n",
       "       <use xlink:href=\"#DejaVuSans-74\" x=\"340.339844\"/>\n",
       "       <use xlink:href=\"#DejaVuSans-20\" x=\"379.548828\"/>\n",
       "       <use xlink:href=\"#DejaVuSans-69\" x=\"411.335938\"/>\n",
       "       <use xlink:href=\"#DejaVuSans-74\" x=\"439.119141\"/>\n",
       "       <use xlink:href=\"#DejaVuSans-20\" x=\"478.328125\"/>\n",
       "       <use xlink:href=\"#DejaVuSans-69\" x=\"510.115234\"/>\n",
       "       <use xlink:href=\"#DejaVuSans-73\" x=\"537.898438\"/>\n",
       "       <use xlink:href=\"#DejaVuSans-6e\" x=\"589.998047\"/>\n",
       "       <use xlink:href=\"#DejaVuSans-27\" x=\"653.376953\"/>\n",
       "       <use xlink:href=\"#DejaVuSans-74\" x=\"680.867188\"/>\n",
       "       <use xlink:href=\"#DejaVuSans-20\" x=\"720.076172\"/>\n",
       "       <use xlink:href=\"#DejaVuSans-61\" x=\"751.863281\"/>\n",
       "       <use xlink:href=\"#DejaVuSans-20\" x=\"813.142578\"/>\n",
       "       <use xlink:href=\"#DejaVuSans-68\" x=\"844.929688\"/>\n",
       "       <use xlink:href=\"#DejaVuSans-6f\" x=\"908.308594\"/>\n",
       "       <use xlink:href=\"#DejaVuSans-72\" x=\"969.490234\"/>\n",
       "       <use xlink:href=\"#DejaVuSans-72\" x=\"1008.853516\"/>\n",
       "       <use xlink:href=\"#DejaVuSans-69\" x=\"1049.966797\"/>\n",
       "       <use xlink:href=\"#DejaVuSans-62\" x=\"1077.75\"/>\n",
       "       <use xlink:href=\"#DejaVuSans-6c\" x=\"1141.226562\"/>\n",
       "       <use xlink:href=\"#DejaVuSans-65\" x=\"1169.009766\"/>\n",
       "       <use xlink:href=\"#DejaVuSans-20\" x=\"1230.533203\"/>\n",
       "       <use xlink:href=\"#DejaVuSans-62\" x=\"1262.320312\"/>\n",
       "       <use xlink:href=\"#DejaVuSans-6f\" x=\"1325.796875\"/>\n",
       "       <use xlink:href=\"#DejaVuSans-6f\" x=\"1386.978516\"/>\n",
       "       <use xlink:href=\"#DejaVuSans-6b\" x=\"1448.160156\"/>\n",
       "       <use xlink:href=\"#DejaVuSans-2e\" x=\"1506.070312\"/>\n",
       "      </g>\n",
       "     </g>\n",
       "    </g>\n",
       "    <g id=\"ytick_10\">\n",
       "     <g id=\"line2d_14\">\n",
       "      <path d=\"M 433.623438 175.7376 \n",
       "L 790.743438 175.7376 \n",
       "\" clip-path=\"url(#p24e7f01f4b)\" style=\"fill: none; stroke: #cccccc; stroke-width: 0.8; stroke-linecap: round\"/>\n",
       "     </g>\n",
       "     <g id=\"text_14\">\n",
       "      <!-- The book was only kind of good. -->\n",
       "      <g style=\"fill: #262626\" transform=\"translate(264.904688 178.496975) scale(0.1 -0.1)\">\n",
       "       <use xlink:href=\"#DejaVuSans-54\"/>\n",
       "       <use xlink:href=\"#DejaVuSans-68\" x=\"61.083984\"/>\n",
       "       <use xlink:href=\"#DejaVuSans-65\" x=\"124.462891\"/>\n",
       "       <use xlink:href=\"#DejaVuSans-20\" x=\"185.986328\"/>\n",
       "       <use xlink:href=\"#DejaVuSans-62\" x=\"217.773438\"/>\n",
       "       <use xlink:href=\"#DejaVuSans-6f\" x=\"281.25\"/>\n",
       "       <use xlink:href=\"#DejaVuSans-6f\" x=\"342.431641\"/>\n",
       "       <use xlink:href=\"#DejaVuSans-6b\" x=\"403.613281\"/>\n",
       "       <use xlink:href=\"#DejaVuSans-20\" x=\"461.523438\"/>\n",
       "       <use xlink:href=\"#DejaVuSans-77\" x=\"493.310547\"/>\n",
       "       <use xlink:href=\"#DejaVuSans-61\" x=\"575.097656\"/>\n",
       "       <use xlink:href=\"#DejaVuSans-73\" x=\"636.376953\"/>\n",
       "       <use xlink:href=\"#DejaVuSans-20\" x=\"688.476562\"/>\n",
       "       <use xlink:href=\"#DejaVuSans-6f\" x=\"720.263672\"/>\n",
       "       <use xlink:href=\"#DejaVuSans-6e\" x=\"781.445312\"/>\n",
       "       <use xlink:href=\"#DejaVuSans-6c\" x=\"844.824219\"/>\n",
       "       <use xlink:href=\"#DejaVuSans-79\" x=\"872.607422\"/>\n",
       "       <use xlink:href=\"#DejaVuSans-20\" x=\"931.787109\"/>\n",
       "       <use xlink:href=\"#DejaVuSans-6b\" x=\"963.574219\"/>\n",
       "       <use xlink:href=\"#DejaVuSans-69\" x=\"1021.484375\"/>\n",
       "       <use xlink:href=\"#DejaVuSans-6e\" x=\"1049.267578\"/>\n",
       "       <use xlink:href=\"#DejaVuSans-64\" x=\"1112.646484\"/>\n",
       "       <use xlink:href=\"#DejaVuSans-20\" x=\"1176.123047\"/>\n",
       "       <use xlink:href=\"#DejaVuSans-6f\" x=\"1207.910156\"/>\n",
       "       <use xlink:href=\"#DejaVuSans-66\" x=\"1269.091797\"/>\n",
       "       <use xlink:href=\"#DejaVuSans-20\" x=\"1304.296875\"/>\n",
       "       <use xlink:href=\"#DejaVuSans-67\" x=\"1336.083984\"/>\n",
       "       <use xlink:href=\"#DejaVuSans-6f\" x=\"1399.560547\"/>\n",
       "       <use xlink:href=\"#DejaVuSans-6f\" x=\"1460.742188\"/>\n",
       "       <use xlink:href=\"#DejaVuSans-64\" x=\"1521.923828\"/>\n",
       "       <use xlink:href=\"#DejaVuSans-2e\" x=\"1585.400391\"/>\n",
       "      </g>\n",
       "     </g>\n",
       "    </g>\n",
       "    <g id=\"ytick_11\">\n",
       "     <g id=\"line2d_15\">\n",
       "      <path d=\"M 433.623438 193.4784 \n",
       "L 790.743438 193.4784 \n",
       "\" clip-path=\"url(#p24e7f01f4b)\" style=\"fill: none; stroke: #cccccc; stroke-width: 0.8; stroke-linecap: round\"/>\n",
       "     </g>\n",
       "     <g id=\"text_15\">\n",
       "      <!-- The plot was good, but the characters are uncompelling and the dialog is not great. -->\n",
       "      <g style=\"fill: #262626\" transform=\"translate(7.2 196.237775) scale(0.1 -0.1)\">\n",
       "       <use xlink:href=\"#DejaVuSans-54\"/>\n",
       "       <use xlink:href=\"#DejaVuSans-68\" x=\"61.083984\"/>\n",
       "       <use xlink:href=\"#DejaVuSans-65\" x=\"124.462891\"/>\n",
       "       <use xlink:href=\"#DejaVuSans-20\" x=\"185.986328\"/>\n",
       "       <use xlink:href=\"#DejaVuSans-70\" x=\"217.773438\"/>\n",
       "       <use xlink:href=\"#DejaVuSans-6c\" x=\"281.25\"/>\n",
       "       <use xlink:href=\"#DejaVuSans-6f\" x=\"309.033203\"/>\n",
       "       <use xlink:href=\"#DejaVuSans-74\" x=\"370.214844\"/>\n",
       "       <use xlink:href=\"#DejaVuSans-20\" x=\"409.423828\"/>\n",
       "       <use xlink:href=\"#DejaVuSans-77\" x=\"441.210938\"/>\n",
       "       <use xlink:href=\"#DejaVuSans-61\" x=\"522.998047\"/>\n",
       "       <use xlink:href=\"#DejaVuSans-73\" x=\"584.277344\"/>\n",
       "       <use xlink:href=\"#DejaVuSans-20\" x=\"636.376953\"/>\n",
       "       <use xlink:href=\"#DejaVuSans-67\" x=\"668.164062\"/>\n",
       "       <use xlink:href=\"#DejaVuSans-6f\" x=\"731.640625\"/>\n",
       "       <use xlink:href=\"#DejaVuSans-6f\" x=\"792.822266\"/>\n",
       "       <use xlink:href=\"#DejaVuSans-64\" x=\"854.003906\"/>\n",
       "       <use xlink:href=\"#DejaVuSans-2c\" x=\"917.480469\"/>\n",
       "       <use xlink:href=\"#DejaVuSans-20\" x=\"949.267578\"/>\n",
       "       <use xlink:href=\"#DejaVuSans-62\" x=\"981.054688\"/>\n",
       "       <use xlink:href=\"#DejaVuSans-75\" x=\"1044.53125\"/>\n",
       "       <use xlink:href=\"#DejaVuSans-74\" x=\"1107.910156\"/>\n",
       "       <use xlink:href=\"#DejaVuSans-20\" x=\"1147.119141\"/>\n",
       "       <use xlink:href=\"#DejaVuSans-74\" x=\"1178.90625\"/>\n",
       "       <use xlink:href=\"#DejaVuSans-68\" x=\"1218.115234\"/>\n",
       "       <use xlink:href=\"#DejaVuSans-65\" x=\"1281.494141\"/>\n",
       "       <use xlink:href=\"#DejaVuSans-20\" x=\"1343.017578\"/>\n",
       "       <use xlink:href=\"#DejaVuSans-63\" x=\"1374.804688\"/>\n",
       "       <use xlink:href=\"#DejaVuSans-68\" x=\"1429.785156\"/>\n",
       "       <use xlink:href=\"#DejaVuSans-61\" x=\"1493.164062\"/>\n",
       "       <use xlink:href=\"#DejaVuSans-72\" x=\"1554.443359\"/>\n",
       "       <use xlink:href=\"#DejaVuSans-61\" x=\"1595.556641\"/>\n",
       "       <use xlink:href=\"#DejaVuSans-63\" x=\"1656.835938\"/>\n",
       "       <use xlink:href=\"#DejaVuSans-74\" x=\"1711.816406\"/>\n",
       "       <use xlink:href=\"#DejaVuSans-65\" x=\"1751.025391\"/>\n",
       "       <use xlink:href=\"#DejaVuSans-72\" x=\"1812.548828\"/>\n",
       "       <use xlink:href=\"#DejaVuSans-73\" x=\"1853.662109\"/>\n",
       "       <use xlink:href=\"#DejaVuSans-20\" x=\"1905.761719\"/>\n",
       "       <use xlink:href=\"#DejaVuSans-61\" x=\"1937.548828\"/>\n",
       "       <use xlink:href=\"#DejaVuSans-72\" x=\"1998.828125\"/>\n",
       "       <use xlink:href=\"#DejaVuSans-65\" x=\"2037.691406\"/>\n",
       "       <use xlink:href=\"#DejaVuSans-20\" x=\"2099.214844\"/>\n",
       "       <use xlink:href=\"#DejaVuSans-75\" x=\"2131.001953\"/>\n",
       "       <use xlink:href=\"#DejaVuSans-6e\" x=\"2194.380859\"/>\n",
       "       <use xlink:href=\"#DejaVuSans-63\" x=\"2257.759766\"/>\n",
       "       <use xlink:href=\"#DejaVuSans-6f\" x=\"2312.740234\"/>\n",
       "       <use xlink:href=\"#DejaVuSans-6d\" x=\"2373.921875\"/>\n",
       "       <use xlink:href=\"#DejaVuSans-70\" x=\"2471.333984\"/>\n",
       "       <use xlink:href=\"#DejaVuSans-65\" x=\"2534.810547\"/>\n",
       "       <use xlink:href=\"#DejaVuSans-6c\" x=\"2596.333984\"/>\n",
       "       <use xlink:href=\"#DejaVuSans-6c\" x=\"2624.117188\"/>\n",
       "       <use xlink:href=\"#DejaVuSans-69\" x=\"2651.900391\"/>\n",
       "       <use xlink:href=\"#DejaVuSans-6e\" x=\"2679.683594\"/>\n",
       "       <use xlink:href=\"#DejaVuSans-67\" x=\"2743.0625\"/>\n",
       "       <use xlink:href=\"#DejaVuSans-20\" x=\"2806.539062\"/>\n",
       "       <use xlink:href=\"#DejaVuSans-61\" x=\"2838.326172\"/>\n",
       "       <use xlink:href=\"#DejaVuSans-6e\" x=\"2899.605469\"/>\n",
       "       <use xlink:href=\"#DejaVuSans-64\" x=\"2962.984375\"/>\n",
       "       <use xlink:href=\"#DejaVuSans-20\" x=\"3026.460938\"/>\n",
       "       <use xlink:href=\"#DejaVuSans-74\" x=\"3058.248047\"/>\n",
       "       <use xlink:href=\"#DejaVuSans-68\" x=\"3097.457031\"/>\n",
       "       <use xlink:href=\"#DejaVuSans-65\" x=\"3160.835938\"/>\n",
       "       <use xlink:href=\"#DejaVuSans-20\" x=\"3222.359375\"/>\n",
       "       <use xlink:href=\"#DejaVuSans-64\" x=\"3254.146484\"/>\n",
       "       <use xlink:href=\"#DejaVuSans-69\" x=\"3317.623047\"/>\n",
       "       <use xlink:href=\"#DejaVuSans-61\" x=\"3345.40625\"/>\n",
       "       <use xlink:href=\"#DejaVuSans-6c\" x=\"3406.685547\"/>\n",
       "       <use xlink:href=\"#DejaVuSans-6f\" x=\"3434.46875\"/>\n",
       "       <use xlink:href=\"#DejaVuSans-67\" x=\"3495.650391\"/>\n",
       "       <use xlink:href=\"#DejaVuSans-20\" x=\"3559.126953\"/>\n",
       "       <use xlink:href=\"#DejaVuSans-69\" x=\"3590.914062\"/>\n",
       "       <use xlink:href=\"#DejaVuSans-73\" x=\"3618.697266\"/>\n",
       "       <use xlink:href=\"#DejaVuSans-20\" x=\"3670.796875\"/>\n",
       "       <use xlink:href=\"#DejaVuSans-6e\" x=\"3702.583984\"/>\n",
       "       <use xlink:href=\"#DejaVuSans-6f\" x=\"3765.962891\"/>\n",
       "       <use xlink:href=\"#DejaVuSans-74\" x=\"3827.144531\"/>\n",
       "       <use xlink:href=\"#DejaVuSans-20\" x=\"3866.353516\"/>\n",
       "       <use xlink:href=\"#DejaVuSans-67\" x=\"3898.140625\"/>\n",
       "       <use xlink:href=\"#DejaVuSans-72\" x=\"3961.617188\"/>\n",
       "       <use xlink:href=\"#DejaVuSans-65\" x=\"4000.480469\"/>\n",
       "       <use xlink:href=\"#DejaVuSans-61\" x=\"4062.003906\"/>\n",
       "       <use xlink:href=\"#DejaVuSans-74\" x=\"4123.283203\"/>\n",
       "       <use xlink:href=\"#DejaVuSans-2e\" x=\"4162.492188\"/>\n",
       "      </g>\n",
       "     </g>\n",
       "    </g>\n",
       "    <g id=\"ytick_12\">\n",
       "     <g id=\"line2d_16\">\n",
       "      <path d=\"M 433.623438 211.2192 \n",
       "L 790.743438 211.2192 \n",
       "\" clip-path=\"url(#p24e7f01f4b)\" style=\"fill: none; stroke: #cccccc; stroke-width: 0.8; stroke-linecap: round\"/>\n",
       "     </g>\n",
       "     <g id=\"text_16\">\n",
       "      <!-- Today SUX! -->\n",
       "      <g style=\"fill: #262626\" transform=\"translate(369.996875 213.978575) scale(0.1 -0.1)\">\n",
       "       <defs>\n",
       "        <path id=\"DejaVuSans-58\" d=\"M 403 4666 \n",
       "L 1081 4666 \n",
       "L 2241 2931 \n",
       "L 3406 4666 \n",
       "L 4084 4666 \n",
       "L 2584 2425 \n",
       "L 4184 0 \n",
       "L 3506 0 \n",
       "L 2194 1984 \n",
       "L 872 0 \n",
       "L 191 0 \n",
       "L 1856 2491 \n",
       "L 403 4666 \n",
       "z\n",
       "\" transform=\"scale(0.015625)\"/>\n",
       "       </defs>\n",
       "       <use xlink:href=\"#DejaVuSans-54\"/>\n",
       "       <use xlink:href=\"#DejaVuSans-6f\" x=\"44.083984\"/>\n",
       "       <use xlink:href=\"#DejaVuSans-64\" x=\"105.265625\"/>\n",
       "       <use xlink:href=\"#DejaVuSans-61\" x=\"168.742188\"/>\n",
       "       <use xlink:href=\"#DejaVuSans-79\" x=\"230.021484\"/>\n",
       "       <use xlink:href=\"#DejaVuSans-20\" x=\"289.201172\"/>\n",
       "       <use xlink:href=\"#DejaVuSans-53\" x=\"320.988281\"/>\n",
       "       <use xlink:href=\"#DejaVuSans-55\" x=\"384.464844\"/>\n",
       "       <use xlink:href=\"#DejaVuSans-58\" x=\"457.658203\"/>\n",
       "       <use xlink:href=\"#DejaVuSans-21\" x=\"526.164062\"/>\n",
       "      </g>\n",
       "     </g>\n",
       "    </g>\n",
       "    <g id=\"ytick_13\">\n",
       "     <g id=\"line2d_17\">\n",
       "      <path d=\"M 433.623438 228.96 \n",
       "L 790.743438 228.96 \n",
       "\" clip-path=\"url(#p24e7f01f4b)\" style=\"fill: none; stroke: #cccccc; stroke-width: 0.8; stroke-linecap: round\"/>\n",
       "     </g>\n",
       "     <g id=\"text_17\">\n",
       "      <!-- Today only kinda sux! But I'll get by, lol -->\n",
       "      <g style=\"fill: #262626\" transform=\"translate(230.35 231.719375) scale(0.1 -0.1)\">\n",
       "       <defs>\n",
       "        <path id=\"DejaVuSans-78\" d=\"M 3513 3500 \n",
       "L 2247 1797 \n",
       "L 3578 0 \n",
       "L 2900 0 \n",
       "L 1881 1375 \n",
       "L 863 0 \n",
       "L 184 0 \n",
       "L 1544 1831 \n",
       "L 300 3500 \n",
       "L 978 3500 \n",
       "L 1906 2253 \n",
       "L 2834 3500 \n",
       "L 3513 3500 \n",
       "z\n",
       "\" transform=\"scale(0.015625)\"/>\n",
       "        <path id=\"DejaVuSans-42\" d=\"M 1259 2228 \n",
       "L 1259 519 \n",
       "L 2272 519 \n",
       "Q 2781 519 3026 730 \n",
       "Q 3272 941 3272 1375 \n",
       "Q 3272 1813 3026 2020 \n",
       "Q 2781 2228 2272 2228 \n",
       "L 1259 2228 \n",
       "z\n",
       "M 1259 4147 \n",
       "L 1259 2741 \n",
       "L 2194 2741 \n",
       "Q 2656 2741 2882 2914 \n",
       "Q 3109 3088 3109 3444 \n",
       "Q 3109 3797 2882 3972 \n",
       "Q 2656 4147 2194 4147 \n",
       "L 1259 4147 \n",
       "z\n",
       "M 628 4666 \n",
       "L 2241 4666 \n",
       "Q 2963 4666 3353 4366 \n",
       "Q 3744 4066 3744 3513 \n",
       "Q 3744 3084 3544 2831 \n",
       "Q 3344 2578 2956 2516 \n",
       "Q 3422 2416 3680 2098 \n",
       "Q 3938 1781 3938 1306 \n",
       "Q 3938 681 3513 340 \n",
       "Q 3088 0 2303 0 \n",
       "L 628 0 \n",
       "L 628 4666 \n",
       "z\n",
       "\" transform=\"scale(0.015625)\"/>\n",
       "       </defs>\n",
       "       <use xlink:href=\"#DejaVuSans-54\"/>\n",
       "       <use xlink:href=\"#DejaVuSans-6f\" x=\"44.083984\"/>\n",
       "       <use xlink:href=\"#DejaVuSans-64\" x=\"105.265625\"/>\n",
       "       <use xlink:href=\"#DejaVuSans-61\" x=\"168.742188\"/>\n",
       "       <use xlink:href=\"#DejaVuSans-79\" x=\"230.021484\"/>\n",
       "       <use xlink:href=\"#DejaVuSans-20\" x=\"289.201172\"/>\n",
       "       <use xlink:href=\"#DejaVuSans-6f\" x=\"320.988281\"/>\n",
       "       <use xlink:href=\"#DejaVuSans-6e\" x=\"382.169922\"/>\n",
       "       <use xlink:href=\"#DejaVuSans-6c\" x=\"445.548828\"/>\n",
       "       <use xlink:href=\"#DejaVuSans-79\" x=\"473.332031\"/>\n",
       "       <use xlink:href=\"#DejaVuSans-20\" x=\"532.511719\"/>\n",
       "       <use xlink:href=\"#DejaVuSans-6b\" x=\"564.298828\"/>\n",
       "       <use xlink:href=\"#DejaVuSans-69\" x=\"622.208984\"/>\n",
       "       <use xlink:href=\"#DejaVuSans-6e\" x=\"649.992188\"/>\n",
       "       <use xlink:href=\"#DejaVuSans-64\" x=\"713.371094\"/>\n",
       "       <use xlink:href=\"#DejaVuSans-61\" x=\"776.847656\"/>\n",
       "       <use xlink:href=\"#DejaVuSans-20\" x=\"838.126953\"/>\n",
       "       <use xlink:href=\"#DejaVuSans-73\" x=\"869.914062\"/>\n",
       "       <use xlink:href=\"#DejaVuSans-75\" x=\"922.013672\"/>\n",
       "       <use xlink:href=\"#DejaVuSans-78\" x=\"985.392578\"/>\n",
       "       <use xlink:href=\"#DejaVuSans-21\" x=\"1044.572266\"/>\n",
       "       <use xlink:href=\"#DejaVuSans-20\" x=\"1084.660156\"/>\n",
       "       <use xlink:href=\"#DejaVuSans-42\" x=\"1116.447266\"/>\n",
       "       <use xlink:href=\"#DejaVuSans-75\" x=\"1185.050781\"/>\n",
       "       <use xlink:href=\"#DejaVuSans-74\" x=\"1248.429688\"/>\n",
       "       <use xlink:href=\"#DejaVuSans-20\" x=\"1287.638672\"/>\n",
       "       <use xlink:href=\"#DejaVuSans-49\" x=\"1319.425781\"/>\n",
       "       <use xlink:href=\"#DejaVuSans-27\" x=\"1348.917969\"/>\n",
       "       <use xlink:href=\"#DejaVuSans-6c\" x=\"1376.408203\"/>\n",
       "       <use xlink:href=\"#DejaVuSans-6c\" x=\"1404.191406\"/>\n",
       "       <use xlink:href=\"#DejaVuSans-20\" x=\"1431.974609\"/>\n",
       "       <use xlink:href=\"#DejaVuSans-67\" x=\"1463.761719\"/>\n",
       "       <use xlink:href=\"#DejaVuSans-65\" x=\"1527.238281\"/>\n",
       "       <use xlink:href=\"#DejaVuSans-74\" x=\"1588.761719\"/>\n",
       "       <use xlink:href=\"#DejaVuSans-20\" x=\"1627.970703\"/>\n",
       "       <use xlink:href=\"#DejaVuSans-62\" x=\"1659.757812\"/>\n",
       "       <use xlink:href=\"#DejaVuSans-79\" x=\"1723.234375\"/>\n",
       "       <use xlink:href=\"#DejaVuSans-2c\" x=\"1782.414062\"/>\n",
       "       <use xlink:href=\"#DejaVuSans-20\" x=\"1814.201172\"/>\n",
       "       <use xlink:href=\"#DejaVuSans-6c\" x=\"1845.988281\"/>\n",
       "       <use xlink:href=\"#DejaVuSans-6f\" x=\"1873.771484\"/>\n",
       "       <use xlink:href=\"#DejaVuSans-6c\" x=\"1934.953125\"/>\n",
       "      </g>\n",
       "     </g>\n",
       "    </g>\n",
       "    <g id=\"ytick_14\">\n",
       "     <g id=\"line2d_18\">\n",
       "      <path d=\"M 433.623438 246.7008 \n",
       "L 790.743438 246.7008 \n",
       "\" clip-path=\"url(#p24e7f01f4b)\" style=\"fill: none; stroke: #cccccc; stroke-width: 0.8; stroke-linecap: round\"/>\n",
       "     </g>\n",
       "     <g id=\"text_18\">\n",
       "      <!-- Make sure you :) or :D today! -->\n",
       "      <g style=\"fill: #262626\" transform=\"translate(280.24375 249.460175) scale(0.1 -0.1)\">\n",
       "       <defs>\n",
       "        <path id=\"DejaVuSans-3a\" d=\"M 750 794 \n",
       "L 1409 794 \n",
       "L 1409 0 \n",
       "L 750 0 \n",
       "L 750 794 \n",
       "z\n",
       "M 750 3309 \n",
       "L 1409 3309 \n",
       "L 1409 2516 \n",
       "L 750 2516 \n",
       "L 750 3309 \n",
       "z\n",
       "\" transform=\"scale(0.015625)\"/>\n",
       "        <path id=\"DejaVuSans-29\" d=\"M 513 4856 \n",
       "L 1013 4856 \n",
       "Q 1481 4119 1714 3412 \n",
       "Q 1947 2706 1947 2009 \n",
       "Q 1947 1309 1714 600 \n",
       "Q 1481 -109 1013 -844 \n",
       "L 513 -844 \n",
       "Q 928 -128 1133 580 \n",
       "Q 1338 1288 1338 2009 \n",
       "Q 1338 2731 1133 3434 \n",
       "Q 928 4138 513 4856 \n",
       "z\n",
       "\" transform=\"scale(0.015625)\"/>\n",
       "       </defs>\n",
       "       <use xlink:href=\"#DejaVuSans-4d\"/>\n",
       "       <use xlink:href=\"#DejaVuSans-61\" x=\"86.279297\"/>\n",
       "       <use xlink:href=\"#DejaVuSans-6b\" x=\"147.558594\"/>\n",
       "       <use xlink:href=\"#DejaVuSans-65\" x=\"201.84375\"/>\n",
       "       <use xlink:href=\"#DejaVuSans-20\" x=\"263.367188\"/>\n",
       "       <use xlink:href=\"#DejaVuSans-73\" x=\"295.154297\"/>\n",
       "       <use xlink:href=\"#DejaVuSans-75\" x=\"347.253906\"/>\n",
       "       <use xlink:href=\"#DejaVuSans-72\" x=\"410.632812\"/>\n",
       "       <use xlink:href=\"#DejaVuSans-65\" x=\"449.496094\"/>\n",
       "       <use xlink:href=\"#DejaVuSans-20\" x=\"511.019531\"/>\n",
       "       <use xlink:href=\"#DejaVuSans-79\" x=\"542.806641\"/>\n",
       "       <use xlink:href=\"#DejaVuSans-6f\" x=\"601.986328\"/>\n",
       "       <use xlink:href=\"#DejaVuSans-75\" x=\"663.167969\"/>\n",
       "       <use xlink:href=\"#DejaVuSans-20\" x=\"726.546875\"/>\n",
       "       <use xlink:href=\"#DejaVuSans-3a\" x=\"758.333984\"/>\n",
       "       <use xlink:href=\"#DejaVuSans-29\" x=\"792.025391\"/>\n",
       "       <use xlink:href=\"#DejaVuSans-20\" x=\"831.039062\"/>\n",
       "       <use xlink:href=\"#DejaVuSans-6f\" x=\"862.826172\"/>\n",
       "       <use xlink:href=\"#DejaVuSans-72\" x=\"924.007812\"/>\n",
       "       <use xlink:href=\"#DejaVuSans-20\" x=\"965.121094\"/>\n",
       "       <use xlink:href=\"#DejaVuSans-3a\" x=\"996.908203\"/>\n",
       "       <use xlink:href=\"#DejaVuSans-44\" x=\"1030.599609\"/>\n",
       "       <use xlink:href=\"#DejaVuSans-20\" x=\"1107.601562\"/>\n",
       "       <use xlink:href=\"#DejaVuSans-74\" x=\"1139.388672\"/>\n",
       "       <use xlink:href=\"#DejaVuSans-6f\" x=\"1178.597656\"/>\n",
       "       <use xlink:href=\"#DejaVuSans-64\" x=\"1239.779297\"/>\n",
       "       <use xlink:href=\"#DejaVuSans-61\" x=\"1303.255859\"/>\n",
       "       <use xlink:href=\"#DejaVuSans-79\" x=\"1364.535156\"/>\n",
       "       <use xlink:href=\"#DejaVuSans-21\" x=\"1423.714844\"/>\n",
       "      </g>\n",
       "     </g>\n",
       "    </g>\n",
       "    <g id=\"ytick_15\">\n",
       "     <g id=\"line2d_19\">\n",
       "      <path d=\"M 433.623438 264.4416 \n",
       "L 790.743438 264.4416 \n",
       "\" clip-path=\"url(#p24e7f01f4b)\" style=\"fill: none; stroke: #cccccc; stroke-width: 0.8; stroke-linecap: round\"/>\n",
       "     </g>\n",
       "     <g id=\"text_19\">\n",
       "      <!-- Not bad at all -->\n",
       "      <g style=\"fill: #262626\" transform=\"translate(359.010938 267.200975) scale(0.1 -0.1)\">\n",
       "       <use xlink:href=\"#DejaVuSans-4e\"/>\n",
       "       <use xlink:href=\"#DejaVuSans-6f\" x=\"74.804688\"/>\n",
       "       <use xlink:href=\"#DejaVuSans-74\" x=\"135.986328\"/>\n",
       "       <use xlink:href=\"#DejaVuSans-20\" x=\"175.195312\"/>\n",
       "       <use xlink:href=\"#DejaVuSans-62\" x=\"206.982422\"/>\n",
       "       <use xlink:href=\"#DejaVuSans-61\" x=\"270.458984\"/>\n",
       "       <use xlink:href=\"#DejaVuSans-64\" x=\"331.738281\"/>\n",
       "       <use xlink:href=\"#DejaVuSans-20\" x=\"395.214844\"/>\n",
       "       <use xlink:href=\"#DejaVuSans-61\" x=\"427.001953\"/>\n",
       "       <use xlink:href=\"#DejaVuSans-74\" x=\"488.28125\"/>\n",
       "       <use xlink:href=\"#DejaVuSans-20\" x=\"527.490234\"/>\n",
       "       <use xlink:href=\"#DejaVuSans-61\" x=\"559.277344\"/>\n",
       "       <use xlink:href=\"#DejaVuSans-6c\" x=\"620.556641\"/>\n",
       "       <use xlink:href=\"#DejaVuSans-6c\" x=\"648.339844\"/>\n",
       "      </g>\n",
       "     </g>\n",
       "    </g>\n",
       "   </g>\n",
       "   <g id=\"QuadMesh_1\">\n",
       "    <path d=\"M 433.623438 7.2 \n",
       "L 522.903437 7.2 \n",
       "L 522.903437 24.9408 \n",
       "L 433.623438 24.9408 \n",
       "L 433.623438 7.2 \n",
       "\" clip-path=\"url(#p24e7f01f4b)\" style=\"fill: #84bcdb; stroke: #ffffff\"/>\n",
       "    <path d=\"M 522.903437 7.2 \n",
       "L 612.183438 7.2 \n",
       "L 612.183438 24.9408 \n",
       "L 522.903437 24.9408 \n",
       "L 522.903437 7.2 \n",
       "\" clip-path=\"url(#p24e7f01f4b)\" style=\"fill: #4e9acb; stroke: #ffffff\"/>\n",
       "    <path d=\"M 612.183438 7.2 \n",
       "L 701.463438 7.2 \n",
       "L 701.463438 24.9408 \n",
       "L 612.183438 24.9408 \n",
       "L 612.183438 7.2 \n",
       "\" clip-path=\"url(#p24e7f01f4b)\" style=\"fill: #084f99; stroke: #ffffff\"/>\n",
       "    <path d=\"M 701.463438 7.2 \n",
       "L 790.743438 7.2 \n",
       "L 790.743438 24.9408 \n",
       "L 701.463438 24.9408 \n",
       "L 701.463438 7.2 \n",
       "\" clip-path=\"url(#p24e7f01f4b)\" style=\"fill: #084285; stroke: #ffffff\"/>\n",
       "    <path d=\"M 433.623438 24.9408 \n",
       "L 522.903437 24.9408 \n",
       "L 522.903437 42.6816 \n",
       "L 433.623438 42.6816 \n",
       "L 433.623438 24.9408 \n",
       "\" clip-path=\"url(#p24e7f01f4b)\" style=\"fill: #84bcdb; stroke: #ffffff\"/>\n",
       "    <path d=\"M 522.903437 24.9408 \n",
       "L 612.183438 24.9408 \n",
       "L 612.183438 42.6816 \n",
       "L 522.903437 42.6816 \n",
       "L 522.903437 24.9408 \n",
       "\" clip-path=\"url(#p24e7f01f4b)\" style=\"fill: #4e9acb; stroke: #ffffff\"/>\n",
       "    <path d=\"M 612.183438 24.9408 \n",
       "L 701.463438 24.9408 \n",
       "L 701.463438 42.6816 \n",
       "L 612.183438 42.6816 \n",
       "L 612.183438 24.9408 \n",
       "\" clip-path=\"url(#p24e7f01f4b)\" style=\"fill: #084e98; stroke: #ffffff\"/>\n",
       "    <path d=\"M 701.463438 24.9408 \n",
       "L 790.743438 24.9408 \n",
       "L 790.743438 42.6816 \n",
       "L 701.463438 42.6816 \n",
       "L 701.463438 24.9408 \n",
       "\" clip-path=\"url(#p24e7f01f4b)\" style=\"fill: #084082; stroke: #ffffff\"/>\n",
       "    <path d=\"M 433.623438 42.6816 \n",
       "L 522.903437 42.6816 \n",
       "L 522.903437 60.4224 \n",
       "L 433.623438 60.4224 \n",
       "L 433.623438 42.6816 \n",
       "\" clip-path=\"url(#p24e7f01f4b)\" style=\"fill: #84bcdb; stroke: #ffffff\"/>\n",
       "    <path d=\"M 522.903437 42.6816 \n",
       "L 612.183438 42.6816 \n",
       "L 612.183438 60.4224 \n",
       "L 522.903437 60.4224 \n",
       "L 522.903437 42.6816 \n",
       "\" clip-path=\"url(#p24e7f01f4b)\" style=\"fill: #4594c7; stroke: #ffffff\"/>\n",
       "    <path d=\"M 612.183438 42.6816 \n",
       "L 701.463438 42.6816 \n",
       "L 701.463438 60.4224 \n",
       "L 612.183438 60.4224 \n",
       "L 612.183438 42.6816 \n",
       "\" clip-path=\"url(#p24e7f01f4b)\" style=\"fill: #0c56a0; stroke: #ffffff\"/>\n",
       "    <path d=\"M 701.463438 42.6816 \n",
       "L 790.743438 42.6816 \n",
       "L 790.743438 60.4224 \n",
       "L 701.463438 60.4224 \n",
       "L 701.463438 42.6816 \n",
       "\" clip-path=\"url(#p24e7f01f4b)\" style=\"fill: #083e81; stroke: #ffffff\"/>\n",
       "    <path d=\"M 433.623438 60.4224 \n",
       "L 522.903437 60.4224 \n",
       "L 522.903437 78.1632 \n",
       "L 433.623438 78.1632 \n",
       "L 433.623438 60.4224 \n",
       "\" clip-path=\"url(#p24e7f01f4b)\" style=\"fill: #84bcdb; stroke: #ffffff\"/>\n",
       "    <path d=\"M 522.903437 60.4224 \n",
       "L 612.183438 60.4224 \n",
       "L 612.183438 78.1632 \n",
       "L 522.903437 78.1632 \n",
       "L 522.903437 60.4224 \n",
       "\" clip-path=\"url(#p24e7f01f4b)\" style=\"fill: #4f9bcb; stroke: #ffffff\"/>\n",
       "    <path d=\"M 612.183438 60.4224 \n",
       "L 701.463438 60.4224 \n",
       "L 701.463438 78.1632 \n",
       "L 612.183438 78.1632 \n",
       "L 612.183438 60.4224 \n",
       "\" clip-path=\"url(#p24e7f01f4b)\" style=\"fill: #084e98; stroke: #ffffff\"/>\n",
       "    <path d=\"M 701.463438 60.4224 \n",
       "L 790.743438 60.4224 \n",
       "L 790.743438 78.1632 \n",
       "L 701.463438 78.1632 \n",
       "L 701.463438 60.4224 \n",
       "\" clip-path=\"url(#p24e7f01f4b)\" style=\"fill: #083370; stroke: #ffffff\"/>\n",
       "    <path d=\"M 433.623438 78.1632 \n",
       "L 522.903437 78.1632 \n",
       "L 522.903437 95.904 \n",
       "L 433.623438 95.904 \n",
       "L 433.623438 78.1632 \n",
       "\" clip-path=\"url(#p24e7f01f4b)\" style=\"fill: #84bcdb; stroke: #ffffff\"/>\n",
       "    <path d=\"M 522.903437 78.1632 \n",
       "L 612.183438 78.1632 \n",
       "L 612.183438 95.904 \n",
       "L 522.903437 95.904 \n",
       "L 522.903437 78.1632 \n",
       "\" clip-path=\"url(#p24e7f01f4b)\" style=\"fill: #529dcc; stroke: #ffffff\"/>\n",
       "    <path d=\"M 612.183438 78.1632 \n",
       "L 701.463438 78.1632 \n",
       "L 701.463438 95.904 \n",
       "L 612.183438 95.904 \n",
       "L 612.183438 78.1632 \n",
       "\" clip-path=\"url(#p24e7f01f4b)\" style=\"fill: #084c95; stroke: #ffffff\"/>\n",
       "    <path d=\"M 701.463438 78.1632 \n",
       "L 790.743438 78.1632 \n",
       "L 790.743438 95.904 \n",
       "L 701.463438 95.904 \n",
       "L 701.463438 78.1632 \n",
       "\" clip-path=\"url(#p24e7f01f4b)\" style=\"fill: #08316d; stroke: #ffffff\"/>\n",
       "    <path d=\"M 433.623438 95.904 \n",
       "L 522.903437 95.904 \n",
       "L 522.903437 113.6448 \n",
       "L 433.623438 113.6448 \n",
       "L 433.623438 95.904 \n",
       "\" clip-path=\"url(#p24e7f01f4b)\" style=\"fill: #84bcdb; stroke: #ffffff\"/>\n",
       "    <path d=\"M 522.903437 95.904 \n",
       "L 612.183438 95.904 \n",
       "L 612.183438 113.6448 \n",
       "L 522.903437 113.6448 \n",
       "L 522.903437 95.904 \n",
       "\" clip-path=\"url(#p24e7f01f4b)\" style=\"fill: #4594c7; stroke: #ffffff\"/>\n",
       "    <path d=\"M 612.183438 95.904 \n",
       "L 701.463438 95.904 \n",
       "L 701.463438 113.6448 \n",
       "L 612.183438 113.6448 \n",
       "L 612.183438 95.904 \n",
       "\" clip-path=\"url(#p24e7f01f4b)\" style=\"fill: #0b559f; stroke: #ffffff\"/>\n",
       "    <path d=\"M 701.463438 95.904 \n",
       "L 790.743438 95.904 \n",
       "L 790.743438 113.6448 \n",
       "L 701.463438 113.6448 \n",
       "L 701.463438 95.904 \n",
       "\" clip-path=\"url(#p24e7f01f4b)\" style=\"fill: #08306b; stroke: #ffffff\"/>\n",
       "    <path d=\"M 433.623438 113.6448 \n",
       "L 522.903437 113.6448 \n",
       "L 522.903437 131.3856 \n",
       "L 433.623438 131.3856 \n",
       "L 433.623438 113.6448 \n",
       "\" clip-path=\"url(#p24e7f01f4b)\" style=\"fill: #125ea6; stroke: #ffffff\"/>\n",
       "    <path d=\"M 522.903437 113.6448 \n",
       "L 612.183438 113.6448 \n",
       "L 612.183438 131.3856 \n",
       "L 522.903437 131.3856 \n",
       "L 522.903437 113.6448 \n",
       "\" clip-path=\"url(#p24e7f01f4b)\" style=\"fill: #3b8bc2; stroke: #ffffff\"/>\n",
       "    <path d=\"M 612.183438 113.6448 \n",
       "L 701.463438 113.6448 \n",
       "L 701.463438 131.3856 \n",
       "L 612.183438 131.3856 \n",
       "L 612.183438 113.6448 \n",
       "\" clip-path=\"url(#p24e7f01f4b)\" style=\"fill: #84bcdb; stroke: #ffffff\"/>\n",
       "    <path d=\"M 701.463438 113.6448 \n",
       "L 790.743438 113.6448 \n",
       "L 790.743438 131.3856 \n",
       "L 701.463438 131.3856 \n",
       "L 701.463438 113.6448 \n",
       "\" clip-path=\"url(#p24e7f01f4b)\" style=\"fill: #f7fbff; stroke: #ffffff\"/>\n",
       "    <path d=\"M 433.623438 131.3856 \n",
       "L 522.903437 131.3856 \n",
       "L 522.903437 149.1264 \n",
       "L 433.623438 149.1264 \n",
       "L 433.623438 131.3856 \n",
       "\" clip-path=\"url(#p24e7f01f4b)\" style=\"fill: #84bcdb; stroke: #ffffff\"/>\n",
       "    <path d=\"M 522.903437 131.3856 \n",
       "L 612.183438 131.3856 \n",
       "L 612.183438 149.1264 \n",
       "L 522.903437 149.1264 \n",
       "L 522.903437 131.3856 \n",
       "\" clip-path=\"url(#p24e7f01f4b)\" style=\"fill: #2373b6; stroke: #ffffff\"/>\n",
       "    <path d=\"M 612.183438 131.3856 \n",
       "L 701.463438 131.3856 \n",
       "L 701.463438 149.1264 \n",
       "L 612.183438 149.1264 \n",
       "L 612.183438 131.3856 \n",
       "\" clip-path=\"url(#p24e7f01f4b)\" style=\"fill: #2575b7; stroke: #ffffff\"/>\n",
       "    <path d=\"M 701.463438 131.3856 \n",
       "L 790.743438 131.3856 \n",
       "L 790.743438 149.1264 \n",
       "L 701.463438 149.1264 \n",
       "L 701.463438 131.3856 \n",
       "\" clip-path=\"url(#p24e7f01f4b)\" style=\"fill: #2e7ebc; stroke: #ffffff\"/>\n",
       "    <path d=\"M 433.623438 149.1264 \n",
       "L 522.903437 149.1264 \n",
       "L 522.903437 166.8672 \n",
       "L 433.623438 166.8672 \n",
       "L 433.623438 149.1264 \n",
       "\" clip-path=\"url(#p24e7f01f4b)\" style=\"fill: #84bcdb; stroke: #ffffff\"/>\n",
       "    <path d=\"M 522.903437 149.1264 \n",
       "L 612.183438 149.1264 \n",
       "L 612.183438 166.8672 \n",
       "L 522.903437 166.8672 \n",
       "L 522.903437 149.1264 \n",
       "\" clip-path=\"url(#p24e7f01f4b)\" style=\"fill: #0e59a2; stroke: #ffffff\"/>\n",
       "    <path d=\"M 612.183438 149.1264 \n",
       "L 701.463438 149.1264 \n",
       "L 701.463438 166.8672 \n",
       "L 612.183438 166.8672 \n",
       "L 612.183438 149.1264 \n",
       "\" clip-path=\"url(#p24e7f01f4b)\" style=\"fill: #4090c5; stroke: #ffffff\"/>\n",
       "    <path d=\"M 701.463438 149.1264 \n",
       "L 790.743438 149.1264 \n",
       "L 790.743438 166.8672 \n",
       "L 701.463438 166.8672 \n",
       "L 701.463438 149.1264 \n",
       "\" clip-path=\"url(#p24e7f01f4b)\" style=\"fill: #3080bd; stroke: #ffffff\"/>\n",
       "    <path d=\"M 433.623438 166.8672 \n",
       "L 522.903437 166.8672 \n",
       "L 522.903437 184.608 \n",
       "L 433.623438 184.608 \n",
       "L 433.623438 166.8672 \n",
       "\" clip-path=\"url(#p24e7f01f4b)\" style=\"fill: #84bcdb; stroke: #ffffff\"/>\n",
       "    <path d=\"M 522.903437 166.8672 \n",
       "L 612.183438 166.8672 \n",
       "L 612.183438 184.608 \n",
       "L 522.903437 184.608 \n",
       "L 522.903437 166.8672 \n",
       "\" clip-path=\"url(#p24e7f01f4b)\" style=\"fill: #0c56a0; stroke: #ffffff\"/>\n",
       "    <path d=\"M 612.183438 166.8672 \n",
       "L 701.463438 166.8672 \n",
       "L 701.463438 184.608 \n",
       "L 612.183438 184.608 \n",
       "L 612.183438 166.8672 \n",
       "\" clip-path=\"url(#p24e7f01f4b)\" style=\"fill: #4493c7; stroke: #ffffff\"/>\n",
       "    <path d=\"M 701.463438 166.8672 \n",
       "L 790.743438 166.8672 \n",
       "L 790.743438 184.608 \n",
       "L 701.463438 184.608 \n",
       "L 701.463438 166.8672 \n",
       "\" clip-path=\"url(#p24e7f01f4b)\" style=\"fill: #3787c0; stroke: #ffffff\"/>\n",
       "    <path d=\"M 433.623438 184.608 \n",
       "L 522.903437 184.608 \n",
       "L 522.903437 202.3488 \n",
       "L 433.623438 202.3488 \n",
       "L 433.623438 184.608 \n",
       "\" clip-path=\"url(#p24e7f01f4b)\" style=\"fill: #3f8fc5; stroke: #ffffff\"/>\n",
       "    <path d=\"M 522.903437 184.608 \n",
       "L 612.183438 184.608 \n",
       "L 612.183438 202.3488 \n",
       "L 522.903437 202.3488 \n",
       "L 522.903437 184.608 \n",
       "\" clip-path=\"url(#p24e7f01f4b)\" style=\"fill: #1a68ae; stroke: #ffffff\"/>\n",
       "    <path d=\"M 612.183438 184.608 \n",
       "L 701.463438 184.608 \n",
       "L 701.463438 202.3488 \n",
       "L 612.183438 202.3488 \n",
       "L 612.183438 184.608 \n",
       "\" clip-path=\"url(#p24e7f01f4b)\" style=\"fill: #6dafd7; stroke: #ffffff\"/>\n",
       "    <path d=\"M 701.463438 184.608 \n",
       "L 790.743438 184.608 \n",
       "L 790.743438 202.3488 \n",
       "L 701.463438 202.3488 \n",
       "L 701.463438 184.608 \n",
       "\" clip-path=\"url(#p24e7f01f4b)\" style=\"fill: #f3f8fe; stroke: #ffffff\"/>\n",
       "    <path d=\"M 433.623438 202.3488 \n",
       "L 522.903437 202.3488 \n",
       "L 522.903437 220.0896 \n",
       "L 433.623438 220.0896 \n",
       "L 433.623438 202.3488 \n",
       "\" clip-path=\"url(#p24e7f01f4b)\" style=\"fill: #084a91; stroke: #ffffff\"/>\n",
       "    <path d=\"M 522.903437 202.3488 \n",
       "L 612.183438 202.3488 \n",
       "L 612.183438 220.0896 \n",
       "L 522.903437 220.0896 \n",
       "L 522.903437 202.3488 \n",
       "\" clip-path=\"url(#p24e7f01f4b)\" style=\"fill: #549fcd; stroke: #ffffff\"/>\n",
       "    <path d=\"M 612.183438 202.3488 \n",
       "L 701.463438 202.3488 \n",
       "L 701.463438 220.0896 \n",
       "L 612.183438 220.0896 \n",
       "L 612.183438 202.3488 \n",
       "\" clip-path=\"url(#p24e7f01f4b)\" style=\"fill: #84bcdb; stroke: #ffffff\"/>\n",
       "    <path d=\"M 701.463438 202.3488 \n",
       "L 790.743438 202.3488 \n",
       "L 790.743438 220.0896 \n",
       "L 701.463438 220.0896 \n",
       "L 701.463438 202.3488 \n",
       "\" clip-path=\"url(#p24e7f01f4b)\" style=\"fill: #e0ecf8; stroke: #ffffff\"/>\n",
       "    <path d=\"M 433.623438 220.0896 \n",
       "L 522.903437 220.0896 \n",
       "L 522.903437 237.8304 \n",
       "L 433.623438 237.8304 \n",
       "L 433.623438 220.0896 \n",
       "\" clip-path=\"url(#p24e7f01f4b)\" style=\"fill: #66abd4; stroke: #ffffff\"/>\n",
       "    <path d=\"M 522.903437 220.0896 \n",
       "L 612.183438 220.0896 \n",
       "L 612.183438 237.8304 \n",
       "L 522.903437 237.8304 \n",
       "L 522.903437 220.0896 \n",
       "\" clip-path=\"url(#p24e7f01f4b)\" style=\"fill: #1d6cb1; stroke: #ffffff\"/>\n",
       "    <path d=\"M 612.183438 220.0896 \n",
       "L 701.463438 220.0896 \n",
       "L 701.463438 237.8304 \n",
       "L 612.183438 237.8304 \n",
       "L 612.183438 220.0896 \n",
       "\" clip-path=\"url(#p24e7f01f4b)\" style=\"fill: #4191c6; stroke: #ffffff\"/>\n",
       "    <path d=\"M 701.463438 220.0896 \n",
       "L 790.743438 220.0896 \n",
       "L 790.743438 237.8304 \n",
       "L 701.463438 237.8304 \n",
       "L 701.463438 220.0896 \n",
       "\" clip-path=\"url(#p24e7f01f4b)\" style=\"fill: #2070b4; stroke: #ffffff\"/>\n",
       "    <path d=\"M 433.623438 237.8304 \n",
       "L 522.903437 237.8304 \n",
       "L 522.903437 255.5712 \n",
       "L 433.623438 255.5712 \n",
       "L 433.623438 237.8304 \n",
       "\" clip-path=\"url(#p24e7f01f4b)\" style=\"fill: #84bcdb; stroke: #ffffff\"/>\n",
       "    <path d=\"M 522.903437 237.8304 \n",
       "L 612.183438 237.8304 \n",
       "L 612.183438 255.5712 \n",
       "L 522.903437 255.5712 \n",
       "L 522.903437 237.8304 \n",
       "\" clip-path=\"url(#p24e7f01f4b)\" style=\"fill: #4594c7; stroke: #ffffff\"/>\n",
       "    <path d=\"M 612.183438 237.8304 \n",
       "L 701.463438 237.8304 \n",
       "L 701.463438 255.5712 \n",
       "L 612.183438 255.5712 \n",
       "L 612.183438 237.8304 \n",
       "\" clip-path=\"url(#p24e7f01f4b)\" style=\"fill: #0b559f; stroke: #ffffff\"/>\n",
       "    <path d=\"M 701.463438 237.8304 \n",
       "L 790.743438 237.8304 \n",
       "L 790.743438 255.5712 \n",
       "L 701.463438 255.5712 \n",
       "L 701.463438 237.8304 \n",
       "\" clip-path=\"url(#p24e7f01f4b)\" style=\"fill: #083c7d; stroke: #ffffff\"/>\n",
       "    <path d=\"M 433.623438 255.5712 \n",
       "L 522.903437 255.5712 \n",
       "L 522.903437 273.312 \n",
       "L 433.623438 273.312 \n",
       "L 433.623438 255.5712 \n",
       "\" clip-path=\"url(#p24e7f01f4b)\" style=\"fill: #84bcdb; stroke: #ffffff\"/>\n",
       "    <path d=\"M 522.903437 255.5712 \n",
       "L 612.183438 255.5712 \n",
       "L 612.183438 273.312 \n",
       "L 522.903437 273.312 \n",
       "L 522.903437 255.5712 \n",
       "\" clip-path=\"url(#p24e7f01f4b)\" style=\"fill: #2272b6; stroke: #ffffff\"/>\n",
       "    <path d=\"M 612.183438 255.5712 \n",
       "L 701.463438 255.5712 \n",
       "L 701.463438 273.312 \n",
       "L 612.183438 273.312 \n",
       "L 612.183438 255.5712 \n",
       "\" clip-path=\"url(#p24e7f01f4b)\" style=\"fill: #2676b8; stroke: #ffffff\"/>\n",
       "    <path d=\"M 701.463438 255.5712 \n",
       "L 790.743438 255.5712 \n",
       "L 790.743438 273.312 \n",
       "L 701.463438 273.312 \n",
       "L 701.463438 255.5712 \n",
       "\" clip-path=\"url(#p24e7f01f4b)\" style=\"fill: #3080bd; stroke: #ffffff\"/>\n",
       "   </g>\n",
       "   <g id=\"text_20\">\n",
       "    <!-- 0 -->\n",
       "    <g style=\"fill: #262626\" transform=\"translate(475.082188 18.829775) scale(0.1 -0.1)\">\n",
       "     <defs>\n",
       "      <path id=\"DejaVuSans-30\" d=\"M 2034 4250 \n",
       "Q 1547 4250 1301 3770 \n",
       "Q 1056 3291 1056 2328 \n",
       "Q 1056 1369 1301 889 \n",
       "Q 1547 409 2034 409 \n",
       "Q 2525 409 2770 889 \n",
       "Q 3016 1369 3016 2328 \n",
       "Q 3016 3291 2770 3770 \n",
       "Q 2525 4250 2034 4250 \n",
       "z\n",
       "M 2034 4750 \n",
       "Q 2819 4750 3233 4129 \n",
       "Q 3647 3509 3647 2328 \n",
       "Q 3647 1150 3233 529 \n",
       "Q 2819 -91 2034 -91 \n",
       "Q 1250 -91 836 529 \n",
       "Q 422 1150 422 2328 \n",
       "Q 422 3509 836 4129 \n",
       "Q 1250 4750 2034 4750 \n",
       "z\n",
       "\" transform=\"scale(0.015625)\"/>\n",
       "     </defs>\n",
       "     <use xlink:href=\"#DejaVuSans-30\"/>\n",
       "    </g>\n",
       "   </g>\n",
       "   <g id=\"text_21\">\n",
       "    <!-- 0.25 -->\n",
       "    <g style=\"fill: #ffffff\" transform=\"translate(556.410625 18.829775) scale(0.1 -0.1)\">\n",
       "     <defs>\n",
       "      <path id=\"DejaVuSans-32\" d=\"M 1228 531 \n",
       "L 3431 531 \n",
       "L 3431 0 \n",
       "L 469 0 \n",
       "L 469 531 \n",
       "Q 828 903 1448 1529 \n",
       "Q 2069 2156 2228 2338 \n",
       "Q 2531 2678 2651 2914 \n",
       "Q 2772 3150 2772 3378 \n",
       "Q 2772 3750 2511 3984 \n",
       "Q 2250 4219 1831 4219 \n",
       "Q 1534 4219 1204 4116 \n",
       "Q 875 4013 500 3803 \n",
       "L 500 4441 \n",
       "Q 881 4594 1212 4672 \n",
       "Q 1544 4750 1819 4750 \n",
       "Q 2544 4750 2975 4387 \n",
       "Q 3406 4025 3406 3419 \n",
       "Q 3406 3131 3298 2873 \n",
       "Q 3191 2616 2906 2266 \n",
       "Q 2828 2175 2409 1742 \n",
       "Q 1991 1309 1228 531 \n",
       "z\n",
       "\" transform=\"scale(0.015625)\"/>\n",
       "      <path id=\"DejaVuSans-35\" d=\"M 691 4666 \n",
       "L 3169 4666 \n",
       "L 3169 4134 \n",
       "L 1269 4134 \n",
       "L 1269 2991 \n",
       "Q 1406 3038 1543 3061 \n",
       "Q 1681 3084 1819 3084 \n",
       "Q 2600 3084 3056 2656 \n",
       "Q 3513 2228 3513 1497 \n",
       "Q 3513 744 3044 326 \n",
       "Q 2575 -91 1722 -91 \n",
       "Q 1428 -91 1123 -41 \n",
       "Q 819 9 494 109 \n",
       "L 494 744 \n",
       "Q 775 591 1075 516 \n",
       "Q 1375 441 1709 441 \n",
       "Q 2250 441 2565 725 \n",
       "Q 2881 1009 2881 1497 \n",
       "Q 2881 1984 2565 2268 \n",
       "Q 2250 2553 1709 2553 \n",
       "Q 1456 2553 1204 2497 \n",
       "Q 953 2441 691 2322 \n",
       "L 691 4666 \n",
       "z\n",
       "\" transform=\"scale(0.015625)\"/>\n",
       "     </defs>\n",
       "     <use xlink:href=\"#DejaVuSans-30\"/>\n",
       "     <use xlink:href=\"#DejaVuSans-2e\" x=\"63.623047\"/>\n",
       "     <use xlink:href=\"#DejaVuSans-32\" x=\"95.410156\"/>\n",
       "     <use xlink:href=\"#DejaVuSans-35\" x=\"159.033203\"/>\n",
       "    </g>\n",
       "   </g>\n",
       "   <g id=\"text_22\">\n",
       "    <!-- 0.75 -->\n",
       "    <g style=\"fill: #ffffff\" transform=\"translate(645.690625 18.829775) scale(0.1 -0.1)\">\n",
       "     <defs>\n",
       "      <path id=\"DejaVuSans-37\" d=\"M 525 4666 \n",
       "L 3525 4666 \n",
       "L 3525 4397 \n",
       "L 1831 0 \n",
       "L 1172 0 \n",
       "L 2766 4134 \n",
       "L 525 4134 \n",
       "L 525 4666 \n",
       "z\n",
       "\" transform=\"scale(0.015625)\"/>\n",
       "     </defs>\n",
       "     <use xlink:href=\"#DejaVuSans-30\"/>\n",
       "     <use xlink:href=\"#DejaVuSans-2e\" x=\"63.623047\"/>\n",
       "     <use xlink:href=\"#DejaVuSans-37\" x=\"95.410156\"/>\n",
       "     <use xlink:href=\"#DejaVuSans-35\" x=\"159.033203\"/>\n",
       "    </g>\n",
       "   </g>\n",
       "   <g id=\"text_23\">\n",
       "    <!-- 0.83 -->\n",
       "    <g style=\"fill: #ffffff\" transform=\"translate(734.970625 18.829775) scale(0.1 -0.1)\">\n",
       "     <defs>\n",
       "      <path id=\"DejaVuSans-38\" d=\"M 2034 2216 \n",
       "Q 1584 2216 1326 1975 \n",
       "Q 1069 1734 1069 1313 \n",
       "Q 1069 891 1326 650 \n",
       "Q 1584 409 2034 409 \n",
       "Q 2484 409 2743 651 \n",
       "Q 3003 894 3003 1313 \n",
       "Q 3003 1734 2745 1975 \n",
       "Q 2488 2216 2034 2216 \n",
       "z\n",
       "M 1403 2484 \n",
       "Q 997 2584 770 2862 \n",
       "Q 544 3141 544 3541 \n",
       "Q 544 4100 942 4425 \n",
       "Q 1341 4750 2034 4750 \n",
       "Q 2731 4750 3128 4425 \n",
       "Q 3525 4100 3525 3541 \n",
       "Q 3525 3141 3298 2862 \n",
       "Q 3072 2584 2669 2484 \n",
       "Q 3125 2378 3379 2068 \n",
       "Q 3634 1759 3634 1313 \n",
       "Q 3634 634 3220 271 \n",
       "Q 2806 -91 2034 -91 \n",
       "Q 1263 -91 848 271 \n",
       "Q 434 634 434 1313 \n",
       "Q 434 1759 690 2068 \n",
       "Q 947 2378 1403 2484 \n",
       "z\n",
       "M 1172 3481 \n",
       "Q 1172 3119 1398 2916 \n",
       "Q 1625 2713 2034 2713 \n",
       "Q 2441 2713 2670 2916 \n",
       "Q 2900 3119 2900 3481 \n",
       "Q 2900 3844 2670 4047 \n",
       "Q 2441 4250 2034 4250 \n",
       "Q 1625 4250 1398 4047 \n",
       "Q 1172 3844 1172 3481 \n",
       "z\n",
       "\" transform=\"scale(0.015625)\"/>\n",
       "      <path id=\"DejaVuSans-33\" d=\"M 2597 2516 \n",
       "Q 3050 2419 3304 2112 \n",
       "Q 3559 1806 3559 1356 \n",
       "Q 3559 666 3084 287 \n",
       "Q 2609 -91 1734 -91 \n",
       "Q 1441 -91 1130 -33 \n",
       "Q 819 25 488 141 \n",
       "L 488 750 \n",
       "Q 750 597 1062 519 \n",
       "Q 1375 441 1716 441 \n",
       "Q 2309 441 2620 675 \n",
       "Q 2931 909 2931 1356 \n",
       "Q 2931 1769 2642 2001 \n",
       "Q 2353 2234 1838 2234 \n",
       "L 1294 2234 \n",
       "L 1294 2753 \n",
       "L 1863 2753 \n",
       "Q 2328 2753 2575 2939 \n",
       "Q 2822 3125 2822 3475 \n",
       "Q 2822 3834 2567 4026 \n",
       "Q 2313 4219 1838 4219 \n",
       "Q 1578 4219 1281 4162 \n",
       "Q 984 4106 628 3988 \n",
       "L 628 4550 \n",
       "Q 988 4650 1302 4700 \n",
       "Q 1616 4750 1894 4750 \n",
       "Q 2613 4750 3031 4423 \n",
       "Q 3450 4097 3450 3541 \n",
       "Q 3450 3153 3228 2886 \n",
       "Q 3006 2619 2597 2516 \n",
       "z\n",
       "\" transform=\"scale(0.015625)\"/>\n",
       "     </defs>\n",
       "     <use xlink:href=\"#DejaVuSans-30\"/>\n",
       "     <use xlink:href=\"#DejaVuSans-2e\" x=\"63.623047\"/>\n",
       "     <use xlink:href=\"#DejaVuSans-38\" x=\"95.410156\"/>\n",
       "     <use xlink:href=\"#DejaVuSans-33\" x=\"159.033203\"/>\n",
       "    </g>\n",
       "   </g>\n",
       "   <g id=\"text_24\">\n",
       "    <!-- 0 -->\n",
       "    <g style=\"fill: #262626\" transform=\"translate(475.082188 36.570575) scale(0.1 -0.1)\">\n",
       "     <use xlink:href=\"#DejaVuSans-30\"/>\n",
       "    </g>\n",
       "   </g>\n",
       "   <g id=\"text_25\">\n",
       "    <!-- 0.25 -->\n",
       "    <g style=\"fill: #ffffff\" transform=\"translate(556.410625 36.570575) scale(0.1 -0.1)\">\n",
       "     <use xlink:href=\"#DejaVuSans-30\"/>\n",
       "     <use xlink:href=\"#DejaVuSans-2e\" x=\"63.623047\"/>\n",
       "     <use xlink:href=\"#DejaVuSans-32\" x=\"95.410156\"/>\n",
       "     <use xlink:href=\"#DejaVuSans-35\" x=\"159.033203\"/>\n",
       "    </g>\n",
       "   </g>\n",
       "   <g id=\"text_26\">\n",
       "    <!-- 0.75 -->\n",
       "    <g style=\"fill: #ffffff\" transform=\"translate(645.690625 36.570575) scale(0.1 -0.1)\">\n",
       "     <use xlink:href=\"#DejaVuSans-30\"/>\n",
       "     <use xlink:href=\"#DejaVuSans-2e\" x=\"63.623047\"/>\n",
       "     <use xlink:href=\"#DejaVuSans-37\" x=\"95.410156\"/>\n",
       "     <use xlink:href=\"#DejaVuSans-35\" x=\"159.033203\"/>\n",
       "    </g>\n",
       "   </g>\n",
       "   <g id=\"text_27\">\n",
       "    <!-- 0.84 -->\n",
       "    <g style=\"fill: #ffffff\" transform=\"translate(734.970625 36.570575) scale(0.1 -0.1)\">\n",
       "     <defs>\n",
       "      <path id=\"DejaVuSans-34\" d=\"M 2419 4116 \n",
       "L 825 1625 \n",
       "L 2419 1625 \n",
       "L 2419 4116 \n",
       "z\n",
       "M 2253 4666 \n",
       "L 3047 4666 \n",
       "L 3047 1625 \n",
       "L 3713 1625 \n",
       "L 3713 1100 \n",
       "L 3047 1100 \n",
       "L 3047 0 \n",
       "L 2419 0 \n",
       "L 2419 1100 \n",
       "L 313 1100 \n",
       "L 313 1709 \n",
       "L 2253 4666 \n",
       "z\n",
       "\" transform=\"scale(0.015625)\"/>\n",
       "     </defs>\n",
       "     <use xlink:href=\"#DejaVuSans-30\"/>\n",
       "     <use xlink:href=\"#DejaVuSans-2e\" x=\"63.623047\"/>\n",
       "     <use xlink:href=\"#DejaVuSans-38\" x=\"95.410156\"/>\n",
       "     <use xlink:href=\"#DejaVuSans-34\" x=\"159.033203\"/>\n",
       "    </g>\n",
       "   </g>\n",
       "   <g id=\"text_28\">\n",
       "    <!-- 0 -->\n",
       "    <g style=\"fill: #262626\" transform=\"translate(475.082188 54.311375) scale(0.1 -0.1)\">\n",
       "     <use xlink:href=\"#DejaVuSans-30\"/>\n",
       "    </g>\n",
       "   </g>\n",
       "   <g id=\"text_29\">\n",
       "    <!-- 0.3 -->\n",
       "    <g style=\"fill: #ffffff\" transform=\"translate(559.591875 54.311375) scale(0.1 -0.1)\">\n",
       "     <use xlink:href=\"#DejaVuSans-30\"/>\n",
       "     <use xlink:href=\"#DejaVuSans-2e\" x=\"63.623047\"/>\n",
       "     <use xlink:href=\"#DejaVuSans-33\" x=\"95.410156\"/>\n",
       "    </g>\n",
       "   </g>\n",
       "   <g id=\"text_30\">\n",
       "    <!-- 0.7 -->\n",
       "    <g style=\"fill: #ffffff\" transform=\"translate(648.871875 54.311375) scale(0.1 -0.1)\">\n",
       "     <use xlink:href=\"#DejaVuSans-30\"/>\n",
       "     <use xlink:href=\"#DejaVuSans-2e\" x=\"63.623047\"/>\n",
       "     <use xlink:href=\"#DejaVuSans-37\" x=\"95.410156\"/>\n",
       "    </g>\n",
       "   </g>\n",
       "   <g id=\"text_31\">\n",
       "    <!-- 0.85 -->\n",
       "    <g style=\"fill: #ffffff\" transform=\"translate(734.970625 54.311375) scale(0.1 -0.1)\">\n",
       "     <use xlink:href=\"#DejaVuSans-30\"/>\n",
       "     <use xlink:href=\"#DejaVuSans-2e\" x=\"63.623047\"/>\n",
       "     <use xlink:href=\"#DejaVuSans-38\" x=\"95.410156\"/>\n",
       "     <use xlink:href=\"#DejaVuSans-35\" x=\"159.033203\"/>\n",
       "    </g>\n",
       "   </g>\n",
       "   <g id=\"text_32\">\n",
       "    <!-- 0 -->\n",
       "    <g style=\"fill: #262626\" transform=\"translate(475.082188 72.052175) scale(0.1 -0.1)\">\n",
       "     <use xlink:href=\"#DejaVuSans-30\"/>\n",
       "    </g>\n",
       "   </g>\n",
       "   <g id=\"text_33\">\n",
       "    <!-- 0.25 -->\n",
       "    <g style=\"fill: #ffffff\" transform=\"translate(556.410625 72.052175) scale(0.1 -0.1)\">\n",
       "     <use xlink:href=\"#DejaVuSans-30\"/>\n",
       "     <use xlink:href=\"#DejaVuSans-2e\" x=\"63.623047\"/>\n",
       "     <use xlink:href=\"#DejaVuSans-32\" x=\"95.410156\"/>\n",
       "     <use xlink:href=\"#DejaVuSans-35\" x=\"159.033203\"/>\n",
       "    </g>\n",
       "   </g>\n",
       "   <g id=\"text_34\">\n",
       "    <!-- 0.75 -->\n",
       "    <g style=\"fill: #ffffff\" transform=\"translate(645.690625 72.052175) scale(0.1 -0.1)\">\n",
       "     <use xlink:href=\"#DejaVuSans-30\"/>\n",
       "     <use xlink:href=\"#DejaVuSans-2e\" x=\"63.623047\"/>\n",
       "     <use xlink:href=\"#DejaVuSans-37\" x=\"95.410156\"/>\n",
       "     <use xlink:href=\"#DejaVuSans-35\" x=\"159.033203\"/>\n",
       "    </g>\n",
       "   </g>\n",
       "   <g id=\"text_35\">\n",
       "    <!-- 0.92 -->\n",
       "    <g style=\"fill: #ffffff\" transform=\"translate(734.970625 72.052175) scale(0.1 -0.1)\">\n",
       "     <defs>\n",
       "      <path id=\"DejaVuSans-39\" d=\"M 703 97 \n",
       "L 703 672 \n",
       "Q 941 559 1184 500 \n",
       "Q 1428 441 1663 441 \n",
       "Q 2288 441 2617 861 \n",
       "Q 2947 1281 2994 2138 \n",
       "Q 2813 1869 2534 1725 \n",
       "Q 2256 1581 1919 1581 \n",
       "Q 1219 1581 811 2004 \n",
       "Q 403 2428 403 3163 \n",
       "Q 403 3881 828 4315 \n",
       "Q 1253 4750 1959 4750 \n",
       "Q 2769 4750 3195 4129 \n",
       "Q 3622 3509 3622 2328 \n",
       "Q 3622 1225 3098 567 \n",
       "Q 2575 -91 1691 -91 \n",
       "Q 1453 -91 1209 -44 \n",
       "Q 966 3 703 97 \n",
       "z\n",
       "M 1959 2075 \n",
       "Q 2384 2075 2632 2365 \n",
       "Q 2881 2656 2881 3163 \n",
       "Q 2881 3666 2632 3958 \n",
       "Q 2384 4250 1959 4250 \n",
       "Q 1534 4250 1286 3958 \n",
       "Q 1038 3666 1038 3163 \n",
       "Q 1038 2656 1286 2365 \n",
       "Q 1534 2075 1959 2075 \n",
       "z\n",
       "\" transform=\"scale(0.015625)\"/>\n",
       "     </defs>\n",
       "     <use xlink:href=\"#DejaVuSans-30\"/>\n",
       "     <use xlink:href=\"#DejaVuSans-2e\" x=\"63.623047\"/>\n",
       "     <use xlink:href=\"#DejaVuSans-39\" x=\"95.410156\"/>\n",
       "     <use xlink:href=\"#DejaVuSans-32\" x=\"159.033203\"/>\n",
       "    </g>\n",
       "   </g>\n",
       "   <g id=\"text_36\">\n",
       "    <!-- 0 -->\n",
       "    <g style=\"fill: #262626\" transform=\"translate(475.082188 89.792975) scale(0.1 -0.1)\">\n",
       "     <use xlink:href=\"#DejaVuSans-30\"/>\n",
       "    </g>\n",
       "   </g>\n",
       "   <g id=\"text_37\">\n",
       "    <!-- 0.23 -->\n",
       "    <g style=\"fill: #ffffff\" transform=\"translate(556.410625 89.792975) scale(0.1 -0.1)\">\n",
       "     <use xlink:href=\"#DejaVuSans-30\"/>\n",
       "     <use xlink:href=\"#DejaVuSans-2e\" x=\"63.623047\"/>\n",
       "     <use xlink:href=\"#DejaVuSans-32\" x=\"95.410156\"/>\n",
       "     <use xlink:href=\"#DejaVuSans-33\" x=\"159.033203\"/>\n",
       "    </g>\n",
       "   </g>\n",
       "   <g id=\"text_38\">\n",
       "    <!-- 0.77 -->\n",
       "    <g style=\"fill: #ffffff\" transform=\"translate(645.690625 89.792975) scale(0.1 -0.1)\">\n",
       "     <use xlink:href=\"#DejaVuSans-30\"/>\n",
       "     <use xlink:href=\"#DejaVuSans-2e\" x=\"63.623047\"/>\n",
       "     <use xlink:href=\"#DejaVuSans-37\" x=\"95.410156\"/>\n",
       "     <use xlink:href=\"#DejaVuSans-37\" x=\"159.033203\"/>\n",
       "    </g>\n",
       "   </g>\n",
       "   <g id=\"text_39\">\n",
       "    <!-- 0.93 -->\n",
       "    <g style=\"fill: #ffffff\" transform=\"translate(734.970625 89.792975) scale(0.1 -0.1)\">\n",
       "     <use xlink:href=\"#DejaVuSans-30\"/>\n",
       "     <use xlink:href=\"#DejaVuSans-2e\" x=\"63.623047\"/>\n",
       "     <use xlink:href=\"#DejaVuSans-39\" x=\"95.410156\"/>\n",
       "     <use xlink:href=\"#DejaVuSans-33\" x=\"159.033203\"/>\n",
       "    </g>\n",
       "   </g>\n",
       "   <g id=\"text_40\">\n",
       "    <!-- 0 -->\n",
       "    <g style=\"fill: #262626\" transform=\"translate(475.082188 107.533775) scale(0.1 -0.1)\">\n",
       "     <use xlink:href=\"#DejaVuSans-30\"/>\n",
       "    </g>\n",
       "   </g>\n",
       "   <g id=\"text_41\">\n",
       "    <!-- 0.29 -->\n",
       "    <g style=\"fill: #ffffff\" transform=\"translate(556.410625 107.533775) scale(0.1 -0.1)\">\n",
       "     <use xlink:href=\"#DejaVuSans-30\"/>\n",
       "     <use xlink:href=\"#DejaVuSans-2e\" x=\"63.623047\"/>\n",
       "     <use xlink:href=\"#DejaVuSans-32\" x=\"95.410156\"/>\n",
       "     <use xlink:href=\"#DejaVuSans-39\" x=\"159.033203\"/>\n",
       "    </g>\n",
       "   </g>\n",
       "   <g id=\"text_42\">\n",
       "    <!-- 0.71 -->\n",
       "    <g style=\"fill: #ffffff\" transform=\"translate(645.690625 107.533775) scale(0.1 -0.1)\">\n",
       "     <defs>\n",
       "      <path id=\"DejaVuSans-31\" d=\"M 794 531 \n",
       "L 1825 531 \n",
       "L 1825 4091 \n",
       "L 703 3866 \n",
       "L 703 4441 \n",
       "L 1819 4666 \n",
       "L 2450 4666 \n",
       "L 2450 531 \n",
       "L 3481 531 \n",
       "L 3481 0 \n",
       "L 794 0 \n",
       "L 794 531 \n",
       "z\n",
       "\" transform=\"scale(0.015625)\"/>\n",
       "     </defs>\n",
       "     <use xlink:href=\"#DejaVuSans-30\"/>\n",
       "     <use xlink:href=\"#DejaVuSans-2e\" x=\"63.623047\"/>\n",
       "     <use xlink:href=\"#DejaVuSans-37\" x=\"95.410156\"/>\n",
       "     <use xlink:href=\"#DejaVuSans-31\" x=\"159.033203\"/>\n",
       "    </g>\n",
       "   </g>\n",
       "   <g id=\"text_43\">\n",
       "    <!-- 0.95 -->\n",
       "    <g style=\"fill: #ffffff\" transform=\"translate(734.970625 107.533775) scale(0.1 -0.1)\">\n",
       "     <use xlink:href=\"#DejaVuSans-30\"/>\n",
       "     <use xlink:href=\"#DejaVuSans-2e\" x=\"63.623047\"/>\n",
       "     <use xlink:href=\"#DejaVuSans-39\" x=\"95.410156\"/>\n",
       "     <use xlink:href=\"#DejaVuSans-35\" x=\"159.033203\"/>\n",
       "    </g>\n",
       "   </g>\n",
       "   <g id=\"text_44\">\n",
       "    <!-- 0.65 -->\n",
       "    <g style=\"fill: #ffffff\" transform=\"translate(467.130625 125.274575) scale(0.1 -0.1)\">\n",
       "     <defs>\n",
       "      <path id=\"DejaVuSans-36\" d=\"M 2113 2584 \n",
       "Q 1688 2584 1439 2293 \n",
       "Q 1191 2003 1191 1497 \n",
       "Q 1191 994 1439 701 \n",
       "Q 1688 409 2113 409 \n",
       "Q 2538 409 2786 701 \n",
       "Q 3034 994 3034 1497 \n",
       "Q 3034 2003 2786 2293 \n",
       "Q 2538 2584 2113 2584 \n",
       "z\n",
       "M 3366 4563 \n",
       "L 3366 3988 \n",
       "Q 3128 4100 2886 4159 \n",
       "Q 2644 4219 2406 4219 \n",
       "Q 1781 4219 1451 3797 \n",
       "Q 1122 3375 1075 2522 \n",
       "Q 1259 2794 1537 2939 \n",
       "Q 1816 3084 2150 3084 \n",
       "Q 2853 3084 3261 2657 \n",
       "Q 3669 2231 3669 1497 \n",
       "Q 3669 778 3244 343 \n",
       "Q 2819 -91 2113 -91 \n",
       "Q 1303 -91 875 529 \n",
       "Q 447 1150 447 2328 \n",
       "Q 447 3434 972 4092 \n",
       "Q 1497 4750 2381 4750 \n",
       "Q 2619 4750 2861 4703 \n",
       "Q 3103 4656 3366 4563 \n",
       "z\n",
       "\" transform=\"scale(0.015625)\"/>\n",
       "     </defs>\n",
       "     <use xlink:href=\"#DejaVuSans-30\"/>\n",
       "     <use xlink:href=\"#DejaVuSans-2e\" x=\"63.623047\"/>\n",
       "     <use xlink:href=\"#DejaVuSans-36\" x=\"95.410156\"/>\n",
       "     <use xlink:href=\"#DejaVuSans-35\" x=\"159.033203\"/>\n",
       "    </g>\n",
       "   </g>\n",
       "   <g id=\"text_45\">\n",
       "    <!-- 0.35 -->\n",
       "    <g style=\"fill: #ffffff\" transform=\"translate(556.410625 125.274575) scale(0.1 -0.1)\">\n",
       "     <use xlink:href=\"#DejaVuSans-30\"/>\n",
       "     <use xlink:href=\"#DejaVuSans-2e\" x=\"63.623047\"/>\n",
       "     <use xlink:href=\"#DejaVuSans-33\" x=\"95.410156\"/>\n",
       "     <use xlink:href=\"#DejaVuSans-35\" x=\"159.033203\"/>\n",
       "    </g>\n",
       "   </g>\n",
       "   <g id=\"text_46\">\n",
       "    <!-- 0 -->\n",
       "    <g style=\"fill: #262626\" transform=\"translate(653.642187 125.274575) scale(0.1 -0.1)\">\n",
       "     <use xlink:href=\"#DejaVuSans-30\"/>\n",
       "    </g>\n",
       "   </g>\n",
       "   <g id=\"text_47\">\n",
       "    <!-- -0.74 -->\n",
       "    <g style=\"fill: #262626\" transform=\"translate(733.166719 125.274575) scale(0.1 -0.1)\">\n",
       "     <defs>\n",
       "      <path id=\"DejaVuSans-2d\" d=\"M 313 2009 \n",
       "L 1997 2009 \n",
       "L 1997 1497 \n",
       "L 313 1497 \n",
       "L 313 2009 \n",
       "z\n",
       "\" transform=\"scale(0.015625)\"/>\n",
       "     </defs>\n",
       "     <use xlink:href=\"#DejaVuSans-2d\"/>\n",
       "     <use xlink:href=\"#DejaVuSans-30\" x=\"36.083984\"/>\n",
       "     <use xlink:href=\"#DejaVuSans-2e\" x=\"99.707031\"/>\n",
       "     <use xlink:href=\"#DejaVuSans-37\" x=\"131.494141\"/>\n",
       "     <use xlink:href=\"#DejaVuSans-34\" x=\"195.117188\"/>\n",
       "    </g>\n",
       "   </g>\n",
       "   <g id=\"text_48\">\n",
       "    <!-- 0 -->\n",
       "    <g style=\"fill: #262626\" transform=\"translate(475.082188 143.015375) scale(0.1 -0.1)\">\n",
       "     <use xlink:href=\"#DejaVuSans-30\"/>\n",
       "    </g>\n",
       "   </g>\n",
       "   <g id=\"text_49\">\n",
       "    <!-- 0.51 -->\n",
       "    <g style=\"fill: #ffffff\" transform=\"translate(556.410625 143.015375) scale(0.1 -0.1)\">\n",
       "     <use xlink:href=\"#DejaVuSans-30\"/>\n",
       "     <use xlink:href=\"#DejaVuSans-2e\" x=\"63.623047\"/>\n",
       "     <use xlink:href=\"#DejaVuSans-35\" x=\"95.410156\"/>\n",
       "     <use xlink:href=\"#DejaVuSans-31\" x=\"159.033203\"/>\n",
       "    </g>\n",
       "   </g>\n",
       "   <g id=\"text_50\">\n",
       "    <!-- 0.49 -->\n",
       "    <g style=\"fill: #ffffff\" transform=\"translate(645.690625 143.015375) scale(0.1 -0.1)\">\n",
       "     <use xlink:href=\"#DejaVuSans-30\"/>\n",
       "     <use xlink:href=\"#DejaVuSans-2e\" x=\"63.623047\"/>\n",
       "     <use xlink:href=\"#DejaVuSans-34\" x=\"95.410156\"/>\n",
       "     <use xlink:href=\"#DejaVuSans-39\" x=\"159.033203\"/>\n",
       "    </g>\n",
       "   </g>\n",
       "   <g id=\"text_51\">\n",
       "    <!-- 0.44 -->\n",
       "    <g style=\"fill: #ffffff\" transform=\"translate(734.970625 143.015375) scale(0.1 -0.1)\">\n",
       "     <use xlink:href=\"#DejaVuSans-30\"/>\n",
       "     <use xlink:href=\"#DejaVuSans-2e\" x=\"63.623047\"/>\n",
       "     <use xlink:href=\"#DejaVuSans-34\" x=\"95.410156\"/>\n",
       "     <use xlink:href=\"#DejaVuSans-34\" x=\"159.033203\"/>\n",
       "    </g>\n",
       "   </g>\n",
       "   <g id=\"text_52\">\n",
       "    <!-- 0 -->\n",
       "    <g style=\"fill: #262626\" transform=\"translate(475.082188 160.756175) scale(0.1 -0.1)\">\n",
       "     <use xlink:href=\"#DejaVuSans-30\"/>\n",
       "    </g>\n",
       "   </g>\n",
       "   <g id=\"text_53\">\n",
       "    <!-- 0.68 -->\n",
       "    <g style=\"fill: #ffffff\" transform=\"translate(556.410625 160.756175) scale(0.1 -0.1)\">\n",
       "     <use xlink:href=\"#DejaVuSans-30\"/>\n",
       "     <use xlink:href=\"#DejaVuSans-2e\" x=\"63.623047\"/>\n",
       "     <use xlink:href=\"#DejaVuSans-36\" x=\"95.410156\"/>\n",
       "     <use xlink:href=\"#DejaVuSans-38\" x=\"159.033203\"/>\n",
       "    </g>\n",
       "   </g>\n",
       "   <g id=\"text_54\">\n",
       "    <!-- 0.32 -->\n",
       "    <g style=\"fill: #ffffff\" transform=\"translate(645.690625 160.756175) scale(0.1 -0.1)\">\n",
       "     <use xlink:href=\"#DejaVuSans-30\"/>\n",
       "     <use xlink:href=\"#DejaVuSans-2e\" x=\"63.623047\"/>\n",
       "     <use xlink:href=\"#DejaVuSans-33\" x=\"95.410156\"/>\n",
       "     <use xlink:href=\"#DejaVuSans-32\" x=\"159.033203\"/>\n",
       "    </g>\n",
       "   </g>\n",
       "   <g id=\"text_55\">\n",
       "    <!-- 0.43 -->\n",
       "    <g style=\"fill: #ffffff\" transform=\"translate(734.970625 160.756175) scale(0.1 -0.1)\">\n",
       "     <use xlink:href=\"#DejaVuSans-30\"/>\n",
       "     <use xlink:href=\"#DejaVuSans-2e\" x=\"63.623047\"/>\n",
       "     <use xlink:href=\"#DejaVuSans-34\" x=\"95.410156\"/>\n",
       "     <use xlink:href=\"#DejaVuSans-33\" x=\"159.033203\"/>\n",
       "    </g>\n",
       "   </g>\n",
       "   <g id=\"text_56\">\n",
       "    <!-- 0 -->\n",
       "    <g style=\"fill: #262626\" transform=\"translate(475.082188 178.496975) scale(0.1 -0.1)\">\n",
       "     <use xlink:href=\"#DejaVuSans-30\"/>\n",
       "    </g>\n",
       "   </g>\n",
       "   <g id=\"text_57\">\n",
       "    <!-- 0.7 -->\n",
       "    <g style=\"fill: #ffffff\" transform=\"translate(559.591875 178.496975) scale(0.1 -0.1)\">\n",
       "     <use xlink:href=\"#DejaVuSans-30\"/>\n",
       "     <use xlink:href=\"#DejaVuSans-2e\" x=\"63.623047\"/>\n",
       "     <use xlink:href=\"#DejaVuSans-37\" x=\"95.410156\"/>\n",
       "    </g>\n",
       "   </g>\n",
       "   <g id=\"text_58\">\n",
       "    <!-- 0.3 -->\n",
       "    <g style=\"fill: #ffffff\" transform=\"translate(648.871875 178.496975) scale(0.1 -0.1)\">\n",
       "     <use xlink:href=\"#DejaVuSans-30\"/>\n",
       "     <use xlink:href=\"#DejaVuSans-2e\" x=\"63.623047\"/>\n",
       "     <use xlink:href=\"#DejaVuSans-33\" x=\"95.410156\"/>\n",
       "    </g>\n",
       "   </g>\n",
       "   <g id=\"text_59\">\n",
       "    <!-- 0.38 -->\n",
       "    <g style=\"fill: #ffffff\" transform=\"translate(734.970625 178.496975) scale(0.1 -0.1)\">\n",
       "     <use xlink:href=\"#DejaVuSans-30\"/>\n",
       "     <use xlink:href=\"#DejaVuSans-2e\" x=\"63.623047\"/>\n",
       "     <use xlink:href=\"#DejaVuSans-33\" x=\"95.410156\"/>\n",
       "     <use xlink:href=\"#DejaVuSans-38\" x=\"159.033203\"/>\n",
       "    </g>\n",
       "   </g>\n",
       "   <g id=\"text_60\">\n",
       "    <!-- 0.33 -->\n",
       "    <g style=\"fill: #ffffff\" transform=\"translate(467.130625 196.237775) scale(0.1 -0.1)\">\n",
       "     <use xlink:href=\"#DejaVuSans-30\"/>\n",
       "     <use xlink:href=\"#DejaVuSans-2e\" x=\"63.623047\"/>\n",
       "     <use xlink:href=\"#DejaVuSans-33\" x=\"95.410156\"/>\n",
       "     <use xlink:href=\"#DejaVuSans-33\" x=\"159.033203\"/>\n",
       "    </g>\n",
       "   </g>\n",
       "   <g id=\"text_61\">\n",
       "    <!-- 0.58 -->\n",
       "    <g style=\"fill: #ffffff\" transform=\"translate(556.410625 196.237775) scale(0.1 -0.1)\">\n",
       "     <use xlink:href=\"#DejaVuSans-30\"/>\n",
       "     <use xlink:href=\"#DejaVuSans-2e\" x=\"63.623047\"/>\n",
       "     <use xlink:href=\"#DejaVuSans-35\" x=\"95.410156\"/>\n",
       "     <use xlink:href=\"#DejaVuSans-38\" x=\"159.033203\"/>\n",
       "    </g>\n",
       "   </g>\n",
       "   <g id=\"text_62\">\n",
       "    <!-- 0.094 -->\n",
       "    <g style=\"fill: #ffffff\" transform=\"translate(642.509375 196.237775) scale(0.1 -0.1)\">\n",
       "     <use xlink:href=\"#DejaVuSans-30\"/>\n",
       "     <use xlink:href=\"#DejaVuSans-2e\" x=\"63.623047\"/>\n",
       "     <use xlink:href=\"#DejaVuSans-30\" x=\"95.410156\"/>\n",
       "     <use xlink:href=\"#DejaVuSans-39\" x=\"159.033203\"/>\n",
       "     <use xlink:href=\"#DejaVuSans-34\" x=\"222.65625\"/>\n",
       "    </g>\n",
       "   </g>\n",
       "   <g id=\"text_63\">\n",
       "    <!-- -0.7 -->\n",
       "    <g style=\"fill: #262626\" transform=\"translate(736.347969 196.237775) scale(0.1 -0.1)\">\n",
       "     <use xlink:href=\"#DejaVuSans-2d\"/>\n",
       "     <use xlink:href=\"#DejaVuSans-30\" x=\"36.083984\"/>\n",
       "     <use xlink:href=\"#DejaVuSans-2e\" x=\"99.707031\"/>\n",
       "     <use xlink:href=\"#DejaVuSans-37\" x=\"131.494141\"/>\n",
       "    </g>\n",
       "   </g>\n",
       "   <g id=\"text_64\">\n",
       "    <!-- 0.78 -->\n",
       "    <g style=\"fill: #ffffff\" transform=\"translate(467.130625 213.978575) scale(0.1 -0.1)\">\n",
       "     <use xlink:href=\"#DejaVuSans-30\"/>\n",
       "     <use xlink:href=\"#DejaVuSans-2e\" x=\"63.623047\"/>\n",
       "     <use xlink:href=\"#DejaVuSans-37\" x=\"95.410156\"/>\n",
       "     <use xlink:href=\"#DejaVuSans-38\" x=\"159.033203\"/>\n",
       "    </g>\n",
       "   </g>\n",
       "   <g id=\"text_65\">\n",
       "    <!-- 0.22 -->\n",
       "    <g style=\"fill: #ffffff\" transform=\"translate(556.410625 213.978575) scale(0.1 -0.1)\">\n",
       "     <use xlink:href=\"#DejaVuSans-30\"/>\n",
       "     <use xlink:href=\"#DejaVuSans-2e\" x=\"63.623047\"/>\n",
       "     <use xlink:href=\"#DejaVuSans-32\" x=\"95.410156\"/>\n",
       "     <use xlink:href=\"#DejaVuSans-32\" x=\"159.033203\"/>\n",
       "    </g>\n",
       "   </g>\n",
       "   <g id=\"text_66\">\n",
       "    <!-- 0 -->\n",
       "    <g style=\"fill: #262626\" transform=\"translate(653.642187 213.978575) scale(0.1 -0.1)\">\n",
       "     <use xlink:href=\"#DejaVuSans-30\"/>\n",
       "    </g>\n",
       "   </g>\n",
       "   <g id=\"text_67\">\n",
       "    <!-- -0.55 -->\n",
       "    <g style=\"fill: #262626\" transform=\"translate(733.166719 213.978575) scale(0.1 -0.1)\">\n",
       "     <use xlink:href=\"#DejaVuSans-2d\"/>\n",
       "     <use xlink:href=\"#DejaVuSans-30\" x=\"36.083984\"/>\n",
       "     <use xlink:href=\"#DejaVuSans-2e\" x=\"99.707031\"/>\n",
       "     <use xlink:href=\"#DejaVuSans-35\" x=\"131.494141\"/>\n",
       "     <use xlink:href=\"#DejaVuSans-35\" x=\"195.117188\"/>\n",
       "    </g>\n",
       "   </g>\n",
       "   <g id=\"text_68\">\n",
       "    <!-- 0.13 -->\n",
       "    <g style=\"fill: #ffffff\" transform=\"translate(467.130625 231.719375) scale(0.1 -0.1)\">\n",
       "     <use xlink:href=\"#DejaVuSans-30\"/>\n",
       "     <use xlink:href=\"#DejaVuSans-2e\" x=\"63.623047\"/>\n",
       "     <use xlink:href=\"#DejaVuSans-31\" x=\"95.410156\"/>\n",
       "     <use xlink:href=\"#DejaVuSans-33\" x=\"159.033203\"/>\n",
       "    </g>\n",
       "   </g>\n",
       "   <g id=\"text_69\">\n",
       "    <!-- 0.56 -->\n",
       "    <g style=\"fill: #ffffff\" transform=\"translate(556.410625 231.719375) scale(0.1 -0.1)\">\n",
       "     <use xlink:href=\"#DejaVuSans-30\"/>\n",
       "     <use xlink:href=\"#DejaVuSans-2e\" x=\"63.623047\"/>\n",
       "     <use xlink:href=\"#DejaVuSans-35\" x=\"95.410156\"/>\n",
       "     <use xlink:href=\"#DejaVuSans-36\" x=\"159.033203\"/>\n",
       "    </g>\n",
       "   </g>\n",
       "   <g id=\"text_70\">\n",
       "    <!-- 0.32 -->\n",
       "    <g style=\"fill: #ffffff\" transform=\"translate(645.690625 231.719375) scale(0.1 -0.1)\">\n",
       "     <use xlink:href=\"#DejaVuSans-30\"/>\n",
       "     <use xlink:href=\"#DejaVuSans-2e\" x=\"63.623047\"/>\n",
       "     <use xlink:href=\"#DejaVuSans-33\" x=\"95.410156\"/>\n",
       "     <use xlink:href=\"#DejaVuSans-32\" x=\"159.033203\"/>\n",
       "    </g>\n",
       "   </g>\n",
       "   <g id=\"text_71\">\n",
       "    <!-- 0.52 -->\n",
       "    <g style=\"fill: #ffffff\" transform=\"translate(734.970625 231.719375) scale(0.1 -0.1)\">\n",
       "     <use xlink:href=\"#DejaVuSans-30\"/>\n",
       "     <use xlink:href=\"#DejaVuSans-2e\" x=\"63.623047\"/>\n",
       "     <use xlink:href=\"#DejaVuSans-35\" x=\"95.410156\"/>\n",
       "     <use xlink:href=\"#DejaVuSans-32\" x=\"159.033203\"/>\n",
       "    </g>\n",
       "   </g>\n",
       "   <g id=\"text_72\">\n",
       "    <!-- 0 -->\n",
       "    <g style=\"fill: #262626\" transform=\"translate(475.082188 249.460175) scale(0.1 -0.1)\">\n",
       "     <use xlink:href=\"#DejaVuSans-30\"/>\n",
       "    </g>\n",
       "   </g>\n",
       "   <g id=\"text_73\">\n",
       "    <!-- 0.29 -->\n",
       "    <g style=\"fill: #ffffff\" transform=\"translate(556.410625 249.460175) scale(0.1 -0.1)\">\n",
       "     <use xlink:href=\"#DejaVuSans-30\"/>\n",
       "     <use xlink:href=\"#DejaVuSans-2e\" x=\"63.623047\"/>\n",
       "     <use xlink:href=\"#DejaVuSans-32\" x=\"95.410156\"/>\n",
       "     <use xlink:href=\"#DejaVuSans-39\" x=\"159.033203\"/>\n",
       "    </g>\n",
       "   </g>\n",
       "   <g id=\"text_74\">\n",
       "    <!-- 0.71 -->\n",
       "    <g style=\"fill: #ffffff\" transform=\"translate(645.690625 249.460175) scale(0.1 -0.1)\">\n",
       "     <use xlink:href=\"#DejaVuSans-30\"/>\n",
       "     <use xlink:href=\"#DejaVuSans-2e\" x=\"63.623047\"/>\n",
       "     <use xlink:href=\"#DejaVuSans-37\" x=\"95.410156\"/>\n",
       "     <use xlink:href=\"#DejaVuSans-31\" x=\"159.033203\"/>\n",
       "    </g>\n",
       "   </g>\n",
       "   <g id=\"text_75\">\n",
       "    <!-- 0.86 -->\n",
       "    <g style=\"fill: #ffffff\" transform=\"translate(734.970625 249.460175) scale(0.1 -0.1)\">\n",
       "     <use xlink:href=\"#DejaVuSans-30\"/>\n",
       "     <use xlink:href=\"#DejaVuSans-2e\" x=\"63.623047\"/>\n",
       "     <use xlink:href=\"#DejaVuSans-38\" x=\"95.410156\"/>\n",
       "     <use xlink:href=\"#DejaVuSans-36\" x=\"159.033203\"/>\n",
       "    </g>\n",
       "   </g>\n",
       "   <g id=\"text_76\">\n",
       "    <!-- 0 -->\n",
       "    <g style=\"fill: #262626\" transform=\"translate(475.082188 267.200975) scale(0.1 -0.1)\">\n",
       "     <use xlink:href=\"#DejaVuSans-30\"/>\n",
       "    </g>\n",
       "   </g>\n",
       "   <g id=\"text_77\">\n",
       "    <!-- 0.51 -->\n",
       "    <g style=\"fill: #ffffff\" transform=\"translate(556.410625 267.200975) scale(0.1 -0.1)\">\n",
       "     <use xlink:href=\"#DejaVuSans-30\"/>\n",
       "     <use xlink:href=\"#DejaVuSans-2e\" x=\"63.623047\"/>\n",
       "     <use xlink:href=\"#DejaVuSans-35\" x=\"95.410156\"/>\n",
       "     <use xlink:href=\"#DejaVuSans-31\" x=\"159.033203\"/>\n",
       "    </g>\n",
       "   </g>\n",
       "   <g id=\"text_78\">\n",
       "    <!-- 0.49 -->\n",
       "    <g style=\"fill: #ffffff\" transform=\"translate(645.690625 267.200975) scale(0.1 -0.1)\">\n",
       "     <use xlink:href=\"#DejaVuSans-30\"/>\n",
       "     <use xlink:href=\"#DejaVuSans-2e\" x=\"63.623047\"/>\n",
       "     <use xlink:href=\"#DejaVuSans-34\" x=\"95.410156\"/>\n",
       "     <use xlink:href=\"#DejaVuSans-39\" x=\"159.033203\"/>\n",
       "    </g>\n",
       "   </g>\n",
       "   <g id=\"text_79\">\n",
       "    <!-- 0.43 -->\n",
       "    <g style=\"fill: #ffffff\" transform=\"translate(734.970625 267.200975) scale(0.1 -0.1)\">\n",
       "     <use xlink:href=\"#DejaVuSans-30\"/>\n",
       "     <use xlink:href=\"#DejaVuSans-2e\" x=\"63.623047\"/>\n",
       "     <use xlink:href=\"#DejaVuSans-34\" x=\"95.410156\"/>\n",
       "     <use xlink:href=\"#DejaVuSans-33\" x=\"159.033203\"/>\n",
       "    </g>\n",
       "   </g>\n",
       "  </g>\n",
       " </g>\n",
       " <defs>\n",
       "  <clipPath id=\"p24e7f01f4b\">\n",
       "   <rect x=\"433.623438\" y=\"7.2\" width=\"357.12\" height=\"266.112\"/>\n",
       "  </clipPath>\n",
       " </defs>\n",
       "</svg>\n"
      ],
      "text/plain": [
       "<Figure size 640x480 with 1 Axes>"
      ]
     },
     "metadata": {},
     "output_type": "display_data"
    }
   ],
   "source": [
    "sns.heatmap(df_sentiment, cmap='Blues', annot=True, cbar=False, linewidths=1);"
   ]
  },
  {
   "cell_type": "markdown",
   "id": "5153ff2b-ed33-4b8f-8b5a-439a82810e90",
   "metadata": {
    "id": "5153ff2b-ed33-4b8f-8b5a-439a82810e90"
   },
   "source": [
    "# EXERCISES"
   ]
  },
  {
   "cell_type": "markdown",
   "id": "afe50a35-da65-4e91-87b6-7d0b9dc2a463",
   "metadata": {
    "id": "afe50a35-da65-4e91-87b6-7d0b9dc2a463"
   },
   "source": [
    "## Exercise 1\n",
    "\n",
    "Using a book from [Project Gutenberg](https://www.gutenberg.org/), get the text data directly from its URL using the `requests` package. Break the book into 50 or more sensible \"chunks\" like chapters or paragraphs, organizing them into a list.\n",
    "\n",
    "Load this data into a spaCy pipeline and analyze either Named Entities or Parts of Speech in each chunk.\n",
    "\n",
    "Provide your analysis: What types of entities or parts of speech are common, and what are uncommon? What insights can you draw from these patterns?\n",
    "\n",
    "*Note*: Do not download any file, make use of URL in your code."
   ]
  },
  {
   "cell_type": "code",
   "execution_count": 179,
   "id": "03afa59b",
   "metadata": {
    "editable": true,
    "slideshow": {
     "slide_type": ""
    },
    "tags": []
   },
   "outputs": [],
   "source": [
    "import requests\n",
    "\n",
    "response = requests.get(\"https://www.gutenberg.org/cache/epub/73065/pg73065.txt\")\n",
    "data = response.text"
   ]
  },
  {
   "cell_type": "code",
   "execution_count": 180,
   "id": "1302d640-b7ed-47ac-8bb8-6292f694bccc",
   "metadata": {},
   "outputs": [],
   "source": [
    "chapter_end_text = \"*       *       *       *       *\"\n",
    "book_start_text = \"*** START OF THE PROJECT GUTENBERG EBOOK TOO MUCH PROGRESS FOR PIPEROCK ***\""
   ]
  },
  {
   "cell_type": "markdown",
   "id": "45e046e1-5750-4e99-986c-724b3286da10",
   "metadata": {},
   "source": [
    "Every chapterr in the book endswith `*       *       *       *       *` so it could used to identify the start of a book. While the start of the book is indicated by `*** START OF THE PROJECT GUTENBERG EBOOK TOO MUCH PROGRESS FOR PIPEROCK ***`, so any text after the indicator is part of the book and the rest of the information is just metadata."
   ]
  },
  {
   "cell_type": "code",
   "execution_count": 181,
   "id": "14db0b47-9c80-475a-93b5-d9f81de26f96",
   "metadata": {},
   "outputs": [],
   "source": [
    "chapters_data = data.split(chapter_end_text)\n",
    "\n",
    "first_chapter = chapters_data[0]\n",
    "first_chapter = first_chapter.split(book_start_text)[1]\n",
    "\n",
    "chapters_data[0] = first_chapter"
   ]
  },
  {
   "cell_type": "code",
   "execution_count": 182,
   "id": "4546c46b-524a-4d71-8ecc-1db1a65d967a",
   "metadata": {},
   "outputs": [],
   "source": [
    "char_set = set()\n",
    "\n",
    "for chapter in chapters_data:\n",
    "    chapter_charset = set(chapter)\n",
    "    char_set = char_set.union(chapter_charset)"
   ]
  },
  {
   "cell_type": "code",
   "execution_count": 183,
   "id": "4ab67efa-7896-4fcc-ac15-f23a31b7b4bc",
   "metadata": {},
   "outputs": [
    {
     "data": {
      "text/plain": [
       "{'\\n',\n",
       " '\\r',\n",
       " ' ',\n",
       " '!',\n",
       " '$',\n",
       " '%',\n",
       " '(',\n",
       " ')',\n",
       " '*',\n",
       " ',',\n",
       " '-',\n",
       " '.',\n",
       " '/',\n",
       " ':',\n",
       " ';',\n",
       " '?',\n",
       " '[',\n",
       " ']',\n",
       " '_',\n",
       " 'æ',\n",
       " '—',\n",
       " '‘',\n",
       " '’',\n",
       " '“',\n",
       " '”',\n",
       " '•',\n",
       " '™'}"
      ]
     },
     "execution_count": 183,
     "metadata": {},
     "output_type": "execute_result"
    }
   ],
   "source": [
    "from string import ascii_letters, digits\n",
    "\n",
    "char_set.difference(set(ascii_letters)).difference(set(digits))"
   ]
  },
  {
   "cell_type": "markdown",
   "id": "8963c313-9010-4349-b48f-08418f90a931",
   "metadata": {},
   "source": [
    "Out of these most of the characters can be replaced with empty strings"
   ]
  },
  {
   "cell_type": "code",
   "execution_count": 184,
   "id": "7dffbe03-1d00-4dbf-ad58-ad528ccc75dd",
   "metadata": {},
   "outputs": [],
   "source": [
    "chars_to_remove = ['\\n', '\\r', '_', 'æ', '•', '™']\n",
    "\n",
    "for i, _ in enumerate(chapters_data):\n",
    "    for char_to_remove in chars_to_remove:\n",
    "        chapters_data[i] = chapters_data[i].replace(char_to_remove, \"\")"
   ]
  },
  {
   "cell_type": "markdown",
   "id": "d06ff28a-d687-4ee0-b534-b88e42bf8b95",
   "metadata": {},
   "source": [
    "Text starting with `[` and ending with `]` needs special processing since it represents certain part of the book, such as illustrations which aren't essential for the texual analysis. Hence, such information also needs to be replaced with empty strings."
   ]
  },
  {
   "cell_type": "code",
   "execution_count": 185,
   "id": "d2f9dd1d-a1d1-4545-802b-0a4c25f004de",
   "metadata": {},
   "outputs": [
    {
     "data": {
      "text/plain": [
       "'[Illustration]'"
      ]
     },
     "execution_count": 185,
     "metadata": {},
     "output_type": "execute_result"
    }
   ],
   "source": [
    "chapters_data[0][51:65]"
   ]
  },
  {
   "cell_type": "code",
   "execution_count": 186,
   "id": "fa972150-185e-4d00-b73c-c269565816a0",
   "metadata": {},
   "outputs": [
    {
     "data": {
      "text/plain": [
       "['[Illustration]',\n",
       " '[Transcriber’s Note: This story appeared in the April 30, 1922 issueof Adventure Magazine.]']"
      ]
     },
     "execution_count": 186,
     "metadata": {},
     "output_type": "execute_result"
    }
   ],
   "source": [
    "import re\n",
    "\n",
    "def find_substrings(text):\n",
    "    pattern = r'\\[(.*?)\\]'\n",
    "    substrings = re.findall(pattern, text)\n",
    "    substrings = ['[' + substring + ']' for substring in substrings]\n",
    "    return substrings\n",
    "\n",
    "substrings = []\n",
    "for chapter in chapters_data:\n",
    "    substrings.extend(find_substrings(chapter))\n",
    "\n",
    "substrings"
   ]
  },
  {
   "cell_type": "markdown",
   "id": "b4e1b3c5-5cab-4f04-8a52-b3008ff0cba8",
   "metadata": {},
   "source": [
    "These are the data that start with `[` and end with `]`, which contain only meta data"
   ]
  },
  {
   "cell_type": "code",
   "execution_count": 187,
   "id": "55698b8e-9141-4975-a7d0-5cbaac4c13ac",
   "metadata": {},
   "outputs": [],
   "source": [
    "for i, _ in enumerate(chapters_data):\n",
    "    for substring in substrings:\n",
    "        chapters_data[i] = chapters_data[i].replace(substring, \"\")"
   ]
  },
  {
   "cell_type": "code",
   "execution_count": 188,
   "id": "71a7aea6-f664-4e9a-b231-6d881c4b16d8",
   "metadata": {},
   "outputs": [
    {
     "data": {
      "text/plain": [
       "'                     Too Much Progress for Piperock                     Too Much Progress for Piperock                            by W. C. Tuttle      Author of “Law Rustlers,” “The Spark of Skeeter Bill,” etc.I never seen anything like her before--not alive. One time I found apiece of an old fashion magazine, and there was a picture of a female inthat--a female that some feller drawed; but I just figured that it wasall imagination with him. I take one look at this live female and then Itakes off my hat to the artist.She said she was an artist. What in ---- anybody could find to draw inYaller Rock County--except guns--was more than I could see. Me and“Magpie” Simpkins was down at Paradise, setting in Art Wheeler’s stage,when she got on, headed for Piperock.Art got one look at her and then jackknifed his four horses in trying toturn around and go the wrong direction. Magpie Simpkins never took hiseyes off her. Magpie’s old enough to know better, but he didn’t seem to.Art’s eyes don’t foller the road much, with the result that he runs afront wheel off Calamity grade and danged near sends us all to our finaldestination.She said her name was Henrietta Harrison. Art pulls up for a breathingspell at Cottonwood Crick, and we stops in the shade of a tree. Shelooks at the big tree and then she says--    “Under the greenwood tree    Who loves to lie with me,    And tune his merry note    Unto the sweet bird’s throat----”“Me,” says Magpie, kinda foolish-like.“You!” snorts Art. “Tune your merry note! Haw! Haw! Haw! You could‘lie----’”“Mebbe you could!” says Magpie, mean-like. “But your wife wouldn’t letyuh.”“Set down, you ancient he buzzards!” I yelps. “Ain’t yuh got no sense?”“I don’t understand,” says Henrietta.“Nobody does,” says I, consoling her. “If we did, we’d know whether tolynch ’em or send ’em to the loco lodge, ma’am.”“Magpie makes me tired,” declares Art. “Any time he wants to tune hisnote----”“It’s my note, Mister Wheeler. If I want to tune my own note----”“I was merely quoting Shakespeare,” says the lady.“Giddap, broncs!” says Art Wheeler, and we rocked on into Piperock.I’ll tell you right here and now; beauty ain’t even skin deep inPiperock. We’ve got wimmin folks--that is, some has--but nobody everkidnaped any of ’em.If they belonged to me I’d trust ’em with any man.There’s Mrs. “Wick” Smith, who jars the hay-scales to two hundred andseventy-five, and wheezes plentiful. Art Wheeler’s better half tasted oflife and found it sour, and never got the acid out of her system. Mrs.“Testament” Tilton looks upward for guidance in all matters except whenit comes to flattering Testament’s head with a skillet. When Mrs. PeteGonyer is in sight, Pete’s voice sinks seventeen inches below a whisper.Somebody remarks one day that Pete’s kinda henpecked.“Henpecked, ----!” says Pete. “Orstrich--if there ain’t nothin’ biggerwhat wears feathers.”Mrs. Steele, the wife of our legal light, is six feet two inches tall,and she’s always oratin’ about the sanctity of the home, whatever thatis. One cinch, the prize never hands down any decisions in his own home.Mrs. Sam Holt goes through life worrying about somebody alienating theaffections of old Sam, who can barely hear himself yell, and has to eathis spuds mashed or miss the taste of ’em.There’s the Mudgett sisters, who must ’a’ been the originals of thefirst cartoon of “Miss Democracy.” Cupid would have to use a .30-30 ifhe went to work for them. Scattered around the range is a occasionalfemale, but nothing that you’d bet your money on in a beauty contest.Annie Schmidt is cooking for the Triangle outfit, but the same don’tseem to cause any of the other ranches to go short of help.                   '"
      ]
     },
     "execution_count": 188,
     "metadata": {},
     "output_type": "execute_result"
    }
   ],
   "source": [
    "chapters_data[0]"
   ]
  },
  {
   "cell_type": "markdown",
   "id": "01ae7e9b-77e9-4fb4-85f8-efc792ed92c6",
   "metadata": {},
   "source": [
    "Further we need to remove empty spaces at the start and end of each chapter"
   ]
  },
  {
   "cell_type": "code",
   "execution_count": 189,
   "id": "94735ee1-b3de-4422-96fc-1d341e53a6e2",
   "metadata": {},
   "outputs": [],
   "source": [
    "for i, _ in enumerate(chapters_data):\n",
    "    for substring in substrings:\n",
    "        chapters_data[i] = chapters_data[i].strip()"
   ]
  },
  {
   "cell_type": "markdown",
   "id": "cef9d0a3-8f48-4844-b377-2b1237c0e54d",
   "metadata": {},
   "source": [
    "#### Named Entity Recognition"
   ]
  },
  {
   "cell_type": "code",
   "execution_count": 190,
   "id": "9f069450-a667-4f01-8c2d-a08650acc892",
   "metadata": {},
   "outputs": [
    {
     "data": {
      "text/html": [
       "<span class=\"tex2jax_ignore\"><div class=\"entities\" style=\"line-height: 2.5; direction: ltr\">Too Much Progress for Piperock                     Too Much Progress for Piperock                            by \n",
       "<mark class=\"entity\" style=\"background: #aa9cfc; padding: 0.45em 0.6em; margin: 0 0.25em; line-height: 1; border-radius: 0.35em;\">\n",
       "    W. C. Tuttle      Author\n",
       "    <span style=\"font-size: 0.8em; font-weight: bold; line-height: 1; border-radius: 0.35em; vertical-align: middle; margin-left: 0.5rem\">PERSON</span>\n",
       "</mark>\n",
       " of “\n",
       "<mark class=\"entity\" style=\"background: #f0d0ff; padding: 0.45em 0.6em; margin: 0 0.25em; line-height: 1; border-radius: 0.35em;\">\n",
       "    Law Rustlers\n",
       "    <span style=\"font-size: 0.8em; font-weight: bold; line-height: 1; border-radius: 0.35em; vertical-align: middle; margin-left: 0.5rem\">WORK_OF_ART</span>\n",
       "</mark>\n",
       ",” “\n",
       "<mark class=\"entity\" style=\"background: #f0d0ff; padding: 0.45em 0.6em; margin: 0 0.25em; line-height: 1; border-radius: 0.35em;\">\n",
       "    The Spark of Skeeter Bill\n",
       "    <span style=\"font-size: 0.8em; font-weight: bold; line-height: 1; border-radius: 0.35em; vertical-align: middle; margin-left: 0.5rem\">WORK_OF_ART</span>\n",
       "</mark>\n",
       ",” etc.I never seen anything like her before--not alive. \n",
       "<mark class=\"entity\" style=\"background: #e4e7d2; padding: 0.45em 0.6em; margin: 0 0.25em; line-height: 1; border-radius: 0.35em;\">\n",
       "    One\n",
       "    <span style=\"font-size: 0.8em; font-weight: bold; line-height: 1; border-radius: 0.35em; vertical-align: middle; margin-left: 0.5rem\">CARDINAL</span>\n",
       "</mark>\n",
       " time I found apiece of an old fashion magazine, and there was a picture of a female inthat--a female that some feller drawed; but I just figured that it \n",
       "<mark class=\"entity\" style=\"background: #aa9cfc; padding: 0.45em 0.6em; margin: 0 0.25em; line-height: 1; border-radius: 0.35em;\">\n",
       "    wasall\n",
       "    <span style=\"font-size: 0.8em; font-weight: bold; line-height: 1; border-radius: 0.35em; vertical-align: middle; margin-left: 0.5rem\">PERSON</span>\n",
       "</mark>\n",
       " imagination with him. I take one look at this live female and then Itakes off my hat to the artist.She said she was an artist. What in ---- anybody could find to draw inYaller \n",
       "<mark class=\"entity\" style=\"background: #feca74; padding: 0.45em 0.6em; margin: 0 0.25em; line-height: 1; border-radius: 0.35em;\">\n",
       "    Rock County\n",
       "    <span style=\"font-size: 0.8em; font-weight: bold; line-height: 1; border-radius: 0.35em; vertical-align: middle; margin-left: 0.5rem\">GPE</span>\n",
       "</mark>\n",
       "--except guns--was more than I could see. Me and“Magpie” \n",
       "<mark class=\"entity\" style=\"background: #aa9cfc; padding: 0.45em 0.6em; margin: 0 0.25em; line-height: 1; border-radius: 0.35em;\">\n",
       "    Simpkins\n",
       "    <span style=\"font-size: 0.8em; font-weight: bold; line-height: 1; border-radius: 0.35em; vertical-align: middle; margin-left: 0.5rem\">PERSON</span>\n",
       "</mark>\n",
       " was down at \n",
       "<mark class=\"entity\" style=\"background: #ff9561; padding: 0.45em 0.6em; margin: 0 0.25em; line-height: 1; border-radius: 0.35em;\">\n",
       "    Paradise\n",
       "    <span style=\"font-size: 0.8em; font-weight: bold; line-height: 1; border-radius: 0.35em; vertical-align: middle; margin-left: 0.5rem\">LOC</span>\n",
       "</mark>\n",
       ", setting in \n",
       "<mark class=\"entity\" style=\"background: #aa9cfc; padding: 0.45em 0.6em; margin: 0 0.25em; line-height: 1; border-radius: 0.35em;\">\n",
       "    Art Wheeler’s\n",
       "    <span style=\"font-size: 0.8em; font-weight: bold; line-height: 1; border-radius: 0.35em; vertical-align: middle; margin-left: 0.5rem\">PERSON</span>\n",
       "</mark>\n",
       " stage,when she got on, headed for Piperock.Art got \n",
       "<mark class=\"entity\" style=\"background: #e4e7d2; padding: 0.45em 0.6em; margin: 0 0.25em; line-height: 1; border-radius: 0.35em;\">\n",
       "    one\n",
       "    <span style=\"font-size: 0.8em; font-weight: bold; line-height: 1; border-radius: 0.35em; vertical-align: middle; margin-left: 0.5rem\">CARDINAL</span>\n",
       "</mark>\n",
       " look at her and then jackknifed his \n",
       "<mark class=\"entity\" style=\"background: #e4e7d2; padding: 0.45em 0.6em; margin: 0 0.25em; line-height: 1; border-radius: 0.35em;\">\n",
       "    four\n",
       "    <span style=\"font-size: 0.8em; font-weight: bold; line-height: 1; border-radius: 0.35em; vertical-align: middle; margin-left: 0.5rem\">CARDINAL</span>\n",
       "</mark>\n",
       " horses in trying toturn around and go the wrong direction. \n",
       "<mark class=\"entity\" style=\"background: #aa9cfc; padding: 0.45em 0.6em; margin: 0 0.25em; line-height: 1; border-radius: 0.35em;\">\n",
       "    Magpie Simpkins\n",
       "    <span style=\"font-size: 0.8em; font-weight: bold; line-height: 1; border-radius: 0.35em; vertical-align: middle; margin-left: 0.5rem\">PERSON</span>\n",
       "</mark>\n",
       " never took hiseyes off her. \n",
       "<mark class=\"entity\" style=\"background: #7aecec; padding: 0.45em 0.6em; margin: 0 0.25em; line-height: 1; border-radius: 0.35em;\">\n",
       "    Magpie\n",
       "    <span style=\"font-size: 0.8em; font-weight: bold; line-height: 1; border-radius: 0.35em; vertical-align: middle; margin-left: 0.5rem\">ORG</span>\n",
       "</mark>\n",
       "’s old enough to know better, but he didn’t seem to.\n",
       "<mark class=\"entity\" style=\"background: #aa9cfc; padding: 0.45em 0.6em; margin: 0 0.25em; line-height: 1; border-radius: 0.35em;\">\n",
       "    Art\n",
       "    <span style=\"font-size: 0.8em; font-weight: bold; line-height: 1; border-radius: 0.35em; vertical-align: middle; margin-left: 0.5rem\">PERSON</span>\n",
       "</mark>\n",
       "’s eyes don’t foller the road much, with the result that he runs afront wheel off Calamity grade and danged near sends us all to our finaldestination.She said her name was \n",
       "<mark class=\"entity\" style=\"background: #aa9cfc; padding: 0.45em 0.6em; margin: 0 0.25em; line-height: 1; border-radius: 0.35em;\">\n",
       "    Henrietta Harrison\n",
       "    <span style=\"font-size: 0.8em; font-weight: bold; line-height: 1; border-radius: 0.35em; vertical-align: middle; margin-left: 0.5rem\">PERSON</span>\n",
       "</mark>\n",
       ". Art pulls up for a breathingspell at \n",
       "<mark class=\"entity\" style=\"background: #9cc9cc; padding: 0.45em 0.6em; margin: 0 0.25em; line-height: 1; border-radius: 0.35em;\">\n",
       "    Cottonwood Crick\n",
       "    <span style=\"font-size: 0.8em; font-weight: bold; line-height: 1; border-radius: 0.35em; vertical-align: middle; margin-left: 0.5rem\">FAC</span>\n",
       "</mark>\n",
       ", and we stops in the shade of a tree. Shelooks at the big tree and then she says--    “Under the greenwood tree    Who loves to lie with me,    And tune his merry note    Unto the sweet bird’s throat----”“Me,” says \n",
       "<mark class=\"entity\" style=\"background: #c887fb; padding: 0.45em 0.6em; margin: 0 0.25em; line-height: 1; border-radius: 0.35em;\">\n",
       "    Magpie\n",
       "    <span style=\"font-size: 0.8em; font-weight: bold; line-height: 1; border-radius: 0.35em; vertical-align: middle; margin-left: 0.5rem\">NORP</span>\n",
       "</mark>\n",
       ", kinda foolish-like.“You!” snorts \n",
       "<mark class=\"entity\" style=\"background: #aa9cfc; padding: 0.45em 0.6em; margin: 0 0.25em; line-height: 1; border-radius: 0.35em;\">\n",
       "    Art\n",
       "    <span style=\"font-size: 0.8em; font-weight: bold; line-height: 1; border-radius: 0.35em; vertical-align: middle; margin-left: 0.5rem\">PERSON</span>\n",
       "</mark>\n",
       ". “Tune your merry note! Haw! Haw! Haw! You could‘lie----’”“Mebbe you could!” says \n",
       "<mark class=\"entity\" style=\"background: #aa9cfc; padding: 0.45em 0.6em; margin: 0 0.25em; line-height: 1; border-radius: 0.35em;\">\n",
       "    Magpie\n",
       "    <span style=\"font-size: 0.8em; font-weight: bold; line-height: 1; border-radius: 0.35em; vertical-align: middle; margin-left: 0.5rem\">PERSON</span>\n",
       "</mark>\n",
       ", mean-like. “But your wife wouldn’t letyuh.”“Set down, you ancient he buzzards!” I yelps. “Ain’t yuh got no sense?”“I don’t understand,” says \n",
       "<mark class=\"entity\" style=\"background: #7aecec; padding: 0.45em 0.6em; margin: 0 0.25em; line-height: 1; border-radius: 0.35em;\">\n",
       "    Henrietta\n",
       "    <span style=\"font-size: 0.8em; font-weight: bold; line-height: 1; border-radius: 0.35em; vertical-align: middle; margin-left: 0.5rem\">ORG</span>\n",
       "</mark>\n",
       ".“Nobody does,” says I, consoling her. “If we did, we’d know whether tolynch ’em or send ’em to \n",
       "<mark class=\"entity\" style=\"background: #7aecec; padding: 0.45em 0.6em; margin: 0 0.25em; line-height: 1; border-radius: 0.35em;\">\n",
       "    the loco lodge\n",
       "    <span style=\"font-size: 0.8em; font-weight: bold; line-height: 1; border-radius: 0.35em; vertical-align: middle; margin-left: 0.5rem\">ORG</span>\n",
       "</mark>\n",
       ", \n",
       "<mark class=\"entity\" style=\"background: #f0d0ff; padding: 0.45em 0.6em; margin: 0 0.25em; line-height: 1; border-radius: 0.35em;\">\n",
       "    ma’am\n",
       "    <span style=\"font-size: 0.8em; font-weight: bold; line-height: 1; border-radius: 0.35em; vertical-align: middle; margin-left: 0.5rem\">WORK_OF_ART</span>\n",
       "</mark>\n",
       ".”“Magpie makes me tired,” declares \n",
       "<mark class=\"entity\" style=\"background: #aa9cfc; padding: 0.45em 0.6em; margin: 0 0.25em; line-height: 1; border-radius: 0.35em;\">\n",
       "    Art\n",
       "    <span style=\"font-size: 0.8em; font-weight: bold; line-height: 1; border-radius: 0.35em; vertical-align: middle; margin-left: 0.5rem\">PERSON</span>\n",
       "</mark>\n",
       ". “Any time he wants to tune \n",
       "<mark class=\"entity\" style=\"background: #aa9cfc; padding: 0.45em 0.6em; margin: 0 0.25em; line-height: 1; border-radius: 0.35em;\">\n",
       "    hisnote----”“It\n",
       "    <span style=\"font-size: 0.8em; font-weight: bold; line-height: 1; border-radius: 0.35em; vertical-align: middle; margin-left: 0.5rem\">PERSON</span>\n",
       "</mark>\n",
       "’s my note, Mister \n",
       "<mark class=\"entity\" style=\"background: #aa9cfc; padding: 0.45em 0.6em; margin: 0 0.25em; line-height: 1; border-radius: 0.35em;\">\n",
       "    Wheeler\n",
       "    <span style=\"font-size: 0.8em; font-weight: bold; line-height: 1; border-radius: 0.35em; vertical-align: middle; margin-left: 0.5rem\">PERSON</span>\n",
       "</mark>\n",
       ". If I want to tune my own \n",
       "<mark class=\"entity\" style=\"background: #aa9cfc; padding: 0.45em 0.6em; margin: 0 0.25em; line-height: 1; border-radius: 0.35em;\">\n",
       "    note----”“I\n",
       "    <span style=\"font-size: 0.8em; font-weight: bold; line-height: 1; border-radius: 0.35em; vertical-align: middle; margin-left: 0.5rem\">PERSON</span>\n",
       "</mark>\n",
       " was merely quoting \n",
       "<mark class=\"entity\" style=\"background: #aa9cfc; padding: 0.45em 0.6em; margin: 0 0.25em; line-height: 1; border-radius: 0.35em;\">\n",
       "    Shakespeare\n",
       "    <span style=\"font-size: 0.8em; font-weight: bold; line-height: 1; border-radius: 0.35em; vertical-align: middle; margin-left: 0.5rem\">PERSON</span>\n",
       "</mark>\n",
       ",” says the lady.“Giddap, broncs!” says \n",
       "<mark class=\"entity\" style=\"background: #aa9cfc; padding: 0.45em 0.6em; margin: 0 0.25em; line-height: 1; border-radius: 0.35em;\">\n",
       "    Art Wheeler\n",
       "    <span style=\"font-size: 0.8em; font-weight: bold; line-height: 1; border-radius: 0.35em; vertical-align: middle; margin-left: 0.5rem\">PERSON</span>\n",
       "</mark>\n",
       ", and we rocked on into \n",
       "<mark class=\"entity\" style=\"background: #feca74; padding: 0.45em 0.6em; margin: 0 0.25em; line-height: 1; border-radius: 0.35em;\">\n",
       "    Piperock\n",
       "    <span style=\"font-size: 0.8em; font-weight: bold; line-height: 1; border-radius: 0.35em; vertical-align: middle; margin-left: 0.5rem\">GPE</span>\n",
       "</mark>\n",
       ".I’ll tell you right here and now; beauty ain’t even skin deep inPiperock. We’ve got wimmin folks--that is, some has--but nobody everkidnaped any of ’em.If they belonged to me I’d trust ’em with any man.There’s Mrs. “Wick” Smith, who jars the hay-scales to \n",
       "<mark class=\"entity\" style=\"background: #e4e7d2; padding: 0.45em 0.6em; margin: 0 0.25em; line-height: 1; border-radius: 0.35em;\">\n",
       "    two hundred\n",
       "    <span style=\"font-size: 0.8em; font-weight: bold; line-height: 1; border-radius: 0.35em; vertical-align: middle; margin-left: 0.5rem\">CARDINAL</span>\n",
       "</mark>\n",
       " andseventy-five, and wheezes plentiful. \n",
       "<mark class=\"entity\" style=\"background: #aa9cfc; padding: 0.45em 0.6em; margin: 0 0.25em; line-height: 1; border-radius: 0.35em;\">\n",
       "    Art Wheeler’s\n",
       "    <span style=\"font-size: 0.8em; font-weight: bold; line-height: 1; border-radius: 0.35em; vertical-align: middle; margin-left: 0.5rem\">PERSON</span>\n",
       "</mark>\n",
       " better half tasted oflife and found it sour, and never got the acid out of her system. Mrs.“Testament” \n",
       "<mark class=\"entity\" style=\"background: #aa9cfc; padding: 0.45em 0.6em; margin: 0 0.25em; line-height: 1; border-radius: 0.35em;\">\n",
       "    Tilton\n",
       "    <span style=\"font-size: 0.8em; font-weight: bold; line-height: 1; border-radius: 0.35em; vertical-align: middle; margin-left: 0.5rem\">PERSON</span>\n",
       "</mark>\n",
       " looks upward for guidance in all matters except whenit comes to flattering \n",
       "<mark class=\"entity\" style=\"background: #7aecec; padding: 0.45em 0.6em; margin: 0 0.25em; line-height: 1; border-radius: 0.35em;\">\n",
       "    Testament\n",
       "    <span style=\"font-size: 0.8em; font-weight: bold; line-height: 1; border-radius: 0.35em; vertical-align: middle; margin-left: 0.5rem\">ORG</span>\n",
       "</mark>\n",
       "’s head with a skillet. When Mrs. \n",
       "<mark class=\"entity\" style=\"background: #aa9cfc; padding: 0.45em 0.6em; margin: 0 0.25em; line-height: 1; border-radius: 0.35em;\">\n",
       "    PeteGonyer\n",
       "    <span style=\"font-size: 0.8em; font-weight: bold; line-height: 1; border-radius: 0.35em; vertical-align: middle; margin-left: 0.5rem\">PERSON</span>\n",
       "</mark>\n",
       " is in sight, \n",
       "<mark class=\"entity\" style=\"background: #aa9cfc; padding: 0.45em 0.6em; margin: 0 0.25em; line-height: 1; border-radius: 0.35em;\">\n",
       "    Pete\n",
       "    <span style=\"font-size: 0.8em; font-weight: bold; line-height: 1; border-radius: 0.35em; vertical-align: middle; margin-left: 0.5rem\">PERSON</span>\n",
       "</mark>\n",
       "’s voice sinks \n",
       "<mark class=\"entity\" style=\"background: #e4e7d2; padding: 0.45em 0.6em; margin: 0 0.25em; line-height: 1; border-radius: 0.35em;\">\n",
       "    seventeen inches\n",
       "    <span style=\"font-size: 0.8em; font-weight: bold; line-height: 1; border-radius: 0.35em; vertical-align: middle; margin-left: 0.5rem\">QUANTITY</span>\n",
       "</mark>\n",
       " below a whisper.Somebody remarks \n",
       "<mark class=\"entity\" style=\"background: #bfe1d9; padding: 0.45em 0.6em; margin: 0 0.25em; line-height: 1; border-radius: 0.35em;\">\n",
       "    one day\n",
       "    <span style=\"font-size: 0.8em; font-weight: bold; line-height: 1; border-radius: 0.35em; vertical-align: middle; margin-left: 0.5rem\">DATE</span>\n",
       "</mark>\n",
       " that \n",
       "<mark class=\"entity\" style=\"background: #aa9cfc; padding: 0.45em 0.6em; margin: 0 0.25em; line-height: 1; border-radius: 0.35em;\">\n",
       "    Pete\n",
       "    <span style=\"font-size: 0.8em; font-weight: bold; line-height: 1; border-radius: 0.35em; vertical-align: middle; margin-left: 0.5rem\">PERSON</span>\n",
       "</mark>\n",
       "’s kinda henpecked.“Henpecked, ----!” says \n",
       "<mark class=\"entity\" style=\"background: #aa9cfc; padding: 0.45em 0.6em; margin: 0 0.25em; line-height: 1; border-radius: 0.35em;\">\n",
       "    Pete\n",
       "    <span style=\"font-size: 0.8em; font-weight: bold; line-height: 1; border-radius: 0.35em; vertical-align: middle; margin-left: 0.5rem\">PERSON</span>\n",
       "</mark>\n",
       ". “Orstrich--if there ain’t nothin’ biggerwhat wears feathers.”Mrs. \n",
       "<mark class=\"entity\" style=\"background: #aa9cfc; padding: 0.45em 0.6em; margin: 0 0.25em; line-height: 1; border-radius: 0.35em;\">\n",
       "    Steele\n",
       "    <span style=\"font-size: 0.8em; font-weight: bold; line-height: 1; border-radius: 0.35em; vertical-align: middle; margin-left: 0.5rem\">PERSON</span>\n",
       "</mark>\n",
       ", the wife of our legal light, is \n",
       "<mark class=\"entity\" style=\"background: #e4e7d2; padding: 0.45em 0.6em; margin: 0 0.25em; line-height: 1; border-radius: 0.35em;\">\n",
       "    six feet two inches\n",
       "    <span style=\"font-size: 0.8em; font-weight: bold; line-height: 1; border-radius: 0.35em; vertical-align: middle; margin-left: 0.5rem\">QUANTITY</span>\n",
       "</mark>\n",
       " tall,and she’s always \n",
       "<mark class=\"entity\" style=\"background: #aa9cfc; padding: 0.45em 0.6em; margin: 0 0.25em; line-height: 1; border-radius: 0.35em;\">\n",
       "    oratin\n",
       "    <span style=\"font-size: 0.8em; font-weight: bold; line-height: 1; border-radius: 0.35em; vertical-align: middle; margin-left: 0.5rem\">PERSON</span>\n",
       "</mark>\n",
       "’ about the sanctity of the home, whatever thatis. \n",
       "<mark class=\"entity\" style=\"background: #e4e7d2; padding: 0.45em 0.6em; margin: 0 0.25em; line-height: 1; border-radius: 0.35em;\">\n",
       "    One\n",
       "    <span style=\"font-size: 0.8em; font-weight: bold; line-height: 1; border-radius: 0.35em; vertical-align: middle; margin-left: 0.5rem\">CARDINAL</span>\n",
       "</mark>\n",
       " cinch, the prize never hands down any decisions in his own home.Mrs. \n",
       "<mark class=\"entity\" style=\"background: #aa9cfc; padding: 0.45em 0.6em; margin: 0 0.25em; line-height: 1; border-radius: 0.35em;\">\n",
       "    Sam Holt\n",
       "    <span style=\"font-size: 0.8em; font-weight: bold; line-height: 1; border-radius: 0.35em; vertical-align: middle; margin-left: 0.5rem\">PERSON</span>\n",
       "</mark>\n",
       " goes through life worrying about somebody alienating theaffections of old \n",
       "<mark class=\"entity\" style=\"background: #aa9cfc; padding: 0.45em 0.6em; margin: 0 0.25em; line-height: 1; border-radius: 0.35em;\">\n",
       "    Sam\n",
       "    <span style=\"font-size: 0.8em; font-weight: bold; line-height: 1; border-radius: 0.35em; vertical-align: middle; margin-left: 0.5rem\">PERSON</span>\n",
       "</mark>\n",
       ", who can barely hear himself yell, and has to eathis spuds mashed or miss the taste of ’em.There’s the \n",
       "<mark class=\"entity\" style=\"background: #aa9cfc; padding: 0.45em 0.6em; margin: 0 0.25em; line-height: 1; border-radius: 0.35em;\">\n",
       "    Mudgett\n",
       "    <span style=\"font-size: 0.8em; font-weight: bold; line-height: 1; border-radius: 0.35em; vertical-align: middle; margin-left: 0.5rem\">PERSON</span>\n",
       "</mark>\n",
       " sisters, who must ’a’ been the originals of thefirst cartoon of “\n",
       "<mark class=\"entity\" style=\"background: #f0d0ff; padding: 0.45em 0.6em; margin: 0 0.25em; line-height: 1; border-radius: 0.35em;\">\n",
       "    Miss Democracy\n",
       "    <span style=\"font-size: 0.8em; font-weight: bold; line-height: 1; border-radius: 0.35em; vertical-align: middle; margin-left: 0.5rem\">WORK_OF_ART</span>\n",
       "</mark>\n",
       ".” \n",
       "<mark class=\"entity\" style=\"background: #7aecec; padding: 0.45em 0.6em; margin: 0 0.25em; line-height: 1; border-radius: 0.35em;\">\n",
       "    Cupid\n",
       "    <span style=\"font-size: 0.8em; font-weight: bold; line-height: 1; border-radius: 0.35em; vertical-align: middle; margin-left: 0.5rem\">ORG</span>\n",
       "</mark>\n",
       " would have to use a .30-30 ifhe went to work for them. Scattered around the range is a occasionalfemale, but nothing that you’d bet your money on in a beauty contest.\n",
       "<mark class=\"entity\" style=\"background: #aa9cfc; padding: 0.45em 0.6em; margin: 0 0.25em; line-height: 1; border-radius: 0.35em;\">\n",
       "    Annie Schmidt\n",
       "    <span style=\"font-size: 0.8em; font-weight: bold; line-height: 1; border-radius: 0.35em; vertical-align: middle; margin-left: 0.5rem\">PERSON</span>\n",
       "</mark>\n",
       " is cooking for the \n",
       "<mark class=\"entity\" style=\"background: #7aecec; padding: 0.45em 0.6em; margin: 0 0.25em; line-height: 1; border-radius: 0.35em;\">\n",
       "    Triangle\n",
       "    <span style=\"font-size: 0.8em; font-weight: bold; line-height: 1; border-radius: 0.35em; vertical-align: middle; margin-left: 0.5rem\">ORG</span>\n",
       "</mark>\n",
       " outfit, but the same don’tseem to cause any of the other ranches to go short of help.</div></span>"
      ],
      "text/plain": [
       "<IPython.core.display.HTML object>"
      ]
     },
     "metadata": {},
     "output_type": "display_data"
    }
   ],
   "source": [
    "spacy_chapters_data = [nlp(chapter) for chapter in chapters_data]\n",
    "\n",
    "displacy.render(spacy_chapters_data[0], style='ent')"
   ]
  },
  {
   "cell_type": "markdown",
   "id": "b589a648-976a-4d9e-94c5-45fa9d94836a",
   "metadata": {},
   "source": [
    "#### Parts of speech analysis"
   ]
  },
  {
   "cell_type": "code",
   "execution_count": 191,
   "id": "b3c7d978-5634-4789-8cb7-97d404d268cc",
   "metadata": {},
   "outputs": [],
   "source": [
    "parts_of_speech_count = {}\n",
    "\n",
    "for chapter in spacy_chapters_data:\n",
    "    for token in chapter:\n",
    "        parts_of_speech_count[token.pos_] = parts_of_speech_count.get(token.pos_, 0) + 1"
   ]
  },
  {
   "cell_type": "markdown",
   "id": "d94a5a53-ebd2-4b50-9c8c-8a207975b003",
   "metadata": {},
   "source": [
    "Most common parts of speech"
   ]
  },
  {
   "cell_type": "code",
   "execution_count": 192,
   "id": "3438a129-66a7-4a00-9aa1-fc02125d0e31",
   "metadata": {},
   "outputs": [
    {
     "data": {
      "text/plain": [
       "[('PUNCT', 2728),\n",
       " ('NOUN', 2322),\n",
       " ('VERB', 1999),\n",
       " ('PROPN', 1615),\n",
       " ('ADP', 1333)]"
      ]
     },
     "execution_count": 192,
     "metadata": {},
     "output_type": "execute_result"
    }
   ],
   "source": [
    "sorted(parts_of_speech_count.items(), key=lambda x: x[1], reverse=True)[:5]"
   ]
  },
  {
   "cell_type": "markdown",
   "id": "3abebc6a-9e17-4559-80bf-c252947100d3",
   "metadata": {},
   "source": [
    "Uncommon parts of speech"
   ]
  },
  {
   "cell_type": "code",
   "execution_count": 193,
   "id": "c11fef1a-19d1-4142-b261-148c762bd570",
   "metadata": {},
   "outputs": [
    {
     "data": {
      "text/plain": [
       "[('SYM', 6), ('X', 24), ('SPACE', 43), ('INTJ', 49), ('NUM', 160)]"
      ]
     },
     "execution_count": 193,
     "metadata": {},
     "output_type": "execute_result"
    }
   ],
   "source": [
    "sorted(parts_of_speech_count.items(), key=lambda x: x[1], reverse=False)[:5]"
   ]
  },
  {
   "cell_type": "markdown",
   "id": "ddcee3ce-990f-4981-a258-913c977f2313",
   "metadata": {},
   "source": [
    "* The high frequency of punctuation marks suggests that the text may be well-structured with clear delineations between sentences, clauses, or phrases.\n",
    "* And high occurance of nouns and verbs indicates that the text likely focuses heavily on conveying information, descriptions, or actions.\n",
    "* Parts of speech such as `Symbols`, `Unknown`, `Space`, `Interjections` and `Numbers` often appear less frequently in a text corpus, such a similar pattern is also observed here."
   ]
  },
  {
   "cell_type": "markdown",
   "id": "8832f001-8c20-4bd0-a02d-aa15c7cc640f",
   "metadata": {
    "id": "8832f001-8c20-4bd0-a02d-aa15c7cc640f"
   },
   "source": [
    "## Exercise 2\n",
    "\n",
    "Apply spaCy to extract the most meaningful content from your documents, considering options like excluding stop words or focusing on nouns (i.e. preprocessing and filtering).\n",
    "\n",
    "Perform a sentiment analysis on the refined data. Create visualization of your result.\n",
    "\n",
    "Summarize your results by explaining how sentiment changes across sections."
   ]
  },
  {
   "cell_type": "code",
   "execution_count": 210,
   "id": "285b7465",
   "metadata": {},
   "outputs": [],
   "source": [
    "def removeStopWords(chapter_data):\n",
    "    result = []\n",
    "    for token in chapter_data:\n",
    "        if not token.is_stop:\n",
    "            result.append(str(token))\n",
    "    return \" \".join(result)\n",
    "\n",
    "spacy_chapters_data_filtered = [removeStopWords(chapter) for chapter in spacy_chapters_data]"
   ]
  },
  {
   "cell_type": "code",
   "execution_count": 218,
   "id": "c1e6343e-98e0-4d0c-85a1-6a94ee6bec9b",
   "metadata": {},
   "outputs": [
    {
     "data": {
      "text/plain": [
       "{'Chapter 1': {'neg': 0.029, 'neu': 0.844, 'pos': 0.127, 'compound': 0.9937},\n",
       " 'Chapter 2': {'neg': 0.032, 'neu': 0.897, 'pos': 0.071, 'compound': 0.9572},\n",
       " 'Chapter 3': {'neg': 0.035, 'neu': 0.853, 'pos': 0.112, 'compound': 0.9947},\n",
       " 'Chapter 4': {'neg': 0.057, 'neu': 0.809, 'pos': 0.134, 'compound': 0.9938},\n",
       " 'Chapter 5': {'neg': 0.059, 'neu': 0.867, 'pos': 0.074, 'compound': 0.7923},\n",
       " 'Chapter 6': {'neg': 0.052, 'neu': 0.849, 'pos': 0.099, 'compound': 0.9879},\n",
       " 'Chapter 7': {'neg': 0.053, 'neu': 0.845, 'pos': 0.102, 'compound': 0.9804},\n",
       " 'Chapter 8': {'neg': 0.123, 'neu': 0.799, 'pos': 0.079, 'compound': -0.9604},\n",
       " 'Chapter 9': {'neg': 0.072, 'neu': 0.865, 'pos': 0.063, 'compound': -0.593},\n",
       " 'Chapter 10': {'neg': 0.098, 'neu': 0.796, 'pos': 0.106, 'compound': 0.7174},\n",
       " 'Chapter 11': {'neg': 0.107, 'neu': 0.82, 'pos': 0.073, 'compound': -0.9062},\n",
       " 'Chapter 12': {'neg': 0.092, 'neu': 0.843, 'pos': 0.065, 'compound': -0.9718},\n",
       " 'Chapter 13': {'neg': 0.04, 'neu': 0.893, 'pos': 0.067, 'compound': 0.8809},\n",
       " 'Chapter 14': {'neg': 0.078, 'neu': 0.842, 'pos': 0.08, 'compound': -0.4489},\n",
       " 'Chapter 15': {'neg': 0.048, 'neu': 0.829, 'pos': 0.124, 'compound': 0.9995}}"
      ]
     },
     "execution_count": 218,
     "metadata": {},
     "output_type": "execute_result"
    }
   ],
   "source": [
    "analyzer = SentimentIntensityAnalyzer()\n",
    "\n",
    "analyzer.polarity_scores(sentence)\n",
    "\n",
    "sentiment_scores = {f\"Chapter {i}\":analyzer.polarity_scores(chapter) for i, chapter in enumerate(spacy_chapters_data_filtered, start=1)}\n",
    "sentiment_scores"
   ]
  },
  {
   "cell_type": "markdown",
   "id": "b7971436-ec4c-486e-af03-eb2f13533f9f",
   "metadata": {},
   "source": [
    "To reduce visual clutter let's plot the visualization in 3 different parts (Chapters 1-5, 5-10 and 10-15)"
   ]
  },
  {
   "cell_type": "code",
   "execution_count": 220,
   "id": "9a3b5eeb-096c-42ec-a562-e8a4915e2066",
   "metadata": {},
   "outputs": [
    {
     "data": {
      "application/vnd.plotly.v1+json": {
       "config": {
        "plotlyServerURL": "https://plot.ly"
       },
       "data": [
        {
         "name": "Negative",
         "type": "bar",
         "x": [
          "Chapter 1",
          "Chapter 2",
          "Chapter 3",
          "Chapter 4",
          "Chapter 5"
         ],
         "y": [
          0.029,
          0.032,
          0.035,
          0.057,
          0.059
         ]
        },
        {
         "name": "Neutral",
         "type": "bar",
         "x": [
          "Chapter 1",
          "Chapter 2",
          "Chapter 3",
          "Chapter 4",
          "Chapter 5"
         ],
         "y": [
          0.844,
          0.897,
          0.853,
          0.809,
          0.867
         ]
        },
        {
         "name": "Positive",
         "type": "bar",
         "x": [
          "Chapter 1",
          "Chapter 2",
          "Chapter 3",
          "Chapter 4",
          "Chapter 5"
         ],
         "y": [
          0.127,
          0.071,
          0.112,
          0.134,
          0.074
         ]
        },
        {
         "name": "Compound",
         "type": "bar",
         "x": [
          "Chapter 1",
          "Chapter 2",
          "Chapter 3",
          "Chapter 4",
          "Chapter 5"
         ],
         "y": [
          0.9937,
          0.9572,
          0.9947,
          0.9938,
          0.7923
         ]
        }
       ],
       "layout": {
        "autosize": true,
        "barmode": "group",
        "template": {
         "data": {
          "bar": [
           {
            "error_x": {
             "color": "#2a3f5f"
            },
            "error_y": {
             "color": "#2a3f5f"
            },
            "marker": {
             "line": {
              "color": "#E5ECF6",
              "width": 0.5
             },
             "pattern": {
              "fillmode": "overlay",
              "size": 10,
              "solidity": 0.2
             }
            },
            "type": "bar"
           }
          ],
          "barpolar": [
           {
            "marker": {
             "line": {
              "color": "#E5ECF6",
              "width": 0.5
             },
             "pattern": {
              "fillmode": "overlay",
              "size": 10,
              "solidity": 0.2
             }
            },
            "type": "barpolar"
           }
          ],
          "carpet": [
           {
            "aaxis": {
             "endlinecolor": "#2a3f5f",
             "gridcolor": "white",
             "linecolor": "white",
             "minorgridcolor": "white",
             "startlinecolor": "#2a3f5f"
            },
            "baxis": {
             "endlinecolor": "#2a3f5f",
             "gridcolor": "white",
             "linecolor": "white",
             "minorgridcolor": "white",
             "startlinecolor": "#2a3f5f"
            },
            "type": "carpet"
           }
          ],
          "choropleth": [
           {
            "colorbar": {
             "outlinewidth": 0,
             "ticks": ""
            },
            "type": "choropleth"
           }
          ],
          "contour": [
           {
            "colorbar": {
             "outlinewidth": 0,
             "ticks": ""
            },
            "colorscale": [
             [
              0,
              "#0d0887"
             ],
             [
              0.1111111111111111,
              "#46039f"
             ],
             [
              0.2222222222222222,
              "#7201a8"
             ],
             [
              0.3333333333333333,
              "#9c179e"
             ],
             [
              0.4444444444444444,
              "#bd3786"
             ],
             [
              0.5555555555555556,
              "#d8576b"
             ],
             [
              0.6666666666666666,
              "#ed7953"
             ],
             [
              0.7777777777777778,
              "#fb9f3a"
             ],
             [
              0.8888888888888888,
              "#fdca26"
             ],
             [
              1,
              "#f0f921"
             ]
            ],
            "type": "contour"
           }
          ],
          "contourcarpet": [
           {
            "colorbar": {
             "outlinewidth": 0,
             "ticks": ""
            },
            "type": "contourcarpet"
           }
          ],
          "heatmap": [
           {
            "colorbar": {
             "outlinewidth": 0,
             "ticks": ""
            },
            "colorscale": [
             [
              0,
              "#0d0887"
             ],
             [
              0.1111111111111111,
              "#46039f"
             ],
             [
              0.2222222222222222,
              "#7201a8"
             ],
             [
              0.3333333333333333,
              "#9c179e"
             ],
             [
              0.4444444444444444,
              "#bd3786"
             ],
             [
              0.5555555555555556,
              "#d8576b"
             ],
             [
              0.6666666666666666,
              "#ed7953"
             ],
             [
              0.7777777777777778,
              "#fb9f3a"
             ],
             [
              0.8888888888888888,
              "#fdca26"
             ],
             [
              1,
              "#f0f921"
             ]
            ],
            "type": "heatmap"
           }
          ],
          "heatmapgl": [
           {
            "colorbar": {
             "outlinewidth": 0,
             "ticks": ""
            },
            "colorscale": [
             [
              0,
              "#0d0887"
             ],
             [
              0.1111111111111111,
              "#46039f"
             ],
             [
              0.2222222222222222,
              "#7201a8"
             ],
             [
              0.3333333333333333,
              "#9c179e"
             ],
             [
              0.4444444444444444,
              "#bd3786"
             ],
             [
              0.5555555555555556,
              "#d8576b"
             ],
             [
              0.6666666666666666,
              "#ed7953"
             ],
             [
              0.7777777777777778,
              "#fb9f3a"
             ],
             [
              0.8888888888888888,
              "#fdca26"
             ],
             [
              1,
              "#f0f921"
             ]
            ],
            "type": "heatmapgl"
           }
          ],
          "histogram": [
           {
            "marker": {
             "pattern": {
              "fillmode": "overlay",
              "size": 10,
              "solidity": 0.2
             }
            },
            "type": "histogram"
           }
          ],
          "histogram2d": [
           {
            "colorbar": {
             "outlinewidth": 0,
             "ticks": ""
            },
            "colorscale": [
             [
              0,
              "#0d0887"
             ],
             [
              0.1111111111111111,
              "#46039f"
             ],
             [
              0.2222222222222222,
              "#7201a8"
             ],
             [
              0.3333333333333333,
              "#9c179e"
             ],
             [
              0.4444444444444444,
              "#bd3786"
             ],
             [
              0.5555555555555556,
              "#d8576b"
             ],
             [
              0.6666666666666666,
              "#ed7953"
             ],
             [
              0.7777777777777778,
              "#fb9f3a"
             ],
             [
              0.8888888888888888,
              "#fdca26"
             ],
             [
              1,
              "#f0f921"
             ]
            ],
            "type": "histogram2d"
           }
          ],
          "histogram2dcontour": [
           {
            "colorbar": {
             "outlinewidth": 0,
             "ticks": ""
            },
            "colorscale": [
             [
              0,
              "#0d0887"
             ],
             [
              0.1111111111111111,
              "#46039f"
             ],
             [
              0.2222222222222222,
              "#7201a8"
             ],
             [
              0.3333333333333333,
              "#9c179e"
             ],
             [
              0.4444444444444444,
              "#bd3786"
             ],
             [
              0.5555555555555556,
              "#d8576b"
             ],
             [
              0.6666666666666666,
              "#ed7953"
             ],
             [
              0.7777777777777778,
              "#fb9f3a"
             ],
             [
              0.8888888888888888,
              "#fdca26"
             ],
             [
              1,
              "#f0f921"
             ]
            ],
            "type": "histogram2dcontour"
           }
          ],
          "mesh3d": [
           {
            "colorbar": {
             "outlinewidth": 0,
             "ticks": ""
            },
            "type": "mesh3d"
           }
          ],
          "parcoords": [
           {
            "line": {
             "colorbar": {
              "outlinewidth": 0,
              "ticks": ""
             }
            },
            "type": "parcoords"
           }
          ],
          "pie": [
           {
            "automargin": true,
            "type": "pie"
           }
          ],
          "scatter": [
           {
            "marker": {
             "colorbar": {
              "outlinewidth": 0,
              "ticks": ""
             }
            },
            "type": "scatter"
           }
          ],
          "scatter3d": [
           {
            "line": {
             "colorbar": {
              "outlinewidth": 0,
              "ticks": ""
             }
            },
            "marker": {
             "colorbar": {
              "outlinewidth": 0,
              "ticks": ""
             }
            },
            "type": "scatter3d"
           }
          ],
          "scattercarpet": [
           {
            "marker": {
             "colorbar": {
              "outlinewidth": 0,
              "ticks": ""
             }
            },
            "type": "scattercarpet"
           }
          ],
          "scattergeo": [
           {
            "marker": {
             "colorbar": {
              "outlinewidth": 0,
              "ticks": ""
             }
            },
            "type": "scattergeo"
           }
          ],
          "scattergl": [
           {
            "marker": {
             "colorbar": {
              "outlinewidth": 0,
              "ticks": ""
             }
            },
            "type": "scattergl"
           }
          ],
          "scattermapbox": [
           {
            "marker": {
             "colorbar": {
              "outlinewidth": 0,
              "ticks": ""
             }
            },
            "type": "scattermapbox"
           }
          ],
          "scatterpolar": [
           {
            "marker": {
             "colorbar": {
              "outlinewidth": 0,
              "ticks": ""
             }
            },
            "type": "scatterpolar"
           }
          ],
          "scatterpolargl": [
           {
            "marker": {
             "colorbar": {
              "outlinewidth": 0,
              "ticks": ""
             }
            },
            "type": "scatterpolargl"
           }
          ],
          "scatterternary": [
           {
            "marker": {
             "colorbar": {
              "outlinewidth": 0,
              "ticks": ""
             }
            },
            "type": "scatterternary"
           }
          ],
          "surface": [
           {
            "colorbar": {
             "outlinewidth": 0,
             "ticks": ""
            },
            "colorscale": [
             [
              0,
              "#0d0887"
             ],
             [
              0.1111111111111111,
              "#46039f"
             ],
             [
              0.2222222222222222,
              "#7201a8"
             ],
             [
              0.3333333333333333,
              "#9c179e"
             ],
             [
              0.4444444444444444,
              "#bd3786"
             ],
             [
              0.5555555555555556,
              "#d8576b"
             ],
             [
              0.6666666666666666,
              "#ed7953"
             ],
             [
              0.7777777777777778,
              "#fb9f3a"
             ],
             [
              0.8888888888888888,
              "#fdca26"
             ],
             [
              1,
              "#f0f921"
             ]
            ],
            "type": "surface"
           }
          ],
          "table": [
           {
            "cells": {
             "fill": {
              "color": "#EBF0F8"
             },
             "line": {
              "color": "white"
             }
            },
            "header": {
             "fill": {
              "color": "#C8D4E3"
             },
             "line": {
              "color": "white"
             }
            },
            "type": "table"
           }
          ]
         },
         "layout": {
          "annotationdefaults": {
           "arrowcolor": "#2a3f5f",
           "arrowhead": 0,
           "arrowwidth": 1
          },
          "autotypenumbers": "strict",
          "coloraxis": {
           "colorbar": {
            "outlinewidth": 0,
            "ticks": ""
           }
          },
          "colorscale": {
           "diverging": [
            [
             0,
             "#8e0152"
            ],
            [
             0.1,
             "#c51b7d"
            ],
            [
             0.2,
             "#de77ae"
            ],
            [
             0.3,
             "#f1b6da"
            ],
            [
             0.4,
             "#fde0ef"
            ],
            [
             0.5,
             "#f7f7f7"
            ],
            [
             0.6,
             "#e6f5d0"
            ],
            [
             0.7,
             "#b8e186"
            ],
            [
             0.8,
             "#7fbc41"
            ],
            [
             0.9,
             "#4d9221"
            ],
            [
             1,
             "#276419"
            ]
           ],
           "sequential": [
            [
             0,
             "#0d0887"
            ],
            [
             0.1111111111111111,
             "#46039f"
            ],
            [
             0.2222222222222222,
             "#7201a8"
            ],
            [
             0.3333333333333333,
             "#9c179e"
            ],
            [
             0.4444444444444444,
             "#bd3786"
            ],
            [
             0.5555555555555556,
             "#d8576b"
            ],
            [
             0.6666666666666666,
             "#ed7953"
            ],
            [
             0.7777777777777778,
             "#fb9f3a"
            ],
            [
             0.8888888888888888,
             "#fdca26"
            ],
            [
             1,
             "#f0f921"
            ]
           ],
           "sequentialminus": [
            [
             0,
             "#0d0887"
            ],
            [
             0.1111111111111111,
             "#46039f"
            ],
            [
             0.2222222222222222,
             "#7201a8"
            ],
            [
             0.3333333333333333,
             "#9c179e"
            ],
            [
             0.4444444444444444,
             "#bd3786"
            ],
            [
             0.5555555555555556,
             "#d8576b"
            ],
            [
             0.6666666666666666,
             "#ed7953"
            ],
            [
             0.7777777777777778,
             "#fb9f3a"
            ],
            [
             0.8888888888888888,
             "#fdca26"
            ],
            [
             1,
             "#f0f921"
            ]
           ]
          },
          "colorway": [
           "#636efa",
           "#EF553B",
           "#00cc96",
           "#ab63fa",
           "#FFA15A",
           "#19d3f3",
           "#FF6692",
           "#B6E880",
           "#FF97FF",
           "#FECB52"
          ],
          "font": {
           "color": "#2a3f5f"
          },
          "geo": {
           "bgcolor": "white",
           "lakecolor": "white",
           "landcolor": "#E5ECF6",
           "showlakes": true,
           "showland": true,
           "subunitcolor": "white"
          },
          "hoverlabel": {
           "align": "left"
          },
          "hovermode": "closest",
          "mapbox": {
           "style": "light"
          },
          "paper_bgcolor": "white",
          "plot_bgcolor": "#E5ECF6",
          "polar": {
           "angularaxis": {
            "gridcolor": "white",
            "linecolor": "white",
            "ticks": ""
           },
           "bgcolor": "#E5ECF6",
           "radialaxis": {
            "gridcolor": "white",
            "linecolor": "white",
            "ticks": ""
           }
          },
          "scene": {
           "xaxis": {
            "backgroundcolor": "#E5ECF6",
            "gridcolor": "white",
            "gridwidth": 2,
            "linecolor": "white",
            "showbackground": true,
            "ticks": "",
            "zerolinecolor": "white"
           },
           "yaxis": {
            "backgroundcolor": "#E5ECF6",
            "gridcolor": "white",
            "gridwidth": 2,
            "linecolor": "white",
            "showbackground": true,
            "ticks": "",
            "zerolinecolor": "white"
           },
           "zaxis": {
            "backgroundcolor": "#E5ECF6",
            "gridcolor": "white",
            "gridwidth": 2,
            "linecolor": "white",
            "showbackground": true,
            "ticks": "",
            "zerolinecolor": "white"
           }
          },
          "shapedefaults": {
           "line": {
            "color": "#2a3f5f"
           }
          },
          "ternary": {
           "aaxis": {
            "gridcolor": "white",
            "linecolor": "white",
            "ticks": ""
           },
           "baxis": {
            "gridcolor": "white",
            "linecolor": "white",
            "ticks": ""
           },
           "bgcolor": "#E5ECF6",
           "caxis": {
            "gridcolor": "white",
            "linecolor": "white",
            "ticks": ""
           }
          },
          "title": {
           "x": 0.05
          },
          "xaxis": {
           "automargin": true,
           "gridcolor": "white",
           "linecolor": "white",
           "ticks": "",
           "title": {
            "standoff": 15
           },
           "zerolinecolor": "white",
           "zerolinewidth": 2
          },
          "yaxis": {
           "automargin": true,
           "gridcolor": "white",
           "linecolor": "white",
           "ticks": "",
           "title": {
            "standoff": 15
           },
           "zerolinecolor": "white",
           "zerolinewidth": 2
          }
         }
        },
        "title": {
         "text": "Sentiment Analysis Scores for Each Chapter"
        },
        "xaxis": {
         "autorange": true,
         "range": [
          -0.5,
          4.5
         ],
         "type": "category"
        },
        "yaxis": {
         "autorange": true,
         "range": [
          0,
          1.0470526315789475
         ],
         "type": "linear"
        }
       }
      },
      "image/png": "[encoded data removed]",
      "text/html": [
       "<div>                            <div id=\"b0e77c09-837a-497e-b4ca-1f8511cb5482\" class=\"plotly-graph-div\" style=\"height:525px; width:100%;\"></div>            <script type=\"text/javascript\">                require([\"plotly\"], function(Plotly) {                    window.PLOTLYENV=window.PLOTLYENV || {};                                    if (document.getElementById(\"b0e77c09-837a-497e-b4ca-1f8511cb5482\")) {                    Plotly.newPlot(                        \"b0e77c09-837a-497e-b4ca-1f8511cb5482\",                        [{\"name\":\"Negative\",\"type\":\"bar\",\"x\":[\"Chapter 1\",\"Chapter 2\",\"Chapter 3\",\"Chapter 4\",\"Chapter 5\"],\"y\":[0.029,0.032,0.035,0.057,0.059]},{\"name\":\"Neutral\",\"type\":\"bar\",\"x\":[\"Chapter 1\",\"Chapter 2\",\"Chapter 3\",\"Chapter 4\",\"Chapter 5\"],\"y\":[0.844,0.897,0.853,0.809,0.867]},{\"name\":\"Positive\",\"type\":\"bar\",\"x\":[\"Chapter 1\",\"Chapter 2\",\"Chapter 3\",\"Chapter 4\",\"Chapter 5\"],\"y\":[0.127,0.071,0.112,0.134,0.074]},{\"name\":\"Compound\",\"type\":\"bar\",\"x\":[\"Chapter 1\",\"Chapter 2\",\"Chapter 3\",\"Chapter 4\",\"Chapter 5\"],\"y\":[0.9937,0.9572,0.9947,0.9938,0.7923]}],                        {\"barmode\":\"group\",\"template\":{\"data\":{\"bar\":[{\"error_x\":{\"color\":\"#2a3f5f\"},\"error_y\":{\"color\":\"#2a3f5f\"},\"marker\":{\"line\":{\"color\":\"#E5ECF6\",\"width\":0.5},\"pattern\":{\"fillmode\":\"overlay\",\"size\":10,\"solidity\":0.2}},\"type\":\"bar\"}],\"barpolar\":[{\"marker\":{\"line\":{\"color\":\"#E5ECF6\",\"width\":0.5},\"pattern\":{\"fillmode\":\"overlay\",\"size\":10,\"solidity\":0.2}},\"type\":\"barpolar\"}],\"carpet\":[{\"aaxis\":{\"endlinecolor\":\"#2a3f5f\",\"gridcolor\":\"white\",\"linecolor\":\"white\",\"minorgridcolor\":\"white\",\"startlinecolor\":\"#2a3f5f\"},\"baxis\":{\"endlinecolor\":\"#2a3f5f\",\"gridcolor\":\"white\",\"linecolor\":\"white\",\"minorgridcolor\":\"white\",\"startlinecolor\":\"#2a3f5f\"},\"type\":\"carpet\"}],\"choropleth\":[{\"colorbar\":{\"outlinewidth\":0,\"ticks\":\"\"},\"type\":\"choropleth\"}],\"contour\":[{\"colorbar\":{\"outlinewidth\":0,\"ticks\":\"\"},\"colorscale\":[[0.0,\"#0d0887\"],[0.1111111111111111,\"#46039f\"],[0.2222222222222222,\"#7201a8\"],[0.3333333333333333,\"#9c179e\"],[0.4444444444444444,\"#bd3786\"],[0.5555555555555556,\"#d8576b\"],[0.6666666666666666,\"#ed7953\"],[0.7777777777777778,\"#fb9f3a\"],[0.8888888888888888,\"#fdca26\"],[1.0,\"#f0f921\"]],\"type\":\"contour\"}],\"contourcarpet\":[{\"colorbar\":{\"outlinewidth\":0,\"ticks\":\"\"},\"type\":\"contourcarpet\"}],\"heatmap\":[{\"colorbar\":{\"outlinewidth\":0,\"ticks\":\"\"},\"colorscale\":[[0.0,\"#0d0887\"],[0.1111111111111111,\"#46039f\"],[0.2222222222222222,\"#7201a8\"],[0.3333333333333333,\"#9c179e\"],[0.4444444444444444,\"#bd3786\"],[0.5555555555555556,\"#d8576b\"],[0.6666666666666666,\"#ed7953\"],[0.7777777777777778,\"#fb9f3a\"],[0.8888888888888888,\"#fdca26\"],[1.0,\"#f0f921\"]],\"type\":\"heatmap\"}],\"heatmapgl\":[{\"colorbar\":{\"outlinewidth\":0,\"ticks\":\"\"},\"colorscale\":[[0.0,\"#0d0887\"],[0.1111111111111111,\"#46039f\"],[0.2222222222222222,\"#7201a8\"],[0.3333333333333333,\"#9c179e\"],[0.4444444444444444,\"#bd3786\"],[0.5555555555555556,\"#d8576b\"],[0.6666666666666666,\"#ed7953\"],[0.7777777777777778,\"#fb9f3a\"],[0.8888888888888888,\"#fdca26\"],[1.0,\"#f0f921\"]],\"type\":\"heatmapgl\"}],\"histogram\":[{\"marker\":{\"pattern\":{\"fillmode\":\"overlay\",\"size\":10,\"solidity\":0.2}},\"type\":\"histogram\"}],\"histogram2d\":[{\"colorbar\":{\"outlinewidth\":0,\"ticks\":\"\"},\"colorscale\":[[0.0,\"#0d0887\"],[0.1111111111111111,\"#46039f\"],[0.2222222222222222,\"#7201a8\"],[0.3333333333333333,\"#9c179e\"],[0.4444444444444444,\"#bd3786\"],[0.5555555555555556,\"#d8576b\"],[0.6666666666666666,\"#ed7953\"],[0.7777777777777778,\"#fb9f3a\"],[0.8888888888888888,\"#fdca26\"],[1.0,\"#f0f921\"]],\"type\":\"histogram2d\"}],\"histogram2dcontour\":[{\"colorbar\":{\"outlinewidth\":0,\"ticks\":\"\"},\"colorscale\":[[0.0,\"#0d0887\"],[0.1111111111111111,\"#46039f\"],[0.2222222222222222,\"#7201a8\"],[0.3333333333333333,\"#9c179e\"],[0.4444444444444444,\"#bd3786\"],[0.5555555555555556,\"#d8576b\"],[0.6666666666666666,\"#ed7953\"],[0.7777777777777778,\"#fb9f3a\"],[0.8888888888888888,\"#fdca26\"],[1.0,\"#f0f921\"]],\"type\":\"histogram2dcontour\"}],\"mesh3d\":[{\"colorbar\":{\"outlinewidth\":0,\"ticks\":\"\"},\"type\":\"mesh3d\"}],\"parcoords\":[{\"line\":{\"colorbar\":{\"outlinewidth\":0,\"ticks\":\"\"}},\"type\":\"parcoords\"}],\"pie\":[{\"automargin\":true,\"type\":\"pie\"}],\"scatter\":[{\"marker\":{\"colorbar\":{\"outlinewidth\":0,\"ticks\":\"\"}},\"type\":\"scatter\"}],\"scatter3d\":[{\"line\":{\"colorbar\":{\"outlinewidth\":0,\"ticks\":\"\"}},\"marker\":{\"colorbar\":{\"outlinewidth\":0,\"ticks\":\"\"}},\"type\":\"scatter3d\"}],\"scattercarpet\":[{\"marker\":{\"colorbar\":{\"outlinewidth\":0,\"ticks\":\"\"}},\"type\":\"scattercarpet\"}],\"scattergeo\":[{\"marker\":{\"colorbar\":{\"outlinewidth\":0,\"ticks\":\"\"}},\"type\":\"scattergeo\"}],\"scattergl\":[{\"marker\":{\"colorbar\":{\"outlinewidth\":0,\"ticks\":\"\"}},\"type\":\"scattergl\"}],\"scattermapbox\":[{\"marker\":{\"colorbar\":{\"outlinewidth\":0,\"ticks\":\"\"}},\"type\":\"scattermapbox\"}],\"scatterpolar\":[{\"marker\":{\"colorbar\":{\"outlinewidth\":0,\"ticks\":\"\"}},\"type\":\"scatterpolar\"}],\"scatterpolargl\":[{\"marker\":{\"colorbar\":{\"outlinewidth\":0,\"ticks\":\"\"}},\"type\":\"scatterpolargl\"}],\"scatterternary\":[{\"marker\":{\"colorbar\":{\"outlinewidth\":0,\"ticks\":\"\"}},\"type\":\"scatterternary\"}],\"surface\":[{\"colorbar\":{\"outlinewidth\":0,\"ticks\":\"\"},\"colorscale\":[[0.0,\"#0d0887\"],[0.1111111111111111,\"#46039f\"],[0.2222222222222222,\"#7201a8\"],[0.3333333333333333,\"#9c179e\"],[0.4444444444444444,\"#bd3786\"],[0.5555555555555556,\"#d8576b\"],[0.6666666666666666,\"#ed7953\"],[0.7777777777777778,\"#fb9f3a\"],[0.8888888888888888,\"#fdca26\"],[1.0,\"#f0f921\"]],\"type\":\"surface\"}],\"table\":[{\"cells\":{\"fill\":{\"color\":\"#EBF0F8\"},\"line\":{\"color\":\"white\"}},\"header\":{\"fill\":{\"color\":\"#C8D4E3\"},\"line\":{\"color\":\"white\"}},\"type\":\"table\"}]},\"layout\":{\"annotationdefaults\":{\"arrowcolor\":\"#2a3f5f\",\"arrowhead\":0,\"arrowwidth\":1},\"autotypenumbers\":\"strict\",\"coloraxis\":{\"colorbar\":{\"outlinewidth\":0,\"ticks\":\"\"}},\"colorscale\":{\"diverging\":[[0,\"#8e0152\"],[0.1,\"#c51b7d\"],[0.2,\"#de77ae\"],[0.3,\"#f1b6da\"],[0.4,\"#fde0ef\"],[0.5,\"#f7f7f7\"],[0.6,\"#e6f5d0\"],[0.7,\"#b8e186\"],[0.8,\"#7fbc41\"],[0.9,\"#4d9221\"],[1,\"#276419\"]],\"sequential\":[[0.0,\"#0d0887\"],[0.1111111111111111,\"#46039f\"],[0.2222222222222222,\"#7201a8\"],[0.3333333333333333,\"#9c179e\"],[0.4444444444444444,\"#bd3786\"],[0.5555555555555556,\"#d8576b\"],[0.6666666666666666,\"#ed7953\"],[0.7777777777777778,\"#fb9f3a\"],[0.8888888888888888,\"#fdca26\"],[1.0,\"#f0f921\"]],\"sequentialminus\":[[0.0,\"#0d0887\"],[0.1111111111111111,\"#46039f\"],[0.2222222222222222,\"#7201a8\"],[0.3333333333333333,\"#9c179e\"],[0.4444444444444444,\"#bd3786\"],[0.5555555555555556,\"#d8576b\"],[0.6666666666666666,\"#ed7953\"],[0.7777777777777778,\"#fb9f3a\"],[0.8888888888888888,\"#fdca26\"],[1.0,\"#f0f921\"]]},\"colorway\":[\"#636efa\",\"#EF553B\",\"#00cc96\",\"#ab63fa\",\"#FFA15A\",\"#19d3f3\",\"#FF6692\",\"#B6E880\",\"#FF97FF\",\"#FECB52\"],\"font\":{\"color\":\"#2a3f5f\"},\"geo\":{\"bgcolor\":\"white\",\"lakecolor\":\"white\",\"landcolor\":\"#E5ECF6\",\"showlakes\":true,\"showland\":true,\"subunitcolor\":\"white\"},\"hoverlabel\":{\"align\":\"left\"},\"hovermode\":\"closest\",\"mapbox\":{\"style\":\"light\"},\"paper_bgcolor\":\"white\",\"plot_bgcolor\":\"#E5ECF6\",\"polar\":{\"angularaxis\":{\"gridcolor\":\"white\",\"linecolor\":\"white\",\"ticks\":\"\"},\"bgcolor\":\"#E5ECF6\",\"radialaxis\":{\"gridcolor\":\"white\",\"linecolor\":\"white\",\"ticks\":\"\"}},\"scene\":{\"xaxis\":{\"backgroundcolor\":\"#E5ECF6\",\"gridcolor\":\"white\",\"gridwidth\":2,\"linecolor\":\"white\",\"showbackground\":true,\"ticks\":\"\",\"zerolinecolor\":\"white\"},\"yaxis\":{\"backgroundcolor\":\"#E5ECF6\",\"gridcolor\":\"white\",\"gridwidth\":2,\"linecolor\":\"white\",\"showbackground\":true,\"ticks\":\"\",\"zerolinecolor\":\"white\"},\"zaxis\":{\"backgroundcolor\":\"#E5ECF6\",\"gridcolor\":\"white\",\"gridwidth\":2,\"linecolor\":\"white\",\"showbackground\":true,\"ticks\":\"\",\"zerolinecolor\":\"white\"}},\"shapedefaults\":{\"line\":{\"color\":\"#2a3f5f\"}},\"ternary\":{\"aaxis\":{\"gridcolor\":\"white\",\"linecolor\":\"white\",\"ticks\":\"\"},\"baxis\":{\"gridcolor\":\"white\",\"linecolor\":\"white\",\"ticks\":\"\"},\"bgcolor\":\"#E5ECF6\",\"caxis\":{\"gridcolor\":\"white\",\"linecolor\":\"white\",\"ticks\":\"\"}},\"title\":{\"x\":0.05},\"xaxis\":{\"automargin\":true,\"gridcolor\":\"white\",\"linecolor\":\"white\",\"ticks\":\"\",\"title\":{\"standoff\":15},\"zerolinecolor\":\"white\",\"zerolinewidth\":2},\"yaxis\":{\"automargin\":true,\"gridcolor\":\"white\",\"linecolor\":\"white\",\"ticks\":\"\",\"title\":{\"standoff\":15},\"zerolinecolor\":\"white\",\"zerolinewidth\":2}}},\"title\":{\"text\":\"Sentiment Analysis Scores for Each Chapter\"}},                        {\"responsive\": true}                    ).then(function(){\n",
       "                            \n",
       "var gd = document.getElementById('b0e77c09-837a-497e-b4ca-1f8511cb5482');\n",
       "var x = new MutationObserver(function (mutations, observer) {{\n",
       "        var display = window.getComputedStyle(gd).display;\n",
       "        if (!display || display === 'none') {{\n",
       "            console.log([gd, 'removed!']);\n",
       "            Plotly.purge(gd);\n",
       "            observer.disconnect();\n",
       "        }}\n",
       "}});\n",
       "\n",
       "// Listen for the removal of the full notebook cells\n",
       "var notebookContainer = gd.closest('#notebook-container');\n",
       "if (notebookContainer) {{\n",
       "    x.observe(notebookContainer, {childList: true});\n",
       "}}\n",
       "\n",
       "// Listen for the clearing of the current output cell\n",
       "var outputEl = gd.closest('.output');\n",
       "if (outputEl) {{\n",
       "    x.observe(outputEl, {childList: true});\n",
       "}}\n",
       "\n",
       "                        })                };                });            </script>        </div>"
      ]
     },
     "metadata": {},
     "output_type": "display_data"
    }
   ],
   "source": [
    "import plotly.graph_objects as go\n",
    "\n",
    "chapters = list(sentiment_scores.keys())[:5]\n",
    "neg_scores = [sentiment_scores[chapter]['neg'] for chapter in chapters]\n",
    "neu_scores = [sentiment_scores[chapter]['neu'] for chapter in chapters]\n",
    "pos_scores = [sentiment_scores[chapter]['pos'] for chapter in chapters]\n",
    "compound_scores = [sentiment_scores[chapter]['compound'] for chapter in chapters]\n",
    "\n",
    "fig = go.Figure(data=[\n",
    "    go.Bar(name='Negative', x=chapters, y=neg_scores),\n",
    "    go.Bar(name='Neutral', x=chapters, y=neu_scores),\n",
    "    go.Bar(name='Positive', x=chapters, y=pos_scores),\n",
    "    go.Bar(name='Compound', x=chapters, y=compound_scores)\n",
    "])\n",
    "\n",
    "fig.update_layout(barmode='group', title='Sentiment Analysis Scores for Each Chapter')\n",
    "fig.show()"
   ]
  },
  {
   "cell_type": "code",
   "execution_count": 222,
   "id": "e5e890c3-1c8b-412d-8ebd-b21fd851542d",
   "metadata": {},
   "outputs": [
    {
     "data": {
      "application/vnd.plotly.v1+json": {
       "config": {
        "plotlyServerURL": "https://plot.ly"
       },
       "data": [
        {
         "name": "Negative",
         "type": "bar",
         "x": [
          "Chapter 6",
          "Chapter 7",
          "Chapter 8",
          "Chapter 9",
          "Chapter 10"
         ],
         "y": [
          0.052,
          0.053,
          0.123,
          0.072,
          0.098
         ]
        },
        {
         "name": "Neutral",
         "type": "bar",
         "x": [
          "Chapter 6",
          "Chapter 7",
          "Chapter 8",
          "Chapter 9",
          "Chapter 10"
         ],
         "y": [
          0.849,
          0.845,
          0.799,
          0.865,
          0.796
         ]
        },
        {
         "name": "Positive",
         "type": "bar",
         "x": [
          "Chapter 6",
          "Chapter 7",
          "Chapter 8",
          "Chapter 9",
          "Chapter 10"
         ],
         "y": [
          0.099,
          0.102,
          0.079,
          0.063,
          0.106
         ]
        },
        {
         "name": "Compound",
         "type": "bar",
         "x": [
          "Chapter 6",
          "Chapter 7",
          "Chapter 8",
          "Chapter 9",
          "Chapter 10"
         ],
         "y": [
          0.9879,
          0.9804,
          -0.9604,
          -0.593,
          0.7174
         ]
        }
       ],
       "layout": {
        "autosize": true,
        "barmode": "group",
        "template": {
         "data": {
          "bar": [
           {
            "error_x": {
             "color": "#2a3f5f"
            },
            "error_y": {
             "color": "#2a3f5f"
            },
            "marker": {
             "line": {
              "color": "#E5ECF6",
              "width": 0.5
             },
             "pattern": {
              "fillmode": "overlay",
              "size": 10,
              "solidity": 0.2
             }
            },
            "type": "bar"
           }
          ],
          "barpolar": [
           {
            "marker": {
             "line": {
              "color": "#E5ECF6",
              "width": 0.5
             },
             "pattern": {
              "fillmode": "overlay",
              "size": 10,
              "solidity": 0.2
             }
            },
            "type": "barpolar"
           }
          ],
          "carpet": [
           {
            "aaxis": {
             "endlinecolor": "#2a3f5f",
             "gridcolor": "white",
             "linecolor": "white",
             "minorgridcolor": "white",
             "startlinecolor": "#2a3f5f"
            },
            "baxis": {
             "endlinecolor": "#2a3f5f",
             "gridcolor": "white",
             "linecolor": "white",
             "minorgridcolor": "white",
             "startlinecolor": "#2a3f5f"
            },
            "type": "carpet"
           }
          ],
          "choropleth": [
           {
            "colorbar": {
             "outlinewidth": 0,
             "ticks": ""
            },
            "type": "choropleth"
           }
          ],
          "contour": [
           {
            "colorbar": {
             "outlinewidth": 0,
             "ticks": ""
            },
            "colorscale": [
             [
              0,
              "#0d0887"
             ],
             [
              0.1111111111111111,
              "#46039f"
             ],
             [
              0.2222222222222222,
              "#7201a8"
             ],
             [
              0.3333333333333333,
              "#9c179e"
             ],
             [
              0.4444444444444444,
              "#bd3786"
             ],
             [
              0.5555555555555556,
              "#d8576b"
             ],
             [
              0.6666666666666666,
              "#ed7953"
             ],
             [
              0.7777777777777778,
              "#fb9f3a"
             ],
             [
              0.8888888888888888,
              "#fdca26"
             ],
             [
              1,
              "#f0f921"
             ]
            ],
            "type": "contour"
           }
          ],
          "contourcarpet": [
           {
            "colorbar": {
             "outlinewidth": 0,
             "ticks": ""
            },
            "type": "contourcarpet"
           }
          ],
          "heatmap": [
           {
            "colorbar": {
             "outlinewidth": 0,
             "ticks": ""
            },
            "colorscale": [
             [
              0,
              "#0d0887"
             ],
             [
              0.1111111111111111,
              "#46039f"
             ],
             [
              0.2222222222222222,
              "#7201a8"
             ],
             [
              0.3333333333333333,
              "#9c179e"
             ],
             [
              0.4444444444444444,
              "#bd3786"
             ],
             [
              0.5555555555555556,
              "#d8576b"
             ],
             [
              0.6666666666666666,
              "#ed7953"
             ],
             [
              0.7777777777777778,
              "#fb9f3a"
             ],
             [
              0.8888888888888888,
              "#fdca26"
             ],
             [
              1,
              "#f0f921"
             ]
            ],
            "type": "heatmap"
           }
          ],
          "heatmapgl": [
           {
            "colorbar": {
             "outlinewidth": 0,
             "ticks": ""
            },
            "colorscale": [
             [
              0,
              "#0d0887"
             ],
             [
              0.1111111111111111,
              "#46039f"
             ],
             [
              0.2222222222222222,
              "#7201a8"
             ],
             [
              0.3333333333333333,
              "#9c179e"
             ],
             [
              0.4444444444444444,
              "#bd3786"
             ],
             [
              0.5555555555555556,
              "#d8576b"
             ],
             [
              0.6666666666666666,
              "#ed7953"
             ],
             [
              0.7777777777777778,
              "#fb9f3a"
             ],
             [
              0.8888888888888888,
              "#fdca26"
             ],
             [
              1,
              "#f0f921"
             ]
            ],
            "type": "heatmapgl"
           }
          ],
          "histogram": [
           {
            "marker": {
             "pattern": {
              "fillmode": "overlay",
              "size": 10,
              "solidity": 0.2
             }
            },
            "type": "histogram"
           }
          ],
          "histogram2d": [
           {
            "colorbar": {
             "outlinewidth": 0,
             "ticks": ""
            },
            "colorscale": [
             [
              0,
              "#0d0887"
             ],
             [
              0.1111111111111111,
              "#46039f"
             ],
             [
              0.2222222222222222,
              "#7201a8"
             ],
             [
              0.3333333333333333,
              "#9c179e"
             ],
             [
              0.4444444444444444,
              "#bd3786"
             ],
             [
              0.5555555555555556,
              "#d8576b"
             ],
             [
              0.6666666666666666,
              "#ed7953"
             ],
             [
              0.7777777777777778,
              "#fb9f3a"
             ],
             [
              0.8888888888888888,
              "#fdca26"
             ],
             [
              1,
              "#f0f921"
             ]
            ],
            "type": "histogram2d"
           }
          ],
          "histogram2dcontour": [
           {
            "colorbar": {
             "outlinewidth": 0,
             "ticks": ""
            },
            "colorscale": [
             [
              0,
              "#0d0887"
             ],
             [
              0.1111111111111111,
              "#46039f"
             ],
             [
              0.2222222222222222,
              "#7201a8"
             ],
             [
              0.3333333333333333,
              "#9c179e"
             ],
             [
              0.4444444444444444,
              "#bd3786"
             ],
             [
              0.5555555555555556,
              "#d8576b"
             ],
             [
              0.6666666666666666,
              "#ed7953"
             ],
             [
              0.7777777777777778,
              "#fb9f3a"
             ],
             [
              0.8888888888888888,
              "#fdca26"
             ],
             [
              1,
              "#f0f921"
             ]
            ],
            "type": "histogram2dcontour"
           }
          ],
          "mesh3d": [
           {
            "colorbar": {
             "outlinewidth": 0,
             "ticks": ""
            },
            "type": "mesh3d"
           }
          ],
          "parcoords": [
           {
            "line": {
             "colorbar": {
              "outlinewidth": 0,
              "ticks": ""
             }
            },
            "type": "parcoords"
           }
          ],
          "pie": [
           {
            "automargin": true,
            "type": "pie"
           }
          ],
          "scatter": [
           {
            "marker": {
             "colorbar": {
              "outlinewidth": 0,
              "ticks": ""
             }
            },
            "type": "scatter"
           }
          ],
          "scatter3d": [
           {
            "line": {
             "colorbar": {
              "outlinewidth": 0,
              "ticks": ""
             }
            },
            "marker": {
             "colorbar": {
              "outlinewidth": 0,
              "ticks": ""
             }
            },
            "type": "scatter3d"
           }
          ],
          "scattercarpet": [
           {
            "marker": {
             "colorbar": {
              "outlinewidth": 0,
              "ticks": ""
             }
            },
            "type": "scattercarpet"
           }
          ],
          "scattergeo": [
           {
            "marker": {
             "colorbar": {
              "outlinewidth": 0,
              "ticks": ""
             }
            },
            "type": "scattergeo"
           }
          ],
          "scattergl": [
           {
            "marker": {
             "colorbar": {
              "outlinewidth": 0,
              "ticks": ""
             }
            },
            "type": "scattergl"
           }
          ],
          "scattermapbox": [
           {
            "marker": {
             "colorbar": {
              "outlinewidth": 0,
              "ticks": ""
             }
            },
            "type": "scattermapbox"
           }
          ],
          "scatterpolar": [
           {
            "marker": {
             "colorbar": {
              "outlinewidth": 0,
              "ticks": ""
             }
            },
            "type": "scatterpolar"
           }
          ],
          "scatterpolargl": [
           {
            "marker": {
             "colorbar": {
              "outlinewidth": 0,
              "ticks": ""
             }
            },
            "type": "scatterpolargl"
           }
          ],
          "scatterternary": [
           {
            "marker": {
             "colorbar": {
              "outlinewidth": 0,
              "ticks": ""
             }
            },
            "type": "scatterternary"
           }
          ],
          "surface": [
           {
            "colorbar": {
             "outlinewidth": 0,
             "ticks": ""
            },
            "colorscale": [
             [
              0,
              "#0d0887"
             ],
             [
              0.1111111111111111,
              "#46039f"
             ],
             [
              0.2222222222222222,
              "#7201a8"
             ],
             [
              0.3333333333333333,
              "#9c179e"
             ],
             [
              0.4444444444444444,
              "#bd3786"
             ],
             [
              0.5555555555555556,
              "#d8576b"
             ],
             [
              0.6666666666666666,
              "#ed7953"
             ],
             [
              0.7777777777777778,
              "#fb9f3a"
             ],
             [
              0.8888888888888888,
              "#fdca26"
             ],
             [
              1,
              "#f0f921"
             ]
            ],
            "type": "surface"
           }
          ],
          "table": [
           {
            "cells": {
             "fill": {
              "color": "#EBF0F8"
             },
             "line": {
              "color": "white"
             }
            },
            "header": {
             "fill": {
              "color": "#C8D4E3"
             },
             "line": {
              "color": "white"
             }
            },
            "type": "table"
           }
          ]
         },
         "layout": {
          "annotationdefaults": {
           "arrowcolor": "#2a3f5f",
           "arrowhead": 0,
           "arrowwidth": 1
          },
          "autotypenumbers": "strict",
          "coloraxis": {
           "colorbar": {
            "outlinewidth": 0,
            "ticks": ""
           }
          },
          "colorscale": {
           "diverging": [
            [
             0,
             "#8e0152"
            ],
            [
             0.1,
             "#c51b7d"
            ],
            [
             0.2,
             "#de77ae"
            ],
            [
             0.3,
             "#f1b6da"
            ],
            [
             0.4,
             "#fde0ef"
            ],
            [
             0.5,
             "#f7f7f7"
            ],
            [
             0.6,
             "#e6f5d0"
            ],
            [
             0.7,
             "#b8e186"
            ],
            [
             0.8,
             "#7fbc41"
            ],
            [
             0.9,
             "#4d9221"
            ],
            [
             1,
             "#276419"
            ]
           ],
           "sequential": [
            [
             0,
             "#0d0887"
            ],
            [
             0.1111111111111111,
             "#46039f"
            ],
            [
             0.2222222222222222,
             "#7201a8"
            ],
            [
             0.3333333333333333,
             "#9c179e"
            ],
            [
             0.4444444444444444,
             "#bd3786"
            ],
            [
             0.5555555555555556,
             "#d8576b"
            ],
            [
             0.6666666666666666,
             "#ed7953"
            ],
            [
             0.7777777777777778,
             "#fb9f3a"
            ],
            [
             0.8888888888888888,
             "#fdca26"
            ],
            [
             1,
             "#f0f921"
            ]
           ],
           "sequentialminus": [
            [
             0,
             "#0d0887"
            ],
            [
             0.1111111111111111,
             "#46039f"
            ],
            [
             0.2222222222222222,
             "#7201a8"
            ],
            [
             0.3333333333333333,
             "#9c179e"
            ],
            [
             0.4444444444444444,
             "#bd3786"
            ],
            [
             0.5555555555555556,
             "#d8576b"
            ],
            [
             0.6666666666666666,
             "#ed7953"
            ],
            [
             0.7777777777777778,
             "#fb9f3a"
            ],
            [
             0.8888888888888888,
             "#fdca26"
            ],
            [
             1,
             "#f0f921"
            ]
           ]
          },
          "colorway": [
           "#636efa",
           "#EF553B",
           "#00cc96",
           "#ab63fa",
           "#FFA15A",
           "#19d3f3",
           "#FF6692",
           "#B6E880",
           "#FF97FF",
           "#FECB52"
          ],
          "font": {
           "color": "#2a3f5f"
          },
          "geo": {
           "bgcolor": "white",
           "lakecolor": "white",
           "landcolor": "#E5ECF6",
           "showlakes": true,
           "showland": true,
           "subunitcolor": "white"
          },
          "hoverlabel": {
           "align": "left"
          },
          "hovermode": "closest",
          "mapbox": {
           "style": "light"
          },
          "paper_bgcolor": "white",
          "plot_bgcolor": "#E5ECF6",
          "polar": {
           "angularaxis": {
            "gridcolor": "white",
            "linecolor": "white",
            "ticks": ""
           },
           "bgcolor": "#E5ECF6",
           "radialaxis": {
            "gridcolor": "white",
            "linecolor": "white",
            "ticks": ""
           }
          },
          "scene": {
           "xaxis": {
            "backgroundcolor": "#E5ECF6",
            "gridcolor": "white",
            "gridwidth": 2,
            "linecolor": "white",
            "showbackground": true,
            "ticks": "",
            "zerolinecolor": "white"
           },
           "yaxis": {
            "backgroundcolor": "#E5ECF6",
            "gridcolor": "white",
            "gridwidth": 2,
            "linecolor": "white",
            "showbackground": true,
            "ticks": "",
            "zerolinecolor": "white"
           },
           "zaxis": {
            "backgroundcolor": "#E5ECF6",
            "gridcolor": "white",
            "gridwidth": 2,
            "linecolor": "white",
            "showbackground": true,
            "ticks": "",
            "zerolinecolor": "white"
           }
          },
          "shapedefaults": {
           "line": {
            "color": "#2a3f5f"
           }
          },
          "ternary": {
           "aaxis": {
            "gridcolor": "white",
            "linecolor": "white",
            "ticks": ""
           },
           "baxis": {
            "gridcolor": "white",
            "linecolor": "white",
            "ticks": ""
           },
           "bgcolor": "#E5ECF6",
           "caxis": {
            "gridcolor": "white",
            "linecolor": "white",
            "ticks": ""
           }
          },
          "title": {
           "x": 0.05
          },
          "xaxis": {
           "automargin": true,
           "gridcolor": "white",
           "linecolor": "white",
           "ticks": "",
           "title": {
            "standoff": 15
           },
           "zerolinecolor": "white",
           "zerolinewidth": 2
          },
          "yaxis": {
           "automargin": true,
           "gridcolor": "white",
           "linecolor": "white",
           "ticks": "",
           "title": {
            "standoff": 15
           },
           "zerolinecolor": "white",
           "zerolinewidth": 2
          }
         }
        },
        "title": {
         "text": "Sentiment Analysis Scores for Each Chapter"
        },
        "xaxis": {
         "autorange": true,
         "range": [
          -0.5,
          4.5
         ],
         "type": "category"
        },
        "yaxis": {
         "autorange": true,
         "range": [
          -1.068638888888889,
          1.096138888888889
         ],
         "type": "linear"
        }
       }
      },
      "image/png": "[encoded data removed]",
      "text/html": [
       "<div>                            <div id=\"7e2cee95-4807-4f2b-875b-a4ca3e5c47b8\" class=\"plotly-graph-div\" style=\"height:525px; width:100%;\"></div>            <script type=\"text/javascript\">                require([\"plotly\"], function(Plotly) {                    window.PLOTLYENV=window.PLOTLYENV || {};                                    if (document.getElementById(\"7e2cee95-4807-4f2b-875b-a4ca3e5c47b8\")) {                    Plotly.newPlot(                        \"7e2cee95-4807-4f2b-875b-a4ca3e5c47b8\",                        [{\"name\":\"Negative\",\"type\":\"bar\",\"x\":[\"Chapter 6\",\"Chapter 7\",\"Chapter 8\",\"Chapter 9\",\"Chapter 10\"],\"y\":[0.052,0.053,0.123,0.072,0.098]},{\"name\":\"Neutral\",\"type\":\"bar\",\"x\":[\"Chapter 6\",\"Chapter 7\",\"Chapter 8\",\"Chapter 9\",\"Chapter 10\"],\"y\":[0.849,0.845,0.799,0.865,0.796]},{\"name\":\"Positive\",\"type\":\"bar\",\"x\":[\"Chapter 6\",\"Chapter 7\",\"Chapter 8\",\"Chapter 9\",\"Chapter 10\"],\"y\":[0.099,0.102,0.079,0.063,0.106]},{\"name\":\"Compound\",\"type\":\"bar\",\"x\":[\"Chapter 6\",\"Chapter 7\",\"Chapter 8\",\"Chapter 9\",\"Chapter 10\"],\"y\":[0.9879,0.9804,-0.9604,-0.593,0.7174]}],                        {\"barmode\":\"group\",\"template\":{\"data\":{\"bar\":[{\"error_x\":{\"color\":\"#2a3f5f\"},\"error_y\":{\"color\":\"#2a3f5f\"},\"marker\":{\"line\":{\"color\":\"#E5ECF6\",\"width\":0.5},\"pattern\":{\"fillmode\":\"overlay\",\"size\":10,\"solidity\":0.2}},\"type\":\"bar\"}],\"barpolar\":[{\"marker\":{\"line\":{\"color\":\"#E5ECF6\",\"width\":0.5},\"pattern\":{\"fillmode\":\"overlay\",\"size\":10,\"solidity\":0.2}},\"type\":\"barpolar\"}],\"carpet\":[{\"aaxis\":{\"endlinecolor\":\"#2a3f5f\",\"gridcolor\":\"white\",\"linecolor\":\"white\",\"minorgridcolor\":\"white\",\"startlinecolor\":\"#2a3f5f\"},\"baxis\":{\"endlinecolor\":\"#2a3f5f\",\"gridcolor\":\"white\",\"linecolor\":\"white\",\"minorgridcolor\":\"white\",\"startlinecolor\":\"#2a3f5f\"},\"type\":\"carpet\"}],\"choropleth\":[{\"colorbar\":{\"outlinewidth\":0,\"ticks\":\"\"},\"type\":\"choropleth\"}],\"contour\":[{\"colorbar\":{\"outlinewidth\":0,\"ticks\":\"\"},\"colorscale\":[[0.0,\"#0d0887\"],[0.1111111111111111,\"#46039f\"],[0.2222222222222222,\"#7201a8\"],[0.3333333333333333,\"#9c179e\"],[0.4444444444444444,\"#bd3786\"],[0.5555555555555556,\"#d8576b\"],[0.6666666666666666,\"#ed7953\"],[0.7777777777777778,\"#fb9f3a\"],[0.8888888888888888,\"#fdca26\"],[1.0,\"#f0f921\"]],\"type\":\"contour\"}],\"contourcarpet\":[{\"colorbar\":{\"outlinewidth\":0,\"ticks\":\"\"},\"type\":\"contourcarpet\"}],\"heatmap\":[{\"colorbar\":{\"outlinewidth\":0,\"ticks\":\"\"},\"colorscale\":[[0.0,\"#0d0887\"],[0.1111111111111111,\"#46039f\"],[0.2222222222222222,\"#7201a8\"],[0.3333333333333333,\"#9c179e\"],[0.4444444444444444,\"#bd3786\"],[0.5555555555555556,\"#d8576b\"],[0.6666666666666666,\"#ed7953\"],[0.7777777777777778,\"#fb9f3a\"],[0.8888888888888888,\"#fdca26\"],[1.0,\"#f0f921\"]],\"type\":\"heatmap\"}],\"heatmapgl\":[{\"colorbar\":{\"outlinewidth\":0,\"ticks\":\"\"},\"colorscale\":[[0.0,\"#0d0887\"],[0.1111111111111111,\"#46039f\"],[0.2222222222222222,\"#7201a8\"],[0.3333333333333333,\"#9c179e\"],[0.4444444444444444,\"#bd3786\"],[0.5555555555555556,\"#d8576b\"],[0.6666666666666666,\"#ed7953\"],[0.7777777777777778,\"#fb9f3a\"],[0.8888888888888888,\"#fdca26\"],[1.0,\"#f0f921\"]],\"type\":\"heatmapgl\"}],\"histogram\":[{\"marker\":{\"pattern\":{\"fillmode\":\"overlay\",\"size\":10,\"solidity\":0.2}},\"type\":\"histogram\"}],\"histogram2d\":[{\"colorbar\":{\"outlinewidth\":0,\"ticks\":\"\"},\"colorscale\":[[0.0,\"#0d0887\"],[0.1111111111111111,\"#46039f\"],[0.2222222222222222,\"#7201a8\"],[0.3333333333333333,\"#9c179e\"],[0.4444444444444444,\"#bd3786\"],[0.5555555555555556,\"#d8576b\"],[0.6666666666666666,\"#ed7953\"],[0.7777777777777778,\"#fb9f3a\"],[0.8888888888888888,\"#fdca26\"],[1.0,\"#f0f921\"]],\"type\":\"histogram2d\"}],\"histogram2dcontour\":[{\"colorbar\":{\"outlinewidth\":0,\"ticks\":\"\"},\"colorscale\":[[0.0,\"#0d0887\"],[0.1111111111111111,\"#46039f\"],[0.2222222222222222,\"#7201a8\"],[0.3333333333333333,\"#9c179e\"],[0.4444444444444444,\"#bd3786\"],[0.5555555555555556,\"#d8576b\"],[0.6666666666666666,\"#ed7953\"],[0.7777777777777778,\"#fb9f3a\"],[0.8888888888888888,\"#fdca26\"],[1.0,\"#f0f921\"]],\"type\":\"histogram2dcontour\"}],\"mesh3d\":[{\"colorbar\":{\"outlinewidth\":0,\"ticks\":\"\"},\"type\":\"mesh3d\"}],\"parcoords\":[{\"line\":{\"colorbar\":{\"outlinewidth\":0,\"ticks\":\"\"}},\"type\":\"parcoords\"}],\"pie\":[{\"automargin\":true,\"type\":\"pie\"}],\"scatter\":[{\"marker\":{\"colorbar\":{\"outlinewidth\":0,\"ticks\":\"\"}},\"type\":\"scatter\"}],\"scatter3d\":[{\"line\":{\"colorbar\":{\"outlinewidth\":0,\"ticks\":\"\"}},\"marker\":{\"colorbar\":{\"outlinewidth\":0,\"ticks\":\"\"}},\"type\":\"scatter3d\"}],\"scattercarpet\":[{\"marker\":{\"colorbar\":{\"outlinewidth\":0,\"ticks\":\"\"}},\"type\":\"scattercarpet\"}],\"scattergeo\":[{\"marker\":{\"colorbar\":{\"outlinewidth\":0,\"ticks\":\"\"}},\"type\":\"scattergeo\"}],\"scattergl\":[{\"marker\":{\"colorbar\":{\"outlinewidth\":0,\"ticks\":\"\"}},\"type\":\"scattergl\"}],\"scattermapbox\":[{\"marker\":{\"colorbar\":{\"outlinewidth\":0,\"ticks\":\"\"}},\"type\":\"scattermapbox\"}],\"scatterpolar\":[{\"marker\":{\"colorbar\":{\"outlinewidth\":0,\"ticks\":\"\"}},\"type\":\"scatterpolar\"}],\"scatterpolargl\":[{\"marker\":{\"colorbar\":{\"outlinewidth\":0,\"ticks\":\"\"}},\"type\":\"scatterpolargl\"}],\"scatterternary\":[{\"marker\":{\"colorbar\":{\"outlinewidth\":0,\"ticks\":\"\"}},\"type\":\"scatterternary\"}],\"surface\":[{\"colorbar\":{\"outlinewidth\":0,\"ticks\":\"\"},\"colorscale\":[[0.0,\"#0d0887\"],[0.1111111111111111,\"#46039f\"],[0.2222222222222222,\"#7201a8\"],[0.3333333333333333,\"#9c179e\"],[0.4444444444444444,\"#bd3786\"],[0.5555555555555556,\"#d8576b\"],[0.6666666666666666,\"#ed7953\"],[0.7777777777777778,\"#fb9f3a\"],[0.8888888888888888,\"#fdca26\"],[1.0,\"#f0f921\"]],\"type\":\"surface\"}],\"table\":[{\"cells\":{\"fill\":{\"color\":\"#EBF0F8\"},\"line\":{\"color\":\"white\"}},\"header\":{\"fill\":{\"color\":\"#C8D4E3\"},\"line\":{\"color\":\"white\"}},\"type\":\"table\"}]},\"layout\":{\"annotationdefaults\":{\"arrowcolor\":\"#2a3f5f\",\"arrowhead\":0,\"arrowwidth\":1},\"autotypenumbers\":\"strict\",\"coloraxis\":{\"colorbar\":{\"outlinewidth\":0,\"ticks\":\"\"}},\"colorscale\":{\"diverging\":[[0,\"#8e0152\"],[0.1,\"#c51b7d\"],[0.2,\"#de77ae\"],[0.3,\"#f1b6da\"],[0.4,\"#fde0ef\"],[0.5,\"#f7f7f7\"],[0.6,\"#e6f5d0\"],[0.7,\"#b8e186\"],[0.8,\"#7fbc41\"],[0.9,\"#4d9221\"],[1,\"#276419\"]],\"sequential\":[[0.0,\"#0d0887\"],[0.1111111111111111,\"#46039f\"],[0.2222222222222222,\"#7201a8\"],[0.3333333333333333,\"#9c179e\"],[0.4444444444444444,\"#bd3786\"],[0.5555555555555556,\"#d8576b\"],[0.6666666666666666,\"#ed7953\"],[0.7777777777777778,\"#fb9f3a\"],[0.8888888888888888,\"#fdca26\"],[1.0,\"#f0f921\"]],\"sequentialminus\":[[0.0,\"#0d0887\"],[0.1111111111111111,\"#46039f\"],[0.2222222222222222,\"#7201a8\"],[0.3333333333333333,\"#9c179e\"],[0.4444444444444444,\"#bd3786\"],[0.5555555555555556,\"#d8576b\"],[0.6666666666666666,\"#ed7953\"],[0.7777777777777778,\"#fb9f3a\"],[0.8888888888888888,\"#fdca26\"],[1.0,\"#f0f921\"]]},\"colorway\":[\"#636efa\",\"#EF553B\",\"#00cc96\",\"#ab63fa\",\"#FFA15A\",\"#19d3f3\",\"#FF6692\",\"#B6E880\",\"#FF97FF\",\"#FECB52\"],\"font\":{\"color\":\"#2a3f5f\"},\"geo\":{\"bgcolor\":\"white\",\"lakecolor\":\"white\",\"landcolor\":\"#E5ECF6\",\"showlakes\":true,\"showland\":true,\"subunitcolor\":\"white\"},\"hoverlabel\":{\"align\":\"left\"},\"hovermode\":\"closest\",\"mapbox\":{\"style\":\"light\"},\"paper_bgcolor\":\"white\",\"plot_bgcolor\":\"#E5ECF6\",\"polar\":{\"angularaxis\":{\"gridcolor\":\"white\",\"linecolor\":\"white\",\"ticks\":\"\"},\"bgcolor\":\"#E5ECF6\",\"radialaxis\":{\"gridcolor\":\"white\",\"linecolor\":\"white\",\"ticks\":\"\"}},\"scene\":{\"xaxis\":{\"backgroundcolor\":\"#E5ECF6\",\"gridcolor\":\"white\",\"gridwidth\":2,\"linecolor\":\"white\",\"showbackground\":true,\"ticks\":\"\",\"zerolinecolor\":\"white\"},\"yaxis\":{\"backgroundcolor\":\"#E5ECF6\",\"gridcolor\":\"white\",\"gridwidth\":2,\"linecolor\":\"white\",\"showbackground\":true,\"ticks\":\"\",\"zerolinecolor\":\"white\"},\"zaxis\":{\"backgroundcolor\":\"#E5ECF6\",\"gridcolor\":\"white\",\"gridwidth\":2,\"linecolor\":\"white\",\"showbackground\":true,\"ticks\":\"\",\"zerolinecolor\":\"white\"}},\"shapedefaults\":{\"line\":{\"color\":\"#2a3f5f\"}},\"ternary\":{\"aaxis\":{\"gridcolor\":\"white\",\"linecolor\":\"white\",\"ticks\":\"\"},\"baxis\":{\"gridcolor\":\"white\",\"linecolor\":\"white\",\"ticks\":\"\"},\"bgcolor\":\"#E5ECF6\",\"caxis\":{\"gridcolor\":\"white\",\"linecolor\":\"white\",\"ticks\":\"\"}},\"title\":{\"x\":0.05},\"xaxis\":{\"automargin\":true,\"gridcolor\":\"white\",\"linecolor\":\"white\",\"ticks\":\"\",\"title\":{\"standoff\":15},\"zerolinecolor\":\"white\",\"zerolinewidth\":2},\"yaxis\":{\"automargin\":true,\"gridcolor\":\"white\",\"linecolor\":\"white\",\"ticks\":\"\",\"title\":{\"standoff\":15},\"zerolinecolor\":\"white\",\"zerolinewidth\":2}}},\"title\":{\"text\":\"Sentiment Analysis Scores for Each Chapter\"}},                        {\"responsive\": true}                    ).then(function(){\n",
       "                            \n",
       "var gd = document.getElementById('7e2cee95-4807-4f2b-875b-a4ca3e5c47b8');\n",
       "var x = new MutationObserver(function (mutations, observer) {{\n",
       "        var display = window.getComputedStyle(gd).display;\n",
       "        if (!display || display === 'none') {{\n",
       "            console.log([gd, 'removed!']);\n",
       "            Plotly.purge(gd);\n",
       "            observer.disconnect();\n",
       "        }}\n",
       "}});\n",
       "\n",
       "// Listen for the removal of the full notebook cells\n",
       "var notebookContainer = gd.closest('#notebook-container');\n",
       "if (notebookContainer) {{\n",
       "    x.observe(notebookContainer, {childList: true});\n",
       "}}\n",
       "\n",
       "// Listen for the clearing of the current output cell\n",
       "var outputEl = gd.closest('.output');\n",
       "if (outputEl) {{\n",
       "    x.observe(outputEl, {childList: true});\n",
       "}}\n",
       "\n",
       "                        })                };                });            </script>        </div>"
      ]
     },
     "metadata": {},
     "output_type": "display_data"
    }
   ],
   "source": [
    "chapters = list(sentiment_scores.keys())[5:10]\n",
    "neg_scores = [sentiment_scores[chapter]['neg'] for chapter in chapters]\n",
    "neu_scores = [sentiment_scores[chapter]['neu'] for chapter in chapters]\n",
    "pos_scores = [sentiment_scores[chapter]['pos'] for chapter in chapters]\n",
    "compound_scores = [sentiment_scores[chapter]['compound'] for chapter in chapters]\n",
    "\n",
    "fig = go.Figure(data=[\n",
    "    go.Bar(name='Negative', x=chapters, y=neg_scores),\n",
    "    go.Bar(name='Neutral', x=chapters, y=neu_scores),\n",
    "    go.Bar(name='Positive', x=chapters, y=pos_scores),\n",
    "    go.Bar(name='Compound', x=chapters, y=compound_scores)\n",
    "])\n",
    "\n",
    "fig.update_layout(barmode='group', title='Sentiment Analysis Scores for Each Chapter')\n",
    "fig.show()"
   ]
  },
  {
   "cell_type": "code",
   "execution_count": 221,
   "id": "27a78bb4-b11f-41d4-bcbb-b643335fd418",
   "metadata": {},
   "outputs": [
    {
     "data": {
      "application/vnd.plotly.v1+json": {
       "config": {
        "plotlyServerURL": "https://plot.ly"
       },
       "data": [
        {
         "name": "Negative",
         "type": "bar",
         "x": [
          "Chapter 11",
          "Chapter 12",
          "Chapter 13",
          "Chapter 14",
          "Chapter 15"
         ],
         "y": [
          0.107,
          0.092,
          0.04,
          0.078,
          0.048
         ]
        },
        {
         "name": "Neutral",
         "type": "bar",
         "x": [
          "Chapter 11",
          "Chapter 12",
          "Chapter 13",
          "Chapter 14",
          "Chapter 15"
         ],
         "y": [
          0.82,
          0.843,
          0.893,
          0.842,
          0.829
         ]
        },
        {
         "name": "Positive",
         "type": "bar",
         "x": [
          "Chapter 11",
          "Chapter 12",
          "Chapter 13",
          "Chapter 14",
          "Chapter 15"
         ],
         "y": [
          0.073,
          0.065,
          0.067,
          0.08,
          0.124
         ]
        },
        {
         "name": "Compound",
         "type": "bar",
         "x": [
          "Chapter 11",
          "Chapter 12",
          "Chapter 13",
          "Chapter 14",
          "Chapter 15"
         ],
         "y": [
          -0.9062,
          -0.9718,
          0.8809,
          -0.4489,
          0.9995
         ]
        }
       ],
       "layout": {
        "autosize": true,
        "barmode": "group",
        "template": {
         "data": {
          "bar": [
           {
            "error_x": {
             "color": "#2a3f5f"
            },
            "error_y": {
             "color": "#2a3f5f"
            },
            "marker": {
             "line": {
              "color": "#E5ECF6",
              "width": 0.5
             },
             "pattern": {
              "fillmode": "overlay",
              "size": 10,
              "solidity": 0.2
             }
            },
            "type": "bar"
           }
          ],
          "barpolar": [
           {
            "marker": {
             "line": {
              "color": "#E5ECF6",
              "width": 0.5
             },
             "pattern": {
              "fillmode": "overlay",
              "size": 10,
              "solidity": 0.2
             }
            },
            "type": "barpolar"
           }
          ],
          "carpet": [
           {
            "aaxis": {
             "endlinecolor": "#2a3f5f",
             "gridcolor": "white",
             "linecolor": "white",
             "minorgridcolor": "white",
             "startlinecolor": "#2a3f5f"
            },
            "baxis": {
             "endlinecolor": "#2a3f5f",
             "gridcolor": "white",
             "linecolor": "white",
             "minorgridcolor": "white",
             "startlinecolor": "#2a3f5f"
            },
            "type": "carpet"
           }
          ],
          "choropleth": [
           {
            "colorbar": {
             "outlinewidth": 0,
             "ticks": ""
            },
            "type": "choropleth"
           }
          ],
          "contour": [
           {
            "colorbar": {
             "outlinewidth": 0,
             "ticks": ""
            },
            "colorscale": [
             [
              0,
              "#0d0887"
             ],
             [
              0.1111111111111111,
              "#46039f"
             ],
             [
              0.2222222222222222,
              "#7201a8"
             ],
             [
              0.3333333333333333,
              "#9c179e"
             ],
             [
              0.4444444444444444,
              "#bd3786"
             ],
             [
              0.5555555555555556,
              "#d8576b"
             ],
             [
              0.6666666666666666,
              "#ed7953"
             ],
             [
              0.7777777777777778,
              "#fb9f3a"
             ],
             [
              0.8888888888888888,
              "#fdca26"
             ],
             [
              1,
              "#f0f921"
             ]
            ],
            "type": "contour"
           }
          ],
          "contourcarpet": [
           {
            "colorbar": {
             "outlinewidth": 0,
             "ticks": ""
            },
            "type": "contourcarpet"
           }
          ],
          "heatmap": [
           {
            "colorbar": {
             "outlinewidth": 0,
             "ticks": ""
            },
            "colorscale": [
             [
              0,
              "#0d0887"
             ],
             [
              0.1111111111111111,
              "#46039f"
             ],
             [
              0.2222222222222222,
              "#7201a8"
             ],
             [
              0.3333333333333333,
              "#9c179e"
             ],
             [
              0.4444444444444444,
              "#bd3786"
             ],
             [
              0.5555555555555556,
              "#d8576b"
             ],
             [
              0.6666666666666666,
              "#ed7953"
             ],
             [
              0.7777777777777778,
              "#fb9f3a"
             ],
             [
              0.8888888888888888,
              "#fdca26"
             ],
             [
              1,
              "#f0f921"
             ]
            ],
            "type": "heatmap"
           }
          ],
          "heatmapgl": [
           {
            "colorbar": {
             "outlinewidth": 0,
             "ticks": ""
            },
            "colorscale": [
             [
              0,
              "#0d0887"
             ],
             [
              0.1111111111111111,
              "#46039f"
             ],
             [
              0.2222222222222222,
              "#7201a8"
             ],
             [
              0.3333333333333333,
              "#9c179e"
             ],
             [
              0.4444444444444444,
              "#bd3786"
             ],
             [
              0.5555555555555556,
              "#d8576b"
             ],
             [
              0.6666666666666666,
              "#ed7953"
             ],
             [
              0.7777777777777778,
              "#fb9f3a"
             ],
             [
              0.8888888888888888,
              "#fdca26"
             ],
             [
              1,
              "#f0f921"
             ]
            ],
            "type": "heatmapgl"
           }
          ],
          "histogram": [
           {
            "marker": {
             "pattern": {
              "fillmode": "overlay",
              "size": 10,
              "solidity": 0.2
             }
            },
            "type": "histogram"
           }
          ],
          "histogram2d": [
           {
            "colorbar": {
             "outlinewidth": 0,
             "ticks": ""
            },
            "colorscale": [
             [
              0,
              "#0d0887"
             ],
             [
              0.1111111111111111,
              "#46039f"
             ],
             [
              0.2222222222222222,
              "#7201a8"
             ],
             [
              0.3333333333333333,
              "#9c179e"
             ],
             [
              0.4444444444444444,
              "#bd3786"
             ],
             [
              0.5555555555555556,
              "#d8576b"
             ],
             [
              0.6666666666666666,
              "#ed7953"
             ],
             [
              0.7777777777777778,
              "#fb9f3a"
             ],
             [
              0.8888888888888888,
              "#fdca26"
             ],
             [
              1,
              "#f0f921"
             ]
            ],
            "type": "histogram2d"
           }
          ],
          "histogram2dcontour": [
           {
            "colorbar": {
             "outlinewidth": 0,
             "ticks": ""
            },
            "colorscale": [
             [
              0,
              "#0d0887"
             ],
             [
              0.1111111111111111,
              "#46039f"
             ],
             [
              0.2222222222222222,
              "#7201a8"
             ],
             [
              0.3333333333333333,
              "#9c179e"
             ],
             [
              0.4444444444444444,
              "#bd3786"
             ],
             [
              0.5555555555555556,
              "#d8576b"
             ],
             [
              0.6666666666666666,
              "#ed7953"
             ],
             [
              0.7777777777777778,
              "#fb9f3a"
             ],
             [
              0.8888888888888888,
              "#fdca26"
             ],
             [
              1,
              "#f0f921"
             ]
            ],
            "type": "histogram2dcontour"
           }
          ],
          "mesh3d": [
           {
            "colorbar": {
             "outlinewidth": 0,
             "ticks": ""
            },
            "type": "mesh3d"
           }
          ],
          "parcoords": [
           {
            "line": {
             "colorbar": {
              "outlinewidth": 0,
              "ticks": ""
             }
            },
            "type": "parcoords"
           }
          ],
          "pie": [
           {
            "automargin": true,
            "type": "pie"
           }
          ],
          "scatter": [
           {
            "marker": {
             "colorbar": {
              "outlinewidth": 0,
              "ticks": ""
             }
            },
            "type": "scatter"
           }
          ],
          "scatter3d": [
           {
            "line": {
             "colorbar": {
              "outlinewidth": 0,
              "ticks": ""
             }
            },
            "marker": {
             "colorbar": {
              "outlinewidth": 0,
              "ticks": ""
             }
            },
            "type": "scatter3d"
           }
          ],
          "scattercarpet": [
           {
            "marker": {
             "colorbar": {
              "outlinewidth": 0,
              "ticks": ""
             }
            },
            "type": "scattercarpet"
           }
          ],
          "scattergeo": [
           {
            "marker": {
             "colorbar": {
              "outlinewidth": 0,
              "ticks": ""
             }
            },
            "type": "scattergeo"
           }
          ],
          "scattergl": [
           {
            "marker": {
             "colorbar": {
              "outlinewidth": 0,
              "ticks": ""
             }
            },
            "type": "scattergl"
           }
          ],
          "scattermapbox": [
           {
            "marker": {
             "colorbar": {
              "outlinewidth": 0,
              "ticks": ""
             }
            },
            "type": "scattermapbox"
           }
          ],
          "scatterpolar": [
           {
            "marker": {
             "colorbar": {
              "outlinewidth": 0,
              "ticks": ""
             }
            },
            "type": "scatterpolar"
           }
          ],
          "scatterpolargl": [
           {
            "marker": {
             "colorbar": {
              "outlinewidth": 0,
              "ticks": ""
             }
            },
            "type": "scatterpolargl"
           }
          ],
          "scatterternary": [
           {
            "marker": {
             "colorbar": {
              "outlinewidth": 0,
              "ticks": ""
             }
            },
            "type": "scatterternary"
           }
          ],
          "surface": [
           {
            "colorbar": {
             "outlinewidth": 0,
             "ticks": ""
            },
            "colorscale": [
             [
              0,
              "#0d0887"
             ],
             [
              0.1111111111111111,
              "#46039f"
             ],
             [
              0.2222222222222222,
              "#7201a8"
             ],
             [
              0.3333333333333333,
              "#9c179e"
             ],
             [
              0.4444444444444444,
              "#bd3786"
             ],
             [
              0.5555555555555556,
              "#d8576b"
             ],
             [
              0.6666666666666666,
              "#ed7953"
             ],
             [
              0.7777777777777778,
              "#fb9f3a"
             ],
             [
              0.8888888888888888,
              "#fdca26"
             ],
             [
              1,
              "#f0f921"
             ]
            ],
            "type": "surface"
           }
          ],
          "table": [
           {
            "cells": {
             "fill": {
              "color": "#EBF0F8"
             },
             "line": {
              "color": "white"
             }
            },
            "header": {
             "fill": {
              "color": "#C8D4E3"
             },
             "line": {
              "color": "white"
             }
            },
            "type": "table"
           }
          ]
         },
         "layout": {
          "annotationdefaults": {
           "arrowcolor": "#2a3f5f",
           "arrowhead": 0,
           "arrowwidth": 1
          },
          "autotypenumbers": "strict",
          "coloraxis": {
           "colorbar": {
            "outlinewidth": 0,
            "ticks": ""
           }
          },
          "colorscale": {
           "diverging": [
            [
             0,
             "#8e0152"
            ],
            [
             0.1,
             "#c51b7d"
            ],
            [
             0.2,
             "#de77ae"
            ],
            [
             0.3,
             "#f1b6da"
            ],
            [
             0.4,
             "#fde0ef"
            ],
            [
             0.5,
             "#f7f7f7"
            ],
            [
             0.6,
             "#e6f5d0"
            ],
            [
             0.7,
             "#b8e186"
            ],
            [
             0.8,
             "#7fbc41"
            ],
            [
             0.9,
             "#4d9221"
            ],
            [
             1,
             "#276419"
            ]
           ],
           "sequential": [
            [
             0,
             "#0d0887"
            ],
            [
             0.1111111111111111,
             "#46039f"
            ],
            [
             0.2222222222222222,
             "#7201a8"
            ],
            [
             0.3333333333333333,
             "#9c179e"
            ],
            [
             0.4444444444444444,
             "#bd3786"
            ],
            [
             0.5555555555555556,
             "#d8576b"
            ],
            [
             0.6666666666666666,
             "#ed7953"
            ],
            [
             0.7777777777777778,
             "#fb9f3a"
            ],
            [
             0.8888888888888888,
             "#fdca26"
            ],
            [
             1,
             "#f0f921"
            ]
           ],
           "sequentialminus": [
            [
             0,
             "#0d0887"
            ],
            [
             0.1111111111111111,
             "#46039f"
            ],
            [
             0.2222222222222222,
             "#7201a8"
            ],
            [
             0.3333333333333333,
             "#9c179e"
            ],
            [
             0.4444444444444444,
             "#bd3786"
            ],
            [
             0.5555555555555556,
             "#d8576b"
            ],
            [
             0.6666666666666666,
             "#ed7953"
            ],
            [
             0.7777777777777778,
             "#fb9f3a"
            ],
            [
             0.8888888888888888,
             "#fdca26"
            ],
            [
             1,
             "#f0f921"
            ]
           ]
          },
          "colorway": [
           "#636efa",
           "#EF553B",
           "#00cc96",
           "#ab63fa",
           "#FFA15A",
           "#19d3f3",
           "#FF6692",
           "#B6E880",
           "#FF97FF",
           "#FECB52"
          ],
          "font": {
           "color": "#2a3f5f"
          },
          "geo": {
           "bgcolor": "white",
           "lakecolor": "white",
           "landcolor": "#E5ECF6",
           "showlakes": true,
           "showland": true,
           "subunitcolor": "white"
          },
          "hoverlabel": {
           "align": "left"
          },
          "hovermode": "closest",
          "mapbox": {
           "style": "light"
          },
          "paper_bgcolor": "white",
          "plot_bgcolor": "#E5ECF6",
          "polar": {
           "angularaxis": {
            "gridcolor": "white",
            "linecolor": "white",
            "ticks": ""
           },
           "bgcolor": "#E5ECF6",
           "radialaxis": {
            "gridcolor": "white",
            "linecolor": "white",
            "ticks": ""
           }
          },
          "scene": {
           "xaxis": {
            "backgroundcolor": "#E5ECF6",
            "gridcolor": "white",
            "gridwidth": 2,
            "linecolor": "white",
            "showbackground": true,
            "ticks": "",
            "zerolinecolor": "white"
           },
           "yaxis": {
            "backgroundcolor": "#E5ECF6",
            "gridcolor": "white",
            "gridwidth": 2,
            "linecolor": "white",
            "showbackground": true,
            "ticks": "",
            "zerolinecolor": "white"
           },
           "zaxis": {
            "backgroundcolor": "#E5ECF6",
            "gridcolor": "white",
            "gridwidth": 2,
            "linecolor": "white",
            "showbackground": true,
            "ticks": "",
            "zerolinecolor": "white"
           }
          },
          "shapedefaults": {
           "line": {
            "color": "#2a3f5f"
           }
          },
          "ternary": {
           "aaxis": {
            "gridcolor": "white",
            "linecolor": "white",
            "ticks": ""
           },
           "baxis": {
            "gridcolor": "white",
            "linecolor": "white",
            "ticks": ""
           },
           "bgcolor": "#E5ECF6",
           "caxis": {
            "gridcolor": "white",
            "linecolor": "white",
            "ticks": ""
           }
          },
          "title": {
           "x": 0.05
          },
          "xaxis": {
           "automargin": true,
           "gridcolor": "white",
           "linecolor": "white",
           "ticks": "",
           "title": {
            "standoff": 15
           },
           "zerolinecolor": "white",
           "zerolinewidth": 2
          },
          "yaxis": {
           "automargin": true,
           "gridcolor": "white",
           "linecolor": "white",
           "ticks": "",
           "title": {
            "standoff": 15
           },
           "zerolinecolor": "white",
           "zerolinewidth": 2
          }
         }
        },
        "title": {
         "text": "Sentiment Analysis Scores for Each Chapter"
        },
        "xaxis": {
         "autorange": true,
         "range": [
          -0.5,
          4.5
         ],
         "type": "category"
        },
        "yaxis": {
         "autorange": true,
         "range": [
          -1.0813166666666667,
          1.1090166666666668
         ],
         "type": "linear"
        }
       }
      },
      "image/png": "[encoded data removed]",
      "text/html": [
       "<div>                            <div id=\"1873f914-aeb0-4a52-ae30-6aeec23f8162\" class=\"plotly-graph-div\" style=\"height:525px; width:100%;\"></div>            <script type=\"text/javascript\">                require([\"plotly\"], function(Plotly) {                    window.PLOTLYENV=window.PLOTLYENV || {};                                    if (document.getElementById(\"1873f914-aeb0-4a52-ae30-6aeec23f8162\")) {                    Plotly.newPlot(                        \"1873f914-aeb0-4a52-ae30-6aeec23f8162\",                        [{\"name\":\"Negative\",\"type\":\"bar\",\"x\":[\"Chapter 11\",\"Chapter 12\",\"Chapter 13\",\"Chapter 14\",\"Chapter 15\"],\"y\":[0.107,0.092,0.04,0.078,0.048]},{\"name\":\"Neutral\",\"type\":\"bar\",\"x\":[\"Chapter 11\",\"Chapter 12\",\"Chapter 13\",\"Chapter 14\",\"Chapter 15\"],\"y\":[0.82,0.843,0.893,0.842,0.829]},{\"name\":\"Positive\",\"type\":\"bar\",\"x\":[\"Chapter 11\",\"Chapter 12\",\"Chapter 13\",\"Chapter 14\",\"Chapter 15\"],\"y\":[0.073,0.065,0.067,0.08,0.124]},{\"name\":\"Compound\",\"type\":\"bar\",\"x\":[\"Chapter 11\",\"Chapter 12\",\"Chapter 13\",\"Chapter 14\",\"Chapter 15\"],\"y\":[-0.9062,-0.9718,0.8809,-0.4489,0.9995]}],                        {\"barmode\":\"group\",\"template\":{\"data\":{\"bar\":[{\"error_x\":{\"color\":\"#2a3f5f\"},\"error_y\":{\"color\":\"#2a3f5f\"},\"marker\":{\"line\":{\"color\":\"#E5ECF6\",\"width\":0.5},\"pattern\":{\"fillmode\":\"overlay\",\"size\":10,\"solidity\":0.2}},\"type\":\"bar\"}],\"barpolar\":[{\"marker\":{\"line\":{\"color\":\"#E5ECF6\",\"width\":0.5},\"pattern\":{\"fillmode\":\"overlay\",\"size\":10,\"solidity\":0.2}},\"type\":\"barpolar\"}],\"carpet\":[{\"aaxis\":{\"endlinecolor\":\"#2a3f5f\",\"gridcolor\":\"white\",\"linecolor\":\"white\",\"minorgridcolor\":\"white\",\"startlinecolor\":\"#2a3f5f\"},\"baxis\":{\"endlinecolor\":\"#2a3f5f\",\"gridcolor\":\"white\",\"linecolor\":\"white\",\"minorgridcolor\":\"white\",\"startlinecolor\":\"#2a3f5f\"},\"type\":\"carpet\"}],\"choropleth\":[{\"colorbar\":{\"outlinewidth\":0,\"ticks\":\"\"},\"type\":\"choropleth\"}],\"contour\":[{\"colorbar\":{\"outlinewidth\":0,\"ticks\":\"\"},\"colorscale\":[[0.0,\"#0d0887\"],[0.1111111111111111,\"#46039f\"],[0.2222222222222222,\"#7201a8\"],[0.3333333333333333,\"#9c179e\"],[0.4444444444444444,\"#bd3786\"],[0.5555555555555556,\"#d8576b\"],[0.6666666666666666,\"#ed7953\"],[0.7777777777777778,\"#fb9f3a\"],[0.8888888888888888,\"#fdca26\"],[1.0,\"#f0f921\"]],\"type\":\"contour\"}],\"contourcarpet\":[{\"colorbar\":{\"outlinewidth\":0,\"ticks\":\"\"},\"type\":\"contourcarpet\"}],\"heatmap\":[{\"colorbar\":{\"outlinewidth\":0,\"ticks\":\"\"},\"colorscale\":[[0.0,\"#0d0887\"],[0.1111111111111111,\"#46039f\"],[0.2222222222222222,\"#7201a8\"],[0.3333333333333333,\"#9c179e\"],[0.4444444444444444,\"#bd3786\"],[0.5555555555555556,\"#d8576b\"],[0.6666666666666666,\"#ed7953\"],[0.7777777777777778,\"#fb9f3a\"],[0.8888888888888888,\"#fdca26\"],[1.0,\"#f0f921\"]],\"type\":\"heatmap\"}],\"heatmapgl\":[{\"colorbar\":{\"outlinewidth\":0,\"ticks\":\"\"},\"colorscale\":[[0.0,\"#0d0887\"],[0.1111111111111111,\"#46039f\"],[0.2222222222222222,\"#7201a8\"],[0.3333333333333333,\"#9c179e\"],[0.4444444444444444,\"#bd3786\"],[0.5555555555555556,\"#d8576b\"],[0.6666666666666666,\"#ed7953\"],[0.7777777777777778,\"#fb9f3a\"],[0.8888888888888888,\"#fdca26\"],[1.0,\"#f0f921\"]],\"type\":\"heatmapgl\"}],\"histogram\":[{\"marker\":{\"pattern\":{\"fillmode\":\"overlay\",\"size\":10,\"solidity\":0.2}},\"type\":\"histogram\"}],\"histogram2d\":[{\"colorbar\":{\"outlinewidth\":0,\"ticks\":\"\"},\"colorscale\":[[0.0,\"#0d0887\"],[0.1111111111111111,\"#46039f\"],[0.2222222222222222,\"#7201a8\"],[0.3333333333333333,\"#9c179e\"],[0.4444444444444444,\"#bd3786\"],[0.5555555555555556,\"#d8576b\"],[0.6666666666666666,\"#ed7953\"],[0.7777777777777778,\"#fb9f3a\"],[0.8888888888888888,\"#fdca26\"],[1.0,\"#f0f921\"]],\"type\":\"histogram2d\"}],\"histogram2dcontour\":[{\"colorbar\":{\"outlinewidth\":0,\"ticks\":\"\"},\"colorscale\":[[0.0,\"#0d0887\"],[0.1111111111111111,\"#46039f\"],[0.2222222222222222,\"#7201a8\"],[0.3333333333333333,\"#9c179e\"],[0.4444444444444444,\"#bd3786\"],[0.5555555555555556,\"#d8576b\"],[0.6666666666666666,\"#ed7953\"],[0.7777777777777778,\"#fb9f3a\"],[0.8888888888888888,\"#fdca26\"],[1.0,\"#f0f921\"]],\"type\":\"histogram2dcontour\"}],\"mesh3d\":[{\"colorbar\":{\"outlinewidth\":0,\"ticks\":\"\"},\"type\":\"mesh3d\"}],\"parcoords\":[{\"line\":{\"colorbar\":{\"outlinewidth\":0,\"ticks\":\"\"}},\"type\":\"parcoords\"}],\"pie\":[{\"automargin\":true,\"type\":\"pie\"}],\"scatter\":[{\"marker\":{\"colorbar\":{\"outlinewidth\":0,\"ticks\":\"\"}},\"type\":\"scatter\"}],\"scatter3d\":[{\"line\":{\"colorbar\":{\"outlinewidth\":0,\"ticks\":\"\"}},\"marker\":{\"colorbar\":{\"outlinewidth\":0,\"ticks\":\"\"}},\"type\":\"scatter3d\"}],\"scattercarpet\":[{\"marker\":{\"colorbar\":{\"outlinewidth\":0,\"ticks\":\"\"}},\"type\":\"scattercarpet\"}],\"scattergeo\":[{\"marker\":{\"colorbar\":{\"outlinewidth\":0,\"ticks\":\"\"}},\"type\":\"scattergeo\"}],\"scattergl\":[{\"marker\":{\"colorbar\":{\"outlinewidth\":0,\"ticks\":\"\"}},\"type\":\"scattergl\"}],\"scattermapbox\":[{\"marker\":{\"colorbar\":{\"outlinewidth\":0,\"ticks\":\"\"}},\"type\":\"scattermapbox\"}],\"scatterpolar\":[{\"marker\":{\"colorbar\":{\"outlinewidth\":0,\"ticks\":\"\"}},\"type\":\"scatterpolar\"}],\"scatterpolargl\":[{\"marker\":{\"colorbar\":{\"outlinewidth\":0,\"ticks\":\"\"}},\"type\":\"scatterpolargl\"}],\"scatterternary\":[{\"marker\":{\"colorbar\":{\"outlinewidth\":0,\"ticks\":\"\"}},\"type\":\"scatterternary\"}],\"surface\":[{\"colorbar\":{\"outlinewidth\":0,\"ticks\":\"\"},\"colorscale\":[[0.0,\"#0d0887\"],[0.1111111111111111,\"#46039f\"],[0.2222222222222222,\"#7201a8\"],[0.3333333333333333,\"#9c179e\"],[0.4444444444444444,\"#bd3786\"],[0.5555555555555556,\"#d8576b\"],[0.6666666666666666,\"#ed7953\"],[0.7777777777777778,\"#fb9f3a\"],[0.8888888888888888,\"#fdca26\"],[1.0,\"#f0f921\"]],\"type\":\"surface\"}],\"table\":[{\"cells\":{\"fill\":{\"color\":\"#EBF0F8\"},\"line\":{\"color\":\"white\"}},\"header\":{\"fill\":{\"color\":\"#C8D4E3\"},\"line\":{\"color\":\"white\"}},\"type\":\"table\"}]},\"layout\":{\"annotationdefaults\":{\"arrowcolor\":\"#2a3f5f\",\"arrowhead\":0,\"arrowwidth\":1},\"autotypenumbers\":\"strict\",\"coloraxis\":{\"colorbar\":{\"outlinewidth\":0,\"ticks\":\"\"}},\"colorscale\":{\"diverging\":[[0,\"#8e0152\"],[0.1,\"#c51b7d\"],[0.2,\"#de77ae\"],[0.3,\"#f1b6da\"],[0.4,\"#fde0ef\"],[0.5,\"#f7f7f7\"],[0.6,\"#e6f5d0\"],[0.7,\"#b8e186\"],[0.8,\"#7fbc41\"],[0.9,\"#4d9221\"],[1,\"#276419\"]],\"sequential\":[[0.0,\"#0d0887\"],[0.1111111111111111,\"#46039f\"],[0.2222222222222222,\"#7201a8\"],[0.3333333333333333,\"#9c179e\"],[0.4444444444444444,\"#bd3786\"],[0.5555555555555556,\"#d8576b\"],[0.6666666666666666,\"#ed7953\"],[0.7777777777777778,\"#fb9f3a\"],[0.8888888888888888,\"#fdca26\"],[1.0,\"#f0f921\"]],\"sequentialminus\":[[0.0,\"#0d0887\"],[0.1111111111111111,\"#46039f\"],[0.2222222222222222,\"#7201a8\"],[0.3333333333333333,\"#9c179e\"],[0.4444444444444444,\"#bd3786\"],[0.5555555555555556,\"#d8576b\"],[0.6666666666666666,\"#ed7953\"],[0.7777777777777778,\"#fb9f3a\"],[0.8888888888888888,\"#fdca26\"],[1.0,\"#f0f921\"]]},\"colorway\":[\"#636efa\",\"#EF553B\",\"#00cc96\",\"#ab63fa\",\"#FFA15A\",\"#19d3f3\",\"#FF6692\",\"#B6E880\",\"#FF97FF\",\"#FECB52\"],\"font\":{\"color\":\"#2a3f5f\"},\"geo\":{\"bgcolor\":\"white\",\"lakecolor\":\"white\",\"landcolor\":\"#E5ECF6\",\"showlakes\":true,\"showland\":true,\"subunitcolor\":\"white\"},\"hoverlabel\":{\"align\":\"left\"},\"hovermode\":\"closest\",\"mapbox\":{\"style\":\"light\"},\"paper_bgcolor\":\"white\",\"plot_bgcolor\":\"#E5ECF6\",\"polar\":{\"angularaxis\":{\"gridcolor\":\"white\",\"linecolor\":\"white\",\"ticks\":\"\"},\"bgcolor\":\"#E5ECF6\",\"radialaxis\":{\"gridcolor\":\"white\",\"linecolor\":\"white\",\"ticks\":\"\"}},\"scene\":{\"xaxis\":{\"backgroundcolor\":\"#E5ECF6\",\"gridcolor\":\"white\",\"gridwidth\":2,\"linecolor\":\"white\",\"showbackground\":true,\"ticks\":\"\",\"zerolinecolor\":\"white\"},\"yaxis\":{\"backgroundcolor\":\"#E5ECF6\",\"gridcolor\":\"white\",\"gridwidth\":2,\"linecolor\":\"white\",\"showbackground\":true,\"ticks\":\"\",\"zerolinecolor\":\"white\"},\"zaxis\":{\"backgroundcolor\":\"#E5ECF6\",\"gridcolor\":\"white\",\"gridwidth\":2,\"linecolor\":\"white\",\"showbackground\":true,\"ticks\":\"\",\"zerolinecolor\":\"white\"}},\"shapedefaults\":{\"line\":{\"color\":\"#2a3f5f\"}},\"ternary\":{\"aaxis\":{\"gridcolor\":\"white\",\"linecolor\":\"white\",\"ticks\":\"\"},\"baxis\":{\"gridcolor\":\"white\",\"linecolor\":\"white\",\"ticks\":\"\"},\"bgcolor\":\"#E5ECF6\",\"caxis\":{\"gridcolor\":\"white\",\"linecolor\":\"white\",\"ticks\":\"\"}},\"title\":{\"x\":0.05},\"xaxis\":{\"automargin\":true,\"gridcolor\":\"white\",\"linecolor\":\"white\",\"ticks\":\"\",\"title\":{\"standoff\":15},\"zerolinecolor\":\"white\",\"zerolinewidth\":2},\"yaxis\":{\"automargin\":true,\"gridcolor\":\"white\",\"linecolor\":\"white\",\"ticks\":\"\",\"title\":{\"standoff\":15},\"zerolinecolor\":\"white\",\"zerolinewidth\":2}}},\"title\":{\"text\":\"Sentiment Analysis Scores for Each Chapter\"}},                        {\"responsive\": true}                    ).then(function(){\n",
       "                            \n",
       "var gd = document.getElementById('1873f914-aeb0-4a52-ae30-6aeec23f8162');\n",
       "var x = new MutationObserver(function (mutations, observer) {{\n",
       "        var display = window.getComputedStyle(gd).display;\n",
       "        if (!display || display === 'none') {{\n",
       "            console.log([gd, 'removed!']);\n",
       "            Plotly.purge(gd);\n",
       "            observer.disconnect();\n",
       "        }}\n",
       "}});\n",
       "\n",
       "// Listen for the removal of the full notebook cells\n",
       "var notebookContainer = gd.closest('#notebook-container');\n",
       "if (notebookContainer) {{\n",
       "    x.observe(notebookContainer, {childList: true});\n",
       "}}\n",
       "\n",
       "// Listen for the clearing of the current output cell\n",
       "var outputEl = gd.closest('.output');\n",
       "if (outputEl) {{\n",
       "    x.observe(outputEl, {childList: true});\n",
       "}}\n",
       "\n",
       "                        })                };                });            </script>        </div>"
      ]
     },
     "metadata": {},
     "output_type": "display_data"
    }
   ],
   "source": [
    "chapters = list(sentiment_scores.keys())[10:15]\n",
    "neg_scores = [sentiment_scores[chapter]['neg'] for chapter in chapters]\n",
    "neu_scores = [sentiment_scores[chapter]['neu'] for chapter in chapters]\n",
    "pos_scores = [sentiment_scores[chapter]['pos'] for chapter in chapters]\n",
    "compound_scores = [sentiment_scores[chapter]['compound'] for chapter in chapters]\n",
    "\n",
    "fig = go.Figure(data=[\n",
    "    go.Bar(name='Negative', x=chapters, y=neg_scores),\n",
    "    go.Bar(name='Neutral', x=chapters, y=neu_scores),\n",
    "    go.Bar(name='Positive', x=chapters, y=pos_scores),\n",
    "    go.Bar(name='Compound', x=chapters, y=compound_scores)\n",
    "])\n",
    "\n",
    "fig.update_layout(barmode='group', title='Sentiment Analysis Scores for Each Chapter')\n",
    "fig.show()"
   ]
  },
  {
   "cell_type": "markdown",
   "id": "44fee053-6e9e-4adc-8cbb-131c429b3f9c",
   "metadata": {},
   "source": [
    "Overall sentiment analysis of the book"
   ]
  },
  {
   "cell_type": "code",
   "execution_count": 225,
   "id": "ee5c250e-6cae-4060-b118-b995ad062889",
   "metadata": {},
   "outputs": [
    {
     "data": {
      "application/vnd.plotly.v1+json": {
       "config": {
        "plotlyServerURL": "https://plot.ly"
       },
       "data": [
        {
         "name": "Negative",
         "type": "bar",
         "x": [
          "Overall"
         ],
         "y": [
          0.065
         ]
        },
        {
         "name": "Neutral",
         "type": "bar",
         "x": [
          "Overall"
         ],
         "y": [
          0.8434000000000003
         ]
        },
        {
         "name": "Positive",
         "type": "bar",
         "x": [
          "Overall"
         ],
         "y": [
          0.09173333333333332
         ]
        },
        {
         "name": "Compound",
         "type": "bar",
         "x": [
          "Overall"
         ],
         "y": [
          0.36116666666666675
         ]
        }
       ],
       "layout": {
        "autosize": true,
        "barmode": "group",
        "template": {
         "data": {
          "bar": [
           {
            "error_x": {
             "color": "#2a3f5f"
            },
            "error_y": {
             "color": "#2a3f5f"
            },
            "marker": {
             "line": {
              "color": "#E5ECF6",
              "width": 0.5
             },
             "pattern": {
              "fillmode": "overlay",
              "size": 10,
              "solidity": 0.2
             }
            },
            "type": "bar"
           }
          ],
          "barpolar": [
           {
            "marker": {
             "line": {
              "color": "#E5ECF6",
              "width": 0.5
             },
             "pattern": {
              "fillmode": "overlay",
              "size": 10,
              "solidity": 0.2
             }
            },
            "type": "barpolar"
           }
          ],
          "carpet": [
           {
            "aaxis": {
             "endlinecolor": "#2a3f5f",
             "gridcolor": "white",
             "linecolor": "white",
             "minorgridcolor": "white",
             "startlinecolor": "#2a3f5f"
            },
            "baxis": {
             "endlinecolor": "#2a3f5f",
             "gridcolor": "white",
             "linecolor": "white",
             "minorgridcolor": "white",
             "startlinecolor": "#2a3f5f"
            },
            "type": "carpet"
           }
          ],
          "choropleth": [
           {
            "colorbar": {
             "outlinewidth": 0,
             "ticks": ""
            },
            "type": "choropleth"
           }
          ],
          "contour": [
           {
            "colorbar": {
             "outlinewidth": 0,
             "ticks": ""
            },
            "colorscale": [
             [
              0,
              "#0d0887"
             ],
             [
              0.1111111111111111,
              "#46039f"
             ],
             [
              0.2222222222222222,
              "#7201a8"
             ],
             [
              0.3333333333333333,
              "#9c179e"
             ],
             [
              0.4444444444444444,
              "#bd3786"
             ],
             [
              0.5555555555555556,
              "#d8576b"
             ],
             [
              0.6666666666666666,
              "#ed7953"
             ],
             [
              0.7777777777777778,
              "#fb9f3a"
             ],
             [
              0.8888888888888888,
              "#fdca26"
             ],
             [
              1,
              "#f0f921"
             ]
            ],
            "type": "contour"
           }
          ],
          "contourcarpet": [
           {
            "colorbar": {
             "outlinewidth": 0,
             "ticks": ""
            },
            "type": "contourcarpet"
           }
          ],
          "heatmap": [
           {
            "colorbar": {
             "outlinewidth": 0,
             "ticks": ""
            },
            "colorscale": [
             [
              0,
              "#0d0887"
             ],
             [
              0.1111111111111111,
              "#46039f"
             ],
             [
              0.2222222222222222,
              "#7201a8"
             ],
             [
              0.3333333333333333,
              "#9c179e"
             ],
             [
              0.4444444444444444,
              "#bd3786"
             ],
             [
              0.5555555555555556,
              "#d8576b"
             ],
             [
              0.6666666666666666,
              "#ed7953"
             ],
             [
              0.7777777777777778,
              "#fb9f3a"
             ],
             [
              0.8888888888888888,
              "#fdca26"
             ],
             [
              1,
              "#f0f921"
             ]
            ],
            "type": "heatmap"
           }
          ],
          "heatmapgl": [
           {
            "colorbar": {
             "outlinewidth": 0,
             "ticks": ""
            },
            "colorscale": [
             [
              0,
              "#0d0887"
             ],
             [
              0.1111111111111111,
              "#46039f"
             ],
             [
              0.2222222222222222,
              "#7201a8"
             ],
             [
              0.3333333333333333,
              "#9c179e"
             ],
             [
              0.4444444444444444,
              "#bd3786"
             ],
             [
              0.5555555555555556,
              "#d8576b"
             ],
             [
              0.6666666666666666,
              "#ed7953"
             ],
             [
              0.7777777777777778,
              "#fb9f3a"
             ],
             [
              0.8888888888888888,
              "#fdca26"
             ],
             [
              1,
              "#f0f921"
             ]
            ],
            "type": "heatmapgl"
           }
          ],
          "histogram": [
           {
            "marker": {
             "pattern": {
              "fillmode": "overlay",
              "size": 10,
              "solidity": 0.2
             }
            },
            "type": "histogram"
           }
          ],
          "histogram2d": [
           {
            "colorbar": {
             "outlinewidth": 0,
             "ticks": ""
            },
            "colorscale": [
             [
              0,
              "#0d0887"
             ],
             [
              0.1111111111111111,
              "#46039f"
             ],
             [
              0.2222222222222222,
              "#7201a8"
             ],
             [
              0.3333333333333333,
              "#9c179e"
             ],
             [
              0.4444444444444444,
              "#bd3786"
             ],
             [
              0.5555555555555556,
              "#d8576b"
             ],
             [
              0.6666666666666666,
              "#ed7953"
             ],
             [
              0.7777777777777778,
              "#fb9f3a"
             ],
             [
              0.8888888888888888,
              "#fdca26"
             ],
             [
              1,
              "#f0f921"
             ]
            ],
            "type": "histogram2d"
           }
          ],
          "histogram2dcontour": [
           {
            "colorbar": {
             "outlinewidth": 0,
             "ticks": ""
            },
            "colorscale": [
             [
              0,
              "#0d0887"
             ],
             [
              0.1111111111111111,
              "#46039f"
             ],
             [
              0.2222222222222222,
              "#7201a8"
             ],
             [
              0.3333333333333333,
              "#9c179e"
             ],
             [
              0.4444444444444444,
              "#bd3786"
             ],
             [
              0.5555555555555556,
              "#d8576b"
             ],
             [
              0.6666666666666666,
              "#ed7953"
             ],
             [
              0.7777777777777778,
              "#fb9f3a"
             ],
             [
              0.8888888888888888,
              "#fdca26"
             ],
             [
              1,
              "#f0f921"
             ]
            ],
            "type": "histogram2dcontour"
           }
          ],
          "mesh3d": [
           {
            "colorbar": {
             "outlinewidth": 0,
             "ticks": ""
            },
            "type": "mesh3d"
           }
          ],
          "parcoords": [
           {
            "line": {
             "colorbar": {
              "outlinewidth": 0,
              "ticks": ""
             }
            },
            "type": "parcoords"
           }
          ],
          "pie": [
           {
            "automargin": true,
            "type": "pie"
           }
          ],
          "scatter": [
           {
            "marker": {
             "colorbar": {
              "outlinewidth": 0,
              "ticks": ""
             }
            },
            "type": "scatter"
           }
          ],
          "scatter3d": [
           {
            "line": {
             "colorbar": {
              "outlinewidth": 0,
              "ticks": ""
             }
            },
            "marker": {
             "colorbar": {
              "outlinewidth": 0,
              "ticks": ""
             }
            },
            "type": "scatter3d"
           }
          ],
          "scattercarpet": [
           {
            "marker": {
             "colorbar": {
              "outlinewidth": 0,
              "ticks": ""
             }
            },
            "type": "scattercarpet"
           }
          ],
          "scattergeo": [
           {
            "marker": {
             "colorbar": {
              "outlinewidth": 0,
              "ticks": ""
             }
            },
            "type": "scattergeo"
           }
          ],
          "scattergl": [
           {
            "marker": {
             "colorbar": {
              "outlinewidth": 0,
              "ticks": ""
             }
            },
            "type": "scattergl"
           }
          ],
          "scattermapbox": [
           {
            "marker": {
             "colorbar": {
              "outlinewidth": 0,
              "ticks": ""
             }
            },
            "type": "scattermapbox"
           }
          ],
          "scatterpolar": [
           {
            "marker": {
             "colorbar": {
              "outlinewidth": 0,
              "ticks": ""
             }
            },
            "type": "scatterpolar"
           }
          ],
          "scatterpolargl": [
           {
            "marker": {
             "colorbar": {
              "outlinewidth": 0,
              "ticks": ""
             }
            },
            "type": "scatterpolargl"
           }
          ],
          "scatterternary": [
           {
            "marker": {
             "colorbar": {
              "outlinewidth": 0,
              "ticks": ""
             }
            },
            "type": "scatterternary"
           }
          ],
          "surface": [
           {
            "colorbar": {
             "outlinewidth": 0,
             "ticks": ""
            },
            "colorscale": [
             [
              0,
              "#0d0887"
             ],
             [
              0.1111111111111111,
              "#46039f"
             ],
             [
              0.2222222222222222,
              "#7201a8"
             ],
             [
              0.3333333333333333,
              "#9c179e"
             ],
             [
              0.4444444444444444,
              "#bd3786"
             ],
             [
              0.5555555555555556,
              "#d8576b"
             ],
             [
              0.6666666666666666,
              "#ed7953"
             ],
             [
              0.7777777777777778,
              "#fb9f3a"
             ],
             [
              0.8888888888888888,
              "#fdca26"
             ],
             [
              1,
              "#f0f921"
             ]
            ],
            "type": "surface"
           }
          ],
          "table": [
           {
            "cells": {
             "fill": {
              "color": "#EBF0F8"
             },
             "line": {
              "color": "white"
             }
            },
            "header": {
             "fill": {
              "color": "#C8D4E3"
             },
             "line": {
              "color": "white"
             }
            },
            "type": "table"
           }
          ]
         },
         "layout": {
          "annotationdefaults": {
           "arrowcolor": "#2a3f5f",
           "arrowhead": 0,
           "arrowwidth": 1
          },
          "autotypenumbers": "strict",
          "coloraxis": {
           "colorbar": {
            "outlinewidth": 0,
            "ticks": ""
           }
          },
          "colorscale": {
           "diverging": [
            [
             0,
             "#8e0152"
            ],
            [
             0.1,
             "#c51b7d"
            ],
            [
             0.2,
             "#de77ae"
            ],
            [
             0.3,
             "#f1b6da"
            ],
            [
             0.4,
             "#fde0ef"
            ],
            [
             0.5,
             "#f7f7f7"
            ],
            [
             0.6,
             "#e6f5d0"
            ],
            [
             0.7,
             "#b8e186"
            ],
            [
             0.8,
             "#7fbc41"
            ],
            [
             0.9,
             "#4d9221"
            ],
            [
             1,
             "#276419"
            ]
           ],
           "sequential": [
            [
             0,
             "#0d0887"
            ],
            [
             0.1111111111111111,
             "#46039f"
            ],
            [
             0.2222222222222222,
             "#7201a8"
            ],
            [
             0.3333333333333333,
             "#9c179e"
            ],
            [
             0.4444444444444444,
             "#bd3786"
            ],
            [
             0.5555555555555556,
             "#d8576b"
            ],
            [
             0.6666666666666666,
             "#ed7953"
            ],
            [
             0.7777777777777778,
             "#fb9f3a"
            ],
            [
             0.8888888888888888,
             "#fdca26"
            ],
            [
             1,
             "#f0f921"
            ]
           ],
           "sequentialminus": [
            [
             0,
             "#0d0887"
            ],
            [
             0.1111111111111111,
             "#46039f"
            ],
            [
             0.2222222222222222,
             "#7201a8"
            ],
            [
             0.3333333333333333,
             "#9c179e"
            ],
            [
             0.4444444444444444,
             "#bd3786"
            ],
            [
             0.5555555555555556,
             "#d8576b"
            ],
            [
             0.6666666666666666,
             "#ed7953"
            ],
            [
             0.7777777777777778,
             "#fb9f3a"
            ],
            [
             0.8888888888888888,
             "#fdca26"
            ],
            [
             1,
             "#f0f921"
            ]
           ]
          },
          "colorway": [
           "#636efa",
           "#EF553B",
           "#00cc96",
           "#ab63fa",
           "#FFA15A",
           "#19d3f3",
           "#FF6692",
           "#B6E880",
           "#FF97FF",
           "#FECB52"
          ],
          "font": {
           "color": "#2a3f5f"
          },
          "geo": {
           "bgcolor": "white",
           "lakecolor": "white",
           "landcolor": "#E5ECF6",
           "showlakes": true,
           "showland": true,
           "subunitcolor": "white"
          },
          "hoverlabel": {
           "align": "left"
          },
          "hovermode": "closest",
          "mapbox": {
           "style": "light"
          },
          "paper_bgcolor": "white",
          "plot_bgcolor": "#E5ECF6",
          "polar": {
           "angularaxis": {
            "gridcolor": "white",
            "linecolor": "white",
            "ticks": ""
           },
           "bgcolor": "#E5ECF6",
           "radialaxis": {
            "gridcolor": "white",
            "linecolor": "white",
            "ticks": ""
           }
          },
          "scene": {
           "xaxis": {
            "backgroundcolor": "#E5ECF6",
            "gridcolor": "white",
            "gridwidth": 2,
            "linecolor": "white",
            "showbackground": true,
            "ticks": "",
            "zerolinecolor": "white"
           },
           "yaxis": {
            "backgroundcolor": "#E5ECF6",
            "gridcolor": "white",
            "gridwidth": 2,
            "linecolor": "white",
            "showbackground": true,
            "ticks": "",
            "zerolinecolor": "white"
           },
           "zaxis": {
            "backgroundcolor": "#E5ECF6",
            "gridcolor": "white",
            "gridwidth": 2,
            "linecolor": "white",
            "showbackground": true,
            "ticks": "",
            "zerolinecolor": "white"
           }
          },
          "shapedefaults": {
           "line": {
            "color": "#2a3f5f"
           }
          },
          "ternary": {
           "aaxis": {
            "gridcolor": "white",
            "linecolor": "white",
            "ticks": ""
           },
           "baxis": {
            "gridcolor": "white",
            "linecolor": "white",
            "ticks": ""
           },
           "bgcolor": "#E5ECF6",
           "caxis": {
            "gridcolor": "white",
            "linecolor": "white",
            "ticks": ""
           }
          },
          "title": {
           "x": 0.05
          },
          "xaxis": {
           "automargin": true,
           "gridcolor": "white",
           "linecolor": "white",
           "ticks": "",
           "title": {
            "standoff": 15
           },
           "zerolinecolor": "white",
           "zerolinewidth": 2
          },
          "yaxis": {
           "automargin": true,
           "gridcolor": "white",
           "linecolor": "white",
           "ticks": "",
           "title": {
            "standoff": 15
           },
           "zerolinecolor": "white",
           "zerolinewidth": 2
          }
         }
        },
        "title": {
         "text": "Overall Sentiment Analysis Scores"
        },
        "xaxis": {
         "autorange": true,
         "range": [
          -0.5,
          0.5
         ],
         "type": "category"
        },
        "yaxis": {
         "autorange": true,
         "range": [
          0,
          0.8877894736842108
         ],
         "type": "linear"
        }
       }
      },
      "image/png": "[encoded data removed]",
      "text/html": [
       "<div>                            <div id=\"a2c574be-d430-443f-8cda-14828f778e8a\" class=\"plotly-graph-div\" style=\"height:525px; width:100%;\"></div>            <script type=\"text/javascript\">                require([\"plotly\"], function(Plotly) {                    window.PLOTLYENV=window.PLOTLYENV || {};                                    if (document.getElementById(\"a2c574be-d430-443f-8cda-14828f778e8a\")) {                    Plotly.newPlot(                        \"a2c574be-d430-443f-8cda-14828f778e8a\",                        [{\"name\":\"Negative\",\"type\":\"bar\",\"x\":[\"Overall\"],\"y\":[0.065]},{\"name\":\"Neutral\",\"type\":\"bar\",\"x\":[\"Overall\"],\"y\":[0.8434000000000003]},{\"name\":\"Positive\",\"type\":\"bar\",\"x\":[\"Overall\"],\"y\":[0.09173333333333332]},{\"name\":\"Compound\",\"type\":\"bar\",\"x\":[\"Overall\"],\"y\":[0.36116666666666675]}],                        {\"barmode\":\"group\",\"template\":{\"data\":{\"bar\":[{\"error_x\":{\"color\":\"#2a3f5f\"},\"error_y\":{\"color\":\"#2a3f5f\"},\"marker\":{\"line\":{\"color\":\"#E5ECF6\",\"width\":0.5},\"pattern\":{\"fillmode\":\"overlay\",\"size\":10,\"solidity\":0.2}},\"type\":\"bar\"}],\"barpolar\":[{\"marker\":{\"line\":{\"color\":\"#E5ECF6\",\"width\":0.5},\"pattern\":{\"fillmode\":\"overlay\",\"size\":10,\"solidity\":0.2}},\"type\":\"barpolar\"}],\"carpet\":[{\"aaxis\":{\"endlinecolor\":\"#2a3f5f\",\"gridcolor\":\"white\",\"linecolor\":\"white\",\"minorgridcolor\":\"white\",\"startlinecolor\":\"#2a3f5f\"},\"baxis\":{\"endlinecolor\":\"#2a3f5f\",\"gridcolor\":\"white\",\"linecolor\":\"white\",\"minorgridcolor\":\"white\",\"startlinecolor\":\"#2a3f5f\"},\"type\":\"carpet\"}],\"choropleth\":[{\"colorbar\":{\"outlinewidth\":0,\"ticks\":\"\"},\"type\":\"choropleth\"}],\"contour\":[{\"colorbar\":{\"outlinewidth\":0,\"ticks\":\"\"},\"colorscale\":[[0.0,\"#0d0887\"],[0.1111111111111111,\"#46039f\"],[0.2222222222222222,\"#7201a8\"],[0.3333333333333333,\"#9c179e\"],[0.4444444444444444,\"#bd3786\"],[0.5555555555555556,\"#d8576b\"],[0.6666666666666666,\"#ed7953\"],[0.7777777777777778,\"#fb9f3a\"],[0.8888888888888888,\"#fdca26\"],[1.0,\"#f0f921\"]],\"type\":\"contour\"}],\"contourcarpet\":[{\"colorbar\":{\"outlinewidth\":0,\"ticks\":\"\"},\"type\":\"contourcarpet\"}],\"heatmap\":[{\"colorbar\":{\"outlinewidth\":0,\"ticks\":\"\"},\"colorscale\":[[0.0,\"#0d0887\"],[0.1111111111111111,\"#46039f\"],[0.2222222222222222,\"#7201a8\"],[0.3333333333333333,\"#9c179e\"],[0.4444444444444444,\"#bd3786\"],[0.5555555555555556,\"#d8576b\"],[0.6666666666666666,\"#ed7953\"],[0.7777777777777778,\"#fb9f3a\"],[0.8888888888888888,\"#fdca26\"],[1.0,\"#f0f921\"]],\"type\":\"heatmap\"}],\"heatmapgl\":[{\"colorbar\":{\"outlinewidth\":0,\"ticks\":\"\"},\"colorscale\":[[0.0,\"#0d0887\"],[0.1111111111111111,\"#46039f\"],[0.2222222222222222,\"#7201a8\"],[0.3333333333333333,\"#9c179e\"],[0.4444444444444444,\"#bd3786\"],[0.5555555555555556,\"#d8576b\"],[0.6666666666666666,\"#ed7953\"],[0.7777777777777778,\"#fb9f3a\"],[0.8888888888888888,\"#fdca26\"],[1.0,\"#f0f921\"]],\"type\":\"heatmapgl\"}],\"histogram\":[{\"marker\":{\"pattern\":{\"fillmode\":\"overlay\",\"size\":10,\"solidity\":0.2}},\"type\":\"histogram\"}],\"histogram2d\":[{\"colorbar\":{\"outlinewidth\":0,\"ticks\":\"\"},\"colorscale\":[[0.0,\"#0d0887\"],[0.1111111111111111,\"#46039f\"],[0.2222222222222222,\"#7201a8\"],[0.3333333333333333,\"#9c179e\"],[0.4444444444444444,\"#bd3786\"],[0.5555555555555556,\"#d8576b\"],[0.6666666666666666,\"#ed7953\"],[0.7777777777777778,\"#fb9f3a\"],[0.8888888888888888,\"#fdca26\"],[1.0,\"#f0f921\"]],\"type\":\"histogram2d\"}],\"histogram2dcontour\":[{\"colorbar\":{\"outlinewidth\":0,\"ticks\":\"\"},\"colorscale\":[[0.0,\"#0d0887\"],[0.1111111111111111,\"#46039f\"],[0.2222222222222222,\"#7201a8\"],[0.3333333333333333,\"#9c179e\"],[0.4444444444444444,\"#bd3786\"],[0.5555555555555556,\"#d8576b\"],[0.6666666666666666,\"#ed7953\"],[0.7777777777777778,\"#fb9f3a\"],[0.8888888888888888,\"#fdca26\"],[1.0,\"#f0f921\"]],\"type\":\"histogram2dcontour\"}],\"mesh3d\":[{\"colorbar\":{\"outlinewidth\":0,\"ticks\":\"\"},\"type\":\"mesh3d\"}],\"parcoords\":[{\"line\":{\"colorbar\":{\"outlinewidth\":0,\"ticks\":\"\"}},\"type\":\"parcoords\"}],\"pie\":[{\"automargin\":true,\"type\":\"pie\"}],\"scatter\":[{\"marker\":{\"colorbar\":{\"outlinewidth\":0,\"ticks\":\"\"}},\"type\":\"scatter\"}],\"scatter3d\":[{\"line\":{\"colorbar\":{\"outlinewidth\":0,\"ticks\":\"\"}},\"marker\":{\"colorbar\":{\"outlinewidth\":0,\"ticks\":\"\"}},\"type\":\"scatter3d\"}],\"scattercarpet\":[{\"marker\":{\"colorbar\":{\"outlinewidth\":0,\"ticks\":\"\"}},\"type\":\"scattercarpet\"}],\"scattergeo\":[{\"marker\":{\"colorbar\":{\"outlinewidth\":0,\"ticks\":\"\"}},\"type\":\"scattergeo\"}],\"scattergl\":[{\"marker\":{\"colorbar\":{\"outlinewidth\":0,\"ticks\":\"\"}},\"type\":\"scattergl\"}],\"scattermapbox\":[{\"marker\":{\"colorbar\":{\"outlinewidth\":0,\"ticks\":\"\"}},\"type\":\"scattermapbox\"}],\"scatterpolar\":[{\"marker\":{\"colorbar\":{\"outlinewidth\":0,\"ticks\":\"\"}},\"type\":\"scatterpolar\"}],\"scatterpolargl\":[{\"marker\":{\"colorbar\":{\"outlinewidth\":0,\"ticks\":\"\"}},\"type\":\"scatterpolargl\"}],\"scatterternary\":[{\"marker\":{\"colorbar\":{\"outlinewidth\":0,\"ticks\":\"\"}},\"type\":\"scatterternary\"}],\"surface\":[{\"colorbar\":{\"outlinewidth\":0,\"ticks\":\"\"},\"colorscale\":[[0.0,\"#0d0887\"],[0.1111111111111111,\"#46039f\"],[0.2222222222222222,\"#7201a8\"],[0.3333333333333333,\"#9c179e\"],[0.4444444444444444,\"#bd3786\"],[0.5555555555555556,\"#d8576b\"],[0.6666666666666666,\"#ed7953\"],[0.7777777777777778,\"#fb9f3a\"],[0.8888888888888888,\"#fdca26\"],[1.0,\"#f0f921\"]],\"type\":\"surface\"}],\"table\":[{\"cells\":{\"fill\":{\"color\":\"#EBF0F8\"},\"line\":{\"color\":\"white\"}},\"header\":{\"fill\":{\"color\":\"#C8D4E3\"},\"line\":{\"color\":\"white\"}},\"type\":\"table\"}]},\"layout\":{\"annotationdefaults\":{\"arrowcolor\":\"#2a3f5f\",\"arrowhead\":0,\"arrowwidth\":1},\"autotypenumbers\":\"strict\",\"coloraxis\":{\"colorbar\":{\"outlinewidth\":0,\"ticks\":\"\"}},\"colorscale\":{\"diverging\":[[0,\"#8e0152\"],[0.1,\"#c51b7d\"],[0.2,\"#de77ae\"],[0.3,\"#f1b6da\"],[0.4,\"#fde0ef\"],[0.5,\"#f7f7f7\"],[0.6,\"#e6f5d0\"],[0.7,\"#b8e186\"],[0.8,\"#7fbc41\"],[0.9,\"#4d9221\"],[1,\"#276419\"]],\"sequential\":[[0.0,\"#0d0887\"],[0.1111111111111111,\"#46039f\"],[0.2222222222222222,\"#7201a8\"],[0.3333333333333333,\"#9c179e\"],[0.4444444444444444,\"#bd3786\"],[0.5555555555555556,\"#d8576b\"],[0.6666666666666666,\"#ed7953\"],[0.7777777777777778,\"#fb9f3a\"],[0.8888888888888888,\"#fdca26\"],[1.0,\"#f0f921\"]],\"sequentialminus\":[[0.0,\"#0d0887\"],[0.1111111111111111,\"#46039f\"],[0.2222222222222222,\"#7201a8\"],[0.3333333333333333,\"#9c179e\"],[0.4444444444444444,\"#bd3786\"],[0.5555555555555556,\"#d8576b\"],[0.6666666666666666,\"#ed7953\"],[0.7777777777777778,\"#fb9f3a\"],[0.8888888888888888,\"#fdca26\"],[1.0,\"#f0f921\"]]},\"colorway\":[\"#636efa\",\"#EF553B\",\"#00cc96\",\"#ab63fa\",\"#FFA15A\",\"#19d3f3\",\"#FF6692\",\"#B6E880\",\"#FF97FF\",\"#FECB52\"],\"font\":{\"color\":\"#2a3f5f\"},\"geo\":{\"bgcolor\":\"white\",\"lakecolor\":\"white\",\"landcolor\":\"#E5ECF6\",\"showlakes\":true,\"showland\":true,\"subunitcolor\":\"white\"},\"hoverlabel\":{\"align\":\"left\"},\"hovermode\":\"closest\",\"mapbox\":{\"style\":\"light\"},\"paper_bgcolor\":\"white\",\"plot_bgcolor\":\"#E5ECF6\",\"polar\":{\"angularaxis\":{\"gridcolor\":\"white\",\"linecolor\":\"white\",\"ticks\":\"\"},\"bgcolor\":\"#E5ECF6\",\"radialaxis\":{\"gridcolor\":\"white\",\"linecolor\":\"white\",\"ticks\":\"\"}},\"scene\":{\"xaxis\":{\"backgroundcolor\":\"#E5ECF6\",\"gridcolor\":\"white\",\"gridwidth\":2,\"linecolor\":\"white\",\"showbackground\":true,\"ticks\":\"\",\"zerolinecolor\":\"white\"},\"yaxis\":{\"backgroundcolor\":\"#E5ECF6\",\"gridcolor\":\"white\",\"gridwidth\":2,\"linecolor\":\"white\",\"showbackground\":true,\"ticks\":\"\",\"zerolinecolor\":\"white\"},\"zaxis\":{\"backgroundcolor\":\"#E5ECF6\",\"gridcolor\":\"white\",\"gridwidth\":2,\"linecolor\":\"white\",\"showbackground\":true,\"ticks\":\"\",\"zerolinecolor\":\"white\"}},\"shapedefaults\":{\"line\":{\"color\":\"#2a3f5f\"}},\"ternary\":{\"aaxis\":{\"gridcolor\":\"white\",\"linecolor\":\"white\",\"ticks\":\"\"},\"baxis\":{\"gridcolor\":\"white\",\"linecolor\":\"white\",\"ticks\":\"\"},\"bgcolor\":\"#E5ECF6\",\"caxis\":{\"gridcolor\":\"white\",\"linecolor\":\"white\",\"ticks\":\"\"}},\"title\":{\"x\":0.05},\"xaxis\":{\"automargin\":true,\"gridcolor\":\"white\",\"linecolor\":\"white\",\"ticks\":\"\",\"title\":{\"standoff\":15},\"zerolinecolor\":\"white\",\"zerolinewidth\":2},\"yaxis\":{\"automargin\":true,\"gridcolor\":\"white\",\"linecolor\":\"white\",\"ticks\":\"\",\"title\":{\"standoff\":15},\"zerolinecolor\":\"white\",\"zerolinewidth\":2}}},\"title\":{\"text\":\"Overall Sentiment Analysis Scores\"}},                        {\"responsive\": true}                    ).then(function(){\n",
       "                            \n",
       "var gd = document.getElementById('a2c574be-d430-443f-8cda-14828f778e8a');\n",
       "var x = new MutationObserver(function (mutations, observer) {{\n",
       "        var display = window.getComputedStyle(gd).display;\n",
       "        if (!display || display === 'none') {{\n",
       "            console.log([gd, 'removed!']);\n",
       "            Plotly.purge(gd);\n",
       "            observer.disconnect();\n",
       "        }}\n",
       "}});\n",
       "\n",
       "// Listen for the removal of the full notebook cells\n",
       "var notebookContainer = gd.closest('#notebook-container');\n",
       "if (notebookContainer) {{\n",
       "    x.observe(notebookContainer, {childList: true});\n",
       "}}\n",
       "\n",
       "// Listen for the clearing of the current output cell\n",
       "var outputEl = gd.closest('.output');\n",
       "if (outputEl) {{\n",
       "    x.observe(outputEl, {childList: true});\n",
       "}}\n",
       "\n",
       "                        })                };                });            </script>        </div>"
      ]
     },
     "metadata": {},
     "output_type": "display_data"
    }
   ],
   "source": [
    "chapters = list(sentiment_scores.keys())\n",
    "\n",
    "neg_scores = sum(sentiment['neg'] for sentiment in chapter_sentiments.values()) / len(chapter_sentiments)\n",
    "neu_scores = sum(sentiment['neu'] for sentiment in chapter_sentiments.values()) / len(chapter_sentiments)\n",
    "pos_scores = sum(sentiment['pos'] for sentiment in chapter_sentiments.values()) / len(chapter_sentiments)\n",
    "compound_scores = sum(sentiment['compound'] for sentiment in chapter_sentiments.values()) / len(chapter_sentiments)\n",
    "\n",
    "fig = go.Figure(data=[\n",
    "    go.Bar(name='Negative', x=['Overall'], y=[neg_scores]),\n",
    "    go.Bar(name='Neutral', x=['Overall'], y=[neu_scores]),\n",
    "    go.Bar(name='Positive', x=['Overall'], y=[pos_scores]),\n",
    "    go.Bar(name='Compound', x=['Overall'], y=[compound_scores])\n",
    "])\n",
    "\n",
    "fig.update_layout(barmode='group', title='Overall Sentiment Analysis Scores')\n",
    "fig.show()"
   ]
  },
  {
   "cell_type": "markdown",
   "id": "4e33217a-34fe-4d6e-b07c-9cf7dfc60416",
   "metadata": {},
   "source": [
    "* Positive Sentiment: Chapters 1, 3, 4, 6, 7, 10, 13, and 15 exhibit high levels of positive sentiment, with compound sentiment scores ranging from approximately 0.9879 to 0.9995.\n",
    "* Negative Sentiment: Chapters 8, 9, 11, 12, and 14 display negative sentiment, with compound sentiment scores ranging from approximately -0.593 to -0.9718.\n",
    "* Neutral Sentiment: Across all chapters, neutral sentiment is predominant, with average neutral sentiment scores ranging from approximately 0.799 to 0.900.\n",
    "* Variability: There is significant variability in sentiment across chapters, indicating shifts in emotional tone and narrative focus throughout the text."
   ]
  }
 ],
 "metadata": {
  "colab": {
   "provenance": []
  },
  "kernelspec": {
   "display_name": "i501",
   "language": "python",
   "name": "i501"
  },
  "language_info": {
   "codemirror_mode": {
    "name": "ipython",
    "version": 3
   },
   "file_extension": ".py",
   "mimetype": "text/x-python",
   "name": "python",
   "nbconvert_exporter": "python",
   "pygments_lexer": "ipython3",
   "version": "3.11.5"
  }
 },
 "nbformat": 4,
 "nbformat_minor": 5
}
